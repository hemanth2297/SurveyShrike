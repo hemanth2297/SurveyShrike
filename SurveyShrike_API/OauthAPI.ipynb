{
 "cells": [
  {
   "cell_type": "code",
   "execution_count": 3,
   "metadata": {},
   "outputs": [
    {
     "ename": "SyntaxError",
     "evalue": "invalid syntax (jwk.py, line 60)",
     "output_type": "error",
     "traceback": [
      "\u001b[0;36m  File \u001b[0;32m\"/Users/hemanth/anaconda2/lib/python2.7/site-packages/jwt/jwk.py\"\u001b[0;36m, line \u001b[0;32m60\u001b[0m\n\u001b[0;31m    def is_sign_key(self) -> bool:\u001b[0m\n\u001b[0m                          ^\u001b[0m\n\u001b[0;31mSyntaxError\u001b[0m\u001b[0;31m:\u001b[0m invalid syntax\n"
     ]
    }
   ],
   "source": [
    "from flask import Flask, request\n",
    "\n",
    "from flask_cors import CORS, cross_origin\n",
    "from flask_restful import Resource, Api\n",
    "from json import dumps\n",
    "from flask_jsonpify import jsonify\n",
    "import json\n",
    "import pymongo\n",
    "import urllib\n",
    "from collections import Counter\n",
    "import requests\n",
    "import time\n",
    "import cryptography\n",
    "import jwt\n",
    "from flask import (Flask, make_response, render_template, redirect, request,url_for)\n",
    "\n",
    "LIFE_SPAN = 180"
   ]
  },
  {
   "cell_type": "code",
   "execution_count": null,
   "metadata": {
    "collapsed": true
   },
   "outputs": [],
   "source": [
    "def checkCredentails(request):\n",
    "    username=request[\"username\"]\n",
    "    password=request[\"password\"]\n",
    "    \n",
    "    if not authenticate_user_credentials(username, password):\n",
    "        return json.dumps({\n",
    "          \"error\": \"access_denied\"\n",
    "        }), 401\n",
    "  \n",
    "    access_token = generate_access_token(username)\n",
    "    db=client.credentials\n",
    "    tokenDetails={}\n",
    "    tokenDetails[\"userName\"]=username\n",
    "    tokenDetails[\"access_token\"]=access_token    \n",
    "    db.tokenKeys.insert_one(tokenDetails)\n",
    "    \n",
    "    return json.dumps({ \n",
    "    \"access_token\": access_token,\n",
    "    \"token_type\": \"JWT\",\n",
    "    \"expires_in\": LIFE_SPAN,\n",
    "    'userName':username\n",
    "    })\n",
    "\n",
    "\n",
    "def generate_access_token(username):\n",
    "    payload = {\n",
    "    \"iss\": ISSUER,\n",
    "    \"exp\": time.time() + LIFE_SPAN,\n",
    "    \"time\":time.time(),\n",
    "    \"userName\": username \n",
    "    }\n",
    "\n",
    "    access_token = jwt.encode(payload, private_key, algorithm = 'RS256')\n",
    "\n",
    "    return access_token.decode()\n",
    "\n",
    "def authenticate_user_credentials(username, password):\n",
    "    db=client.credentials\n",
    "    form=db.userDetails.find_one({'userName': username,'password':password})\n",
    "    \n",
    "    if(form):\n",
    "        return True\n",
    "    return False"
   ]
  },
  {
   "cell_type": "code",
   "execution_count": null,
   "metadata": {
    "collapsed": true
   },
   "outputs": [],
   "source": [
    "ISSUER = 'SurveyShrike OAuth Server'\n",
    "\n",
    "\n",
    "client = pymongo.MongoClient(\"mongodb+srv://hemanth:\"+ urllib.quote(\"Hemanth@123\")+\"@cluster0-59obx.mongodb.net/test?retryWrites=true&w=majority\")\n",
    "\n",
    "with open('public.pem', 'rb') as f:\n",
    "    public_key = f.read()\n",
    "    \n",
    "with open('private.pem', 'rb') as f:\n",
    "    private_key = f.read()"
   ]
  },
  {
   "cell_type": "code",
   "execution_count": 2,
   "metadata": {},
   "outputs": [
    {
     "name": "stdout",
     "output_type": "stream",
     "text": [
      " * Serving Flask app \"__main__\" (lazy loading)\n",
      " * Environment: production\n",
      "   WARNING: This is a development server. Do not use it in a production deployment.\n",
      "   Use a production WSGI server instead.\n",
      " * Debug mode: off\n"
     ]
    },
    {
     "name": "stderr",
     "output_type": "stream",
     "text": [
      " * Running on http://127.0.0.1:5001/ (Press CTRL+C to quit)\n",
      "127.0.0.1 - - [20/Oct/2019 01:50:41] \"OPTIONS /login HTTP/1.1\" 200 -\n",
      "[2019-10-20 01:50:41,140] ERROR in app: Exception on /login [POST]\n",
      "Traceback (most recent call last):\n",
      "  File \"/Users/hemanth/anaconda2/lib/python2.7/site-packages/flask/app.py\", line 2446, in wsgi_app\n",
      "    response = self.full_dispatch_request()\n",
      "  File \"/Users/hemanth/anaconda2/lib/python2.7/site-packages/flask/app.py\", line 1951, in full_dispatch_request\n",
      "    rv = self.handle_user_exception(e)\n",
      "  File \"/Users/hemanth/anaconda2/lib/python2.7/site-packages/flask_cors/extension.py\", line 161, in wrapped_function\n",
      "    return cors_after_request(app.make_response(f(*args, **kwargs)))\n",
      "  File \"/Users/hemanth/anaconda2/lib/python2.7/site-packages/flask_restful/__init__.py\", line 269, in error_router\n",
      "    return original_handler(e)\n",
      "  File \"/Users/hemanth/anaconda2/lib/python2.7/site-packages/flask/app.py\", line 1820, in handle_user_exception\n",
      "    reraise(exc_type, exc_value, tb)\n",
      "  File \"/Users/hemanth/anaconda2/lib/python2.7/site-packages/flask/app.py\", line 1949, in full_dispatch_request\n",
      "    rv = self.dispatch_request()\n",
      "  File \"/Users/hemanth/anaconda2/lib/python2.7/site-packages/flask/app.py\", line 1935, in dispatch_request\n",
      "    return self.view_functions[rule.endpoint](**req.view_args)\n",
      "  File \"<ipython-input-2-11b2a7a49572>\", line 10, in request_token\n",
      "    response = checkCredentails(params)\n",
      "NameError: global name 'checkCredentails' is not defined\n",
      "127.0.0.1 - - [20/Oct/2019 01:50:41] \"POST /login HTTP/1.1\" 500 -\n"
     ]
    },
    {
     "name": "stdout",
     "output_type": "stream",
     "text": [
      "{u'username': u'User1', u'password': u'User1'}\n"
     ]
    }
   ],
   "source": [
    "app = Flask(__name__)\n",
    "api = Api(app)\n",
    "CORS(app)\n",
    "\n",
    "@app.route('/login',methods=['POST'])\n",
    "def request_token():\n",
    "\n",
    "    params=json.loads(str(request.data))\n",
    "    print(params)\n",
    "    response = checkCredentails(params)\n",
    "\n",
    "    return response\n",
    "\n",
    "@app.route('/register',methods=['POST'])\n",
    "def register_user():\n",
    "    params=request.json\n",
    "    print(params)\n",
    "    db=client.credentials\n",
    "    db.userDetails.find_one({'userName': params[\"username\"]})\n",
    "    return json.dumps({\n",
    "          \"error\": \"UserName Already Exists\"\n",
    "        }), 401\n",
    "    db.userDetails.insert_one({'userName': params[\"username\"],'password':params[\"password\"]})\n",
    "    response = checkCredentails(params)\n",
    "    return response\n",
    "\n",
    "\n",
    "@app.route('/logout',methods=['POST'])\n",
    "def delete_token():\n",
    "    access_token=request.headers[\"Authorization\"].encode()\n",
    "    try:\n",
    "        decoded_token = jwt.decode(access_token, public_key,\n",
    "                                   issuer = ISSUER,\n",
    "                                   algorithm = 'RS256')\n",
    "    except (jwt.exceptions.InvalidTokenError,\n",
    "          jwt.exceptions.InvalidSignatureError,\n",
    "          jwt.exceptions.InvalidIssuerError,\n",
    "          jwt.exceptions.ExpiredSignatureError):\n",
    "        return json.dumps({\n",
    "              \"error\": \"access_denied\"\n",
    "            }), 401\n",
    "    \n",
    "    db=client.credentials\n",
    "    db.tokenKeys.delete_one({\"access_token\":access_token})\n",
    "    return json.dumps({\n",
    "              \"message\": \"Successfully Logged out\"\n",
    "        })\n",
    "    \n",
    "    return response\n",
    "\n",
    "\n",
    "@app.route('/authorize', methods = ['POST'])\n",
    "def verify_access_token():\n",
    "    try:\n",
    "        decoded_token = jwt.decode(request.headers[\"Authorization\"].encode(), public_key,\n",
    "                                   issuer = ISSUER,\n",
    "                                   algorithm = 'RS256')\n",
    "    except (jwt.exceptions.InvalidTokenError,\n",
    "          jwt.exceptions.InvalidSignatureError,\n",
    "          jwt.exceptions.InvalidIssuerError,\n",
    "          jwt.exceptions.ExpiredSignatureError):\n",
    "        return json.dumps({\n",
    "              \"error\": \"access_denied\"\n",
    "            }), 401\n",
    "\n",
    "    return json.dumps({\n",
    "              \"message\": \"Valid User\"\n",
    "            })\n",
    "\n",
    "if __name__ == '__main__':\n",
    "    app.run(port=5001)"
   ]
  },
  {
   "cell_type": "code",
   "execution_count": null,
   "metadata": {
    "collapsed": true
   },
   "outputs": [],
   "source": []
  }
 ],
 "metadata": {
  "kernelspec": {
   "display_name": "Python 2",
   "language": "python",
   "name": "python2"
  },
  "language_info": {
   "codemirror_mode": {
    "name": "ipython",
    "version": 2
   },
   "file_extension": ".py",
   "mimetype": "text/x-python",
   "name": "python",
   "nbconvert_exporter": "python",
   "pygments_lexer": "ipython2",
   "version": "2.7.15"
  }
 },
 "nbformat": 4,
 "nbformat_minor": 2
}
