{
 "cells": [
  {
   "cell_type": "code",
   "execution_count": 30,
   "metadata": {
    "collapsed": true
   },
   "outputs": [],
   "source": [
    "from flask import Flask, request\n",
    "from flask_cors import CORS, cross_origin\n",
    "from flask_restful import Resource, Api\n",
    "from json import dumps\n",
    "from flask_jsonpify import jsonify\n",
    "import json\n",
    "import pymongo\n",
    "import urllib\n",
    "from collections import Counter\n",
    "import requests\n",
    "import time\n",
    "import cryptography\n",
    "import jwt\n",
    "from flask_swagger_ui import get_swaggerui_blueprint"
   ]
  },
  {
   "cell_type": "code",
   "execution_count": 31,
   "metadata": {
    "collapsed": true
   },
   "outputs": [],
   "source": [
    "with open('public.pem', 'rb') as f:\n",
    "    public_key = f.read()\n",
    "    \n",
    "ISSUER = 'SurveyShrike OAuth Server'\n",
    "client = pymongo.MongoClient(\"mongodb+srv://hemanth:\"+ urllib.quote(\"Hemanth@123\")+\"@cluster0-59obx.mongodb.net/test?retryWrites=true&w=majority\")\n"
   ]
  },
  {
   "cell_type": "code",
   "execution_count": 32,
   "metadata": {
    "collapsed": true
   },
   "outputs": [],
   "source": [
    "def checkSurveyExists(surveyName):\n",
    "    db=client.survey\n",
    "    form=db.SurveyForms.find_one({'surveyName': surveyName})\n",
    "    if(form):\n",
    "        return True\n",
    "    return False\n",
    "\n",
    "\n",
    "\n",
    "\n",
    "def verifyAccessToken(access_token):\n",
    "    URL=\"http://127.0.0.1:5001/authorize\"\n",
    "    response=requests.post(url = URL,headers={'Authorization': \"access_token\"})\n",
    "    if(response.status_code==200):\n",
    "        return True\n",
    "    else:\n",
    "        return False\n",
    "    \n",
    "def getStats(surveyEntries):\n",
    "    stats={}\n",
    "    if(len(surveyEntries)>0):\n",
    "        \n",
    "        for i in surveyEntries[0][\"entryForm\"].keys():\n",
    "            stats[i]={\"total\":{},\"Male\":{},\"Female\":{}}\n",
    "\n",
    "        for entry in surveyEntries:\n",
    "            gender=entry[\"gender\"]\n",
    "            for key in entry[\"entryForm\"].keys():\n",
    "                val=entry[\"entryForm\"][key]\n",
    "                stats[key][\"total\"][val]=0\n",
    "                stats[key][gender][val]=0\n",
    "        for entry in surveyEntries:\n",
    "            gender=entry[\"gender\"]\n",
    "            for key in entry[\"entryForm\"].keys():\n",
    "                val=entry[\"entryForm\"][key]\n",
    "                stats[key][\"total\"][val]+=1\n",
    "                stats[key][gender][val]+=1\n",
    "        \n",
    "\n",
    "            \n",
    "    return stats"
   ]
  },
  {
   "cell_type": "code",
   "execution_count": 33,
   "metadata": {},
   "outputs": [],
   "source": [
    "def verifyAccessToken(access_token):\n",
    "    try:\n",
    "        decoded_token = jwt.decode(access_token.encode(), public_key,\n",
    "                                   issuer = ISSUER,\n",
    "                                   algorithm = 'RS256')\n",
    "        \n",
    "    except (jwt.exceptions.InvalidTokenError,\n",
    "          jwt.exceptions.InvalidSignatureError,\n",
    "          jwt.exceptions.InvalidIssuerError,\n",
    "          jwt.exceptions.ExpiredSignatureError):\n",
    "        return False\n",
    "\n",
    "    return True"
   ]
  },
  {
   "cell_type": "code",
   "execution_count": 34,
   "metadata": {
    "collapsed": true
   },
   "outputs": [
    {
     "name": "stdout",
     "output_type": "stream",
     "text": [
      " * Serving Flask app \"__main__\" (lazy loading)\n",
      " * Environment: production\n",
      "   WARNING: This is a development server. Do not use it in a production deployment.\n",
      "   Use a production WSGI server instead.\n",
      " * Debug mode: off\n"
     ]
    },
    {
     "name": "stderr",
     "output_type": "stream",
     "text": [
      " * Running on http://127.0.0.1:5002/ (Press CTRL+C to quit)\n",
      "127.0.0.1 - - [20/Oct/2019 00:48:58] \"OPTIONS /getUserSurveys HTTP/1.1\" 200 -\n"
     ]
    },
    {
     "name": "stdout",
     "output_type": "stream",
     "text": [
      "YES\n"
     ]
    },
    {
     "name": "stderr",
     "output_type": "stream",
     "text": [
      "127.0.0.1 - - [20/Oct/2019 00:49:00] \"OPTIONS /getAllSurveys HTTP/1.1\" 200 -\n",
      "127.0.0.1 - - [20/Oct/2019 00:49:00] \"POST /getUserSurveys HTTP/1.1\" 200 -\n"
     ]
    },
    {
     "name": "stdout",
     "output_type": "stream",
     "text": [
      "YES\n",
      "True\n",
      "YES\n"
     ]
    },
    {
     "name": "stderr",
     "output_type": "stream",
     "text": [
      "127.0.0.1 - - [20/Oct/2019 00:49:03] \"GET /getAllSurveys HTTP/1.1\" 200 -\n",
      "127.0.0.1 - - [20/Oct/2019 00:49:07] \"OPTIONS /getAllSurveys HTTP/1.1\" 200 -\n"
     ]
    },
    {
     "name": "stdout",
     "output_type": "stream",
     "text": [
      "YES\n",
      "True\n",
      "YES\n"
     ]
    },
    {
     "name": "stderr",
     "output_type": "stream",
     "text": [
      "127.0.0.1 - - [20/Oct/2019 00:49:07] \"GET /getAllSurveys HTTP/1.1\" 200 -\n",
      "127.0.0.1 - - [20/Oct/2019 00:49:10] \"GET /getAllSurveys HTTP/1.1\" 401 -\n"
     ]
    },
    {
     "name": "stdout",
     "output_type": "stream",
     "text": [
      "YES\n",
      "False\n",
      "YES\n"
     ]
    },
    {
     "name": "stderr",
     "output_type": "stream",
     "text": [
      "127.0.0.1 - - [20/Oct/2019 00:49:19] \"OPTIONS /getUserSurveys HTTP/1.1\" 200 -\n"
     ]
    },
    {
     "name": "stdout",
     "output_type": "stream",
     "text": [
      "YES\n"
     ]
    },
    {
     "name": "stderr",
     "output_type": "stream",
     "text": [
      "127.0.0.1 - - [20/Oct/2019 00:49:19] \"POST /getUserSurveys HTTP/1.1\" 200 -\n",
      "127.0.0.1 - - [20/Oct/2019 00:50:12] \"OPTIONS /createSurvey HTTP/1.1\" 200 -\n",
      "127.0.0.1 - - [20/Oct/2019 00:50:12] \"POST /createSurvey HTTP/1.1\" 401 -\n"
     ]
    },
    {
     "name": "stdout",
     "output_type": "stream",
     "text": [
      "YES\n"
     ]
    },
    {
     "name": "stderr",
     "output_type": "stream",
     "text": [
      "127.0.0.1 - - [20/Oct/2019 00:50:16] \"POST /createSurvey HTTP/1.1\" 401 -\n"
     ]
    },
    {
     "name": "stdout",
     "output_type": "stream",
     "text": [
      "YES\n"
     ]
    },
    {
     "name": "stderr",
     "output_type": "stream",
     "text": [
      "127.0.0.1 - - [20/Oct/2019 00:51:21] \"OPTIONS /createSurvey HTTP/1.1\" 200 -\n",
      "127.0.0.1 - - [20/Oct/2019 00:51:21] \"POST /createSurvey HTTP/1.1\" 401 -\n"
     ]
    },
    {
     "name": "stdout",
     "output_type": "stream",
     "text": [
      "YES\n"
     ]
    },
    {
     "name": "stderr",
     "output_type": "stream",
     "text": [
      "127.0.0.1 - - [20/Oct/2019 00:51:24] \"POST /createSurvey HTTP/1.1\" 401 -\n"
     ]
    },
    {
     "name": "stdout",
     "output_type": "stream",
     "text": [
      "YES\n"
     ]
    },
    {
     "name": "stderr",
     "output_type": "stream",
     "text": [
      "127.0.0.1 - - [20/Oct/2019 00:51:44] \"OPTIONS /createSurvey HTTP/1.1\" 200 -\n",
      "127.0.0.1 - - [20/Oct/2019 00:51:44] \"POST /createSurvey HTTP/1.1\" 401 -\n"
     ]
    },
    {
     "name": "stdout",
     "output_type": "stream",
     "text": [
      "YES\n"
     ]
    },
    {
     "name": "stderr",
     "output_type": "stream",
     "text": [
      "127.0.0.1 - - [20/Oct/2019 00:51:49] \"OPTIONS /createSurvey HTTP/1.1\" 200 -\n",
      "127.0.0.1 - - [20/Oct/2019 00:51:49] \"POST /createSurvey HTTP/1.1\" 401 -\n"
     ]
    },
    {
     "name": "stdout",
     "output_type": "stream",
     "text": [
      "YES\n"
     ]
    },
    {
     "name": "stderr",
     "output_type": "stream",
     "text": [
      "127.0.0.1 - - [20/Oct/2019 00:51:54] \"OPTIONS /createSurvey HTTP/1.1\" 200 -\n",
      "127.0.0.1 - - [20/Oct/2019 00:51:54] \"POST /createSurvey HTTP/1.1\" 401 -\n"
     ]
    },
    {
     "name": "stdout",
     "output_type": "stream",
     "text": [
      "YES\n"
     ]
    },
    {
     "name": "stderr",
     "output_type": "stream",
     "text": [
      "127.0.0.1 - - [20/Oct/2019 00:51:56] \"POST /createSurvey HTTP/1.1\" 401 -\n"
     ]
    },
    {
     "name": "stdout",
     "output_type": "stream",
     "text": [
      "YES\n"
     ]
    },
    {
     "name": "stderr",
     "output_type": "stream",
     "text": [
      "127.0.0.1 - - [20/Oct/2019 00:51:57] \"POST /createSurvey HTTP/1.1\" 401 -\n"
     ]
    },
    {
     "name": "stdout",
     "output_type": "stream",
     "text": [
      "YES\n"
     ]
    },
    {
     "name": "stderr",
     "output_type": "stream",
     "text": [
      "127.0.0.1 - - [20/Oct/2019 00:53:16] \"OPTIONS /createSurvey HTTP/1.1\" 200 -\n",
      "127.0.0.1 - - [20/Oct/2019 00:53:16] \"POST /createSurvey HTTP/1.1\" 401 -\n"
     ]
    },
    {
     "name": "stdout",
     "output_type": "stream",
     "text": [
      "YES\n"
     ]
    },
    {
     "name": "stderr",
     "output_type": "stream",
     "text": [
      "127.0.0.1 - - [20/Oct/2019 00:53:31] \"OPTIONS /getUserSurveys HTTP/1.1\" 200 -\n"
     ]
    },
    {
     "name": "stdout",
     "output_type": "stream",
     "text": [
      "YES\n"
     ]
    },
    {
     "name": "stderr",
     "output_type": "stream",
     "text": [
      "127.0.0.1 - - [20/Oct/2019 00:53:32] \"POST /getUserSurveys HTTP/1.1\" 200 -\n",
      "127.0.0.1 - - [20/Oct/2019 00:54:02] \"OPTIONS /getSurvey HTTP/1.1\" 200 -\n",
      "127.0.0.1 - - [20/Oct/2019 00:54:02] \"OPTIONS /getSurveyEntries HTTP/1.1\" 200 -\n",
      "127.0.0.1 - - [20/Oct/2019 00:54:02] \"POST /getSurveyEntries HTTP/1.1\" 401 -\n"
     ]
    },
    {
     "name": "stdout",
     "output_type": "stream",
     "text": [
      "YES\n"
     ]
    },
    {
     "name": "stderr",
     "output_type": "stream",
     "text": [
      "127.0.0.1 - - [20/Oct/2019 00:54:02] \"POST /getSurvey HTTP/1.1\" 200 -\n",
      "127.0.0.1 - - [20/Oct/2019 00:54:09] \"OPTIONS /getUserSurveys HTTP/1.1\" 200 -\n"
     ]
    },
    {
     "name": "stdout",
     "output_type": "stream",
     "text": [
      "YES\n"
     ]
    },
    {
     "name": "stderr",
     "output_type": "stream",
     "text": [
      "127.0.0.1 - - [20/Oct/2019 00:54:09] \"POST /getUserSurveys HTTP/1.1\" 200 -\n",
      "127.0.0.1 - - [20/Oct/2019 00:54:10] \"OPTIONS /getAllSurveys HTTP/1.1\" 200 -\n"
     ]
    },
    {
     "name": "stdout",
     "output_type": "stream",
     "text": [
      "YES\n",
      "True\n",
      "YES\n"
     ]
    },
    {
     "name": "stderr",
     "output_type": "stream",
     "text": [
      "127.0.0.1 - - [20/Oct/2019 00:54:10] \"GET /getAllSurveys HTTP/1.1\" 200 -\n",
      "127.0.0.1 - - [20/Oct/2019 00:54:26] \"OPTIONS /getSurvey HTTP/1.1\" 200 -\n",
      "127.0.0.1 - - [20/Oct/2019 00:54:26] \"POST /getSurvey HTTP/1.1\" 200 -\n",
      "127.0.0.1 - - [20/Oct/2019 00:54:31] \"OPTIONS /getAllSurveys HTTP/1.1\" 200 -\n",
      "127.0.0.1 - - [20/Oct/2019 00:54:31] \"GET /getAllSurveys HTTP/1.1\" 401 -\n"
     ]
    },
    {
     "name": "stdout",
     "output_type": "stream",
     "text": [
      "YES\n",
      "False\n",
      "YES\n"
     ]
    }
   ],
   "source": [
    "app = Flask(__name__)\n",
    "api = Api(app)\n",
    "\n",
    "CORS(app)\n",
    "\n",
    "\n",
    "### swagger specific ###\n",
    "SWAGGER_URL = '/swagger'\n",
    "API_URL = '/static/swagger.json'\n",
    "SWAGGERUI_BLUEPRINT = get_swaggerui_blueprint(\n",
    "    SWAGGER_URL,\n",
    "    API_URL,\n",
    "    config={\n",
    "        'app_name': \"Seans-Python-Flask-REST-Boilerplate\"\n",
    "    }\n",
    ")\n",
    "app.register_blueprint(SWAGGERUI_BLUEPRINT, url_prefix=SWAGGER_URL)  \n",
    "\n",
    "\n",
    "@app.route(\"/\")\n",
    "def hello():\n",
    "    return jsonify({'text':'Hello World!'})\n",
    "\n",
    "\n",
    "@app.route(\"/createSurvey\",methods=['POST'])\n",
    "def createSurvey(): \n",
    "    \n",
    "    if not(verifyAccessToken(request.headers[\"Authorization\"])):\n",
    "        return json.dumps({\n",
    "              \"error\": \"access_denied\"\n",
    "            }), 401\n",
    "    \n",
    "\n",
    "    db=client.survey\n",
    "    params=request.json\n",
    "    if(checkSurveyExists(params[\"surveyName\"])):\n",
    "        return jsonify({'response':'SurveyName already Exists'}),400\n",
    "    \n",
    "    surveyDetails={}\n",
    "    surveyDetails[\"userName\"]=params[\"userName\"]\n",
    "    surveyDetails[\"surveyName\"]=params[\"surveyName\"]\n",
    "    surveyDetails[\"surveyDescription\"]=params[\"surveyDescription\"]\n",
    "    surveyDetails[\"surveyForm\"]=params[\"surveyForm\"]\n",
    "\n",
    "    \n",
    "    result=db.SurveyForms.insert_one(surveyDetails)\n",
    "    return  jsonify({'response':'Survey successfully created'})\n",
    "\n",
    "\n",
    "@app.route(\"/getSurvey\",methods=['POST'])\n",
    "def surveyForm():  \n",
    "        \n",
    "    db=client.survey\n",
    "    params=request.json\n",
    "\n",
    "    if not(checkSurveyExists(params[\"surveyName\"])):\n",
    "        return jsonify({'response':'SurveyName doesnt Exists'})\n",
    "    \n",
    "    result=db.SurveyForms.find_one({'surveyName': params[\"surveyName\"]})\n",
    "    del result['_id']\n",
    "    return jsonify(result)\n",
    "\n",
    "\n",
    "@app.route(\"/fillSurvey\",methods=['POST'])\n",
    "def surveyEntry():\n",
    "    db=client.survey\n",
    "    params=request.json\n",
    "    if not(checkSurveyExists(params[\"surveyName\"])):\n",
    "        return jsonify({'response':'SurveyName doesnt Exist'})\n",
    "    \n",
    "    surveyDetails={}\n",
    "    surveyDetails[\"userName\"]=params[\"userName\"]\n",
    "    surveyDetails[\"surveyName\"]=params[\"surveyName\"]\n",
    "    surveyDetails[\"entryForm\"]=params[\"entryForm\"]\n",
    "    surveyDetails[\"gender\"]=params[\"gender\"]\n",
    "    \n",
    "    if(db.SurveyEntries.find_one({'surveyName': params[\"surveyName\"],'userName':params[\"userName\"]})):\n",
    "        return  jsonify({'response':'User has already filled the survey'}),400\n",
    "    \n",
    " \n",
    "    db.SurveyEntries.insert_one(surveyDetails)\n",
    "    return  jsonify({'response':'Survey successfully filled'})\n",
    "\n",
    "\n",
    "@app.route(\"/getAllSurveys\",methods=['GET'])\n",
    "def getAllServeys():\n",
    "\n",
    "    if not(verifyAccessToken(request.headers[\"Authorization\"])):\n",
    "        return json.dumps({\n",
    "              \"error\": \"access_denied\"\n",
    "            }), 401\n",
    "    \n",
    "    db=client.survey\n",
    "    surveys=[]\n",
    "    for i in db.SurveyForms.find():\n",
    "        del i['_id']\n",
    "        surveys.append(i)\n",
    "   \n",
    "    return jsonify({\"results\":surveys})\n",
    "\n",
    "@app.route(\"/getUserSurveys\",methods=['POST'])\n",
    "def getUserServeys():\n",
    "\n",
    "    if not(verifyAccessToken(request.headers[\"Authorization\"])):\n",
    "        return json.dumps({\n",
    "              \"error\": \"access_denied\"\n",
    "            }), 401\n",
    "    \n",
    "    params=request.json\n",
    "    db=client.survey\n",
    "    surveys=[]\n",
    "    for i in db.SurveyForms.find({'userName': params[\"userName\"]}):\n",
    "        del i['_id']\n",
    "        surveys.append(i)\n",
    "   \n",
    "    return jsonify({\"results\":surveys})\n",
    "\n",
    "@app.route(\"/getSurveyEntries\",methods=['POST'])\n",
    "def getSurveyEntries():\n",
    "    if not(verifyAccessToken(request.headers[\"Authorization\"])):\n",
    "        return json.dumps({\n",
    "              \"error\": \"access_denied\"\n",
    "            }), 401\n",
    "    \n",
    "    db=client.survey\n",
    "    params=request.json\n",
    "    if not(checkSurveyExists(params[\"surveyName\"])):\n",
    "        return jsonify({'response':'SurveyName doesnt Exists'})\n",
    "       \n",
    "    surveyEntries=[]\n",
    "    for i in db.SurveyEntries.find({'surveyName': params[\"surveyName\"]}):\n",
    "        del i['_id']\n",
    "        surveyEntries.append(i)\n",
    "    \n",
    "    stats=getStats(surveyEntries)\n",
    "    return jsonify({\"results\":surveyEntries,\"stats\":stats})\n",
    "\n",
    "\n",
    "# @app.route(\"/surveystat\")\n",
    "# def getByUserSurvey():\n",
    "#     db=client.SurveyEntries\n",
    "#     params=request.json\n",
    "#     print(params)\n",
    "#     if not(checkSurveyExists(params[\"surveyName\"])):\n",
    "#         return jsonify({'response':'SurveyName doesnt Exists'})\n",
    "    \n",
    "#     surveyEntry=db.SurveyEntries.find({'surveyName': params[\"surveyName\"],'userName':params[\"userName\"]})\n",
    "#     surveyTemplate=db.SurveyForms.find({'surveyName': params[\"surveyName\"]})\n",
    "    \n",
    "#     return mergeSurventry(surveyTemplate,surveyEntry)\n",
    "\n",
    "if __name__ == '__main__':\n",
    "   app.run(port=5002)\n",
    "\n"
   ]
  },
  {
   "cell_type": "code",
   "execution_count": null,
   "metadata": {
    "collapsed": true
   },
   "outputs": [],
   "source": [
    "Class SurveyForm:\n",
    "    "
   ]
  }
 ],
 "metadata": {
  "kernelspec": {
   "display_name": "Python 2",
   "language": "python",
   "name": "python2"
  },
  "language_info": {
   "codemirror_mode": {
    "name": "ipython",
    "version": 2
   },
   "file_extension": ".py",
   "mimetype": "text/x-python",
   "name": "python",
   "nbconvert_exporter": "python",
   "pygments_lexer": "ipython2",
   "version": "2.7.15"
  }
 },
 "nbformat": 4,
 "nbformat_minor": 2
}
