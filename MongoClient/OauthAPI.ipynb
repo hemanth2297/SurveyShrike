{
 "cells": [
  {
   "cell_type": "code",
   "execution_count": 7,
   "metadata": {
    "collapsed": true
   },
   "outputs": [],
   "source": [
    "from flask import Flask, request\n",
    "from flask_cors import CORS, cross_origin\n",
    "from flask_restful import Resource, Api\n",
    "from json import dumps\n",
    "from flask_jsonpify import jsonify\n",
    "import json\n",
    "import pymongo\n",
    "import urllib\n",
    "from collections import Counter\n",
    "import requests\n",
    "#import ssl\n",
    "\n",
    "from flask import (Flask, make_response, render_template, redirect, request,url_for)"
   ]
  },
  {
   "cell_type": "code",
   "execution_count": 9,
   "metadata": {},
   "outputs": [],
   "source": [
    "ISSUER = 'sample-auth-server'\n",
    "app = Flask(__name__)\n",
    "api = Api(app)\n",
    "CORS(app)\n",
    "\n",
    "client = pymongo.MongoClient(\"mongodb+srv://hemanth:\"+ urllib.quote(\"Hemanth@123\")+\"@cluster0-59obx.mongodb.net/test?retryWrites=true&w=majority\")\n",
    "\n",
    "with open('public.pem', 'rb') as f:\n",
    "    public_key = f.read()\n",
    "\n",
    "@app.route('/login', methods = ['POST'])\n",
    "def request_token():\n",
    "    request=json.loads(str(request.data))\n",
    "    response = checkCredentails(request)\n",
    "\n",
    "#     contents = json.loads(r.text)\n",
    "#     access_token = contents.get('access_token')\n",
    "\n",
    "#   # Writes access token to the cookie\n",
    "#     response = make_response(redirect(url_for('main')))\n",
    "#     response.set_cookie('access_token', access_token)\n",
    "\n",
    "    return response\n",
    "\n",
    "\n",
    "@app.route('/authorize', methods = ['POST'])\n",
    "def verify_access_token(access_token):\n",
    "    try:\n",
    "        decoded_token = jwt.decode(request.access_token.encode(), public_key,\n",
    "                                   issuer = ISSUER,\n",
    "                                   algorithm = 'RS256')\n",
    "    except (jwt.exceptions.InvalidTokenError,\n",
    "          jwt.exceptions.InvalidSignatureError,\n",
    "          jwt.exceptions.InvalidIssuerError,\n",
    "          jwt.exceptions.ExpiredSignatureError):\n",
    "        return False\n",
    "\n",
    "    return True"
   ]
  },
  {
   "cell_type": "code",
   "execution_count": 11,
   "metadata": {
    "collapsed": true
   },
   "outputs": [],
   "source": [
    "def checkCredentails(request):\n",
    "    username=request.username\n",
    "    password=request.password\n",
    "    client_id=request.client_id\n",
    "    client_secret=request.client_secret\n",
    "    \n",
    "    if None in [username, password, client_id, client_secret]:\n",
    "        return json.dumps({\n",
    "          \"error\": \"invalid_request\"\n",
    "        }), 400\n",
    "\n",
    "    if not authenticate_user_credentials(username, password):\n",
    "        return json.dumps({\n",
    "          \"error\": \"access_denied\"\n",
    "        }), 401\n",
    "  \n",
    "    access_token = generate_access_token()\n",
    "    return json.dumps({ \n",
    "    \"access_token\": access_token,\n",
    "    \"token_type\": \"JWT\",\n",
    "    \"expires_in\": LIFE_SPAN\n",
    "    })"
   ]
  },
  {
   "cell_type": "code",
   "execution_count": null,
   "metadata": {
    "collapsed": true
   },
   "outputs": [],
   "source": [
    "def authenticate_user_credentials(username, password):\n",
    "    db=client.credentisls\n",
    "    form=db.userDetails.find_one({'userName': username,'password':password})\n",
    "    if(form):\n",
    "        return true\n",
    "    return false"
   ]
  },
  {
   "cell_type": "code",
   "execution_count": null,
   "metadata": {
    "collapsed": true
   },
   "outputs": [],
   "source": []
  }
 ],
 "metadata": {
  "kernelspec": {
   "display_name": "Python 2",
   "language": "python",
   "name": "python2"
  },
  "language_info": {
   "codemirror_mode": {
    "name": "ipython",
    "version": 2
   },
   "file_extension": ".py",
   "mimetype": "text/x-python",
   "name": "python",
   "nbconvert_exporter": "python",
   "pygments_lexer": "ipython2",
   "version": "2.7.15"
  }
 },
 "nbformat": 4,
 "nbformat_minor": 2
}
