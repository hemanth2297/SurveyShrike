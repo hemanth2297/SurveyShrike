{
 "cells": [
  {
   "cell_type": "code",
   "execution_count": 1,
   "metadata": {
    "collapsed": true
   },
   "outputs": [],
   "source": [
    "from flask import Flask, request\n",
    "from flask_cors import CORS, cross_origin\n",
    "from flask_restful import Resource, Api\n",
    "from json import dumps\n",
    "from flask_jsonpify import jsonify\n",
    "import json\n",
    "import pymongo\n",
    "import urllib\n",
    "from collections import Counter\n",
    "import requests\n",
    "from flask_swagger_ui import get_swaggerui_blueprint"
   ]
  },
  {
   "cell_type": "code",
   "execution_count": 2,
   "metadata": {
    "collapsed": true
   },
   "outputs": [],
   "source": [
    "surveyTemplate = {\n",
    "        'userName' : \"Hemanth\",\n",
    "        'surveyName' : \"test\",\n",
    "        'surveyForm':{\"0\":{\n",
    "            \"question\":\"qsn1\",\n",
    "            \"questionType\":\"radio\",\n",
    "            \"options\":\"sd,sdf,sv\",\n",
    "            \"rangeFrom\" :\"1\",\n",
    "            \"rangeFrom\" :\"20\"\n",
    "        },\n",
    "                \"1\":{\n",
    "            \"qsn\":\"qsn2\",\n",
    "            \"type\":\"texxt\",\n",
    "            \"options\":[\"a\",\"c\"]\n",
    "        }\n",
    "            \n",
    "        }\n",
    "    }\n",
    "\n",
    "surveyEntry= {\n",
    "        'userName' : \"Hemanth\",\n",
    "        'surveyName' : \"test\",\n",
    "        'entryForm':{\"0\":\"ans1\",\n",
    "        \"1\":\"ans1\"   \n",
    "        }\n",
    "    }"
   ]
  },
  {
   "cell_type": "code",
   "execution_count": 3,
   "metadata": {
    "collapsed": true
   },
   "outputs": [],
   "source": [
    "def checkSurveyExists(surveyName):\n",
    "    db=client.survey\n",
    "    form=db.SurveyForms.find_one({'surveyName': surveyName})\n",
    "    if(form):\n",
    "        return True\n",
    "    return False\n",
    "\n",
    "\n",
    "def mergeSingleSurveyEntry(surveyTemplate,surveyEntry):\n",
    "    form=surveyTemplate[\"surveyForm\"]\n",
    "    for key in form:\n",
    "        form[key][\"answer\"]=surveyEntry[\"entryForm\"][key]\n",
    "    return form\n",
    "\n",
    "\n",
    "def mergeSurveyEntry(surveyTemplate,surveyEntry):\n",
    "    form=surveyTemplate\n",
    "    for key in form[\"surveyForm\"]:\n",
    "        form[\"surveyForm\"][key][\"answers\"]=[]\n",
    "        \n",
    "    form[\"users\"]=[]\n",
    "    for entry in surveyEntry:\n",
    "        form[\"users\"].append(entry[\"userName\"])\n",
    "        for key in form[\"surveyForm\"]:\n",
    "            form[\"surveyForm\"][key][\"answers\"].append(entry[\"entryForm\"][key])\n",
    "            \n",
    "    for key in form[\"surveyForm\"]:\n",
    "        form[\"surveyForm\"][key][\"answers\"]=Counter(form[\"surveyForm\"][key][\"answers\"])\n",
    "        \n",
    "    return form\n",
    "\n",
    "\n",
    "\n",
    "def verifyAccessToken(access_token):\n",
    "    URL=\"http://127.0.0.1:5001/authorize\"\n",
    "    response=requests.post(url = URL,headers={'Authorization': \"access_token\"})\n",
    "    if(response.status_code==200):\n",
    "        return True\n",
    "    else:\n",
    "        return False"
   ]
  },
  {
   "cell_type": "code",
   "execution_count": null,
   "metadata": {},
   "outputs": [
    {
     "name": "stdout",
     "output_type": "stream",
     "text": [
      " * Serving Flask app \"__main__\" (lazy loading)\n",
      " * Environment: production\n",
      "   WARNING: This is a development server. Do not use it in a production deployment.\n",
      "   Use a production WSGI server instead.\n",
      " * Debug mode: off\n"
     ]
    },
    {
     "name": "stderr",
     "output_type": "stream",
     "text": [
      " * Running on http://127.0.0.1:5002/ (Press CTRL+C to quit)\n",
      "127.0.0.1 - - [17/Oct/2019 23:33:20] \"OPTIONS /getUserSurveys HTTP/1.1\" 200 -\n",
      "127.0.0.1 - - [17/Oct/2019 23:33:22] \"POST /getUserSurveys HTTP/1.1\" 200 -\n",
      "127.0.0.1 - - [17/Oct/2019 23:33:26] \"OPTIONS /getUserSurveys HTTP/1.1\" 200 -\n",
      "127.0.0.1 - - [17/Oct/2019 23:33:27] \"POST /getUserSurveys HTTP/1.1\" 200 -\n",
      "127.0.0.1 - - [17/Oct/2019 23:34:39] \"OPTIONS /getUserSurveys HTTP/1.1\" 200 -\n",
      "127.0.0.1 - - [17/Oct/2019 23:34:40] \"POST /getUserSurveys HTTP/1.1\" 200 -\n",
      "127.0.0.1 - - [17/Oct/2019 23:36:19] \"OPTIONS /getAllSurveys HTTP/1.1\" 200 -\n",
      "127.0.0.1 - - [17/Oct/2019 23:36:19] \"GET /getAllSurveys HTTP/1.1\" 200 -\n",
      "127.0.0.1 - - [17/Oct/2019 23:36:22] \"OPTIONS /getUserSurveys HTTP/1.1\" 200 -\n",
      "127.0.0.1 - - [17/Oct/2019 23:36:23] \"POST /getUserSurveys HTTP/1.1\" 200 -\n",
      "127.0.0.1 - - [17/Oct/2019 23:36:24] \"OPTIONS /getSurvey HTTP/1.1\" 200 -\n",
      "127.0.0.1 - - [17/Oct/2019 23:36:24] \"OPTIONS /getSurveyEntries HTTP/1.1\" 200 -\n"
     ]
    },
    {
     "name": "stdout",
     "output_type": "stream",
     "text": [
      "{u'surveyName': u'Testing Survey'}\n"
     ]
    },
    {
     "name": "stderr",
     "output_type": "stream",
     "text": [
      "127.0.0.1 - - [17/Oct/2019 23:36:25] \"POST /getSurvey HTTP/1.1\" 200 -\n",
      "127.0.0.1 - - [17/Oct/2019 23:36:27] \"POST /getUserSurveys HTTP/1.1\" 200 -\n"
     ]
    },
    {
     "name": "stdout",
     "output_type": "stream",
     "text": [
      "<pymongo.cursor.Cursor object at 0x10b991fd0>\n"
     ]
    },
    {
     "name": "stderr",
     "output_type": "stream",
     "text": [
      "127.0.0.1 - - [17/Oct/2019 23:36:28] \"POST /getSurveyEntries HTTP/1.1\" 200 -\n"
     ]
    },
    {
     "name": "stdout",
     "output_type": "stream",
     "text": [
      "[{u'userName': u'test', u'surveyName': u'Testing Survey', u'entryForm': {u'1': u'Radio2', u'0': u'test', u'3': u'40.31', u'2': u'DropDown3'}}, {u'userName': u'hemanth', u'surveyName': u'Testing Survey', u'entryForm': {u'1': u'Radio2', u'0': u'test', u'3': u'42.73', u'2': u'DropDown2'}}, {u'userName': u'user', u'surveyName': u'Testing Survey', u'entryForm': {u'1': u'Radio1', u'0': u'testing the results', u'2': u'DropDown3'}}, {u'userName': u'user2', u'surveyName': u'Testing Survey', u'entryForm': {u'1': u'Radio3', u'0': u'233333', u'3': u'42.95', u'2': u'DropDown3'}}, {u'userName': u'Final Test', u'surveyName': u'Testing Survey', u'entryForm': {u'1': u'Radio3', u'0': u'final test', u'3': u'93.61', u'2': u'DropDown3'}}, {u'userName': u'nanda', u'surveyName': u'Testing Survey', u'entryForm': {u'1': u'Radio1', u'0': u'nanda', u'3': u'69.60', u'2': u'DropDown3'}}, {u'userName': u'nanda', u'surveyName': u'Testing Survey', u'entryForm': {u'1': u'Radio1', u'0': u'nanda', u'3': u'69.60', u'2': u'DropDown3'}}, {u'userName': u'nanda', u'surveyName': u'Testing Survey', u'entryForm': {u'1': u'Radio1', u'0': u'nanda', u'3': u'69.60', u'2': u'DropDown3'}}, {u'userName': u'nanda', u'surveyName': u'Testing Survey', u'entryForm': {u'1': u'Radio1', u'0': u'nanda', u'3': u'69.60', u'2': u'DropDown3'}}, {u'userName': u'nanda', u'surveyName': u'Testing Survey', u'entryForm': {u'1': u'Radio1', u'0': u'nanda', u'3': u'69.60', u'2': u'DropDown3'}}]\n",
      "{u'surveyName': u'Radio Button Survey'}\n",
      "<pymongo.cursor.Cursor object at 0x10b9ecf90>\n"
     ]
    },
    {
     "name": "stderr",
     "output_type": "stream",
     "text": [
      "127.0.0.1 - - [17/Oct/2019 23:36:29] \"POST /getSurvey HTTP/1.1\" 200 -\n",
      "127.0.0.1 - - [17/Oct/2019 23:36:29] \"POST /getSurveyEntries HTTP/1.1\" 200 -\n"
     ]
    },
    {
     "name": "stdout",
     "output_type": "stream",
     "text": [
      "[{u'userName': u'hemanth', u'surveyName': u'Radio Button Survey', u'entryForm': {u'1': u'qwerty', u'0': u'qwer'}}]\n"
     ]
    },
    {
     "name": "stderr",
     "output_type": "stream",
     "text": [
      "127.0.0.1 - - [17/Oct/2019 23:36:30] \"OPTIONS /getUserSurveys HTTP/1.1\" 200 -\n",
      "127.0.0.1 - - [17/Oct/2019 23:36:31] \"POST /getUserSurveys HTTP/1.1\" 200 -\n",
      "127.0.0.1 - - [17/Oct/2019 23:36:32] \"OPTIONS /getSurvey HTTP/1.1\" 200 -\n",
      "127.0.0.1 - - [17/Oct/2019 23:36:32] \"OPTIONS /getSurveyEntries HTTP/1.1\" 200 -\n"
     ]
    },
    {
     "name": "stdout",
     "output_type": "stream",
     "text": [
      "{u'surveyName': u'Testing Survey'}\n",
      "<pymongo.cursor.Cursor object at 0x10ba06490>\n"
     ]
    },
    {
     "name": "stderr",
     "output_type": "stream",
     "text": [
      "127.0.0.1 - - [17/Oct/2019 23:36:32] \"POST /getSurveyEntries HTTP/1.1\" 200 -\n",
      "127.0.0.1 - - [17/Oct/2019 23:36:32] \"POST /getSurvey HTTP/1.1\" 200 -\n"
     ]
    },
    {
     "name": "stdout",
     "output_type": "stream",
     "text": [
      "[{u'userName': u'test', u'surveyName': u'Testing Survey', u'entryForm': {u'1': u'Radio2', u'0': u'test', u'3': u'40.31', u'2': u'DropDown3'}}, {u'userName': u'hemanth', u'surveyName': u'Testing Survey', u'entryForm': {u'1': u'Radio2', u'0': u'test', u'3': u'42.73', u'2': u'DropDown2'}}, {u'userName': u'user', u'surveyName': u'Testing Survey', u'entryForm': {u'1': u'Radio1', u'0': u'testing the results', u'2': u'DropDown3'}}, {u'userName': u'user2', u'surveyName': u'Testing Survey', u'entryForm': {u'1': u'Radio3', u'0': u'233333', u'3': u'42.95', u'2': u'DropDown3'}}, {u'userName': u'Final Test', u'surveyName': u'Testing Survey', u'entryForm': {u'1': u'Radio3', u'0': u'final test', u'3': u'93.61', u'2': u'DropDown3'}}, {u'userName': u'nanda', u'surveyName': u'Testing Survey', u'entryForm': {u'1': u'Radio1', u'0': u'nanda', u'3': u'69.60', u'2': u'DropDown3'}}, {u'userName': u'nanda', u'surveyName': u'Testing Survey', u'entryForm': {u'1': u'Radio1', u'0': u'nanda', u'3': u'69.60', u'2': u'DropDown3'}}, {u'userName': u'nanda', u'surveyName': u'Testing Survey', u'entryForm': {u'1': u'Radio1', u'0': u'nanda', u'3': u'69.60', u'2': u'DropDown3'}}, {u'userName': u'nanda', u'surveyName': u'Testing Survey', u'entryForm': {u'1': u'Radio1', u'0': u'nanda', u'3': u'69.60', u'2': u'DropDown3'}}, {u'userName': u'nanda', u'surveyName': u'Testing Survey', u'entryForm': {u'1': u'Radio1', u'0': u'nanda', u'3': u'69.60', u'2': u'DropDown3'}}]\n"
     ]
    },
    {
     "name": "stderr",
     "output_type": "stream",
     "text": [
      "127.0.0.1 - - [17/Oct/2019 23:38:21] \"OPTIONS /getAllSurveys HTTP/1.1\" 200 -\n",
      "127.0.0.1 - - [17/Oct/2019 23:38:22] \"GET /getAllSurveys HTTP/1.1\" 200 -\n",
      "127.0.0.1 - - [17/Oct/2019 23:38:25] \"OPTIONS /getSurvey HTTP/1.1\" 200 -\n",
      "127.0.0.1 - - [17/Oct/2019 23:38:25] \"OPTIONS /getSurveyEntries HTTP/1.1\" 200 -\n"
     ]
    },
    {
     "name": "stdout",
     "output_type": "stream",
     "text": [
      "{u'surveyName': u'Testing Survey'}\n",
      "<pymongo.cursor.Cursor object at 0x10b9ec090>\n"
     ]
    },
    {
     "name": "stderr",
     "output_type": "stream",
     "text": [
      "127.0.0.1 - - [17/Oct/2019 23:38:25] \"POST /getSurvey HTTP/1.1\" 200 -\n",
      "127.0.0.1 - - [17/Oct/2019 23:38:25] \"POST /getSurveyEntries HTTP/1.1\" 200 -\n"
     ]
    },
    {
     "name": "stdout",
     "output_type": "stream",
     "text": [
      "[{u'userName': u'test', u'surveyName': u'Testing Survey', u'entryForm': {u'1': u'Radio2', u'0': u'test', u'3': u'40.31', u'2': u'DropDown3'}}, {u'userName': u'hemanth', u'surveyName': u'Testing Survey', u'entryForm': {u'1': u'Radio2', u'0': u'test', u'3': u'42.73', u'2': u'DropDown2'}}, {u'userName': u'user', u'surveyName': u'Testing Survey', u'entryForm': {u'1': u'Radio1', u'0': u'testing the results', u'2': u'DropDown3'}}, {u'userName': u'user2', u'surveyName': u'Testing Survey', u'entryForm': {u'1': u'Radio3', u'0': u'233333', u'3': u'42.95', u'2': u'DropDown3'}}, {u'userName': u'Final Test', u'surveyName': u'Testing Survey', u'entryForm': {u'1': u'Radio3', u'0': u'final test', u'3': u'93.61', u'2': u'DropDown3'}}, {u'userName': u'nanda', u'surveyName': u'Testing Survey', u'entryForm': {u'1': u'Radio1', u'0': u'nanda', u'3': u'69.60', u'2': u'DropDown3'}}, {u'userName': u'nanda', u'surveyName': u'Testing Survey', u'entryForm': {u'1': u'Radio1', u'0': u'nanda', u'3': u'69.60', u'2': u'DropDown3'}}, {u'userName': u'nanda', u'surveyName': u'Testing Survey', u'entryForm': {u'1': u'Radio1', u'0': u'nanda', u'3': u'69.60', u'2': u'DropDown3'}}, {u'userName': u'nanda', u'surveyName': u'Testing Survey', u'entryForm': {u'1': u'Radio1', u'0': u'nanda', u'3': u'69.60', u'2': u'DropDown3'}}, {u'userName': u'nanda', u'surveyName': u'Testing Survey', u'entryForm': {u'1': u'Radio1', u'0': u'nanda', u'3': u'69.60', u'2': u'DropDown3'}}]\n"
     ]
    },
    {
     "name": "stderr",
     "output_type": "stream",
     "text": [
      "127.0.0.1 - - [17/Oct/2019 23:38:27] \"OPTIONS /getAllSurveys HTTP/1.1\" 200 -\n",
      "127.0.0.1 - - [17/Oct/2019 23:38:28] \"GET /getAllSurveys HTTP/1.1\" 200 -\n",
      "127.0.0.1 - - [17/Oct/2019 23:38:31] \"OPTIONS /getSurvey HTTP/1.1\" 200 -\n",
      "127.0.0.1 - - [17/Oct/2019 23:38:32] \"POST /getSurvey HTTP/1.1\" 200 -\n",
      "127.0.0.1 - - [17/Oct/2019 23:38:48] \"OPTIONS /fillSurvey HTTP/1.1\" 200 -\n",
      "127.0.0.1 - - [17/Oct/2019 23:38:49] \"POST /fillSurvey HTTP/1.1\" 200 -\n",
      "127.0.0.1 - - [17/Oct/2019 23:38:53] \"OPTIONS /getAllSurveys HTTP/1.1\" 200 -\n",
      "127.0.0.1 - - [17/Oct/2019 23:38:54] \"GET /getAllSurveys HTTP/1.1\" 200 -\n",
      "127.0.0.1 - - [17/Oct/2019 23:38:55] \"OPTIONS /getUserSurveys HTTP/1.1\" 200 -\n",
      "127.0.0.1 - - [17/Oct/2019 23:38:56] \"POST /getUserSurveys HTTP/1.1\" 200 -\n",
      "127.0.0.1 - - [17/Oct/2019 23:38:58] \"OPTIONS /getSurvey HTTP/1.1\" 200 -\n",
      "127.0.0.1 - - [17/Oct/2019 23:38:58] \"OPTIONS /getSurveyEntries HTTP/1.1\" 200 -\n"
     ]
    },
    {
     "name": "stdout",
     "output_type": "stream",
     "text": [
      "{u'surveyName': u'Testing Survey'}\n",
      "<pymongo.cursor.Cursor object at 0x10b991b90>\n"
     ]
    },
    {
     "name": "stderr",
     "output_type": "stream",
     "text": [
      "127.0.0.1 - - [17/Oct/2019 23:38:58] \"POST /getSurveyEntries HTTP/1.1\" 200 -\n"
     ]
    },
    {
     "name": "stdout",
     "output_type": "stream",
     "text": [
      "[{u'userName': u'test', u'surveyName': u'Testing Survey', u'entryForm': {u'1': u'Radio2', u'0': u'test', u'3': u'40.31', u'2': u'DropDown3'}}, {u'userName': u'hemanth', u'surveyName': u'Testing Survey', u'entryForm': {u'1': u'Radio2', u'0': u'test', u'3': u'42.73', u'2': u'DropDown2'}}, {u'userName': u'user', u'surveyName': u'Testing Survey', u'entryForm': {u'1': u'Radio1', u'0': u'testing the results', u'2': u'DropDown3'}}, {u'userName': u'user2', u'surveyName': u'Testing Survey', u'entryForm': {u'1': u'Radio3', u'0': u'233333', u'3': u'42.95', u'2': u'DropDown3'}}, {u'userName': u'Final Test', u'surveyName': u'Testing Survey', u'entryForm': {u'1': u'Radio3', u'0': u'final test', u'3': u'93.61', u'2': u'DropDown3'}}, {u'userName': u'nanda', u'surveyName': u'Testing Survey', u'entryForm': {u'1': u'Radio1', u'0': u'nanda', u'3': u'69.60', u'2': u'DropDown3'}}, {u'userName': u'nanda', u'surveyName': u'Testing Survey', u'entryForm': {u'1': u'Radio1', u'0': u'nanda', u'3': u'69.60', u'2': u'DropDown3'}}, {u'userName': u'nanda', u'surveyName': u'Testing Survey', u'entryForm': {u'1': u'Radio1', u'0': u'nanda', u'3': u'69.60', u'2': u'DropDown3'}}, {u'userName': u'nanda', u'surveyName': u'Testing Survey', u'entryForm': {u'1': u'Radio1', u'0': u'nanda', u'3': u'69.60', u'2': u'DropDown3'}}, {u'userName': u'nanda', u'surveyName': u'Testing Survey', u'entryForm': {u'1': u'Radio1', u'0': u'nanda', u'3': u'69.60', u'2': u'DropDown3'}}, {u'userName': u'nand2', u'surveyName': u'Testing Survey', u'entryForm': {u'1': u'Radio2', u'0': u'sdv', u'3': u'29.96'}}]\n"
     ]
    },
    {
     "name": "stderr",
     "output_type": "stream",
     "text": [
      "127.0.0.1 - - [17/Oct/2019 23:38:59] \"POST /getSurvey HTTP/1.1\" 200 -\n",
      "127.0.0.1 - - [17/Oct/2019 23:39:19] \"OPTIONS /getAllSurveys HTTP/1.1\" 200 -\n",
      "127.0.0.1 - - [17/Oct/2019 23:39:20] \"GET /getAllSurveys HTTP/1.1\" 200 -\n",
      "127.0.0.1 - - [17/Oct/2019 23:42:02] \"OPTIONS /getAllSurveys HTTP/1.1\" 200 -\n",
      "127.0.0.1 - - [17/Oct/2019 23:42:03] \"GET /getAllSurveys HTTP/1.1\" 200 -\n",
      "127.0.0.1 - - [17/Oct/2019 23:42:05] \"OPTIONS /getSurvey HTTP/1.1\" 200 -\n",
      "127.0.0.1 - - [17/Oct/2019 23:42:06] \"POST /getSurvey HTTP/1.1\" 200 -\n",
      "127.0.0.1 - - [17/Oct/2019 23:42:07] \"OPTIONS /getAllSurveys HTTP/1.1\" 200 -\n",
      "127.0.0.1 - - [17/Oct/2019 23:42:09] \"POST /getSurvey HTTP/1.1\" 200 -\n",
      "127.0.0.1 - - [17/Oct/2019 23:42:19] \"OPTIONS /getAllSurveys HTTP/1.1\" 200 -\n",
      "127.0.0.1 - - [17/Oct/2019 23:42:20] \"GET /getAllSurveys HTTP/1.1\" 200 -\n",
      "127.0.0.1 - - [17/Oct/2019 23:42:57] \"OPTIONS /getUserSurveys HTTP/1.1\" 200 -\n",
      "127.0.0.1 - - [17/Oct/2019 23:42:57] \"POST /getUserSurveys HTTP/1.1\" 200 -\n",
      "127.0.0.1 - - [18/Oct/2019 00:08:01] \"OPTIONS /getAllSurveys HTTP/1.1\" 200 -\n",
      "127.0.0.1 - - [18/Oct/2019 00:08:01] \"GET /getAllSurveys HTTP/1.1\" 200 -\n",
      "127.0.0.1 - - [18/Oct/2019 00:08:03] \"OPTIONS /getSurvey HTTP/1.1\" 200 -\n",
      "127.0.0.1 - - [18/Oct/2019 00:08:04] \"POST /getSurvey HTTP/1.1\" 200 -\n",
      "127.0.0.1 - - [18/Oct/2019 00:08:08] \"OPTIONS /getAllSurveys HTTP/1.1\" 200 -\n",
      "127.0.0.1 - - [18/Oct/2019 00:08:08] \"GET /getAllSurveys HTTP/1.1\" 200 -\n",
      "127.0.0.1 - - [18/Oct/2019 00:08:10] \"OPTIONS /getSurvey HTTP/1.1\" 200 -\n",
      "127.0.0.1 - - [18/Oct/2019 00:08:11] \"POST /getSurvey HTTP/1.1\" 200 -\n",
      "127.0.0.1 - - [18/Oct/2019 00:11:04] \"OPTIONS /getSurvey HTTP/1.1\" 200 -\n",
      "127.0.0.1 - - [18/Oct/2019 00:11:05] \"POST /getSurvey HTTP/1.1\" 200 -\n",
      "127.0.0.1 - - [18/Oct/2019 00:13:26] \"OPTIONS /getSurvey HTTP/1.1\" 200 -\n",
      "127.0.0.1 - - [18/Oct/2019 00:13:26] \"POST /getSurvey HTTP/1.1\" 200 -\n",
      "127.0.0.1 - - [18/Oct/2019 00:14:09] \"OPTIONS /getSurvey HTTP/1.1\" 200 -\n",
      "127.0.0.1 - - [18/Oct/2019 00:14:09] \"POST /getSurvey HTTP/1.1\" 200 -\n",
      "127.0.0.1 - - [18/Oct/2019 00:16:35] \"OPTIONS /getSurvey HTTP/1.1\" 200 -\n",
      "127.0.0.1 - - [18/Oct/2019 00:16:36] \"POST /getSurvey HTTP/1.1\" 200 -\n",
      "127.0.0.1 - - [18/Oct/2019 00:19:26] \"OPTIONS /getSurvey HTTP/1.1\" 200 -\n",
      "127.0.0.1 - - [18/Oct/2019 00:19:26] \"POST /getSurvey HTTP/1.1\" 200 -\n",
      "127.0.0.1 - - [18/Oct/2019 00:19:30] \"OPTIONS /fillSurvey HTTP/1.1\" 200 -\n",
      "127.0.0.1 - - [18/Oct/2019 00:19:31] \"POST /fillSurvey HTTP/1.1\" 200 -\n",
      "127.0.0.1 - - [18/Oct/2019 00:19:44] \"OPTIONS /getSurvey HTTP/1.1\" 200 -\n",
      "127.0.0.1 - - [18/Oct/2019 00:19:45] \"POST /getSurvey HTTP/1.1\" 200 -\n",
      "127.0.0.1 - - [18/Oct/2019 00:19:56] \"OPTIONS /getSurvey HTTP/1.1\" 200 -\n",
      "127.0.0.1 - - [18/Oct/2019 00:19:57] \"POST /getSurvey HTTP/1.1\" 200 -\n",
      "127.0.0.1 - - [18/Oct/2019 00:20:00] \"OPTIONS /fillSurvey HTTP/1.1\" 200 -\n",
      "127.0.0.1 - - [18/Oct/2019 00:20:01] \"POST /fillSurvey HTTP/1.1\" 200 -\n",
      "127.0.0.1 - - [18/Oct/2019 00:20:01] \"POST /fillSurvey HTTP/1.1\" 200 -\n",
      "127.0.0.1 - - [18/Oct/2019 00:20:03] \"POST /fillSurvey HTTP/1.1\" 200 -\n",
      "127.0.0.1 - - [18/Oct/2019 00:20:03] \"POST /fillSurvey HTTP/1.1\" 200 -\n",
      "127.0.0.1 - - [18/Oct/2019 00:20:14] \"OPTIONS /getSurvey HTTP/1.1\" 200 -\n",
      "127.0.0.1 - - [18/Oct/2019 00:20:14] \"POST /getSurvey HTTP/1.1\" 200 -\n",
      "127.0.0.1 - - [18/Oct/2019 00:20:17] \"OPTIONS /fillSurvey HTTP/1.1\" 200 -\n",
      "127.0.0.1 - - [18/Oct/2019 00:20:18] \"POST /fillSurvey HTTP/1.1\" 200 -\n",
      "127.0.0.1 - - [18/Oct/2019 00:20:35] \"OPTIONS /getSurvey HTTP/1.1\" 200 -\n",
      "127.0.0.1 - - [18/Oct/2019 00:20:36] \"POST /getSurvey HTTP/1.1\" 200 -\n",
      "127.0.0.1 - - [18/Oct/2019 00:20:44] \"OPTIONS /getSurvey HTTP/1.1\" 200 -\n",
      "127.0.0.1 - - [18/Oct/2019 00:20:45] \"POST /getSurvey HTTP/1.1\" 200 -\n",
      "127.0.0.1 - - [18/Oct/2019 00:20:48] \"OPTIONS /fillSurvey HTTP/1.1\" 200 -\n",
      "127.0.0.1 - - [18/Oct/2019 00:20:48] \"POST /fillSurvey HTTP/1.1\" 200 -\n",
      "127.0.0.1 - - [18/Oct/2019 00:21:14] \"OPTIONS /getSurvey HTTP/1.1\" 200 -\n",
      "127.0.0.1 - - [18/Oct/2019 00:21:15] \"POST /getSurvey HTTP/1.1\" 200 -\n",
      "127.0.0.1 - - [18/Oct/2019 00:21:17] \"OPTIONS /fillSurvey HTTP/1.1\" 200 -\n",
      "127.0.0.1 - - [18/Oct/2019 00:21:18] \"POST /fillSurvey HTTP/1.1\" 200 -\n",
      "127.0.0.1 - - [18/Oct/2019 00:21:23] \"OPTIONS /getSurvey HTTP/1.1\" 200 -\n",
      "127.0.0.1 - - [18/Oct/2019 00:21:24] \"POST /getSurvey HTTP/1.1\" 200 -\n",
      "127.0.0.1 - - [18/Oct/2019 00:22:04] \"OPTIONS /getSurvey HTTP/1.1\" 200 -\n",
      "127.0.0.1 - - [18/Oct/2019 00:22:05] \"POST /getSurvey HTTP/1.1\" 200 -\n",
      "127.0.0.1 - - [18/Oct/2019 00:22:07] \"OPTIONS /fillSurvey HTTP/1.1\" 200 -\n",
      "127.0.0.1 - - [18/Oct/2019 00:22:08] \"POST /fillSurvey HTTP/1.1\" 200 -\n",
      "127.0.0.1 - - [18/Oct/2019 00:22:37] \"OPTIONS /getSurvey HTTP/1.1\" 200 -\n",
      "127.0.0.1 - - [18/Oct/2019 00:22:37] \"POST /getSurvey HTTP/1.1\" 200 -\n",
      "127.0.0.1 - - [18/Oct/2019 00:22:40] \"OPTIONS /fillSurvey HTTP/1.1\" 200 -\n",
      "127.0.0.1 - - [18/Oct/2019 00:22:41] \"POST /fillSurvey HTTP/1.1\" 200 -\n",
      "127.0.0.1 - - [18/Oct/2019 00:23:12] \"OPTIONS /getSurvey HTTP/1.1\" 200 -\n",
      "127.0.0.1 - - [18/Oct/2019 00:23:13] \"POST /getSurvey HTTP/1.1\" 200 -\n",
      "127.0.0.1 - - [18/Oct/2019 00:23:37] \"OPTIONS /fillSurvey HTTP/1.1\" 200 -\n",
      "127.0.0.1 - - [18/Oct/2019 00:23:38] \"POST /fillSurvey HTTP/1.1\" 200 -\n",
      "127.0.0.1 - - [18/Oct/2019 00:23:52] \"OPTIONS /getAllSurveys HTTP/1.1\" 200 -\n",
      "127.0.0.1 - - [18/Oct/2019 00:23:54] \"OPTIONS /getUserSurveys HTTP/1.1\" 200 -\n",
      "127.0.0.1 - - [18/Oct/2019 00:23:54] \"POST /getUserSurveys HTTP/1.1\" 200 -\n",
      "127.0.0.1 - - [18/Oct/2019 00:23:57] \"OPTIONS /getSurvey HTTP/1.1\" 200 -\n",
      "127.0.0.1 - - [18/Oct/2019 00:23:57] \"OPTIONS /getSurveyEntries HTTP/1.1\" 200 -\n"
     ]
    },
    {
     "name": "stdout",
     "output_type": "stream",
     "text": [
      "{u'surveyName': u'Testing Survey'}\n",
      "<pymongo.cursor.Cursor object at 0x10b9ec150>\n"
     ]
    },
    {
     "name": "stderr",
     "output_type": "stream",
     "text": [
      "127.0.0.1 - - [18/Oct/2019 00:23:57] \"POST /getSurvey HTTP/1.1\" 200 -\n",
      "127.0.0.1 - - [18/Oct/2019 00:23:58] \"POST /getSurveyEntries HTTP/1.1\" 200 -\n"
     ]
    },
    {
     "name": "stdout",
     "output_type": "stream",
     "text": [
      "[{u'userName': u'test', u'surveyName': u'Testing Survey', u'entryForm': {u'1': u'Radio2', u'0': u'test', u'3': u'40.31', u'2': u'DropDown3'}}, {u'userName': u'hemanth', u'surveyName': u'Testing Survey', u'entryForm': {u'1': u'Radio2', u'0': u'test', u'3': u'42.73', u'2': u'DropDown2'}}, {u'userName': u'user', u'surveyName': u'Testing Survey', u'entryForm': {u'1': u'Radio1', u'0': u'testing the results', u'2': u'DropDown3'}}, {u'userName': u'user2', u'surveyName': u'Testing Survey', u'entryForm': {u'1': u'Radio3', u'0': u'233333', u'3': u'42.95', u'2': u'DropDown3'}}, {u'userName': u'Final Test', u'surveyName': u'Testing Survey', u'entryForm': {u'1': u'Radio3', u'0': u'final test', u'3': u'93.61', u'2': u'DropDown3'}}, {u'userName': u'nanda', u'surveyName': u'Testing Survey', u'entryForm': {u'1': u'Radio1', u'0': u'nanda', u'3': u'69.60', u'2': u'DropDown3'}}, {u'userName': u'nanda', u'surveyName': u'Testing Survey', u'entryForm': {u'1': u'Radio1', u'0': u'nanda', u'3': u'69.60', u'2': u'DropDown3'}}, {u'userName': u'nanda', u'surveyName': u'Testing Survey', u'entryForm': {u'1': u'Radio1', u'0': u'nanda', u'3': u'69.60', u'2': u'DropDown3'}}, {u'userName': u'nanda', u'surveyName': u'Testing Survey', u'entryForm': {u'1': u'Radio1', u'0': u'nanda', u'3': u'69.60', u'2': u'DropDown3'}}, {u'userName': u'nanda', u'surveyName': u'Testing Survey', u'entryForm': {u'1': u'Radio1', u'0': u'nanda', u'3': u'69.60', u'2': u'DropDown3'}}, {u'userName': u'nand2', u'surveyName': u'Testing Survey', u'entryForm': {u'1': u'Radio2', u'0': u'sdv', u'3': u'29.96'}}, {u'userName': u'', u'surveyName': u'Testing Survey', u'entryForm': {}}, {u'userName': u'', u'surveyName': u'Testing Survey', u'entryForm': {}}, {u'userName': u'', u'surveyName': u'Testing Survey', u'entryForm': {}}, {u'userName': u'', u'surveyName': u'Testing Survey', u'entryForm': {}}, {u'userName': u'', u'surveyName': u'Testing Survey', u'entryForm': {}}, {u'userName': u'', u'surveyName': u'Testing Survey', u'entryForm': {}}, {u'userName': u'', u'surveyName': u'Testing Survey', u'entryForm': {}}, {u'userName': u'', u'surveyName': u'Testing Survey', u'entryForm': {}}, {u'userName': u'', u'surveyName': u'Testing Survey', u'entryForm': {}}, {u'userName': u'', u'surveyName': u'Testing Survey', u'entryForm': {}}, {u'userName': u'testing validation', u'surveyName': u'Testing Survey', u'entryForm': {u'1': u'Radio1', u'0': u'xv', u'3': u'29.96', u'2': u'DropDown2'}}]\n"
     ]
    },
    {
     "name": "stderr",
     "output_type": "stream",
     "text": [
      "127.0.0.1 - - [18/Oct/2019 00:24:59] \"OPTIONS /getSurvey HTTP/1.1\" 200 -\n",
      "127.0.0.1 - - [18/Oct/2019 00:24:59] \"OPTIONS /getSurveyEntries HTTP/1.1\" 200 -\n"
     ]
    },
    {
     "name": "stdout",
     "output_type": "stream",
     "text": [
      "{u'surveyName': u'Testing Survey'}\n",
      "<pymongo.cursor.Cursor object at 0x10ba06750>\n"
     ]
    },
    {
     "name": "stderr",
     "output_type": "stream",
     "text": [
      "127.0.0.1 - - [18/Oct/2019 00:25:00] \"POST /getSurveyEntries HTTP/1.1\" 200 -\n",
      "127.0.0.1 - - [18/Oct/2019 00:25:00] \"POST /getSurvey HTTP/1.1\" 200 -\n"
     ]
    },
    {
     "name": "stdout",
     "output_type": "stream",
     "text": [
      "[{u'userName': u'test', u'surveyName': u'Testing Survey', u'entryForm': {u'1': u'Radio2', u'0': u'test', u'3': u'40.31', u'2': u'DropDown3'}}, {u'userName': u'hemanth', u'surveyName': u'Testing Survey', u'entryForm': {u'1': u'Radio2', u'0': u'test', u'3': u'42.73', u'2': u'DropDown2'}}, {u'userName': u'user', u'surveyName': u'Testing Survey', u'entryForm': {u'1': u'Radio1', u'0': u'testing the results', u'2': u'DropDown3'}}, {u'userName': u'user2', u'surveyName': u'Testing Survey', u'entryForm': {u'1': u'Radio3', u'0': u'233333', u'3': u'42.95', u'2': u'DropDown3'}}, {u'userName': u'Final Test', u'surveyName': u'Testing Survey', u'entryForm': {u'1': u'Radio3', u'0': u'final test', u'3': u'93.61', u'2': u'DropDown3'}}, {u'userName': u'nanda', u'surveyName': u'Testing Survey', u'entryForm': {u'1': u'Radio1', u'0': u'nanda', u'3': u'69.60', u'2': u'DropDown3'}}, {u'userName': u'nanda', u'surveyName': u'Testing Survey', u'entryForm': {u'1': u'Radio1', u'0': u'nanda', u'3': u'69.60', u'2': u'DropDown3'}}, {u'userName': u'nanda', u'surveyName': u'Testing Survey', u'entryForm': {u'1': u'Radio1', u'0': u'nanda', u'3': u'69.60', u'2': u'DropDown3'}}, {u'userName': u'nanda', u'surveyName': u'Testing Survey', u'entryForm': {u'1': u'Radio1', u'0': u'nanda', u'3': u'69.60', u'2': u'DropDown3'}}, {u'userName': u'nanda', u'surveyName': u'Testing Survey', u'entryForm': {u'1': u'Radio1', u'0': u'nanda', u'3': u'69.60', u'2': u'DropDown3'}}, {u'userName': u'nand2', u'surveyName': u'Testing Survey', u'entryForm': {u'1': u'Radio2', u'0': u'sdv', u'3': u'29.96'}}, {u'userName': u'', u'surveyName': u'Testing Survey', u'entryForm': {}}, {u'userName': u'', u'surveyName': u'Testing Survey', u'entryForm': {}}, {u'userName': u'', u'surveyName': u'Testing Survey', u'entryForm': {}}, {u'userName': u'', u'surveyName': u'Testing Survey', u'entryForm': {}}, {u'userName': u'', u'surveyName': u'Testing Survey', u'entryForm': {}}, {u'userName': u'', u'surveyName': u'Testing Survey', u'entryForm': {}}, {u'userName': u'', u'surveyName': u'Testing Survey', u'entryForm': {}}, {u'userName': u'', u'surveyName': u'Testing Survey', u'entryForm': {}}, {u'userName': u'', u'surveyName': u'Testing Survey', u'entryForm': {}}, {u'userName': u'', u'surveyName': u'Testing Survey', u'entryForm': {}}, {u'userName': u'testing validation', u'surveyName': u'Testing Survey', u'entryForm': {u'1': u'Radio1', u'0': u'xv', u'3': u'29.96', u'2': u'DropDown2'}}]\n"
     ]
    },
    {
     "name": "stderr",
     "output_type": "stream",
     "text": [
      "127.0.0.1 - - [18/Oct/2019 00:27:55] \"OPTIONS /getSurvey HTTP/1.1\" 200 -\n",
      "127.0.0.1 - - [18/Oct/2019 00:27:55] \"OPTIONS /getSurveyEntries HTTP/1.1\" 200 -\n"
     ]
    },
    {
     "name": "stdout",
     "output_type": "stream",
     "text": [
      "{u'surveyName': u'Testing Survey'}\n",
      "<pymongo.cursor.Cursor object at 0x10ba06190>\n"
     ]
    },
    {
     "name": "stderr",
     "output_type": "stream",
     "text": [
      "127.0.0.1 - - [18/Oct/2019 00:27:56] \"POST /getSurveyEntries HTTP/1.1\" 200 -\n",
      "127.0.0.1 - - [18/Oct/2019 00:27:56] \"POST /getSurvey HTTP/1.1\" 200 -\n"
     ]
    },
    {
     "name": "stdout",
     "output_type": "stream",
     "text": [
      "[{u'userName': u'test', u'surveyName': u'Testing Survey', u'entryForm': {u'1': u'Radio2', u'0': u'test', u'3': u'40.31', u'2': u'DropDown3'}}, {u'userName': u'hemanth', u'surveyName': u'Testing Survey', u'entryForm': {u'1': u'Radio2', u'0': u'test', u'3': u'42.73', u'2': u'DropDown2'}}, {u'userName': u'user', u'surveyName': u'Testing Survey', u'entryForm': {u'1': u'Radio1', u'0': u'testing the results', u'2': u'DropDown3'}}, {u'userName': u'user2', u'surveyName': u'Testing Survey', u'entryForm': {u'1': u'Radio3', u'0': u'233333', u'3': u'42.95', u'2': u'DropDown3'}}, {u'userName': u'Final Test', u'surveyName': u'Testing Survey', u'entryForm': {u'1': u'Radio3', u'0': u'final test', u'3': u'93.61', u'2': u'DropDown3'}}, {u'userName': u'nanda', u'surveyName': u'Testing Survey', u'entryForm': {u'1': u'Radio1', u'0': u'nanda', u'3': u'69.60', u'2': u'DropDown3'}}, {u'userName': u'nanda', u'surveyName': u'Testing Survey', u'entryForm': {u'1': u'Radio1', u'0': u'nanda', u'3': u'69.60', u'2': u'DropDown3'}}, {u'userName': u'nanda', u'surveyName': u'Testing Survey', u'entryForm': {u'1': u'Radio1', u'0': u'nanda', u'3': u'69.60', u'2': u'DropDown3'}}, {u'userName': u'nanda', u'surveyName': u'Testing Survey', u'entryForm': {u'1': u'Radio1', u'0': u'nanda', u'3': u'69.60', u'2': u'DropDown3'}}, {u'userName': u'nanda', u'surveyName': u'Testing Survey', u'entryForm': {u'1': u'Radio1', u'0': u'nanda', u'3': u'69.60', u'2': u'DropDown3'}}, {u'userName': u'nand2', u'surveyName': u'Testing Survey', u'entryForm': {u'1': u'Radio2', u'0': u'sdv', u'3': u'29.96'}}, {u'userName': u'', u'surveyName': u'Testing Survey', u'entryForm': {}}, {u'userName': u'', u'surveyName': u'Testing Survey', u'entryForm': {}}, {u'userName': u'', u'surveyName': u'Testing Survey', u'entryForm': {}}, {u'userName': u'', u'surveyName': u'Testing Survey', u'entryForm': {}}, {u'userName': u'', u'surveyName': u'Testing Survey', u'entryForm': {}}, {u'userName': u'', u'surveyName': u'Testing Survey', u'entryForm': {}}, {u'userName': u'', u'surveyName': u'Testing Survey', u'entryForm': {}}, {u'userName': u'', u'surveyName': u'Testing Survey', u'entryForm': {}}, {u'userName': u'', u'surveyName': u'Testing Survey', u'entryForm': {}}, {u'userName': u'', u'surveyName': u'Testing Survey', u'entryForm': {}}, {u'userName': u'testing validation', u'surveyName': u'Testing Survey', u'entryForm': {u'1': u'Radio1', u'0': u'xv', u'3': u'29.96', u'2': u'DropDown2'}}]\n"
     ]
    },
    {
     "name": "stderr",
     "output_type": "stream",
     "text": [
      "127.0.0.1 - - [18/Oct/2019 00:28:18] \"OPTIONS /getSurvey HTTP/1.1\" 200 -\n",
      "127.0.0.1 - - [18/Oct/2019 00:28:18] \"OPTIONS /getSurveyEntries HTTP/1.1\" 200 -\n"
     ]
    },
    {
     "name": "stdout",
     "output_type": "stream",
     "text": [
      "{u'surveyName': u'Testing Survey'}\n",
      "<pymongo.cursor.Cursor object at 0x10b9ec910>\n"
     ]
    },
    {
     "name": "stderr",
     "output_type": "stream",
     "text": [
      "127.0.0.1 - - [18/Oct/2019 00:28:18] \"POST /getSurveyEntries HTTP/1.1\" 200 -\n",
      "127.0.0.1 - - [18/Oct/2019 00:28:18] \"POST /getSurvey HTTP/1.1\" 200 -\n"
     ]
    },
    {
     "name": "stdout",
     "output_type": "stream",
     "text": [
      "[{u'userName': u'test', u'surveyName': u'Testing Survey', u'entryForm': {u'1': u'Radio2', u'0': u'test', u'3': u'40.31', u'2': u'DropDown3'}}, {u'userName': u'hemanth', u'surveyName': u'Testing Survey', u'entryForm': {u'1': u'Radio2', u'0': u'test', u'3': u'42.73', u'2': u'DropDown2'}}, {u'userName': u'user', u'surveyName': u'Testing Survey', u'entryForm': {u'1': u'Radio1', u'0': u'testing the results', u'2': u'DropDown3'}}, {u'userName': u'user2', u'surveyName': u'Testing Survey', u'entryForm': {u'1': u'Radio3', u'0': u'233333', u'3': u'42.95', u'2': u'DropDown3'}}, {u'userName': u'Final Test', u'surveyName': u'Testing Survey', u'entryForm': {u'1': u'Radio3', u'0': u'final test', u'3': u'93.61', u'2': u'DropDown3'}}, {u'userName': u'nanda', u'surveyName': u'Testing Survey', u'entryForm': {u'1': u'Radio1', u'0': u'nanda', u'3': u'69.60', u'2': u'DropDown3'}}, {u'userName': u'nanda', u'surveyName': u'Testing Survey', u'entryForm': {u'1': u'Radio1', u'0': u'nanda', u'3': u'69.60', u'2': u'DropDown3'}}, {u'userName': u'nanda', u'surveyName': u'Testing Survey', u'entryForm': {u'1': u'Radio1', u'0': u'nanda', u'3': u'69.60', u'2': u'DropDown3'}}, {u'userName': u'nanda', u'surveyName': u'Testing Survey', u'entryForm': {u'1': u'Radio1', u'0': u'nanda', u'3': u'69.60', u'2': u'DropDown3'}}, {u'userName': u'nanda', u'surveyName': u'Testing Survey', u'entryForm': {u'1': u'Radio1', u'0': u'nanda', u'3': u'69.60', u'2': u'DropDown3'}}, {u'userName': u'nand2', u'surveyName': u'Testing Survey', u'entryForm': {u'1': u'Radio2', u'0': u'sdv', u'3': u'29.96'}}, {u'userName': u'', u'surveyName': u'Testing Survey', u'entryForm': {}}, {u'userName': u'', u'surveyName': u'Testing Survey', u'entryForm': {}}, {u'userName': u'', u'surveyName': u'Testing Survey', u'entryForm': {}}, {u'userName': u'', u'surveyName': u'Testing Survey', u'entryForm': {}}, {u'userName': u'', u'surveyName': u'Testing Survey', u'entryForm': {}}, {u'userName': u'', u'surveyName': u'Testing Survey', u'entryForm': {}}, {u'userName': u'', u'surveyName': u'Testing Survey', u'entryForm': {}}, {u'userName': u'', u'surveyName': u'Testing Survey', u'entryForm': {}}, {u'userName': u'', u'surveyName': u'Testing Survey', u'entryForm': {}}, {u'userName': u'', u'surveyName': u'Testing Survey', u'entryForm': {}}, {u'userName': u'testing validation', u'surveyName': u'Testing Survey', u'entryForm': {u'1': u'Radio1', u'0': u'xv', u'3': u'29.96', u'2': u'DropDown2'}}]\n"
     ]
    },
    {
     "name": "stderr",
     "output_type": "stream",
     "text": [
      "127.0.0.1 - - [18/Oct/2019 00:29:12] \"OPTIONS /getSurvey HTTP/1.1\" 200 -\n",
      "127.0.0.1 - - [18/Oct/2019 00:29:12] \"OPTIONS /getSurveyEntries HTTP/1.1\" 200 -\n"
     ]
    },
    {
     "name": "stdout",
     "output_type": "stream",
     "text": [
      "{u'surveyName': u'Testing Survey'}\n",
      "<pymongo.cursor.Cursor object at 0x10ba12190>\n"
     ]
    },
    {
     "name": "stderr",
     "output_type": "stream",
     "text": [
      "127.0.0.1 - - [18/Oct/2019 00:29:13] \"POST /getSurvey HTTP/1.1\" 200 -\n",
      "127.0.0.1 - - [18/Oct/2019 00:29:13] \"POST /getSurveyEntries HTTP/1.1\" 200 -\n"
     ]
    },
    {
     "name": "stdout",
     "output_type": "stream",
     "text": [
      "[{u'userName': u'test', u'surveyName': u'Testing Survey', u'entryForm': {u'1': u'Radio2', u'0': u'test', u'3': u'40.31', u'2': u'DropDown3'}}, {u'userName': u'hemanth', u'surveyName': u'Testing Survey', u'entryForm': {u'1': u'Radio2', u'0': u'test', u'3': u'42.73', u'2': u'DropDown2'}}, {u'userName': u'user', u'surveyName': u'Testing Survey', u'entryForm': {u'1': u'Radio1', u'0': u'testing the results', u'2': u'DropDown3'}}, {u'userName': u'user2', u'surveyName': u'Testing Survey', u'entryForm': {u'1': u'Radio3', u'0': u'233333', u'3': u'42.95', u'2': u'DropDown3'}}, {u'userName': u'Final Test', u'surveyName': u'Testing Survey', u'entryForm': {u'1': u'Radio3', u'0': u'final test', u'3': u'93.61', u'2': u'DropDown3'}}, {u'userName': u'nanda', u'surveyName': u'Testing Survey', u'entryForm': {u'1': u'Radio1', u'0': u'nanda', u'3': u'69.60', u'2': u'DropDown3'}}, {u'userName': u'nanda', u'surveyName': u'Testing Survey', u'entryForm': {u'1': u'Radio1', u'0': u'nanda', u'3': u'69.60', u'2': u'DropDown3'}}, {u'userName': u'nanda', u'surveyName': u'Testing Survey', u'entryForm': {u'1': u'Radio1', u'0': u'nanda', u'3': u'69.60', u'2': u'DropDown3'}}, {u'userName': u'nanda', u'surveyName': u'Testing Survey', u'entryForm': {u'1': u'Radio1', u'0': u'nanda', u'3': u'69.60', u'2': u'DropDown3'}}, {u'userName': u'nanda', u'surveyName': u'Testing Survey', u'entryForm': {u'1': u'Radio1', u'0': u'nanda', u'3': u'69.60', u'2': u'DropDown3'}}, {u'userName': u'nand2', u'surveyName': u'Testing Survey', u'entryForm': {u'1': u'Radio2', u'0': u'sdv', u'3': u'29.96'}}, {u'userName': u'', u'surveyName': u'Testing Survey', u'entryForm': {}}, {u'userName': u'', u'surveyName': u'Testing Survey', u'entryForm': {}}, {u'userName': u'', u'surveyName': u'Testing Survey', u'entryForm': {}}, {u'userName': u'', u'surveyName': u'Testing Survey', u'entryForm': {}}, {u'userName': u'', u'surveyName': u'Testing Survey', u'entryForm': {}}, {u'userName': u'', u'surveyName': u'Testing Survey', u'entryForm': {}}, {u'userName': u'', u'surveyName': u'Testing Survey', u'entryForm': {}}, {u'userName': u'', u'surveyName': u'Testing Survey', u'entryForm': {}}, {u'userName': u'', u'surveyName': u'Testing Survey', u'entryForm': {}}, {u'userName': u'', u'surveyName': u'Testing Survey', u'entryForm': {}}, {u'userName': u'testing validation', u'surveyName': u'Testing Survey', u'entryForm': {u'1': u'Radio1', u'0': u'xv', u'3': u'29.96', u'2': u'DropDown2'}}]\n"
     ]
    },
    {
     "name": "stderr",
     "output_type": "stream",
     "text": [
      "127.0.0.1 - - [18/Oct/2019 00:29:23] \"OPTIONS /getSurvey HTTP/1.1\" 200 -\n",
      "127.0.0.1 - - [18/Oct/2019 00:29:23] \"OPTIONS /getSurveyEntries HTTP/1.1\" 200 -\n"
     ]
    },
    {
     "name": "stdout",
     "output_type": "stream",
     "text": [
      "{u'surveyName': u'Testing Survey'}\n",
      "<pymongo.cursor.Cursor object at 0x10b9d93d0>\n"
     ]
    },
    {
     "name": "stderr",
     "output_type": "stream",
     "text": [
      "127.0.0.1 - - [18/Oct/2019 00:29:24] \"POST /getSurveyEntries HTTP/1.1\" 200 -\n",
      "127.0.0.1 - - [18/Oct/2019 00:29:24] \"POST /getSurvey HTTP/1.1\" 200 -\n"
     ]
    },
    {
     "name": "stdout",
     "output_type": "stream",
     "text": [
      "[{u'userName': u'test', u'surveyName': u'Testing Survey', u'entryForm': {u'1': u'Radio2', u'0': u'test', u'3': u'40.31', u'2': u'DropDown3'}}, {u'userName': u'hemanth', u'surveyName': u'Testing Survey', u'entryForm': {u'1': u'Radio2', u'0': u'test', u'3': u'42.73', u'2': u'DropDown2'}}, {u'userName': u'user', u'surveyName': u'Testing Survey', u'entryForm': {u'1': u'Radio1', u'0': u'testing the results', u'2': u'DropDown3'}}, {u'userName': u'user2', u'surveyName': u'Testing Survey', u'entryForm': {u'1': u'Radio3', u'0': u'233333', u'3': u'42.95', u'2': u'DropDown3'}}, {u'userName': u'Final Test', u'surveyName': u'Testing Survey', u'entryForm': {u'1': u'Radio3', u'0': u'final test', u'3': u'93.61', u'2': u'DropDown3'}}, {u'userName': u'nanda', u'surveyName': u'Testing Survey', u'entryForm': {u'1': u'Radio1', u'0': u'nanda', u'3': u'69.60', u'2': u'DropDown3'}}, {u'userName': u'nanda', u'surveyName': u'Testing Survey', u'entryForm': {u'1': u'Radio1', u'0': u'nanda', u'3': u'69.60', u'2': u'DropDown3'}}, {u'userName': u'nanda', u'surveyName': u'Testing Survey', u'entryForm': {u'1': u'Radio1', u'0': u'nanda', u'3': u'69.60', u'2': u'DropDown3'}}, {u'userName': u'nanda', u'surveyName': u'Testing Survey', u'entryForm': {u'1': u'Radio1', u'0': u'nanda', u'3': u'69.60', u'2': u'DropDown3'}}, {u'userName': u'nanda', u'surveyName': u'Testing Survey', u'entryForm': {u'1': u'Radio1', u'0': u'nanda', u'3': u'69.60', u'2': u'DropDown3'}}, {u'userName': u'nand2', u'surveyName': u'Testing Survey', u'entryForm': {u'1': u'Radio2', u'0': u'sdv', u'3': u'29.96'}}, {u'userName': u'', u'surveyName': u'Testing Survey', u'entryForm': {}}, {u'userName': u'', u'surveyName': u'Testing Survey', u'entryForm': {}}, {u'userName': u'', u'surveyName': u'Testing Survey', u'entryForm': {}}, {u'userName': u'', u'surveyName': u'Testing Survey', u'entryForm': {}}, {u'userName': u'', u'surveyName': u'Testing Survey', u'entryForm': {}}, {u'userName': u'', u'surveyName': u'Testing Survey', u'entryForm': {}}, {u'userName': u'', u'surveyName': u'Testing Survey', u'entryForm': {}}, {u'userName': u'', u'surveyName': u'Testing Survey', u'entryForm': {}}, {u'userName': u'', u'surveyName': u'Testing Survey', u'entryForm': {}}, {u'userName': u'', u'surveyName': u'Testing Survey', u'entryForm': {}}, {u'userName': u'testing validation', u'surveyName': u'Testing Survey', u'entryForm': {u'1': u'Radio1', u'0': u'xv', u'3': u'29.96', u'2': u'DropDown2'}}]\n"
     ]
    },
    {
     "name": "stderr",
     "output_type": "stream",
     "text": [
      "127.0.0.1 - - [18/Oct/2019 00:30:12] \"OPTIONS /getSurvey HTTP/1.1\" 200 -\n",
      "127.0.0.1 - - [18/Oct/2019 00:30:12] \"OPTIONS /getSurveyEntries HTTP/1.1\" 200 -\n"
     ]
    },
    {
     "name": "stdout",
     "output_type": "stream",
     "text": [
      "{u'surveyName': u'Testing Survey'}\n",
      "<pymongo.cursor.Cursor object at 0x10b991d50>\n"
     ]
    },
    {
     "name": "stderr",
     "output_type": "stream",
     "text": [
      "127.0.0.1 - - [18/Oct/2019 00:30:13] \"POST /getSurvey HTTP/1.1\" 200 -\n",
      "127.0.0.1 - - [18/Oct/2019 00:30:13] \"POST /getSurveyEntries HTTP/1.1\" 200 -\n"
     ]
    },
    {
     "name": "stdout",
     "output_type": "stream",
     "text": [
      "[{u'userName': u'test', u'surveyName': u'Testing Survey', u'entryForm': {u'1': u'Radio2', u'0': u'test', u'3': u'40.31', u'2': u'DropDown3'}}, {u'userName': u'hemanth', u'surveyName': u'Testing Survey', u'entryForm': {u'1': u'Radio2', u'0': u'test', u'3': u'42.73', u'2': u'DropDown2'}}, {u'userName': u'user', u'surveyName': u'Testing Survey', u'entryForm': {u'1': u'Radio1', u'0': u'testing the results', u'2': u'DropDown3'}}, {u'userName': u'user2', u'surveyName': u'Testing Survey', u'entryForm': {u'1': u'Radio3', u'0': u'233333', u'3': u'42.95', u'2': u'DropDown3'}}, {u'userName': u'Final Test', u'surveyName': u'Testing Survey', u'entryForm': {u'1': u'Radio3', u'0': u'final test', u'3': u'93.61', u'2': u'DropDown3'}}, {u'userName': u'nanda', u'surveyName': u'Testing Survey', u'entryForm': {u'1': u'Radio1', u'0': u'nanda', u'3': u'69.60', u'2': u'DropDown3'}}, {u'userName': u'nanda', u'surveyName': u'Testing Survey', u'entryForm': {u'1': u'Radio1', u'0': u'nanda', u'3': u'69.60', u'2': u'DropDown3'}}, {u'userName': u'nanda', u'surveyName': u'Testing Survey', u'entryForm': {u'1': u'Radio1', u'0': u'nanda', u'3': u'69.60', u'2': u'DropDown3'}}, {u'userName': u'nanda', u'surveyName': u'Testing Survey', u'entryForm': {u'1': u'Radio1', u'0': u'nanda', u'3': u'69.60', u'2': u'DropDown3'}}, {u'userName': u'nanda', u'surveyName': u'Testing Survey', u'entryForm': {u'1': u'Radio1', u'0': u'nanda', u'3': u'69.60', u'2': u'DropDown3'}}, {u'userName': u'nand2', u'surveyName': u'Testing Survey', u'entryForm': {u'1': u'Radio2', u'0': u'sdv', u'3': u'29.96'}}, {u'userName': u'', u'surveyName': u'Testing Survey', u'entryForm': {}}, {u'userName': u'', u'surveyName': u'Testing Survey', u'entryForm': {}}, {u'userName': u'', u'surveyName': u'Testing Survey', u'entryForm': {}}, {u'userName': u'', u'surveyName': u'Testing Survey', u'entryForm': {}}, {u'userName': u'', u'surveyName': u'Testing Survey', u'entryForm': {}}, {u'userName': u'', u'surveyName': u'Testing Survey', u'entryForm': {}}, {u'userName': u'', u'surveyName': u'Testing Survey', u'entryForm': {}}, {u'userName': u'', u'surveyName': u'Testing Survey', u'entryForm': {}}, {u'userName': u'', u'surveyName': u'Testing Survey', u'entryForm': {}}, {u'userName': u'', u'surveyName': u'Testing Survey', u'entryForm': {}}, {u'userName': u'testing validation', u'surveyName': u'Testing Survey', u'entryForm': {u'1': u'Radio1', u'0': u'xv', u'3': u'29.96', u'2': u'DropDown2'}}]\n"
     ]
    },
    {
     "name": "stderr",
     "output_type": "stream",
     "text": [
      "127.0.0.1 - - [18/Oct/2019 00:30:22] \"OPTIONS /getAllSurveys HTTP/1.1\" 200 -\n",
      "127.0.0.1 - - [18/Oct/2019 00:30:22] \"GET /getAllSurveys HTTP/1.1\" 200 -\n",
      "127.0.0.1 - - [18/Oct/2019 00:30:26] \"OPTIONS /getSurvey HTTP/1.1\" 200 -\n",
      "127.0.0.1 - - [18/Oct/2019 00:30:27] \"POST /getSurvey HTTP/1.1\" 200 -\n",
      "127.0.0.1 - - [18/Oct/2019 00:30:53] \"OPTIONS /getSurvey HTTP/1.1\" 200 -\n",
      "127.0.0.1 - - [18/Oct/2019 00:30:54] \"POST /getSurvey HTTP/1.1\" 200 -\n",
      "127.0.0.1 - - [18/Oct/2019 00:31:21] \"OPTIONS /getSurvey HTTP/1.1\" 200 -\n",
      "127.0.0.1 - - [18/Oct/2019 00:31:22] \"POST /getSurvey HTTP/1.1\" 200 -\n",
      "127.0.0.1 - - [18/Oct/2019 00:31:27] \"POST /getSurvey HTTP/1.1\" 200 -\n",
      "127.0.0.1 - - [18/Oct/2019 00:31:48] \"OPTIONS /getSurvey HTTP/1.1\" 200 -\n",
      "127.0.0.1 - - [18/Oct/2019 00:31:49] \"POST /getSurvey HTTP/1.1\" 200 -\n",
      "127.0.0.1 - - [18/Oct/2019 00:32:29] \"OPTIONS /getSurvey HTTP/1.1\" 200 -\n",
      "127.0.0.1 - - [18/Oct/2019 00:32:30] \"POST /getSurvey HTTP/1.1\" 200 -\n",
      "127.0.0.1 - - [18/Oct/2019 00:33:20] \"OPTIONS /getSurvey HTTP/1.1\" 200 -\n",
      "127.0.0.1 - - [18/Oct/2019 00:33:20] \"POST /getSurvey HTTP/1.1\" 200 -\n",
      "127.0.0.1 - - [18/Oct/2019 00:33:44] \"OPTIONS /getSurvey HTTP/1.1\" 200 -\n",
      "127.0.0.1 - - [18/Oct/2019 00:33:45] \"POST /getSurvey HTTP/1.1\" 200 -\n",
      "127.0.0.1 - - [18/Oct/2019 00:33:54] \"OPTIONS /getSurvey HTTP/1.1\" 200 -\n",
      "127.0.0.1 - - [18/Oct/2019 00:33:55] \"POST /getSurvey HTTP/1.1\" 200 -\n",
      "127.0.0.1 - - [18/Oct/2019 00:34:40] \"OPTIONS /getSurvey HTTP/1.1\" 200 -\n",
      "127.0.0.1 - - [18/Oct/2019 00:34:41] \"POST /getSurvey HTTP/1.1\" 200 -\n",
      "127.0.0.1 - - [18/Oct/2019 00:35:12] \"OPTIONS /getSurvey HTTP/1.1\" 200 -\n",
      "127.0.0.1 - - [18/Oct/2019 00:35:13] \"POST /getSurvey HTTP/1.1\" 200 -\n",
      "127.0.0.1 - - [18/Oct/2019 00:35:34] \"OPTIONS /getSurvey HTTP/1.1\" 200 -\n",
      "127.0.0.1 - - [18/Oct/2019 00:35:34] \"POST /getSurvey HTTP/1.1\" 200 -\n",
      "127.0.0.1 - - [18/Oct/2019 00:35:44] \"OPTIONS /getSurvey HTTP/1.1\" 200 -\n",
      "127.0.0.1 - - [18/Oct/2019 00:35:45] \"POST /getSurvey HTTP/1.1\" 200 -\n",
      "127.0.0.1 - - [18/Oct/2019 00:36:08] \"OPTIONS /fillSurvey HTTP/1.1\" 200 -\n",
      "127.0.0.1 - - [18/Oct/2019 00:36:08] \"POST /fillSurvey HTTP/1.1\" 200 -\n",
      "127.0.0.1 - - [18/Oct/2019 00:36:11] \"POST /fillSurvey HTTP/1.1\" 200 -\n",
      "127.0.0.1 - - [18/Oct/2019 00:36:25] \"OPTIONS /getSurvey HTTP/1.1\" 200 -\n",
      "127.0.0.1 - - [18/Oct/2019 00:36:26] \"POST /getSurvey HTTP/1.1\" 200 -\n",
      "127.0.0.1 - - [18/Oct/2019 00:36:50] \"OPTIONS /getSurvey HTTP/1.1\" 200 -\n",
      "127.0.0.1 - - [18/Oct/2019 00:36:51] \"POST /getSurvey HTTP/1.1\" 200 -\n",
      "127.0.0.1 - - [18/Oct/2019 00:38:55] \"OPTIONS /getSurvey HTTP/1.1\" 200 -\n",
      "127.0.0.1 - - [18/Oct/2019 00:38:58] \"POST /getSurvey HTTP/1.1\" 200 -\n",
      "127.0.0.1 - - [18/Oct/2019 00:39:42] \"OPTIONS /getSurvey HTTP/1.1\" 200 -\n",
      "127.0.0.1 - - [18/Oct/2019 00:39:43] \"POST /getSurvey HTTP/1.1\" 200 -\n"
     ]
    }
   ],
   "source": [
    "app = Flask(__name__)\n",
    "api = Api(app)\n",
    "\n",
    "CORS(app)\n",
    "client = pymongo.MongoClient(\"mongodb+srv://hemanth:\"+ urllib.quote(\"Hemanth@123\")+\"@cluster0-59obx.mongodb.net/test?retryWrites=true&w=majority\")\n",
    "\n",
    "\n",
    "\n",
    "### swagger specific ###\n",
    "SWAGGER_URL = '/swagger'\n",
    "API_URL = '/static/swagger.json'\n",
    "SWAGGERUI_BLUEPRINT = get_swaggerui_blueprint(\n",
    "    SWAGGER_URL,\n",
    "    API_URL,\n",
    "    config={\n",
    "        'app_name': \"Seans-Python-Flask-REST-Boilerplate\"\n",
    "    }\n",
    ")\n",
    "app.register_blueprint(SWAGGERUI_BLUEPRINT, url_prefix=SWAGGER_URL)  \n",
    "\n",
    "\n",
    "@app.route(\"/\")\n",
    "def hello():\n",
    "    return jsonify({'text':'Hello World!'})\n",
    "\n",
    "\n",
    "@app.route(\"/createSurvey\",methods=['POST'])\n",
    "def createSurvey(): \n",
    "    \n",
    "    verifyAccessToken(request.headers[\"Authorization\"])\n",
    "    if not(verifyAccessToken):\n",
    "        return json.dumps({\n",
    "              \"error\": \"access_denied\"\n",
    "            }), 401\n",
    "    \n",
    "    db=client.survey\n",
    "    params=request.json\n",
    "    \n",
    "    if(checkSurveyExists(params[\"surveyName\"])):\n",
    "        return jsonify({'response':'SurveyName already Exists'})\n",
    "    surveyDetails={}\n",
    "    surveyDetails[\"userName\"]=params[\"userName\"]\n",
    "    surveyDetails[\"surveyName\"]=params[\"surveyName\"]\n",
    "    surveyDetails[\"surveyDescription\"]=params[\"surveyDescription\"]\n",
    "    surveyDetails[\"surveyForm\"]=params[\"surveyForm\"]\n",
    "    \n",
    "    result=db.SurveyForms.insert_one(surveyDetails)\n",
    "    return  jsonify({'response':'Survey successfully created'})\n",
    "\n",
    "\n",
    "@app.route(\"/getSurvey\",methods=['POST'])\n",
    "def SurveyForm():    \n",
    "    db=client.survey\n",
    "    params=request.json\n",
    "\n",
    "    if not(checkSurveyExists(params[\"surveyName\"])):\n",
    "        return jsonify({'response':'SurveyName doesnt Exists'})\n",
    "    \n",
    "    result=db.SurveyForms.find_one({'surveyName': params[\"surveyName\"]})\n",
    "    del result['_id']\n",
    "    return jsonify(result)\n",
    "\n",
    "\n",
    "@app.route(\"/fillSurvey\",methods=['POST'])\n",
    "def SurveyEntry():\n",
    "    db=client.survey\n",
    "    params=request.json\n",
    "    if not(checkSurveyExists(params[\"surveyName\"])):\n",
    "        return jsonify({'response':'SurveyName doesnt Exist'})\n",
    "    \n",
    "    surveyDetails={}\n",
    "    surveyDetails[\"userName\"]=params[\"userName\"]\n",
    "    surveyDetails[\"surveyName\"]=params[\"surveyName\"]\n",
    "    surveyDetails[\"entryForm\"]=params[\"entryForm\"]\n",
    "    \n",
    "    db.SurveyEntries.insert_one(surveyDetails)\n",
    "    return  jsonify({'response':'Survey successfully filled'})\n",
    "\n",
    "\n",
    "@app.route(\"/getAllSurveys\",methods=['GET'])\n",
    "def getAllServeys():\n",
    "    db=client.survey\n",
    "    surveys=[]\n",
    "    for i in db.SurveyForms.find():\n",
    "        del i['_id']\n",
    "        surveys.append(i)\n",
    "   \n",
    "    return jsonify({\"results\":surveys})\n",
    "\n",
    "@app.route(\"/getUserSurveys\",methods=['POST'])\n",
    "def getUserServeys():\n",
    "    params=request.json\n",
    "    db=client.survey\n",
    "    surveys=[]\n",
    "    for i in db.SurveyForms.find({'userName': params[\"userName\"]}):\n",
    "        del i['_id']\n",
    "        surveys.append(i)\n",
    "   \n",
    "    return jsonify({\"results\":surveys})\n",
    "\n",
    "@app.route(\"/getSurveyEntries\",methods=['POST'])\n",
    "def getSurveyEntries():\n",
    "    db=client.survey\n",
    "    params=request.json\n",
    "    print(params)\n",
    "    if not(checkSurveyExists(params[\"surveyName\"])):\n",
    "        return jsonify({'response':'SurveyName doesnt Exists'})\n",
    "       \n",
    "    surveyEntries=[]\n",
    "    print(db.SurveyEntries.find({'surveyName': params[\"surveyName\"]}))\n",
    "    for i in db.SurveyEntries.find({'surveyName': params[\"surveyName\"]}):\n",
    "        del i['_id']\n",
    "        surveyEntries.append(i)\n",
    "        \n",
    "    print(surveyEntries)\n",
    "    return jsonify({\"results\":surveyEntries})\n",
    "\n",
    "# @app.route(\"/surveystats\")\n",
    "# def SurveyStatistics():\n",
    "#     db=client.survey\n",
    "#     data=json.loads(str(request.data))\n",
    "#     if(!checkSurveyExists(request.surveyName)):\n",
    "#         return jsonify({'response':'SurveyName doesnt Exists'})\n",
    "    \n",
    "#     surveyEntries=db.SurveyEntries.find({'surveyName': request.surveyName})\n",
    "#     surveyTemplate=db.SurveyForms.find({'surveyName': request.surveyName})\n",
    "\n",
    "#     return surveyEntries\n",
    "\n",
    "@app.route(\"/surveystat\")\n",
    "def getByUserSurvey():\n",
    "    db=client.SurveyEntries\n",
    "    params=request.json\n",
    "    print(params)\n",
    "    if not(checkSurveyExists(params[\"surveyName\"])):\n",
    "        return jsonify({'response':'SurveyName doesnt Exists'})\n",
    "    \n",
    "    surveyEntry=db.SurveyEntries.find({'surveyName': params[\"surveyName\"],'userName':params[\"userName\"]})\n",
    "    surveyTemplate=db.SurveyForms.find({'surveyName': params[\"surveyName\"]})\n",
    "    \n",
    "    return mergeSurventry(surveyTemplate,surveyEntry)\n",
    "\n",
    "if __name__ == '__main__':\n",
    "   app.run(port=5002)\n",
    "\n"
   ]
  },
  {
   "cell_type": "code",
   "execution_count": 39,
   "metadata": {
    "collapsed": true
   },
   "outputs": [],
   "source": [
    "surveyTemplate = {\n",
    "        'userName' : \"Hemanth\",\n",
    "        'surveyName' : \"test\",\n",
    "        'surveyForm':{\"0\":{\n",
    "            \"qsn\":\"qsn1\",\n",
    "            \"type\":\"radio\",\n",
    "            \"options\":[\"a\",\"b\"]\n",
    "        },\n",
    "                \"1\":{\n",
    "            \"qsn\":\"qsn2\",\n",
    "            \"type\":\"texxt\",\n",
    "            \"options\":[\"a\",\"c\"]\n",
    "        }\n",
    "            \n",
    "        }\n",
    "    }\n",
    "\n",
    "surveyEntry= [{\n",
    "        'userName' : \"Hemanth\",\n",
    "        'surveyName' : \"test\",\n",
    "        'entryForm':{\"0\":\"ans1\",\n",
    "        \"1\":\"ans1\" }\n",
    "        },{\n",
    "        'userName' : \"Mounika\",\n",
    "        'surveyName' : \"test\",\n",
    "        'entryForm':{\"0\":\"ans1\",\n",
    "        \"1\":\"ans12\" }\n",
    "        }]\n",
    "\n"
   ]
  },
  {
   "cell_type": "code",
   "execution_count": 41,
   "metadata": {
    "collapsed": true
   },
   "outputs": [],
   "source": [
    "db=client.survey"
   ]
  },
  {
   "cell_type": "code",
   "execution_count": 42,
   "metadata": {},
   "outputs": [
    {
     "data": {
      "text/plain": [
       "{u'_id': ObjectId('5da4d328702293db99ed6678'),\n",
       " u'entryForm': {u'0': u'ans1', u'1': u'ans1'},\n",
       " u'surveyName': u'test',\n",
       " u'userName': u'Hemanth'}"
      ]
     },
     "execution_count": 42,
     "metadata": {},
     "output_type": "execute_result"
    }
   ],
   "source": [
    "db.SurveyEntries.find_one({'surveyName': \"test\"})\n"
   ]
  },
  {
   "cell_type": "code",
   "execution_count": null,
   "metadata": {
    "collapsed": true
   },
   "outputs": [],
   "source": []
  }
 ],
 "metadata": {
  "kernelspec": {
   "display_name": "Python 2",
   "language": "python",
   "name": "python2"
  },
  "language_info": {
   "codemirror_mode": {
    "name": "ipython",
    "version": 2
   },
   "file_extension": ".py",
   "mimetype": "text/x-python",
   "name": "python",
   "nbconvert_exporter": "python",
   "pygments_lexer": "ipython2",
   "version": "2.7.15"
  }
 },
 "nbformat": 4,
 "nbformat_minor": 2
}
