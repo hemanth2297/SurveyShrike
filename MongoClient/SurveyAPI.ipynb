{
 "cells": [
  {
   "cell_type": "code",
   "execution_count": 36,
   "metadata": {
    "collapsed": true
   },
   "outputs": [],
   "source": [
    "from flask import Flask, request\n",
    "from flask_cors import CORS, cross_origin\n",
    "from flask_restful import Resource, Api\n",
    "from json import dumps\n",
    "from flask_jsonpify import jsonify\n",
    "import json\n",
    "import pymongo\n",
    "import urllib\n",
    "from collections import Counter\n",
    "import requests\n",
    "from flask_swagger_ui import get_swaggerui_blueprint"
   ]
  },
  {
   "cell_type": "code",
   "execution_count": 37,
   "metadata": {
    "collapsed": true
   },
   "outputs": [],
   "source": [
    "surveyTemplate = {\n",
    "        'userName' : \"Hemanth\",\n",
    "        'surveyName' : \"test\",\n",
    "        'surveyForm':{\"0\":{\n",
    "            \"question\":\"qsn1\",\n",
    "            \"questionType\":\"radio\",\n",
    "            \"options\":\"sd,sdf,sv\",\n",
    "            \"rangeFrom\" :\"1\",\n",
    "            \"rangeFrom\" :\"20\"\n",
    "        },\n",
    "                \"1\":{\n",
    "            \"qsn\":\"qsn2\",\n",
    "            \"type\":\"texxt\",\n",
    "            \"options\":[\"a\",\"c\"]\n",
    "        }\n",
    "            \n",
    "        }\n",
    "    }\n",
    "\n",
    "surveyEntr11y= {\n",
    "        'userName' : \"Hemanth\",\n",
    "        'surveyName' : \"test\",\n",
    "        'entryForm':{\"0\":\"ans1\",\n",
    "        \"1\":\"ans1\"   \n",
    "        }\n",
    "    }"
   ]
  },
  {
   "cell_type": "code",
   "execution_count": 38,
   "metadata": {
    "collapsed": true
   },
   "outputs": [],
   "source": [
    "def checkSurveyExists(surveyName):\n",
    "    db=client.survey\n",
    "    form=db.SurveyForms.find_one({'surveyName': surveyName})\n",
    "    if(form):\n",
    "        return True\n",
    "    return False\n",
    "\n",
    "\n",
    "def mergeSingleSurveyEntry(surveyTemplate,surveyEntry):\n",
    "    form=surveyTemplate[\"surveyForm\"]\n",
    "    for key in form:\n",
    "        form[key][\"answer\"]=surveyEntry[\"entryForm\"][key]\n",
    "    return form\n",
    "\n",
    "\n",
    "def mergeSurveyEntry(surveyTemplate,surveyEntry):\n",
    "    form=surveyTemplate\n",
    "    for key in form[\"surveyForm\"]:\n",
    "        form[\"surveyForm\"][key][\"answers\"]=[]\n",
    "        \n",
    "    form[\"users\"]=[]\n",
    "    for entry in surveyEntry:\n",
    "        form[\"users\"].append(entry[\"userName\"])\n",
    "        for key in form[\"surveyForm\"]:\n",
    "            form[\"surveyForm\"][key][\"answers\"].append(entry[\"entryForm\"][key])\n",
    "            \n",
    "    for key in form[\"surveyForm\"]:\n",
    "        form[\"surveyForm\"][key][\"answers\"]=Counter(form[\"surveyForm\"][key][\"answers\"])\n",
    "        \n",
    "    return form\n",
    "\n",
    "\n",
    "\n",
    "def verifyAccessToken(access_token):\n",
    "    URL=\"http://127.0.0.1:5001/authorize\"\n",
    "    response=requests.post(url = URL,headers={'Authorization': \"access_token\"})\n",
    "    if(response.status_code==200):\n",
    "        return True\n",
    "    else:\n",
    "        return False\n",
    "    \n",
    "def getStats(surveyEntries):\n",
    "    stats={}\n",
    "    for i in surveyEntries[0][\"entryForm\"].keys():\n",
    "        stats[i]={\"total\":{},\"Male\":{},\"Female\":{}}\n",
    "\n",
    "    for entry in surveyEntries:\n",
    "        gender=entry[\"gender\"]\n",
    "        for key in entry[\"entryForm\"].keys():\n",
    "            val=entry[\"entryForm\"][key]\n",
    "            stats[key][\"total\"][val]=0\n",
    "            stats[key][gender][val]=0\n",
    "\n",
    "    for entry in surveyEntries:\n",
    "        gender=entry[\"gender\"]\n",
    "        for key in entry[\"entryForm\"].keys():\n",
    "            val=entry[\"entryForm\"][key]\n",
    "            stats[key][\"total\"][val]+=1\n",
    "            stats[key][gender][val]+=1\n",
    "            \n",
    "    return stats"
   ]
  },
  {
   "cell_type": "code",
   "execution_count": null,
   "metadata": {},
   "outputs": [
    {
     "name": "stdout",
     "output_type": "stream",
     "text": [
      " * Serving Flask app \"__main__\" (lazy loading)\n",
      " * Environment: production\n",
      "   WARNING: This is a development server. Do not use it in a production deployment.\n",
      "   Use a production WSGI server instead.\n",
      " * Debug mode: off\n"
     ]
    },
    {
     "name": "stderr",
     "output_type": "stream",
     "text": [
      " * Running on http://127.0.0.1:5002/ (Press CTRL+C to quit)\n",
      "127.0.0.1 - - [19/Oct/2019 16:24:56] \"OPTIONS /getSurvey HTTP/1.1\" 200 -\n",
      "127.0.0.1 - - [19/Oct/2019 16:24:56] \"OPTIONS /getAllSurveys HTTP/1.1\" 200 -\n",
      "127.0.0.1 - - [19/Oct/2019 16:24:59] \"GET /getAllSurveys HTTP/1.1\" 200 -\n",
      "127.0.0.1 - - [19/Oct/2019 16:24:59] \"POST /getSurvey HTTP/1.1\" 200 -\n",
      "127.0.0.1 - - [19/Oct/2019 16:25:23] \"OPTIONS /getSurvey HTTP/1.1\" 200 -\n",
      "127.0.0.1 - - [19/Oct/2019 16:25:23] \"OPTIONS /getAllSurveys HTTP/1.1\" 200 -\n",
      "127.0.0.1 - - [19/Oct/2019 16:25:23] \"POST /getSurvey HTTP/1.1\" 200 -\n",
      "127.0.0.1 - - [19/Oct/2019 16:25:23] \"GET /getAllSurveys HTTP/1.1\" 200 -\n",
      "127.0.0.1 - - [19/Oct/2019 16:25:26] \"OPTIONS /getSurvey HTTP/1.1\" 200 -\n",
      "127.0.0.1 - - [19/Oct/2019 16:25:27] \"POST /getSurvey HTTP/1.1\" 200 -\n",
      "127.0.0.1 - - [19/Oct/2019 16:25:28] \"OPTIONS /getUserSurveys HTTP/1.1\" 200 -\n",
      "127.0.0.1 - - [19/Oct/2019 16:25:29] \"POST /getUserSurveys HTTP/1.1\" 200 -\n",
      "127.0.0.1 - - [19/Oct/2019 16:25:32] \"OPTIONS /getSurvey HTTP/1.1\" 200 -\n",
      "127.0.0.1 - - [19/Oct/2019 16:25:32] \"OPTIONS /getSurveyEntries HTTP/1.1\" 200 -\n"
     ]
    },
    {
     "name": "stdout",
     "output_type": "stream",
     "text": [
      "{u'surveyName': u'Testing Survey'}\n"
     ]
    },
    {
     "name": "stderr",
     "output_type": "stream",
     "text": [
      "127.0.0.1 - - [19/Oct/2019 16:25:33] \"POST /getSurveyEntries HTTP/1.1\" 200 -\n",
      "127.0.0.1 - - [19/Oct/2019 16:25:33] \"POST /getSurvey HTTP/1.1\" 200 -\n",
      "127.0.0.1 - - [19/Oct/2019 16:27:57] \"OPTIONS /getSurvey HTTP/1.1\" 200 -\n",
      "127.0.0.1 - - [19/Oct/2019 16:27:57] \"OPTIONS /getSurvey HTTP/1.1\" 200 -\n",
      "127.0.0.1 - - [19/Oct/2019 16:27:57] \"OPTIONS /getSurveyEntries HTTP/1.1\" 200 -\n"
     ]
    },
    {
     "name": "stdout",
     "output_type": "stream",
     "text": [
      "{u'surveyName': u'Testing Survey'}\n"
     ]
    },
    {
     "name": "stderr",
     "output_type": "stream",
     "text": [
      "127.0.0.1 - - [19/Oct/2019 16:27:57] \"POST /getSurvey HTTP/1.1\" 200 -\n",
      "127.0.0.1 - - [19/Oct/2019 16:27:57] \"POST /getSurveyEntries HTTP/1.1\" 200 -\n",
      "127.0.0.1 - - [19/Oct/2019 16:28:00] \"POST /getSurvey HTTP/1.1\" 200 -\n",
      "127.0.0.1 - - [19/Oct/2019 16:28:40] \"OPTIONS /getSurvey HTTP/1.1\" 200 -\n",
      "127.0.0.1 - - [19/Oct/2019 16:28:40] \"OPTIONS /getSurvey HTTP/1.1\" 200 -\n",
      "127.0.0.1 - - [19/Oct/2019 16:28:40] \"OPTIONS /getSurveyEntries HTTP/1.1\" 200 -\n"
     ]
    },
    {
     "name": "stdout",
     "output_type": "stream",
     "text": [
      "{u'surveyName': u'Testing Survey'}\n"
     ]
    },
    {
     "name": "stderr",
     "output_type": "stream",
     "text": [
      "127.0.0.1 - - [19/Oct/2019 16:28:41] \"POST /getSurveyEntries HTTP/1.1\" 200 -\n",
      "127.0.0.1 - - [19/Oct/2019 16:28:41] \"POST /getSurvey HTTP/1.1\" 200 -\n",
      "127.0.0.1 - - [19/Oct/2019 16:28:41] \"POST /getSurvey HTTP/1.1\" 200 -\n",
      "127.0.0.1 - - [19/Oct/2019 16:30:39] \"OPTIONS /getSurvey HTTP/1.1\" 200 -\n",
      "127.0.0.1 - - [19/Oct/2019 16:30:39] \"OPTIONS /getSurveyEntries HTTP/1.1\" 200 -\n",
      "127.0.0.1 - - [19/Oct/2019 16:30:39] \"OPTIONS /getSurvey HTTP/1.1\" 200 -\n"
     ]
    },
    {
     "name": "stdout",
     "output_type": "stream",
     "text": [
      "{u'surveyName': u'Testing Survey'}\n"
     ]
    },
    {
     "name": "stderr",
     "output_type": "stream",
     "text": [
      "127.0.0.1 - - [19/Oct/2019 16:30:39] \"POST /getSurvey HTTP/1.1\" 200 -\n",
      "127.0.0.1 - - [19/Oct/2019 16:30:39] \"POST /getSurvey HTTP/1.1\" 200 -\n",
      "127.0.0.1 - - [19/Oct/2019 16:30:39] \"POST /getSurveyEntries HTTP/1.1\" 200 -\n",
      "127.0.0.1 - - [19/Oct/2019 16:33:34] \"OPTIONS /getSurvey HTTP/1.1\" 200 -\n",
      "127.0.0.1 - - [19/Oct/2019 16:33:34] \"OPTIONS /getSurvey HTTP/1.1\" 200 -\n",
      "127.0.0.1 - - [19/Oct/2019 16:33:34] \"OPTIONS /getSurveyEntries HTTP/1.1\" 200 -\n"
     ]
    },
    {
     "name": "stdout",
     "output_type": "stream",
     "text": [
      "{u'surveyName': u'Testing Survey'}\n"
     ]
    },
    {
     "name": "stderr",
     "output_type": "stream",
     "text": [
      "127.0.0.1 - - [19/Oct/2019 16:33:34] \"POST /getSurvey HTTP/1.1\" 200 -\n",
      "127.0.0.1 - - [19/Oct/2019 16:33:35] \"POST /getSurvey HTTP/1.1\" 200 -\n",
      "127.0.0.1 - - [19/Oct/2019 16:33:35] \"POST /getSurveyEntries HTTP/1.1\" 200 -\n",
      "127.0.0.1 - - [19/Oct/2019 16:34:12] \"OPTIONS /getSurvey HTTP/1.1\" 200 -\n",
      "127.0.0.1 - - [19/Oct/2019 16:34:13] \"OPTIONS /getSurvey HTTP/1.1\" 200 -\n",
      "127.0.0.1 - - [19/Oct/2019 16:34:13] \"OPTIONS /getSurveyEntries HTTP/1.1\" 200 -\n",
      "127.0.0.1 - - [19/Oct/2019 16:34:13] \"POST /getSurvey HTTP/1.1\" 200 -\n"
     ]
    },
    {
     "name": "stdout",
     "output_type": "stream",
     "text": [
      "{u'surveyName': u'Testing Survey'}\n"
     ]
    },
    {
     "name": "stderr",
     "output_type": "stream",
     "text": [
      "127.0.0.1 - - [19/Oct/2019 16:34:14] \"POST /getSurveyEntries HTTP/1.1\" 200 -\n",
      "127.0.0.1 - - [19/Oct/2019 16:34:14] \"POST /getSurvey HTTP/1.1\" 200 -\n",
      "127.0.0.1 - - [19/Oct/2019 16:34:51] \"OPTIONS /getSurvey HTTP/1.1\" 200 -\n",
      "127.0.0.1 - - [19/Oct/2019 16:34:51] \"OPTIONS /getSurvey HTTP/1.1\" 200 -\n",
      "127.0.0.1 - - [19/Oct/2019 16:34:51] \"OPTIONS /getSurveyEntries HTTP/1.1\" 200 -\n",
      "127.0.0.1 - - [19/Oct/2019 16:34:51] \"POST /getSurvey HTTP/1.1\" 200 -\n"
     ]
    },
    {
     "name": "stdout",
     "output_type": "stream",
     "text": [
      "{u'surveyName': u'Testing Survey'}\n"
     ]
    },
    {
     "name": "stderr",
     "output_type": "stream",
     "text": [
      "127.0.0.1 - - [19/Oct/2019 16:34:52] \"POST /getSurveyEntries HTTP/1.1\" 200 -\n",
      "127.0.0.1 - - [19/Oct/2019 16:34:52] \"POST /getSurvey HTTP/1.1\" 200 -\n",
      "127.0.0.1 - - [19/Oct/2019 16:36:23] \"OPTIONS /getSurvey HTTP/1.1\" 200 -\n",
      "127.0.0.1 - - [19/Oct/2019 16:36:23] \"OPTIONS /getSurvey HTTP/1.1\" 200 -\n",
      "127.0.0.1 - - [19/Oct/2019 16:36:23] \"OPTIONS /getSurveyEntries HTTP/1.1\" 200 -\n"
     ]
    },
    {
     "name": "stdout",
     "output_type": "stream",
     "text": [
      "{u'surveyName': u'Testing Survey'}\n"
     ]
    },
    {
     "name": "stderr",
     "output_type": "stream",
     "text": [
      "127.0.0.1 - - [19/Oct/2019 16:36:23] \"POST /getSurvey HTTP/1.1\" 200 -\n",
      "127.0.0.1 - - [19/Oct/2019 16:36:23] \"POST /getSurvey HTTP/1.1\" 200 -\n",
      "127.0.0.1 - - [19/Oct/2019 16:36:23] \"POST /getSurveyEntries HTTP/1.1\" 200 -\n",
      "127.0.0.1 - - [19/Oct/2019 16:36:41] \"OPTIONS /getSurvey HTTP/1.1\" 200 -\n",
      "127.0.0.1 - - [19/Oct/2019 16:36:41] \"OPTIONS /getSurveyEntries HTTP/1.1\" 200 -\n",
      "127.0.0.1 - - [19/Oct/2019 16:36:41] \"OPTIONS /getSurvey HTTP/1.1\" 200 -\n"
     ]
    },
    {
     "name": "stdout",
     "output_type": "stream",
     "text": [
      "{u'surveyName': u'Testing Survey'}\n"
     ]
    },
    {
     "name": "stderr",
     "output_type": "stream",
     "text": [
      "127.0.0.1 - - [19/Oct/2019 16:36:42] \"POST /getSurvey HTTP/1.1\" 200 -\n",
      "127.0.0.1 - - [19/Oct/2019 16:36:42] \"POST /getSurveyEntries HTTP/1.1\" 200 -\n",
      "127.0.0.1 - - [19/Oct/2019 16:36:45] \"POST /getSurvey HTTP/1.1\" 200 -\n",
      "127.0.0.1 - - [19/Oct/2019 16:38:27] \"OPTIONS /getSurvey HTTP/1.1\" 200 -\n",
      "127.0.0.1 - - [19/Oct/2019 16:38:27] \"OPTIONS /getSurvey HTTP/1.1\" 200 -\n",
      "127.0.0.1 - - [19/Oct/2019 16:38:27] \"OPTIONS /getSurveyEntries HTTP/1.1\" 200 -\n"
     ]
    },
    {
     "name": "stdout",
     "output_type": "stream",
     "text": [
      "{u'surveyName': u'Testing Survey'}\n"
     ]
    },
    {
     "name": "stderr",
     "output_type": "stream",
     "text": [
      "127.0.0.1 - - [19/Oct/2019 16:38:28] \"POST /getSurvey HTTP/1.1\" 200 -\n",
      "127.0.0.1 - - [19/Oct/2019 16:38:28] \"POST /getSurvey HTTP/1.1\" 200 -\n",
      "127.0.0.1 - - [19/Oct/2019 16:38:28] \"POST /getSurveyEntries HTTP/1.1\" 200 -\n",
      "127.0.0.1 - - [19/Oct/2019 16:39:10] \"OPTIONS /getSurvey HTTP/1.1\" 200 -\n",
      "127.0.0.1 - - [19/Oct/2019 16:39:11] \"OPTIONS /getSurvey HTTP/1.1\" 200 -\n",
      "127.0.0.1 - - [19/Oct/2019 16:39:11] \"OPTIONS /getSurveyEntries HTTP/1.1\" 200 -\n",
      "127.0.0.1 - - [19/Oct/2019 16:39:11] \"POST /getSurvey HTTP/1.1\" 200 -\n"
     ]
    },
    {
     "name": "stdout",
     "output_type": "stream",
     "text": [
      "{u'surveyName': u'Testing Survey'}\n"
     ]
    },
    {
     "name": "stderr",
     "output_type": "stream",
     "text": [
      "127.0.0.1 - - [19/Oct/2019 16:39:11] \"POST /getSurvey HTTP/1.1\" 200 -\n",
      "127.0.0.1 - - [19/Oct/2019 16:39:11] \"POST /getSurveyEntries HTTP/1.1\" 200 -\n",
      "127.0.0.1 - - [19/Oct/2019 16:39:56] \"OPTIONS /getSurvey HTTP/1.1\" 200 -\n",
      "127.0.0.1 - - [19/Oct/2019 16:39:56] \"OPTIONS /getSurvey HTTP/1.1\" 200 -\n",
      "127.0.0.1 - - [19/Oct/2019 16:39:56] \"OPTIONS /getSurveyEntries HTTP/1.1\" 200 -\n"
     ]
    },
    {
     "name": "stdout",
     "output_type": "stream",
     "text": [
      "{u'surveyName': u'Testing Survey'}\n"
     ]
    },
    {
     "name": "stderr",
     "output_type": "stream",
     "text": [
      "127.0.0.1 - - [19/Oct/2019 16:39:57] \"POST /getSurveyEntries HTTP/1.1\" 200 -\n",
      "127.0.0.1 - - [19/Oct/2019 16:39:57] \"POST /getSurvey HTTP/1.1\" 200 -\n",
      "127.0.0.1 - - [19/Oct/2019 16:39:57] \"POST /getSurvey HTTP/1.1\" 200 -\n",
      "127.0.0.1 - - [19/Oct/2019 16:41:26] \"OPTIONS /getSurvey HTTP/1.1\" 200 -\n",
      "127.0.0.1 - - [19/Oct/2019 16:41:26] \"OPTIONS /getSurvey HTTP/1.1\" 200 -\n",
      "127.0.0.1 - - [19/Oct/2019 16:41:26] \"OPTIONS /getSurveyEntries HTTP/1.1\" 200 -\n"
     ]
    },
    {
     "name": "stdout",
     "output_type": "stream",
     "text": [
      "{u'surveyName': u'Testing Survey'}\n"
     ]
    },
    {
     "name": "stderr",
     "output_type": "stream",
     "text": [
      "127.0.0.1 - - [19/Oct/2019 16:41:27] \"POST /getSurvey HTTP/1.1\" 200 -\n",
      "127.0.0.1 - - [19/Oct/2019 16:41:27] \"POST /getSurveyEntries HTTP/1.1\" 200 -\n",
      "127.0.0.1 - - [19/Oct/2019 16:41:27] \"POST /getSurvey HTTP/1.1\" 200 -\n",
      "127.0.0.1 - - [19/Oct/2019 16:42:10] \"OPTIONS /getSurveyEntries HTTP/1.1\" 200 -\n",
      "127.0.0.1 - - [19/Oct/2019 16:42:10] \"OPTIONS /getSurvey HTTP/1.1\" 200 -\n",
      "127.0.0.1 - - [19/Oct/2019 16:42:10] \"OPTIONS /getSurvey HTTP/1.1\" 200 -\n"
     ]
    },
    {
     "name": "stdout",
     "output_type": "stream",
     "text": [
      "{u'surveyName': u'Testing Survey'}\n"
     ]
    },
    {
     "name": "stderr",
     "output_type": "stream",
     "text": [
      "127.0.0.1 - - [19/Oct/2019 16:42:11] \"POST /getSurvey HTTP/1.1\" 200 -\n",
      "127.0.0.1 - - [19/Oct/2019 16:42:11] \"POST /getSurveyEntries HTTP/1.1\" 200 -\n",
      "127.0.0.1 - - [19/Oct/2019 16:42:11] \"POST /getSurvey HTTP/1.1\" 200 -\n",
      "127.0.0.1 - - [19/Oct/2019 16:42:22] \"OPTIONS /getSurvey HTTP/1.1\" 200 -\n",
      "127.0.0.1 - - [19/Oct/2019 16:42:22] \"OPTIONS /getSurvey HTTP/1.1\" 200 -\n",
      "127.0.0.1 - - [19/Oct/2019 16:42:22] \"OPTIONS /getSurveyEntries HTTP/1.1\" 200 -\n"
     ]
    },
    {
     "name": "stdout",
     "output_type": "stream",
     "text": [
      "{u'surveyName': u'Testing Survey'}\n"
     ]
    },
    {
     "name": "stderr",
     "output_type": "stream",
     "text": [
      "127.0.0.1 - - [19/Oct/2019 16:42:22] \"POST /getSurvey HTTP/1.1\" 200 -\n",
      "127.0.0.1 - - [19/Oct/2019 16:42:22] \"POST /getSurveyEntries HTTP/1.1\" 200 -\n",
      "127.0.0.1 - - [19/Oct/2019 16:42:22] \"POST /getSurvey HTTP/1.1\" 200 -\n",
      "127.0.0.1 - - [19/Oct/2019 16:43:03] \"OPTIONS /getSurvey HTTP/1.1\" 200 -\n",
      "127.0.0.1 - - [19/Oct/2019 16:43:03] \"OPTIONS /getSurvey HTTP/1.1\" 200 -\n",
      "127.0.0.1 - - [19/Oct/2019 16:43:03] \"OPTIONS /getSurveyEntries HTTP/1.1\" 200 -\n"
     ]
    },
    {
     "name": "stdout",
     "output_type": "stream",
     "text": [
      "{u'surveyName': u'Testing Survey'}\n"
     ]
    },
    {
     "name": "stderr",
     "output_type": "stream",
     "text": [
      "127.0.0.1 - - [19/Oct/2019 16:43:03] \"POST /getSurvey HTTP/1.1\" 200 -\n",
      "127.0.0.1 - - [19/Oct/2019 16:43:04] \"POST /getSurvey HTTP/1.1\" 200 -\n",
      "127.0.0.1 - - [19/Oct/2019 16:43:04] \"POST /getSurveyEntries HTTP/1.1\" 200 -\n",
      "127.0.0.1 - - [19/Oct/2019 16:46:09] \"OPTIONS /getSurvey HTTP/1.1\" 200 -\n",
      "127.0.0.1 - - [19/Oct/2019 16:46:10] \"OPTIONS /getSurvey HTTP/1.1\" 200 -\n",
      "127.0.0.1 - - [19/Oct/2019 16:46:10] \"OPTIONS /getSurveyEntries HTTP/1.1\" 200 -\n",
      "127.0.0.1 - - [19/Oct/2019 16:46:10] \"POST /getSurvey HTTP/1.1\" 200 -\n"
     ]
    },
    {
     "name": "stdout",
     "output_type": "stream",
     "text": [
      "{u'surveyName': u'Testing Survey'}\n"
     ]
    },
    {
     "name": "stderr",
     "output_type": "stream",
     "text": [
      "127.0.0.1 - - [19/Oct/2019 16:46:10] \"POST /getSurveyEntries HTTP/1.1\" 200 -\n",
      "127.0.0.1 - - [19/Oct/2019 16:46:10] \"POST /getSurvey HTTP/1.1\" 200 -\n",
      "127.0.0.1 - - [19/Oct/2019 16:46:20] \"OPTIONS /getSurvey HTTP/1.1\" 200 -\n",
      "127.0.0.1 - - [19/Oct/2019 16:46:21] \"OPTIONS /getSurvey HTTP/1.1\" 200 -\n",
      "127.0.0.1 - - [19/Oct/2019 16:46:21] \"OPTIONS /getSurveyEntries HTTP/1.1\" 200 -\n"
     ]
    },
    {
     "name": "stdout",
     "output_type": "stream",
     "text": [
      "{u'surveyName': u'Testing Survey'}\n"
     ]
    },
    {
     "name": "stderr",
     "output_type": "stream",
     "text": [
      "127.0.0.1 - - [19/Oct/2019 16:46:21] \"POST /getSurvey HTTP/1.1\" 200 -\n",
      "127.0.0.1 - - [19/Oct/2019 16:46:22] \"POST /getSurvey HTTP/1.1\" 200 -\n",
      "127.0.0.1 - - [19/Oct/2019 16:46:23] \"POST /getSurveyEntries HTTP/1.1\" 200 -\n",
      "127.0.0.1 - - [19/Oct/2019 16:46:48] \"OPTIONS /getSurvey HTTP/1.1\" 200 -\n",
      "127.0.0.1 - - [19/Oct/2019 16:46:49] \"OPTIONS /getSurvey HTTP/1.1\" 200 -\n",
      "127.0.0.1 - - [19/Oct/2019 16:46:49] \"OPTIONS /getSurveyEntries HTTP/1.1\" 200 -\n"
     ]
    },
    {
     "name": "stdout",
     "output_type": "stream",
     "text": [
      "{u'surveyName': u'Testing Survey'}\n"
     ]
    },
    {
     "name": "stderr",
     "output_type": "stream",
     "text": [
      "127.0.0.1 - - [19/Oct/2019 16:46:49] \"POST /getSurvey HTTP/1.1\" 200 -\n",
      "127.0.0.1 - - [19/Oct/2019 16:46:49] \"POST /getSurveyEntries HTTP/1.1\" 200 -\n",
      "127.0.0.1 - - [19/Oct/2019 16:46:50] \"POST /getSurvey HTTP/1.1\" 200 -\n",
      "127.0.0.1 - - [19/Oct/2019 16:47:51] \"OPTIONS /getSurvey HTTP/1.1\" 200 -\n",
      "127.0.0.1 - - [19/Oct/2019 16:47:51] \"OPTIONS /getSurvey HTTP/1.1\" 200 -\n",
      "127.0.0.1 - - [19/Oct/2019 16:47:51] \"OPTIONS /getSurveyEntries HTTP/1.1\" 200 -\n"
     ]
    },
    {
     "name": "stdout",
     "output_type": "stream",
     "text": [
      "{u'surveyName': u'Testing Survey'}\n"
     ]
    },
    {
     "name": "stderr",
     "output_type": "stream",
     "text": [
      "127.0.0.1 - - [19/Oct/2019 16:47:52] \"POST /getSurvey HTTP/1.1\" 200 -\n",
      "127.0.0.1 - - [19/Oct/2019 16:47:52] \"POST /getSurvey HTTP/1.1\" 200 -\n",
      "127.0.0.1 - - [19/Oct/2019 16:47:52] \"POST /getSurveyEntries HTTP/1.1\" 200 -\n",
      "127.0.0.1 - - [19/Oct/2019 16:48:25] \"OPTIONS /getSurvey HTTP/1.1\" 200 -\n",
      "127.0.0.1 - - [19/Oct/2019 16:48:26] \"OPTIONS /getSurvey HTTP/1.1\" 200 -\n",
      "127.0.0.1 - - [19/Oct/2019 16:48:26] \"OPTIONS /getSurveyEntries HTTP/1.1\" 200 -\n",
      "127.0.0.1 - - [19/Oct/2019 16:48:26] \"POST /getSurvey HTTP/1.1\" 200 -\n"
     ]
    },
    {
     "name": "stdout",
     "output_type": "stream",
     "text": [
      "{u'surveyName': u'Testing Survey'}\n"
     ]
    },
    {
     "name": "stderr",
     "output_type": "stream",
     "text": [
      "127.0.0.1 - - [19/Oct/2019 16:48:27] \"POST /getSurvey HTTP/1.1\" 200 -\n",
      "127.0.0.1 - - [19/Oct/2019 16:48:27] \"POST /getSurveyEntries HTTP/1.1\" 200 -\n",
      "127.0.0.1 - - [19/Oct/2019 16:49:12] \"OPTIONS /getSurvey HTTP/1.1\" 200 -\n",
      "127.0.0.1 - - [19/Oct/2019 16:49:12] \"OPTIONS /getSurvey HTTP/1.1\" 200 -\n",
      "127.0.0.1 - - [19/Oct/2019 16:49:12] \"OPTIONS /getSurveyEntries HTTP/1.1\" 200 -\n",
      "127.0.0.1 - - [19/Oct/2019 16:49:13] \"POST /getSurvey HTTP/1.1\" 200 -\n"
     ]
    },
    {
     "name": "stdout",
     "output_type": "stream",
     "text": [
      "{u'surveyName': u'Testing Survey'}\n"
     ]
    },
    {
     "name": "stderr",
     "output_type": "stream",
     "text": [
      "127.0.0.1 - - [19/Oct/2019 16:49:13] \"POST /getSurveyEntries HTTP/1.1\" 200 -\n",
      "127.0.0.1 - - [19/Oct/2019 16:49:13] \"POST /getSurvey HTTP/1.1\" 200 -\n",
      "127.0.0.1 - - [19/Oct/2019 16:50:22] \"OPTIONS /getSurvey HTTP/1.1\" 200 -\n",
      "127.0.0.1 - - [19/Oct/2019 16:50:22] \"OPTIONS /getSurvey HTTP/1.1\" 200 -\n",
      "127.0.0.1 - - [19/Oct/2019 16:50:22] \"OPTIONS /getSurveyEntries HTTP/1.1\" 200 -\n"
     ]
    },
    {
     "name": "stdout",
     "output_type": "stream",
     "text": [
      "{u'surveyName': u'Testing Survey'}\n"
     ]
    },
    {
     "name": "stderr",
     "output_type": "stream",
     "text": [
      "127.0.0.1 - - [19/Oct/2019 16:50:25] \"POST /getSurvey HTTP/1.1\" 200 -\n",
      "127.0.0.1 - - [19/Oct/2019 16:50:26] \"POST /getSurveyEntries HTTP/1.1\" 200 -\n",
      "127.0.0.1 - - [19/Oct/2019 16:50:26] \"POST /getSurvey HTTP/1.1\" 200 -\n",
      "127.0.0.1 - - [19/Oct/2019 16:50:44] \"OPTIONS /getSurvey HTTP/1.1\" 200 -\n",
      "127.0.0.1 - - [19/Oct/2019 16:50:44] \"OPTIONS /getSurvey HTTP/1.1\" 200 -\n",
      "127.0.0.1 - - [19/Oct/2019 16:50:44] \"OPTIONS /getSurveyEntries HTTP/1.1\" 200 -\n"
     ]
    },
    {
     "name": "stdout",
     "output_type": "stream",
     "text": [
      "{u'surveyName': u'Testing Survey'}\n"
     ]
    },
    {
     "name": "stderr",
     "output_type": "stream",
     "text": [
      "127.0.0.1 - - [19/Oct/2019 16:50:45] \"POST /getSurvey HTTP/1.1\" 200 -\n",
      "127.0.0.1 - - [19/Oct/2019 16:50:45] \"POST /getSurveyEntries HTTP/1.1\" 200 -\n",
      "127.0.0.1 - - [19/Oct/2019 16:50:45] \"POST /getSurvey HTTP/1.1\" 200 -\n",
      "127.0.0.1 - - [19/Oct/2019 16:52:58] \"OPTIONS /getSurvey HTTP/1.1\" 200 -\n",
      "127.0.0.1 - - [19/Oct/2019 16:52:58] \"OPTIONS /getSurvey HTTP/1.1\" 200 -\n",
      "127.0.0.1 - - [19/Oct/2019 16:52:58] \"OPTIONS /getSurveyEntries HTTP/1.1\" 200 -\n",
      "127.0.0.1 - - [19/Oct/2019 16:52:58] \"POST /getSurvey HTTP/1.1\" 200 -\n"
     ]
    },
    {
     "name": "stdout",
     "output_type": "stream",
     "text": [
      "{u'surveyName': u'Testing Survey'}\n"
     ]
    },
    {
     "name": "stderr",
     "output_type": "stream",
     "text": [
      "127.0.0.1 - - [19/Oct/2019 16:52:59] \"POST /getSurvey HTTP/1.1\" 200 -\n",
      "127.0.0.1 - - [19/Oct/2019 16:52:59] \"POST /getSurveyEntries HTTP/1.1\" 200 -\n",
      "127.0.0.1 - - [19/Oct/2019 16:54:29] \"OPTIONS /getSurvey HTTP/1.1\" 200 -\n",
      "127.0.0.1 - - [19/Oct/2019 16:54:30] \"OPTIONS /getSurvey HTTP/1.1\" 200 -\n",
      "127.0.0.1 - - [19/Oct/2019 16:54:30] \"OPTIONS /getSurveyEntries HTTP/1.1\" 200 -\n",
      "127.0.0.1 - - [19/Oct/2019 16:54:30] \"POST /getSurvey HTTP/1.1\" 200 -\n"
     ]
    },
    {
     "name": "stdout",
     "output_type": "stream",
     "text": [
      "{u'surveyName': u'Testing Survey'}\n"
     ]
    },
    {
     "name": "stderr",
     "output_type": "stream",
     "text": [
      "127.0.0.1 - - [19/Oct/2019 16:54:31] \"POST /getSurvey HTTP/1.1\" 200 -\n",
      "127.0.0.1 - - [19/Oct/2019 16:54:31] \"POST /getSurveyEntries HTTP/1.1\" 200 -\n",
      "127.0.0.1 - - [19/Oct/2019 16:55:02] \"OPTIONS /getSurvey HTTP/1.1\" 200 -\n",
      "127.0.0.1 - - [19/Oct/2019 16:55:03] \"OPTIONS /getSurvey HTTP/1.1\" 200 -\n",
      "127.0.0.1 - - [19/Oct/2019 16:55:03] \"OPTIONS /getSurveyEntries HTTP/1.1\" 200 -\n",
      "127.0.0.1 - - [19/Oct/2019 16:55:03] \"POST /getSurvey HTTP/1.1\" 200 -\n"
     ]
    },
    {
     "name": "stdout",
     "output_type": "stream",
     "text": [
      "{u'surveyName': u'Testing Survey'}\n"
     ]
    },
    {
     "name": "stderr",
     "output_type": "stream",
     "text": [
      "127.0.0.1 - - [19/Oct/2019 16:55:03] \"POST /getSurveyEntries HTTP/1.1\" 200 -\n",
      "127.0.0.1 - - [19/Oct/2019 16:55:03] \"POST /getSurvey HTTP/1.1\" 200 -\n",
      "127.0.0.1 - - [19/Oct/2019 16:55:35] \"OPTIONS /getSurvey HTTP/1.1\" 200 -\n",
      "127.0.0.1 - - [19/Oct/2019 16:55:36] \"OPTIONS /getSurvey HTTP/1.1\" 200 -\n",
      "127.0.0.1 - - [19/Oct/2019 16:55:36] \"OPTIONS /getSurveyEntries HTTP/1.1\" 200 -\n",
      "127.0.0.1 - - [19/Oct/2019 16:55:36] \"POST /getSurvey HTTP/1.1\" 200 -\n"
     ]
    },
    {
     "name": "stdout",
     "output_type": "stream",
     "text": [
      "{u'surveyName': u'Testing Survey'}\n"
     ]
    },
    {
     "name": "stderr",
     "output_type": "stream",
     "text": [
      "127.0.0.1 - - [19/Oct/2019 16:55:37] \"POST /getSurvey HTTP/1.1\" 200 -\n",
      "127.0.0.1 - - [19/Oct/2019 16:55:37] \"POST /getSurveyEntries HTTP/1.1\" 200 -\n",
      "127.0.0.1 - - [19/Oct/2019 16:56:52] \"OPTIONS /getSurvey HTTP/1.1\" 200 -\n",
      "127.0.0.1 - - [19/Oct/2019 16:56:52] \"OPTIONS /getSurvey HTTP/1.1\" 200 -\n",
      "127.0.0.1 - - [19/Oct/2019 16:56:52] \"OPTIONS /getSurveyEntries HTTP/1.1\" 200 -\n"
     ]
    },
    {
     "name": "stdout",
     "output_type": "stream",
     "text": [
      "{u'surveyName': u'Testing Survey'}\n"
     ]
    },
    {
     "name": "stderr",
     "output_type": "stream",
     "text": [
      "127.0.0.1 - - [19/Oct/2019 16:56:53] \"POST /getSurvey HTTP/1.1\" 200 -\n",
      "127.0.0.1 - - [19/Oct/2019 16:56:53] \"POST /getSurveyEntries HTTP/1.1\" 200 -\n",
      "127.0.0.1 - - [19/Oct/2019 16:56:54] \"POST /getSurvey HTTP/1.1\" 200 -\n",
      "127.0.0.1 - - [19/Oct/2019 16:57:00] \"OPTIONS /getSurvey HTTP/1.1\" 200 -\n",
      "127.0.0.1 - - [19/Oct/2019 16:57:01] \"OPTIONS /getSurvey HTTP/1.1\" 200 -\n",
      "127.0.0.1 - - [19/Oct/2019 16:57:01] \"OPTIONS /getSurveyEntries HTTP/1.1\" 200 -\n",
      "127.0.0.1 - - [19/Oct/2019 16:57:01] \"POST /getSurvey HTTP/1.1\" 200 -\n"
     ]
    },
    {
     "name": "stdout",
     "output_type": "stream",
     "text": [
      "{u'surveyName': u'Testing Survey'}\n"
     ]
    },
    {
     "name": "stderr",
     "output_type": "stream",
     "text": [
      "127.0.0.1 - - [19/Oct/2019 16:57:01] \"POST /getSurveyEntries HTTP/1.1\" 200 -\n",
      "127.0.0.1 - - [19/Oct/2019 16:57:02] \"POST /getSurvey HTTP/1.1\" 200 -\n",
      "127.0.0.1 - - [19/Oct/2019 16:57:32] \"OPTIONS /getSurvey HTTP/1.1\" 200 -\n",
      "127.0.0.1 - - [19/Oct/2019 16:57:33] \"OPTIONS /getSurvey HTTP/1.1\" 200 -\n",
      "127.0.0.1 - - [19/Oct/2019 16:57:33] \"OPTIONS /getSurveyEntries HTTP/1.1\" 200 -\n",
      "127.0.0.1 - - [19/Oct/2019 16:57:33] \"POST /getSurvey HTTP/1.1\" 200 -\n"
     ]
    },
    {
     "name": "stdout",
     "output_type": "stream",
     "text": [
      "{u'surveyName': u'Testing Survey'}\n"
     ]
    },
    {
     "name": "stderr",
     "output_type": "stream",
     "text": [
      "127.0.0.1 - - [19/Oct/2019 16:57:33] \"POST /getSurveyEntries HTTP/1.1\" 200 -\n",
      "127.0.0.1 - - [19/Oct/2019 16:57:33] \"POST /getSurvey HTTP/1.1\" 200 -\n",
      "127.0.0.1 - - [19/Oct/2019 16:58:42] \"OPTIONS /getSurvey HTTP/1.1\" 200 -\n",
      "127.0.0.1 - - [19/Oct/2019 16:58:43] \"OPTIONS /getSurvey HTTP/1.1\" 200 -\n",
      "127.0.0.1 - - [19/Oct/2019 16:58:43] \"OPTIONS /getSurveyEntries HTTP/1.1\" 200 -\n",
      "127.0.0.1 - - [19/Oct/2019 16:58:43] \"POST /getSurvey HTTP/1.1\" 200 -\n"
     ]
    },
    {
     "name": "stdout",
     "output_type": "stream",
     "text": [
      "{u'surveyName': u'Testing Survey'}\n"
     ]
    },
    {
     "name": "stderr",
     "output_type": "stream",
     "text": [
      "127.0.0.1 - - [19/Oct/2019 16:58:44] \"POST /getSurvey HTTP/1.1\" 200 -\n",
      "127.0.0.1 - - [19/Oct/2019 16:58:44] \"POST /getSurveyEntries HTTP/1.1\" 200 -\n",
      "127.0.0.1 - - [19/Oct/2019 16:59:31] \"OPTIONS /getSurvey HTTP/1.1\" 200 -\n",
      "127.0.0.1 - - [19/Oct/2019 16:59:32] \"OPTIONS /getSurvey HTTP/1.1\" 200 -\n",
      "127.0.0.1 - - [19/Oct/2019 16:59:32] \"OPTIONS /getSurveyEntries HTTP/1.1\" 200 -\n"
     ]
    },
    {
     "name": "stdout",
     "output_type": "stream",
     "text": [
      "{u'surveyName': u'Testing Survey'}\n"
     ]
    },
    {
     "name": "stderr",
     "output_type": "stream",
     "text": [
      "127.0.0.1 - - [19/Oct/2019 16:59:32] \"POST /getSurvey HTTP/1.1\" 200 -\n",
      "127.0.0.1 - - [19/Oct/2019 16:59:32] \"POST /getSurvey HTTP/1.1\" 200 -\n",
      "127.0.0.1 - - [19/Oct/2019 16:59:32] \"POST /getSurveyEntries HTTP/1.1\" 200 -\n",
      "127.0.0.1 - - [19/Oct/2019 16:59:43] \"OPTIONS /getSurvey HTTP/1.1\" 200 -\n",
      "127.0.0.1 - - [19/Oct/2019 16:59:43] \"OPTIONS /getSurveyEntries HTTP/1.1\" 200 -\n"
     ]
    },
    {
     "name": "stdout",
     "output_type": "stream",
     "text": [
      "{u'surveyName': u'Testing Survey'}\n"
     ]
    },
    {
     "name": "stderr",
     "output_type": "stream",
     "text": [
      "127.0.0.1 - - [19/Oct/2019 16:59:44] \"POST /getSurveyEntries HTTP/1.1\" 200 -\n",
      "127.0.0.1 - - [19/Oct/2019 16:59:44] \"POST /getSurvey HTTP/1.1\" 200 -\n",
      "127.0.0.1 - - [19/Oct/2019 17:00:02] \"OPTIONS /getSurvey HTTP/1.1\" 200 -\n",
      "127.0.0.1 - - [19/Oct/2019 17:00:02] \"OPTIONS /getSurvey HTTP/1.1\" 200 -\n",
      "127.0.0.1 - - [19/Oct/2019 17:00:02] \"OPTIONS /getSurveyEntries HTTP/1.1\" 200 -\n",
      "127.0.0.1 - - [19/Oct/2019 17:00:03] \"POST /getSurvey HTTP/1.1\" 200 -\n"
     ]
    },
    {
     "name": "stdout",
     "output_type": "stream",
     "text": [
      "{u'surveyName': u'Testing Survey'}\n"
     ]
    },
    {
     "name": "stderr",
     "output_type": "stream",
     "text": [
      "127.0.0.1 - - [19/Oct/2019 17:00:03] \"POST /getSurvey HTTP/1.1\" 200 -\n",
      "127.0.0.1 - - [19/Oct/2019 17:00:03] \"POST /getSurveyEntries HTTP/1.1\" 200 -\n",
      "127.0.0.1 - - [19/Oct/2019 17:00:23] \"OPTIONS /getSurvey HTTP/1.1\" 200 -\n",
      "127.0.0.1 - - [19/Oct/2019 17:00:24] \"OPTIONS /getSurvey HTTP/1.1\" 200 -\n",
      "127.0.0.1 - - [19/Oct/2019 17:00:24] \"OPTIONS /getSurveyEntries HTTP/1.1\" 200 -\n"
     ]
    },
    {
     "name": "stdout",
     "output_type": "stream",
     "text": [
      "{u'surveyName': u'Testing Survey'}\n"
     ]
    },
    {
     "name": "stderr",
     "output_type": "stream",
     "text": [
      "127.0.0.1 - - [19/Oct/2019 17:00:24] \"POST /getSurvey HTTP/1.1\" 200 -\n",
      "127.0.0.1 - - [19/Oct/2019 17:00:24] \"POST /getSurvey HTTP/1.1\" 200 -\n",
      "127.0.0.1 - - [19/Oct/2019 17:00:24] \"POST /getSurveyEntries HTTP/1.1\" 200 -\n",
      "127.0.0.1 - - [19/Oct/2019 17:00:35] \"OPTIONS /getSurvey HTTP/1.1\" 200 -\n",
      "127.0.0.1 - - [19/Oct/2019 17:00:36] \"OPTIONS /getSurvey HTTP/1.1\" 200 -\n",
      "127.0.0.1 - - [19/Oct/2019 17:00:36] \"POST /getSurvey HTTP/1.1\" 200 -\n",
      "127.0.0.1 - - [19/Oct/2019 17:00:36] \"OPTIONS /getSurveyEntries HTTP/1.1\" 200 -\n"
     ]
    },
    {
     "name": "stdout",
     "output_type": "stream",
     "text": [
      "{u'surveyName': u'Testing Survey'}\n"
     ]
    },
    {
     "name": "stderr",
     "output_type": "stream",
     "text": [
      "127.0.0.1 - - [19/Oct/2019 17:00:37] \"POST /getSurveyEntries HTTP/1.1\" 200 -\n",
      "127.0.0.1 - - [19/Oct/2019 17:00:37] \"POST /getSurvey HTTP/1.1\" 200 -\n",
      "127.0.0.1 - - [19/Oct/2019 17:01:16] \"OPTIONS /getSurvey HTTP/1.1\" 200 -\n",
      "127.0.0.1 - - [19/Oct/2019 17:01:16] \"OPTIONS /getSurvey HTTP/1.1\" 200 -\n",
      "127.0.0.1 - - [19/Oct/2019 17:01:16] \"OPTIONS /getSurveyEntries HTTP/1.1\" 200 -\n"
     ]
    },
    {
     "name": "stdout",
     "output_type": "stream",
     "text": [
      "{u'surveyName': u'Testing Survey'}\n"
     ]
    },
    {
     "name": "stderr",
     "output_type": "stream",
     "text": [
      "127.0.0.1 - - [19/Oct/2019 17:01:16] \"POST /getSurvey HTTP/1.1\" 200 -\n",
      "127.0.0.1 - - [19/Oct/2019 17:01:16] \"POST /getSurveyEntries HTTP/1.1\" 200 -\n",
      "127.0.0.1 - - [19/Oct/2019 17:01:16] \"POST /getSurvey HTTP/1.1\" 200 -\n",
      "127.0.0.1 - - [19/Oct/2019 17:02:23] \"OPTIONS /getSurvey HTTP/1.1\" 200 -\n",
      "127.0.0.1 - - [19/Oct/2019 17:02:23] \"OPTIONS /getSurveyEntries HTTP/1.1\" 200 -\n",
      "127.0.0.1 - - [19/Oct/2019 17:02:23] \"OPTIONS /getSurvey HTTP/1.1\" 200 -\n"
     ]
    },
    {
     "name": "stdout",
     "output_type": "stream",
     "text": [
      "{u'surveyName': u'Testing Survey'}\n"
     ]
    },
    {
     "name": "stderr",
     "output_type": "stream",
     "text": [
      "127.0.0.1 - - [19/Oct/2019 17:02:24] \"POST /getSurvey HTTP/1.1\" 200 -\n",
      "127.0.0.1 - - [19/Oct/2019 17:02:24] \"POST /getSurveyEntries HTTP/1.1\" 200 -\n",
      "127.0.0.1 - - [19/Oct/2019 17:02:24] \"POST /getSurvey HTTP/1.1\" 200 -\n",
      "127.0.0.1 - - [19/Oct/2019 17:06:28] \"OPTIONS /getSurvey HTTP/1.1\" 200 -\n",
      "127.0.0.1 - - [19/Oct/2019 17:06:28] \"OPTIONS /getSurveyEntries HTTP/1.1\" 200 -\n"
     ]
    },
    {
     "name": "stdout",
     "output_type": "stream",
     "text": [
      "{u'surveyName': u'Testing Survey'}\n"
     ]
    },
    {
     "name": "stderr",
     "output_type": "stream",
     "text": [
      "127.0.0.1 - - [19/Oct/2019 17:06:28] \"POST /getSurveyEntries HTTP/1.1\" 200 -\n",
      "127.0.0.1 - - [19/Oct/2019 17:06:28] \"POST /getSurvey HTTP/1.1\" 200 -\n",
      "127.0.0.1 - - [19/Oct/2019 17:10:12] \"OPTIONS /getSurvey HTTP/1.1\" 200 -\n",
      "127.0.0.1 - - [19/Oct/2019 17:10:12] \"OPTIONS /getSurvey HTTP/1.1\" 200 -\n",
      "127.0.0.1 - - [19/Oct/2019 17:10:12] \"OPTIONS /getSurveyEntries HTTP/1.1\" 200 -\n"
     ]
    },
    {
     "name": "stdout",
     "output_type": "stream",
     "text": [
      "{u'surveyName': u'Testing Survey'}\n"
     ]
    },
    {
     "name": "stderr",
     "output_type": "stream",
     "text": [
      "127.0.0.1 - - [19/Oct/2019 17:10:12] \"POST /getSurvey HTTP/1.1\" 200 -\n",
      "127.0.0.1 - - [19/Oct/2019 17:10:12] \"POST /getSurveyEntries HTTP/1.1\" 200 -\n",
      "127.0.0.1 - - [19/Oct/2019 17:10:12] \"POST /getSurvey HTTP/1.1\" 200 -\n",
      "127.0.0.1 - - [19/Oct/2019 17:11:25] \"OPTIONS /getSurvey HTTP/1.1\" 200 -\n",
      "127.0.0.1 - - [19/Oct/2019 17:11:25] \"OPTIONS /getSurvey HTTP/1.1\" 200 -\n",
      "127.0.0.1 - - [19/Oct/2019 17:11:25] \"OPTIONS /getSurveyEntries HTTP/1.1\" 200 -\n"
     ]
    },
    {
     "name": "stdout",
     "output_type": "stream",
     "text": [
      "{u'surveyName': u'Testing Survey'}\n"
     ]
    },
    {
     "name": "stderr",
     "output_type": "stream",
     "text": [
      "127.0.0.1 - - [19/Oct/2019 17:11:26] \"POST /getSurvey HTTP/1.1\" 200 -\n",
      "127.0.0.1 - - [19/Oct/2019 17:11:26] \"POST /getSurvey HTTP/1.1\" 200 -\n",
      "127.0.0.1 - - [19/Oct/2019 17:11:26] \"POST /getSurveyEntries HTTP/1.1\" 200 -\n",
      "127.0.0.1 - - [19/Oct/2019 17:11:40] \"OPTIONS /getSurvey HTTP/1.1\" 200 -\n",
      "127.0.0.1 - - [19/Oct/2019 17:11:41] \"OPTIONS /getSurvey HTTP/1.1\" 200 -\n",
      "127.0.0.1 - - [19/Oct/2019 17:11:41] \"OPTIONS /getSurveyEntries HTTP/1.1\" 200 -\n"
     ]
    },
    {
     "name": "stdout",
     "output_type": "stream",
     "text": [
      "{u'surveyName': u'Testing Survey'}\n"
     ]
    },
    {
     "name": "stderr",
     "output_type": "stream",
     "text": [
      "127.0.0.1 - - [19/Oct/2019 17:11:41] \"POST /getSurvey HTTP/1.1\" 200 -\n",
      "127.0.0.1 - - [19/Oct/2019 17:11:41] \"POST /getSurveyEntries HTTP/1.1\" 200 -\n",
      "127.0.0.1 - - [19/Oct/2019 17:11:41] \"POST /getSurvey HTTP/1.1\" 200 -\n",
      "127.0.0.1 - - [19/Oct/2019 17:11:49] \"OPTIONS /getSurvey HTTP/1.1\" 200 -\n",
      "127.0.0.1 - - [19/Oct/2019 17:11:49] \"OPTIONS /getSurveyEntries HTTP/1.1\" 200 -\n"
     ]
    },
    {
     "name": "stdout",
     "output_type": "stream",
     "text": [
      "{u'surveyName': u'Testing Survey'}\n"
     ]
    },
    {
     "name": "stderr",
     "output_type": "stream",
     "text": [
      "127.0.0.1 - - [19/Oct/2019 17:11:50] \"POST /getSurveyEntries HTTP/1.1\" 200 -\n",
      "127.0.0.1 - - [19/Oct/2019 17:11:50] \"POST /getSurvey HTTP/1.1\" 200 -\n",
      "127.0.0.1 - - [19/Oct/2019 17:13:01] \"OPTIONS /getSurvey HTTP/1.1\" 200 -\n",
      "127.0.0.1 - - [19/Oct/2019 17:13:01] \"OPTIONS /getSurvey HTTP/1.1\" 200 -\n",
      "127.0.0.1 - - [19/Oct/2019 17:13:01] \"OPTIONS /getSurveyEntries HTTP/1.1\" 200 -\n"
     ]
    },
    {
     "name": "stdout",
     "output_type": "stream",
     "text": [
      "{u'surveyName': u'Testing Survey'}\n"
     ]
    },
    {
     "name": "stderr",
     "output_type": "stream",
     "text": [
      "127.0.0.1 - - [19/Oct/2019 17:13:01] \"POST /getSurveyEntries HTTP/1.1\" 200 -\n",
      "127.0.0.1 - - [19/Oct/2019 17:13:01] \"POST /getSurvey HTTP/1.1\" 200 -\n",
      "127.0.0.1 - - [19/Oct/2019 17:13:01] \"POST /getSurvey HTTP/1.1\" 200 -\n",
      "127.0.0.1 - - [19/Oct/2019 17:13:49] \"OPTIONS /getSurvey HTTP/1.1\" 200 -\n",
      "127.0.0.1 - - [19/Oct/2019 17:13:49] \"OPTIONS /getSurvey HTTP/1.1\" 200 -\n",
      "127.0.0.1 - - [19/Oct/2019 17:13:49] \"OPTIONS /getSurveyEntries HTTP/1.1\" 200 -\n"
     ]
    },
    {
     "name": "stdout",
     "output_type": "stream",
     "text": [
      "{u'surveyName': u'Testing Survey'}\n"
     ]
    },
    {
     "name": "stderr",
     "output_type": "stream",
     "text": [
      "127.0.0.1 - - [19/Oct/2019 17:13:49] \"POST /getSurveyEntries HTTP/1.1\" 200 -\n",
      "127.0.0.1 - - [19/Oct/2019 17:13:49] \"POST /getSurvey HTTP/1.1\" 200 -\n",
      "127.0.0.1 - - [19/Oct/2019 17:13:49] \"POST /getSurvey HTTP/1.1\" 200 -\n",
      "127.0.0.1 - - [19/Oct/2019 17:16:41] \"OPTIONS /getSurvey HTTP/1.1\" 200 -\n",
      "127.0.0.1 - - [19/Oct/2019 17:16:41] \"OPTIONS /getSurvey HTTP/1.1\" 200 -\n",
      "127.0.0.1 - - [19/Oct/2019 17:16:41] \"OPTIONS /getSurveyEntries HTTP/1.1\" 200 -\n"
     ]
    },
    {
     "name": "stdout",
     "output_type": "stream",
     "text": [
      "{u'surveyName': u'Testing Survey'}\n"
     ]
    },
    {
     "name": "stderr",
     "output_type": "stream",
     "text": [
      "127.0.0.1 - - [19/Oct/2019 17:16:42] \"POST /getSurvey HTTP/1.1\" 200 -\n",
      "127.0.0.1 - - [19/Oct/2019 17:16:42] \"POST /getSurvey HTTP/1.1\" 200 -\n",
      "127.0.0.1 - - [19/Oct/2019 17:16:42] \"POST /getSurveyEntries HTTP/1.1\" 200 -\n",
      "127.0.0.1 - - [19/Oct/2019 17:19:26] \"OPTIONS /getSurvey HTTP/1.1\" 200 -\n",
      "127.0.0.1 - - [19/Oct/2019 17:19:26] \"OPTIONS /getSurvey HTTP/1.1\" 200 -\n",
      "127.0.0.1 - - [19/Oct/2019 17:19:26] \"OPTIONS /getSurveyEntries HTTP/1.1\" 200 -\n",
      "127.0.0.1 - - [19/Oct/2019 17:19:27] \"POST /getSurvey HTTP/1.1\" 200 -\n"
     ]
    },
    {
     "name": "stdout",
     "output_type": "stream",
     "text": [
      "{u'surveyName': u'Testing Survey'}\n"
     ]
    },
    {
     "name": "stderr",
     "output_type": "stream",
     "text": [
      "127.0.0.1 - - [19/Oct/2019 17:19:27] \"POST /getSurveyEntries HTTP/1.1\" 200 -\n",
      "127.0.0.1 - - [19/Oct/2019 17:19:27] \"POST /getSurvey HTTP/1.1\" 200 -\n",
      "127.0.0.1 - - [19/Oct/2019 17:20:50] \"OPTIONS /getSurvey HTTP/1.1\" 200 -\n",
      "127.0.0.1 - - [19/Oct/2019 17:20:50] \"OPTIONS /getSurvey HTTP/1.1\" 200 -\n",
      "127.0.0.1 - - [19/Oct/2019 17:20:50] \"OPTIONS /getSurveyEntries HTTP/1.1\" 200 -\n",
      "127.0.0.1 - - [19/Oct/2019 17:20:51] \"POST /getSurvey HTTP/1.1\" 200 -\n"
     ]
    },
    {
     "name": "stdout",
     "output_type": "stream",
     "text": [
      "{u'surveyName': u'Testing Survey'}\n"
     ]
    },
    {
     "name": "stderr",
     "output_type": "stream",
     "text": [
      "127.0.0.1 - - [19/Oct/2019 17:20:51] \"POST /getSurvey HTTP/1.1\" 200 -\n",
      "127.0.0.1 - - [19/Oct/2019 17:20:51] \"POST /getSurveyEntries HTTP/1.1\" 200 -\n",
      "127.0.0.1 - - [19/Oct/2019 17:21:33] \"OPTIONS /getSurvey HTTP/1.1\" 200 -\n",
      "127.0.0.1 - - [19/Oct/2019 17:21:33] \"OPTIONS /getSurveyEntries HTTP/1.1\" 200 -\n",
      "127.0.0.1 - - [19/Oct/2019 17:21:33] \"OPTIONS /getSurvey HTTP/1.1\" 200 -\n"
     ]
    },
    {
     "name": "stdout",
     "output_type": "stream",
     "text": [
      "{u'surveyName': u'Testing Survey'}\n"
     ]
    },
    {
     "name": "stderr",
     "output_type": "stream",
     "text": [
      "127.0.0.1 - - [19/Oct/2019 17:21:34] \"POST /getSurvey HTTP/1.1\" 200 -\n",
      "127.0.0.1 - - [19/Oct/2019 17:21:34] \"POST /getSurveyEntries HTTP/1.1\" 200 -\n",
      "127.0.0.1 - - [19/Oct/2019 17:21:34] \"POST /getSurvey HTTP/1.1\" 200 -\n",
      "127.0.0.1 - - [19/Oct/2019 17:22:03] \"OPTIONS /getSurvey HTTP/1.1\" 200 -\n",
      "127.0.0.1 - - [19/Oct/2019 17:22:03] \"OPTIONS /getSurvey HTTP/1.1\" 200 -\n",
      "127.0.0.1 - - [19/Oct/2019 17:22:03] \"OPTIONS /getSurveyEntries HTTP/1.1\" 200 -\n"
     ]
    },
    {
     "name": "stdout",
     "output_type": "stream",
     "text": [
      "{u'surveyName': u'Testing Survey'}\n"
     ]
    },
    {
     "name": "stderr",
     "output_type": "stream",
     "text": [
      "127.0.0.1 - - [19/Oct/2019 17:22:03] \"POST /getSurvey HTTP/1.1\" 200 -\n",
      "127.0.0.1 - - [19/Oct/2019 17:22:03] \"POST /getSurveyEntries HTTP/1.1\" 200 -\n",
      "127.0.0.1 - - [19/Oct/2019 17:22:03] \"POST /getSurvey HTTP/1.1\" 200 -\n",
      "127.0.0.1 - - [19/Oct/2019 17:22:17] \"OPTIONS /getSurvey HTTP/1.1\" 200 -\n",
      "127.0.0.1 - - [19/Oct/2019 17:22:17] \"OPTIONS /getSurvey HTTP/1.1\" 200 -\n",
      "127.0.0.1 - - [19/Oct/2019 17:22:17] \"OPTIONS /getSurveyEntries HTTP/1.1\" 200 -\n"
     ]
    },
    {
     "name": "stdout",
     "output_type": "stream",
     "text": [
      "{u'surveyName': u'Testing Survey'}\n"
     ]
    },
    {
     "name": "stderr",
     "output_type": "stream",
     "text": [
      "127.0.0.1 - - [19/Oct/2019 17:22:18] \"POST /getSurvey HTTP/1.1\" 200 -\n",
      "127.0.0.1 - - [19/Oct/2019 17:22:18] \"POST /getSurveyEntries HTTP/1.1\" 200 -\n",
      "127.0.0.1 - - [19/Oct/2019 17:22:18] \"POST /getSurvey HTTP/1.1\" 200 -\n",
      "127.0.0.1 - - [19/Oct/2019 17:30:50] \"OPTIONS /getSurvey HTTP/1.1\" 200 -\n",
      "127.0.0.1 - - [19/Oct/2019 17:30:50] \"OPTIONS /getSurvey HTTP/1.1\" 200 -\n",
      "127.0.0.1 - - [19/Oct/2019 17:30:50] \"OPTIONS /getSurveyEntries HTTP/1.1\" 200 -\n"
     ]
    },
    {
     "name": "stdout",
     "output_type": "stream",
     "text": [
      "{u'surveyName': u'Testing Survey'}\n"
     ]
    },
    {
     "name": "stderr",
     "output_type": "stream",
     "text": [
      "127.0.0.1 - - [19/Oct/2019 17:30:50] \"POST /getSurvey HTTP/1.1\" 200 -\n",
      "127.0.0.1 - - [19/Oct/2019 17:30:50] \"POST /getSurveyEntries HTTP/1.1\" 200 -\n",
      "127.0.0.1 - - [19/Oct/2019 17:30:50] \"POST /getSurvey HTTP/1.1\" 200 -\n",
      "127.0.0.1 - - [19/Oct/2019 17:55:52] \"OPTIONS /getSurvey HTTP/1.1\" 200 -\n",
      "127.0.0.1 - - [19/Oct/2019 17:55:53] \"POST /getSurvey HTTP/1.1\" 200 -\n",
      "127.0.0.1 - - [19/Oct/2019 17:57:01] \"OPTIONS /getSurvey HTTP/1.1\" 200 -\n",
      "127.0.0.1 - - [19/Oct/2019 17:57:02] \"POST /getSurvey HTTP/1.1\" 200 -\n",
      "127.0.0.1 - - [19/Oct/2019 17:58:22] \"OPTIONS /getSurvey HTTP/1.1\" 200 -\n",
      "127.0.0.1 - - [19/Oct/2019 17:58:23] \"POST /getSurvey HTTP/1.1\" 200 -\n",
      "127.0.0.1 - - [19/Oct/2019 17:58:27] \"POST /getSurvey HTTP/1.1\" 200 -\n",
      "127.0.0.1 - - [19/Oct/2019 17:58:39] \"OPTIONS /getSurvey HTTP/1.1\" 200 -\n",
      "127.0.0.1 - - [19/Oct/2019 17:58:40] \"POST /getSurvey HTTP/1.1\" 200 -\n",
      "127.0.0.1 - - [19/Oct/2019 17:58:52] \"OPTIONS /getSurvey HTTP/1.1\" 200 -\n",
      "127.0.0.1 - - [19/Oct/2019 17:58:53] \"POST /getSurvey HTTP/1.1\" 200 -\n",
      "127.0.0.1 - - [19/Oct/2019 17:58:58] \"OPTIONS /getSurvey HTTP/1.1\" 200 -\n",
      "127.0.0.1 - - [19/Oct/2019 17:58:58] \"POST /getSurvey HTTP/1.1\" 200 -\n",
      "127.0.0.1 - - [19/Oct/2019 18:00:30] \"OPTIONS /getSurvey HTTP/1.1\" 200 -\n",
      "127.0.0.1 - - [19/Oct/2019 18:00:31] \"POST /getSurvey HTTP/1.1\" 200 -\n",
      "127.0.0.1 - - [19/Oct/2019 18:00:36] \"OPTIONS /getSurvey HTTP/1.1\" 200 -\n",
      "127.0.0.1 - - [19/Oct/2019 18:00:37] \"POST /getSurvey HTTP/1.1\" 200 -\n",
      "127.0.0.1 - - [19/Oct/2019 18:00:50] \"OPTIONS /getUserSurveys HTTP/1.1\" 200 -\n",
      "127.0.0.1 - - [19/Oct/2019 18:00:50] \"POST /getUserSurveys HTTP/1.1\" 200 -\n",
      "127.0.0.1 - - [19/Oct/2019 18:00:51] \"OPTIONS /getSurvey HTTP/1.1\" 200 -\n",
      "127.0.0.1 - - [19/Oct/2019 18:00:51] \"OPTIONS /getSurveyEntries HTTP/1.1\" 200 -\n"
     ]
    },
    {
     "name": "stdout",
     "output_type": "stream",
     "text": [
      "{u'surveyName': u'Testing Survey'}\n"
     ]
    },
    {
     "name": "stderr",
     "output_type": "stream",
     "text": [
      "127.0.0.1 - - [19/Oct/2019 18:00:52] \"POST /getSurveyEntries HTTP/1.1\" 200 -\n",
      "127.0.0.1 - - [19/Oct/2019 18:00:52] \"POST /getSurvey HTTP/1.1\" 200 -\n",
      "127.0.0.1 - - [19/Oct/2019 18:02:39] \"OPTIONS /getSurvey HTTP/1.1\" 200 -\n",
      "127.0.0.1 - - [19/Oct/2019 18:02:40] \"OPTIONS /getSurveyEntries HTTP/1.1\" 200 -\n",
      "127.0.0.1 - - [19/Oct/2019 18:02:40] \"OPTIONS /getSurvey HTTP/1.1\" 200 -\n"
     ]
    },
    {
     "name": "stdout",
     "output_type": "stream",
     "text": [
      "{u'surveyName': u'Testing Survey'}\n"
     ]
    },
    {
     "name": "stderr",
     "output_type": "stream",
     "text": [
      "127.0.0.1 - - [19/Oct/2019 18:02:40] \"POST /getSurvey HTTP/1.1\" 200 -\n",
      "127.0.0.1 - - [19/Oct/2019 18:02:40] \"POST /getSurvey HTTP/1.1\" 200 -\n",
      "127.0.0.1 - - [19/Oct/2019 18:02:40] \"POST /getSurveyEntries HTTP/1.1\" 200 -\n",
      "127.0.0.1 - - [19/Oct/2019 18:02:58] \"OPTIONS /getSurvey HTTP/1.1\" 200 -\n",
      "127.0.0.1 - - [19/Oct/2019 18:02:58] \"OPTIONS /getSurvey HTTP/1.1\" 200 -\n",
      "127.0.0.1 - - [19/Oct/2019 18:02:58] \"OPTIONS /getSurveyEntries HTTP/1.1\" 200 -\n"
     ]
    },
    {
     "name": "stdout",
     "output_type": "stream",
     "text": [
      "{u'surveyName': u'Testing Survey'}\n"
     ]
    },
    {
     "name": "stderr",
     "output_type": "stream",
     "text": [
      "127.0.0.1 - - [19/Oct/2019 18:02:59] \"POST /getSurveyEntries HTTP/1.1\" 200 -\n",
      "127.0.0.1 - - [19/Oct/2019 18:02:59] \"POST /getSurvey HTTP/1.1\" 200 -\n",
      "127.0.0.1 - - [19/Oct/2019 18:02:59] \"POST /getSurvey HTTP/1.1\" 200 -\n",
      "127.0.0.1 - - [19/Oct/2019 18:04:02] \"OPTIONS /getSurvey HTTP/1.1\" 200 -\n",
      "127.0.0.1 - - [19/Oct/2019 18:04:02] \"OPTIONS /getSurveyEntries HTTP/1.1\" 200 -\n",
      "127.0.0.1 - - [19/Oct/2019 18:04:02] \"OPTIONS /getSurvey HTTP/1.1\" 200 -\n"
     ]
    },
    {
     "name": "stdout",
     "output_type": "stream",
     "text": [
      "{u'surveyName': u'Testing Survey'}\n"
     ]
    },
    {
     "name": "stderr",
     "output_type": "stream",
     "text": [
      "127.0.0.1 - - [19/Oct/2019 18:04:02] \"POST /getSurvey HTTP/1.1\" 200 -\n",
      "127.0.0.1 - - [19/Oct/2019 18:04:02] \"POST /getSurveyEntries HTTP/1.1\" 200 -\n",
      "127.0.0.1 - - [19/Oct/2019 18:04:02] \"POST /getSurvey HTTP/1.1\" 200 -\n",
      "127.0.0.1 - - [19/Oct/2019 18:06:49] \"OPTIONS /getSurvey HTTP/1.1\" 200 -\n",
      "127.0.0.1 - - [19/Oct/2019 18:06:49] \"OPTIONS /getSurvey HTTP/1.1\" 200 -\n",
      "127.0.0.1 - - [19/Oct/2019 18:06:49] \"OPTIONS /getSurveyEntries HTTP/1.1\" 200 -\n"
     ]
    },
    {
     "name": "stdout",
     "output_type": "stream",
     "text": [
      "{u'surveyName': u'Testing Survey'}\n"
     ]
    },
    {
     "name": "stderr",
     "output_type": "stream",
     "text": [
      "127.0.0.1 - - [19/Oct/2019 18:06:50] \"POST /getSurvey HTTP/1.1\" 200 -\n",
      "127.0.0.1 - - [19/Oct/2019 18:06:50] \"POST /getSurveyEntries HTTP/1.1\" 200 -\n",
      "127.0.0.1 - - [19/Oct/2019 18:06:50] \"POST /getSurvey HTTP/1.1\" 200 -\n",
      "127.0.0.1 - - [19/Oct/2019 18:06:55] \"OPTIONS /getSurvey HTTP/1.1\" 200 -\n",
      "127.0.0.1 - - [19/Oct/2019 18:06:55] \"OPTIONS /getSurvey HTTP/1.1\" 200 -\n",
      "127.0.0.1 - - [19/Oct/2019 18:06:55] \"OPTIONS /getSurveyEntries HTTP/1.1\" 200 -\n"
     ]
    },
    {
     "name": "stdout",
     "output_type": "stream",
     "text": [
      "{u'surveyName': u'Testing Survey'}\n"
     ]
    },
    {
     "name": "stderr",
     "output_type": "stream",
     "text": [
      "127.0.0.1 - - [19/Oct/2019 18:06:55] \"POST /getSurvey HTTP/1.1\" 200 -\n",
      "127.0.0.1 - - [19/Oct/2019 18:06:55] \"POST /getSurveyEntries HTTP/1.1\" 200 -\n",
      "127.0.0.1 - - [19/Oct/2019 18:06:55] \"POST /getSurvey HTTP/1.1\" 200 -\n",
      "127.0.0.1 - - [19/Oct/2019 18:07:08] \"OPTIONS /getSurvey HTTP/1.1\" 200 -\n",
      "127.0.0.1 - - [19/Oct/2019 18:07:08] \"OPTIONS /getSurveyEntries HTTP/1.1\" 200 -\n",
      "127.0.0.1 - - [19/Oct/2019 18:07:08] \"OPTIONS /getSurvey HTTP/1.1\" 200 -\n"
     ]
    },
    {
     "name": "stdout",
     "output_type": "stream",
     "text": [
      "{u'surveyName': u'Testing Survey'}\n"
     ]
    },
    {
     "name": "stderr",
     "output_type": "stream",
     "text": [
      "127.0.0.1 - - [19/Oct/2019 18:07:09] \"POST /getSurvey HTTP/1.1\" 200 -\n",
      "127.0.0.1 - - [19/Oct/2019 18:07:09] \"POST /getSurveyEntries HTTP/1.1\" 200 -\n",
      "127.0.0.1 - - [19/Oct/2019 18:07:09] \"POST /getSurvey HTTP/1.1\" 200 -\n",
      "127.0.0.1 - - [19/Oct/2019 18:08:44] \"OPTIONS /getSurvey HTTP/1.1\" 200 -\n",
      "127.0.0.1 - - [19/Oct/2019 18:08:44] \"OPTIONS /getSurveyEntries HTTP/1.1\" 200 -\n",
      "127.0.0.1 - - [19/Oct/2019 18:08:44] \"OPTIONS /getSurvey HTTP/1.1\" 200 -\n"
     ]
    },
    {
     "name": "stdout",
     "output_type": "stream",
     "text": [
      "{u'surveyName': u'Testing Survey'}\n"
     ]
    },
    {
     "name": "stderr",
     "output_type": "stream",
     "text": [
      "127.0.0.1 - - [19/Oct/2019 18:08:44] \"POST /getSurvey HTTP/1.1\" 200 -\n",
      "127.0.0.1 - - [19/Oct/2019 18:08:44] \"POST /getSurveyEntries HTTP/1.1\" 200 -\n",
      "127.0.0.1 - - [19/Oct/2019 18:08:44] \"POST /getSurvey HTTP/1.1\" 200 -\n",
      "127.0.0.1 - - [19/Oct/2019 18:09:23] \"OPTIONS /getSurvey HTTP/1.1\" 200 -\n",
      "127.0.0.1 - - [19/Oct/2019 18:09:23] \"OPTIONS /getSurvey HTTP/1.1\" 200 -\n",
      "127.0.0.1 - - [19/Oct/2019 18:09:23] \"OPTIONS /getSurveyEntries HTTP/1.1\" 200 -\n"
     ]
    },
    {
     "name": "stdout",
     "output_type": "stream",
     "text": [
      "{u'surveyName': u'Testing Survey'}\n"
     ]
    },
    {
     "name": "stderr",
     "output_type": "stream",
     "text": [
      "127.0.0.1 - - [19/Oct/2019 18:09:24] \"POST /getSurvey HTTP/1.1\" 200 -\n",
      "127.0.0.1 - - [19/Oct/2019 18:09:24] \"POST /getSurveyEntries HTTP/1.1\" 200 -\n",
      "127.0.0.1 - - [19/Oct/2019 18:09:24] \"POST /getSurvey HTTP/1.1\" 200 -\n",
      "127.0.0.1 - - [19/Oct/2019 18:09:41] \"OPTIONS /getSurvey HTTP/1.1\" 200 -\n",
      "127.0.0.1 - - [19/Oct/2019 18:09:42] \"POST /getSurvey HTTP/1.1\" 200 -\n",
      "127.0.0.1 - - [19/Oct/2019 18:09:42] \"OPTIONS /getSurvey HTTP/1.1\" 200 -\n",
      "127.0.0.1 - - [19/Oct/2019 18:09:42] \"OPTIONS /getSurveyEntries HTTP/1.1\" 200 -\n"
     ]
    },
    {
     "name": "stdout",
     "output_type": "stream",
     "text": [
      "{u'surveyName': u'Testing Survey'}\n"
     ]
    },
    {
     "name": "stderr",
     "output_type": "stream",
     "text": [
      "127.0.0.1 - - [19/Oct/2019 18:09:42] \"POST /getSurveyEntries HTTP/1.1\" 200 -\n",
      "127.0.0.1 - - [19/Oct/2019 18:09:42] \"POST /getSurvey HTTP/1.1\" 200 -\n",
      "127.0.0.1 - - [19/Oct/2019 18:10:40] \"OPTIONS /getSurvey HTTP/1.1\" 200 -\n",
      "127.0.0.1 - - [19/Oct/2019 18:10:40] \"POST /getSurvey HTTP/1.1\" 200 -\n",
      "127.0.0.1 - - [19/Oct/2019 18:11:06] \"OPTIONS /getSurvey HTTP/1.1\" 200 -\n",
      "127.0.0.1 - - [19/Oct/2019 18:11:07] \"POST /getSurvey HTTP/1.1\" 200 -\n",
      "127.0.0.1 - - [19/Oct/2019 18:13:07] \"OPTIONS /getSurvey HTTP/1.1\" 200 -\n",
      "127.0.0.1 - - [19/Oct/2019 18:13:08] \"OPTIONS /getSurvey HTTP/1.1\" 200 -\n",
      "127.0.0.1 - - [19/Oct/2019 18:13:08] \"OPTIONS /getSurveyEntries HTTP/1.1\" 200 -\n"
     ]
    },
    {
     "name": "stdout",
     "output_type": "stream",
     "text": [
      "{u'surveyName': u'Testing Survey'}\n"
     ]
    },
    {
     "name": "stderr",
     "output_type": "stream",
     "text": [
      "127.0.0.1 - - [19/Oct/2019 18:13:11] \"POST /getSurvey HTTP/1.1\" 200 -\n",
      "127.0.0.1 - - [19/Oct/2019 18:13:12] \"POST /getSurvey HTTP/1.1\" 200 -\n",
      "127.0.0.1 - - [19/Oct/2019 18:13:12] \"POST /getSurveyEntries HTTP/1.1\" 200 -\n",
      "127.0.0.1 - - [19/Oct/2019 18:13:31] \"OPTIONS /getSurvey HTTP/1.1\" 200 -\n",
      "127.0.0.1 - - [19/Oct/2019 18:13:31] \"OPTIONS /getSurvey HTTP/1.1\" 200 -\n",
      "127.0.0.1 - - [19/Oct/2019 18:13:31] \"OPTIONS /getSurveyEntries HTTP/1.1\" 200 -\n"
     ]
    },
    {
     "name": "stdout",
     "output_type": "stream",
     "text": [
      "{u'surveyName': u'Testing Survey'}\n"
     ]
    },
    {
     "name": "stderr",
     "output_type": "stream",
     "text": [
      "127.0.0.1 - - [19/Oct/2019 18:13:32] \"POST /getSurvey HTTP/1.1\" 200 -\n",
      "127.0.0.1 - - [19/Oct/2019 18:13:32] \"POST /getSurveyEntries HTTP/1.1\" 200 -\n",
      "127.0.0.1 - - [19/Oct/2019 18:13:32] \"POST /getSurvey HTTP/1.1\" 200 -\n",
      "127.0.0.1 - - [19/Oct/2019 18:13:55] \"OPTIONS /getSurvey HTTP/1.1\" 200 -\n",
      "127.0.0.1 - - [19/Oct/2019 18:13:55] \"OPTIONS /getSurvey HTTP/1.1\" 200 -\n",
      "127.0.0.1 - - [19/Oct/2019 18:13:55] \"OPTIONS /getSurveyEntries HTTP/1.1\" 200 -\n"
     ]
    },
    {
     "name": "stdout",
     "output_type": "stream",
     "text": [
      "{u'surveyName': u'Testing Survey'}\n"
     ]
    },
    {
     "name": "stderr",
     "output_type": "stream",
     "text": [
      "127.0.0.1 - - [19/Oct/2019 18:13:56] \"POST /getSurvey HTTP/1.1\" 200 -\n",
      "127.0.0.1 - - [19/Oct/2019 18:13:56] \"POST /getSurveyEntries HTTP/1.1\" 200 -\n",
      "127.0.0.1 - - [19/Oct/2019 18:13:56] \"POST /getSurvey HTTP/1.1\" 200 -\n",
      "127.0.0.1 - - [19/Oct/2019 18:14:07] \"OPTIONS /getSurvey HTTP/1.1\" 200 -\n",
      "127.0.0.1 - - [19/Oct/2019 18:14:07] \"OPTIONS /getSurvey HTTP/1.1\" 200 -\n",
      "127.0.0.1 - - [19/Oct/2019 18:14:07] \"OPTIONS /getSurveyEntries HTTP/1.1\" 200 -\n"
     ]
    },
    {
     "name": "stdout",
     "output_type": "stream",
     "text": [
      "{u'surveyName': u'Testing Survey'}\n"
     ]
    },
    {
     "name": "stderr",
     "output_type": "stream",
     "text": [
      "127.0.0.1 - - [19/Oct/2019 18:14:08] \"POST /getSurveyEntries HTTP/1.1\" 200 -\n",
      "127.0.0.1 - - [19/Oct/2019 18:14:08] \"POST /getSurvey HTTP/1.1\" 200 -\n",
      "127.0.0.1 - - [19/Oct/2019 18:14:08] \"POST /getSurvey HTTP/1.1\" 200 -\n",
      "127.0.0.1 - - [19/Oct/2019 18:15:02] \"OPTIONS /getSurvey HTTP/1.1\" 200 -\n",
      "127.0.0.1 - - [19/Oct/2019 18:15:02] \"OPTIONS /getSurveyEntries HTTP/1.1\" 200 -\n",
      "127.0.0.1 - - [19/Oct/2019 18:15:02] \"OPTIONS /getSurvey HTTP/1.1\" 200 -\n"
     ]
    },
    {
     "name": "stdout",
     "output_type": "stream",
     "text": [
      "{u'surveyName': u'Testing Survey'}\n"
     ]
    },
    {
     "name": "stderr",
     "output_type": "stream",
     "text": [
      "127.0.0.1 - - [19/Oct/2019 18:15:03] \"POST /getSurveyEntries HTTP/1.1\" 200 -\n",
      "127.0.0.1 - - [19/Oct/2019 18:15:03] \"POST /getSurvey HTTP/1.1\" 200 -\n",
      "127.0.0.1 - - [19/Oct/2019 18:15:03] \"POST /getSurvey HTTP/1.1\" 200 -\n",
      "127.0.0.1 - - [19/Oct/2019 18:15:31] \"OPTIONS /getSurvey HTTP/1.1\" 200 -\n",
      "127.0.0.1 - - [19/Oct/2019 18:15:31] \"OPTIONS /getSurvey HTTP/1.1\" 200 -\n",
      "127.0.0.1 - - [19/Oct/2019 18:15:31] \"OPTIONS /getSurveyEntries HTTP/1.1\" 200 -\n"
     ]
    },
    {
     "name": "stdout",
     "output_type": "stream",
     "text": [
      "{u'surveyName': u'Testing Survey'}\n"
     ]
    },
    {
     "name": "stderr",
     "output_type": "stream",
     "text": [
      "127.0.0.1 - - [19/Oct/2019 18:15:31] \"POST /getSurveyEntries HTTP/1.1\" 200 -\n",
      "127.0.0.1 - - [19/Oct/2019 18:15:31] \"POST /getSurvey HTTP/1.1\" 200 -\n",
      "127.0.0.1 - - [19/Oct/2019 18:15:31] \"POST /getSurvey HTTP/1.1\" 200 -\n",
      "127.0.0.1 - - [19/Oct/2019 18:15:50] \"OPTIONS /getSurvey HTTP/1.1\" 200 -\n",
      "127.0.0.1 - - [19/Oct/2019 18:15:50] \"OPTIONS /getSurveyEntries HTTP/1.1\" 200 -\n",
      "127.0.0.1 - - [19/Oct/2019 18:15:50] \"OPTIONS /getSurvey HTTP/1.1\" 200 -\n"
     ]
    },
    {
     "name": "stdout",
     "output_type": "stream",
     "text": [
      "{u'surveyName': u'Testing Survey'}\n"
     ]
    },
    {
     "name": "stderr",
     "output_type": "stream",
     "text": [
      "127.0.0.1 - - [19/Oct/2019 18:15:50] \"POST /getSurvey HTTP/1.1\" 200 -\n",
      "127.0.0.1 - - [19/Oct/2019 18:15:50] \"POST /getSurveyEntries HTTP/1.1\" 200 -\n",
      "127.0.0.1 - - [19/Oct/2019 18:15:51] \"POST /getSurvey HTTP/1.1\" 200 -\n",
      "127.0.0.1 - - [19/Oct/2019 18:16:10] \"OPTIONS /getSurvey HTTP/1.1\" 200 -\n",
      "127.0.0.1 - - [19/Oct/2019 18:16:10] \"OPTIONS /getSurveyEntries HTTP/1.1\" 200 -\n",
      "127.0.0.1 - - [19/Oct/2019 18:16:10] \"OPTIONS /getSurvey HTTP/1.1\" 200 -\n"
     ]
    },
    {
     "name": "stdout",
     "output_type": "stream",
     "text": [
      "{u'surveyName': u'Testing Survey'}\n"
     ]
    },
    {
     "name": "stderr",
     "output_type": "stream",
     "text": [
      "127.0.0.1 - - [19/Oct/2019 18:16:11] \"POST /getSurvey HTTP/1.1\" 200 -\n",
      "127.0.0.1 - - [19/Oct/2019 18:16:11] \"POST /getSurveyEntries HTTP/1.1\" 200 -\n",
      "127.0.0.1 - - [19/Oct/2019 18:16:11] \"POST /getSurvey HTTP/1.1\" 200 -\n",
      "127.0.0.1 - - [19/Oct/2019 18:16:40] \"OPTIONS /getSurvey HTTP/1.1\" 200 -\n",
      "127.0.0.1 - - [19/Oct/2019 18:16:41] \"OPTIONS /getSurvey HTTP/1.1\" 200 -\n",
      "127.0.0.1 - - [19/Oct/2019 18:16:41] \"OPTIONS /getSurveyEntries HTTP/1.1\" 200 -\n"
     ]
    },
    {
     "name": "stdout",
     "output_type": "stream",
     "text": [
      "{u'surveyName': u'Testing Survey'}\n"
     ]
    },
    {
     "name": "stderr",
     "output_type": "stream",
     "text": [
      "127.0.0.1 - - [19/Oct/2019 18:16:41] \"POST /getSurveyEntries HTTP/1.1\" 200 -\n",
      "127.0.0.1 - - [19/Oct/2019 18:16:41] \"POST /getSurvey HTTP/1.1\" 200 -\n",
      "127.0.0.1 - - [19/Oct/2019 18:16:41] \"POST /getSurvey HTTP/1.1\" 200 -\n",
      "127.0.0.1 - - [19/Oct/2019 18:16:56] \"OPTIONS /getSurvey HTTP/1.1\" 200 -\n",
      "127.0.0.1 - - [19/Oct/2019 18:16:56] \"OPTIONS /getSurveyEntries HTTP/1.1\" 200 -\n",
      "127.0.0.1 - - [19/Oct/2019 18:16:57] \"OPTIONS /getSurvey HTTP/1.1\" 200 -\n"
     ]
    },
    {
     "name": "stdout",
     "output_type": "stream",
     "text": [
      "{u'surveyName': u'Testing Survey'}\n"
     ]
    },
    {
     "name": "stderr",
     "output_type": "stream",
     "text": [
      "127.0.0.1 - - [19/Oct/2019 18:16:57] \"POST /getSurvey HTTP/1.1\" 200 -\n",
      "127.0.0.1 - - [19/Oct/2019 18:16:57] \"POST /getSurveyEntries HTTP/1.1\" 200 -\n",
      "127.0.0.1 - - [19/Oct/2019 18:16:57] \"POST /getSurvey HTTP/1.1\" 200 -\n",
      "127.0.0.1 - - [19/Oct/2019 18:17:29] \"OPTIONS /getSurvey HTTP/1.1\" 200 -\n",
      "127.0.0.1 - - [19/Oct/2019 18:17:29] \"OPTIONS /getSurvey HTTP/1.1\" 200 -\n",
      "127.0.0.1 - - [19/Oct/2019 18:17:29] \"OPTIONS /getSurveyEntries HTTP/1.1\" 200 -\n"
     ]
    },
    {
     "name": "stdout",
     "output_type": "stream",
     "text": [
      "{u'surveyName': u'Testing Survey'}\n"
     ]
    },
    {
     "name": "stderr",
     "output_type": "stream",
     "text": [
      "127.0.0.1 - - [19/Oct/2019 18:17:30] \"POST /getSurveyEntries HTTP/1.1\" 200 -\n",
      "127.0.0.1 - - [19/Oct/2019 18:17:30] \"POST /getSurvey HTTP/1.1\" 200 -\n",
      "127.0.0.1 - - [19/Oct/2019 18:17:30] \"POST /getSurvey HTTP/1.1\" 200 -\n",
      "127.0.0.1 - - [19/Oct/2019 18:17:58] \"OPTIONS /getSurvey HTTP/1.1\" 200 -\n",
      "127.0.0.1 - - [19/Oct/2019 18:17:58] \"OPTIONS /getSurvey HTTP/1.1\" 200 -\n",
      "127.0.0.1 - - [19/Oct/2019 18:17:58] \"OPTIONS /getSurveyEntries HTTP/1.1\" 200 -\n"
     ]
    },
    {
     "name": "stdout",
     "output_type": "stream",
     "text": [
      "{u'surveyName': u'Testing Survey'}\n"
     ]
    },
    {
     "name": "stderr",
     "output_type": "stream",
     "text": [
      "127.0.0.1 - - [19/Oct/2019 18:17:59] \"POST /getSurvey HTTP/1.1\" 200 -\n",
      "127.0.0.1 - - [19/Oct/2019 18:17:59] \"POST /getSurveyEntries HTTP/1.1\" 200 -\n",
      "127.0.0.1 - - [19/Oct/2019 18:17:59] \"POST /getSurvey HTTP/1.1\" 200 -\n",
      "127.0.0.1 - - [19/Oct/2019 18:18:06] \"OPTIONS /getSurvey HTTP/1.1\" 200 -\n",
      "127.0.0.1 - - [19/Oct/2019 18:18:06] \"OPTIONS /getSurveyEntries HTTP/1.1\" 200 -\n",
      "127.0.0.1 - - [19/Oct/2019 18:18:06] \"OPTIONS /getSurvey HTTP/1.1\" 200 -\n"
     ]
    },
    {
     "name": "stdout",
     "output_type": "stream",
     "text": [
      "{u'surveyName': u'Testing Survey'}\n"
     ]
    },
    {
     "name": "stderr",
     "output_type": "stream",
     "text": [
      "127.0.0.1 - - [19/Oct/2019 18:18:06] \"POST /getSurvey HTTP/1.1\" 200 -\n",
      "127.0.0.1 - - [19/Oct/2019 18:18:06] \"POST /getSurveyEntries HTTP/1.1\" 200 -\n",
      "127.0.0.1 - - [19/Oct/2019 18:18:06] \"POST /getSurvey HTTP/1.1\" 200 -\n",
      "127.0.0.1 - - [19/Oct/2019 18:18:35] \"OPTIONS /getSurvey HTTP/1.1\" 200 -\n",
      "127.0.0.1 - - [19/Oct/2019 18:18:35] \"OPTIONS /getSurveyEntries HTTP/1.1\" 200 -\n"
     ]
    },
    {
     "name": "stdout",
     "output_type": "stream",
     "text": [
      "{u'surveyName': u'Testing Survey'}\n"
     ]
    },
    {
     "name": "stderr",
     "output_type": "stream",
     "text": [
      "127.0.0.1 - - [19/Oct/2019 18:18:36] \"POST /getSurvey HTTP/1.1\" 200 -\n",
      "127.0.0.1 - - [19/Oct/2019 18:18:36] \"POST /getSurveyEntries HTTP/1.1\" 200 -\n",
      "127.0.0.1 - - [19/Oct/2019 18:18:50] \"OPTIONS /getSurvey HTTP/1.1\" 200 -\n",
      "127.0.0.1 - - [19/Oct/2019 18:18:50] \"OPTIONS /getSurveyEntries HTTP/1.1\" 200 -\n",
      "127.0.0.1 - - [19/Oct/2019 18:18:50] \"OPTIONS /getSurvey HTTP/1.1\" 200 -\n"
     ]
    },
    {
     "name": "stdout",
     "output_type": "stream",
     "text": [
      "{u'surveyName': u'Testing Survey'}\n"
     ]
    },
    {
     "name": "stderr",
     "output_type": "stream",
     "text": [
      "127.0.0.1 - - [19/Oct/2019 18:18:51] \"POST /getSurvey HTTP/1.1\" 200 -\n",
      "127.0.0.1 - - [19/Oct/2019 18:18:51] \"POST /getSurveyEntries HTTP/1.1\" 200 -\n",
      "127.0.0.1 - - [19/Oct/2019 18:18:51] \"POST /getSurvey HTTP/1.1\" 200 -\n",
      "127.0.0.1 - - [19/Oct/2019 18:19:15] \"OPTIONS /getSurvey HTTP/1.1\" 200 -\n",
      "127.0.0.1 - - [19/Oct/2019 18:19:15] \"OPTIONS /getSurveyEntries HTTP/1.1\" 200 -\n",
      "127.0.0.1 - - [19/Oct/2019 18:19:15] \"OPTIONS /getSurvey HTTP/1.1\" 200 -\n"
     ]
    },
    {
     "name": "stdout",
     "output_type": "stream",
     "text": [
      "{u'surveyName': u'Testing Survey'}\n"
     ]
    },
    {
     "name": "stderr",
     "output_type": "stream",
     "text": [
      "127.0.0.1 - - [19/Oct/2019 18:19:16] \"POST /getSurvey HTTP/1.1\" 200 -\n",
      "127.0.0.1 - - [19/Oct/2019 18:19:16] \"POST /getSurveyEntries HTTP/1.1\" 200 -\n",
      "127.0.0.1 - - [19/Oct/2019 18:19:16] \"POST /getSurvey HTTP/1.1\" 200 -\n",
      "127.0.0.1 - - [19/Oct/2019 18:19:58] \"OPTIONS /getSurvey HTTP/1.1\" 200 -\n",
      "127.0.0.1 - - [19/Oct/2019 18:19:58] \"OPTIONS /getSurvey HTTP/1.1\" 200 -\n",
      "127.0.0.1 - - [19/Oct/2019 18:19:58] \"OPTIONS /getSurveyEntries HTTP/1.1\" 200 -\n"
     ]
    },
    {
     "name": "stdout",
     "output_type": "stream",
     "text": [
      "{u'surveyName': u'Testing Survey'}\n"
     ]
    },
    {
     "name": "stderr",
     "output_type": "stream",
     "text": [
      "127.0.0.1 - - [19/Oct/2019 18:19:58] \"POST /getSurvey HTTP/1.1\" 200 -\n",
      "127.0.0.1 - - [19/Oct/2019 18:19:58] \"POST /getSurveyEntries HTTP/1.1\" 200 -\n",
      "127.0.0.1 - - [19/Oct/2019 18:19:58] \"POST /getSurvey HTTP/1.1\" 200 -\n",
      "127.0.0.1 - - [19/Oct/2019 18:20:05] \"OPTIONS /getSurvey HTTP/1.1\" 200 -\n",
      "127.0.0.1 - - [19/Oct/2019 18:20:05] \"OPTIONS /getSurveyEntries HTTP/1.1\" 200 -\n"
     ]
    },
    {
     "name": "stdout",
     "output_type": "stream",
     "text": [
      "{u'surveyName': u'Testing Survey'}\n"
     ]
    },
    {
     "name": "stderr",
     "output_type": "stream",
     "text": [
      "127.0.0.1 - - [19/Oct/2019 18:20:06] \"POST /getSurveyEntries HTTP/1.1\" 200 -\n",
      "127.0.0.1 - - [19/Oct/2019 18:20:06] \"POST /getSurvey HTTP/1.1\" 200 -\n",
      "127.0.0.1 - - [19/Oct/2019 18:20:32] \"OPTIONS /getSurvey HTTP/1.1\" 200 -\n",
      "127.0.0.1 - - [19/Oct/2019 18:20:32] \"OPTIONS /getSurveyEntries HTTP/1.1\" 200 -\n",
      "127.0.0.1 - - [19/Oct/2019 18:20:33] \"OPTIONS /getSurvey HTTP/1.1\" 200 -\n"
     ]
    },
    {
     "name": "stdout",
     "output_type": "stream",
     "text": [
      "{u'surveyName': u'Testing Survey'}\n"
     ]
    },
    {
     "name": "stderr",
     "output_type": "stream",
     "text": [
      "127.0.0.1 - - [19/Oct/2019 18:20:33] \"POST /getSurveyEntries HTTP/1.1\" 200 -\n",
      "127.0.0.1 - - [19/Oct/2019 18:20:33] \"POST /getSurvey HTTP/1.1\" 200 -\n",
      "127.0.0.1 - - [19/Oct/2019 18:20:33] \"POST /getSurvey HTTP/1.1\" 200 -\n",
      "127.0.0.1 - - [19/Oct/2019 18:22:02] \"OPTIONS /getSurvey HTTP/1.1\" 200 -\n",
      "127.0.0.1 - - [19/Oct/2019 18:22:03] \"POST /getSurvey HTTP/1.1\" 200 -\n",
      "127.0.0.1 - - [19/Oct/2019 18:22:03] \"OPTIONS /getSurvey HTTP/1.1\" 200 -\n",
      "127.0.0.1 - - [19/Oct/2019 18:22:03] \"OPTIONS /getSurveyEntries HTTP/1.1\" 200 -\n"
     ]
    },
    {
     "name": "stdout",
     "output_type": "stream",
     "text": [
      "{u'surveyName': u'Testing Survey'}\n"
     ]
    },
    {
     "name": "stderr",
     "output_type": "stream",
     "text": [
      "127.0.0.1 - - [19/Oct/2019 18:22:04] \"POST /getSurvey HTTP/1.1\" 200 -\n",
      "127.0.0.1 - - [19/Oct/2019 18:22:04] \"POST /getSurveyEntries HTTP/1.1\" 200 -\n",
      "127.0.0.1 - - [19/Oct/2019 18:22:24] \"OPTIONS /getSurvey HTTP/1.1\" 200 -\n",
      "127.0.0.1 - - [19/Oct/2019 18:22:24] \"POST /getSurvey HTTP/1.1\" 200 -\n",
      "127.0.0.1 - - [19/Oct/2019 18:22:25] \"OPTIONS /getSurvey HTTP/1.1\" 200 -\n",
      "127.0.0.1 - - [19/Oct/2019 18:22:25] \"OPTIONS /getSurveyEntries HTTP/1.1\" 200 -\n"
     ]
    },
    {
     "name": "stdout",
     "output_type": "stream",
     "text": [
      "{u'surveyName': u'Testing Survey'}\n"
     ]
    },
    {
     "name": "stderr",
     "output_type": "stream",
     "text": [
      "127.0.0.1 - - [19/Oct/2019 18:22:25] \"POST /getSurvey HTTP/1.1\" 200 -\n",
      "127.0.0.1 - - [19/Oct/2019 18:22:25] \"POST /getSurveyEntries HTTP/1.1\" 200 -\n",
      "127.0.0.1 - - [19/Oct/2019 18:23:19] \"OPTIONS /getSurvey HTTP/1.1\" 200 -\n",
      "127.0.0.1 - - [19/Oct/2019 18:23:19] \"OPTIONS /getSurveyEntries HTTP/1.1\" 200 -\n",
      "127.0.0.1 - - [19/Oct/2019 18:23:19] \"OPTIONS /getSurvey HTTP/1.1\" 200 -\n"
     ]
    },
    {
     "name": "stdout",
     "output_type": "stream",
     "text": [
      "{u'surveyName': u'Testing Survey'}\n"
     ]
    },
    {
     "name": "stderr",
     "output_type": "stream",
     "text": [
      "127.0.0.1 - - [19/Oct/2019 18:23:20] \"POST /getSurvey HTTP/1.1\" 200 -\n",
      "127.0.0.1 - - [19/Oct/2019 18:23:20] \"POST /getSurvey HTTP/1.1\" 200 -\n",
      "127.0.0.1 - - [19/Oct/2019 18:23:20] \"POST /getSurveyEntries HTTP/1.1\" 200 -\n",
      "127.0.0.1 - - [19/Oct/2019 18:23:27] \"OPTIONS /getSurvey HTTP/1.1\" 200 -\n",
      "127.0.0.1 - - [19/Oct/2019 18:23:27] \"OPTIONS /getSurveyEntries HTTP/1.1\" 200 -\n",
      "127.0.0.1 - - [19/Oct/2019 18:23:27] \"OPTIONS /getSurvey HTTP/1.1\" 200 -\n"
     ]
    },
    {
     "name": "stdout",
     "output_type": "stream",
     "text": [
      "{u'surveyName': u'Testing Survey'}\n"
     ]
    },
    {
     "name": "stderr",
     "output_type": "stream",
     "text": [
      "127.0.0.1 - - [19/Oct/2019 18:23:27] \"POST /getSurvey HTTP/1.1\" 200 -\n",
      "127.0.0.1 - - [19/Oct/2019 18:23:27] \"POST /getSurveyEntries HTTP/1.1\" 200 -\n",
      "127.0.0.1 - - [19/Oct/2019 18:23:27] \"POST /getSurvey HTTP/1.1\" 200 -\n",
      "127.0.0.1 - - [19/Oct/2019 18:24:07] \"OPTIONS /getSurvey HTTP/1.1\" 200 -\n",
      "127.0.0.1 - - [19/Oct/2019 18:24:07] \"OPTIONS /getSurveyEntries HTTP/1.1\" 200 -\n",
      "127.0.0.1 - - [19/Oct/2019 18:24:07] \"OPTIONS /getSurvey HTTP/1.1\" 200 -\n"
     ]
    },
    {
     "name": "stdout",
     "output_type": "stream",
     "text": [
      "{u'surveyName': u'Testing Survey'}\n"
     ]
    },
    {
     "name": "stderr",
     "output_type": "stream",
     "text": [
      "127.0.0.1 - - [19/Oct/2019 18:24:08] \"POST /getSurvey HTTP/1.1\" 200 -\n",
      "127.0.0.1 - - [19/Oct/2019 18:24:08] \"POST /getSurveyEntries HTTP/1.1\" 200 -\n",
      "127.0.0.1 - - [19/Oct/2019 18:24:08] \"POST /getSurvey HTTP/1.1\" 200 -\n",
      "127.0.0.1 - - [19/Oct/2019 18:28:42] \"OPTIONS /getSurvey HTTP/1.1\" 200 -\n",
      "127.0.0.1 - - [19/Oct/2019 18:28:42] \"OPTIONS /getSurveyEntries HTTP/1.1\" 200 -\n",
      "127.0.0.1 - - [19/Oct/2019 18:28:42] \"OPTIONS /getSurvey HTTP/1.1\" 200 -\n"
     ]
    },
    {
     "name": "stdout",
     "output_type": "stream",
     "text": [
      "{u'surveyName': u'Testing Survey'}\n"
     ]
    },
    {
     "name": "stderr",
     "output_type": "stream",
     "text": [
      "127.0.0.1 - - [19/Oct/2019 18:28:42] \"POST /getSurvey HTTP/1.1\" 200 -\n",
      "127.0.0.1 - - [19/Oct/2019 18:28:42] \"POST /getSurveyEntries HTTP/1.1\" 200 -\n",
      "127.0.0.1 - - [19/Oct/2019 18:28:42] \"POST /getSurvey HTTP/1.1\" 200 -\n",
      "127.0.0.1 - - [19/Oct/2019 18:29:05] \"OPTIONS /getSurvey HTTP/1.1\" 200 -\n",
      "127.0.0.1 - - [19/Oct/2019 18:29:05] \"OPTIONS /getSurveyEntries HTTP/1.1\" 200 -\n",
      "127.0.0.1 - - [19/Oct/2019 18:29:05] \"OPTIONS /getSurvey HTTP/1.1\" 200 -\n"
     ]
    },
    {
     "name": "stdout",
     "output_type": "stream",
     "text": [
      "{u'surveyName': u'Testing Survey'}\n"
     ]
    },
    {
     "name": "stderr",
     "output_type": "stream",
     "text": [
      "127.0.0.1 - - [19/Oct/2019 18:29:06] \"POST /getSurvey HTTP/1.1\" 200 -\n",
      "127.0.0.1 - - [19/Oct/2019 18:29:06] \"POST /getSurveyEntries HTTP/1.1\" 200 -\n",
      "127.0.0.1 - - [19/Oct/2019 18:29:06] \"POST /getSurvey HTTP/1.1\" 200 -\n",
      "127.0.0.1 - - [19/Oct/2019 18:29:14] \"OPTIONS /getSurvey HTTP/1.1\" 200 -\n",
      "127.0.0.1 - - [19/Oct/2019 18:29:14] \"OPTIONS /getSurveyEntries HTTP/1.1\" 200 -\n",
      "127.0.0.1 - - [19/Oct/2019 18:29:15] \"OPTIONS /getSurvey HTTP/1.1\" 200 -\n"
     ]
    },
    {
     "name": "stdout",
     "output_type": "stream",
     "text": [
      "{u'surveyName': u'Testing Survey'}\n"
     ]
    },
    {
     "name": "stderr",
     "output_type": "stream",
     "text": [
      "127.0.0.1 - - [19/Oct/2019 18:29:15] \"POST /getSurvey HTTP/1.1\" 200 -\n",
      "127.0.0.1 - - [19/Oct/2019 18:29:15] \"POST /getSurveyEntries HTTP/1.1\" 200 -\n",
      "127.0.0.1 - - [19/Oct/2019 18:29:15] \"POST /getSurvey HTTP/1.1\" 200 -\n",
      "127.0.0.1 - - [19/Oct/2019 18:29:52] \"OPTIONS /getSurvey HTTP/1.1\" 200 -\n",
      "127.0.0.1 - - [19/Oct/2019 18:29:52] \"OPTIONS /getSurvey HTTP/1.1\" 200 -\n",
      "127.0.0.1 - - [19/Oct/2019 18:29:52] \"OPTIONS /getSurveyEntries HTTP/1.1\" 200 -\n"
     ]
    },
    {
     "name": "stdout",
     "output_type": "stream",
     "text": [
      "{u'surveyName': u'Testing Survey'}\n"
     ]
    },
    {
     "name": "stderr",
     "output_type": "stream",
     "text": [
      "127.0.0.1 - - [19/Oct/2019 18:29:53] \"POST /getSurvey HTTP/1.1\" 200 -\n",
      "127.0.0.1 - - [19/Oct/2019 18:29:53] \"POST /getSurveyEntries HTTP/1.1\" 200 -\n",
      "127.0.0.1 - - [19/Oct/2019 18:29:53] \"POST /getSurvey HTTP/1.1\" 200 -\n",
      "127.0.0.1 - - [19/Oct/2019 18:33:51] \"OPTIONS /getSurvey HTTP/1.1\" 200 -\n",
      "127.0.0.1 - - [19/Oct/2019 18:33:51] \"OPTIONS /getSurvey HTTP/1.1\" 200 -\n",
      "127.0.0.1 - - [19/Oct/2019 18:33:51] \"OPTIONS /getSurveyEntries HTTP/1.1\" 200 -\n",
      "127.0.0.1 - - [19/Oct/2019 18:33:51] \"POST /getSurvey HTTP/1.1\" 200 -\n"
     ]
    },
    {
     "name": "stdout",
     "output_type": "stream",
     "text": [
      "{u'surveyName': u'Testing Survey'}\n"
     ]
    },
    {
     "name": "stderr",
     "output_type": "stream",
     "text": [
      "127.0.0.1 - - [19/Oct/2019 18:33:52] \"POST /getSurveyEntries HTTP/1.1\" 200 -\n",
      "127.0.0.1 - - [19/Oct/2019 18:33:52] \"POST /getSurvey HTTP/1.1\" 200 -\n",
      "127.0.0.1 - - [19/Oct/2019 18:34:17] \"OPTIONS /getSurvey HTTP/1.1\" 200 -\n",
      "127.0.0.1 - - [19/Oct/2019 18:34:18] \"OPTIONS /getSurvey HTTP/1.1\" 200 -\n",
      "127.0.0.1 - - [19/Oct/2019 18:34:18] \"OPTIONS /getSurveyEntries HTTP/1.1\" 200 -\n",
      "127.0.0.1 - - [19/Oct/2019 18:34:18] \"POST /getSurvey HTTP/1.1\" 200 -\n"
     ]
    },
    {
     "name": "stdout",
     "output_type": "stream",
     "text": [
      "{u'surveyName': u'Testing Survey'}\n"
     ]
    },
    {
     "name": "stderr",
     "output_type": "stream",
     "text": [
      "127.0.0.1 - - [19/Oct/2019 18:34:19] \"POST /getSurveyEntries HTTP/1.1\" 200 -\n",
      "127.0.0.1 - - [19/Oct/2019 18:34:19] \"POST /getSurvey HTTP/1.1\" 200 -\n",
      "127.0.0.1 - - [19/Oct/2019 18:34:27] \"OPTIONS /getSurvey HTTP/1.1\" 200 -\n",
      "127.0.0.1 - - [19/Oct/2019 18:34:28] \"OPTIONS /getSurvey HTTP/1.1\" 200 -\n",
      "127.0.0.1 - - [19/Oct/2019 18:34:28] \"OPTIONS /getSurveyEntries HTTP/1.1\" 200 -\n",
      "127.0.0.1 - - [19/Oct/2019 18:34:28] \"POST /getSurvey HTTP/1.1\" 200 -\n"
     ]
    },
    {
     "name": "stdout",
     "output_type": "stream",
     "text": [
      "{u'surveyName': u'Testing Survey'}\n"
     ]
    },
    {
     "name": "stderr",
     "output_type": "stream",
     "text": [
      "127.0.0.1 - - [19/Oct/2019 18:34:29] \"POST /getSurveyEntries HTTP/1.1\" 200 -\n",
      "127.0.0.1 - - [19/Oct/2019 18:34:29] \"POST /getSurvey HTTP/1.1\" 200 -\n",
      "127.0.0.1 - - [19/Oct/2019 18:35:49] \"OPTIONS /getSurvey HTTP/1.1\" 200 -\n",
      "127.0.0.1 - - [19/Oct/2019 18:35:50] \"OPTIONS /getSurvey HTTP/1.1\" 200 -\n",
      "127.0.0.1 - - [19/Oct/2019 18:35:50] \"OPTIONS /getSurveyEntries HTTP/1.1\" 200 -\n",
      "127.0.0.1 - - [19/Oct/2019 18:35:50] \"POST /getSurvey HTTP/1.1\" 200 -\n"
     ]
    },
    {
     "name": "stdout",
     "output_type": "stream",
     "text": [
      "{u'surveyName': u'Testing Survey'}\n"
     ]
    },
    {
     "name": "stderr",
     "output_type": "stream",
     "text": [
      "127.0.0.1 - - [19/Oct/2019 18:35:51] \"POST /getSurvey HTTP/1.1\" 200 -\n",
      "127.0.0.1 - - [19/Oct/2019 18:35:51] \"POST /getSurveyEntries HTTP/1.1\" 200 -\n",
      "127.0.0.1 - - [19/Oct/2019 18:36:19] \"OPTIONS /getSurvey HTTP/1.1\" 200 -\n",
      "127.0.0.1 - - [19/Oct/2019 18:36:20] \"POST /getSurvey HTTP/1.1\" 200 -\n",
      "127.0.0.1 - - [19/Oct/2019 18:36:20] \"OPTIONS /getSurvey HTTP/1.1\" 200 -\n",
      "127.0.0.1 - - [19/Oct/2019 18:36:20] \"OPTIONS /getSurveyEntries HTTP/1.1\" 200 -\n"
     ]
    },
    {
     "name": "stdout",
     "output_type": "stream",
     "text": [
      "{u'surveyName': u'Testing Survey'}\n"
     ]
    },
    {
     "name": "stderr",
     "output_type": "stream",
     "text": [
      "127.0.0.1 - - [19/Oct/2019 18:36:21] \"POST /getSurvey HTTP/1.1\" 200 -\n",
      "127.0.0.1 - - [19/Oct/2019 18:36:21] \"POST /getSurveyEntries HTTP/1.1\" 200 -\n",
      "127.0.0.1 - - [19/Oct/2019 18:36:32] \"OPTIONS /getSurvey HTTP/1.1\" 200 -\n",
      "127.0.0.1 - - [19/Oct/2019 18:36:33] \"POST /getSurvey HTTP/1.1\" 200 -\n",
      "127.0.0.1 - - [19/Oct/2019 18:36:33] \"OPTIONS /getSurvey HTTP/1.1\" 200 -\n",
      "127.0.0.1 - - [19/Oct/2019 18:36:33] \"OPTIONS /getSurveyEntries HTTP/1.1\" 200 -\n"
     ]
    },
    {
     "name": "stdout",
     "output_type": "stream",
     "text": [
      "{u'surveyName': u'Testing Survey'}\n"
     ]
    },
    {
     "name": "stderr",
     "output_type": "stream",
     "text": [
      "127.0.0.1 - - [19/Oct/2019 18:36:34] \"POST /getSurvey HTTP/1.1\" 200 -\n",
      "127.0.0.1 - - [19/Oct/2019 18:36:34] \"POST /getSurveyEntries HTTP/1.1\" 200 -\n",
      "127.0.0.1 - - [19/Oct/2019 18:36:44] \"OPTIONS /getSurvey HTTP/1.1\" 200 -\n",
      "127.0.0.1 - - [19/Oct/2019 18:36:45] \"POST /getSurvey HTTP/1.1\" 200 -\n",
      "127.0.0.1 - - [19/Oct/2019 18:36:45] \"OPTIONS /getSurvey HTTP/1.1\" 200 -\n",
      "127.0.0.1 - - [19/Oct/2019 18:36:45] \"OPTIONS /getSurveyEntries HTTP/1.1\" 200 -\n"
     ]
    },
    {
     "name": "stdout",
     "output_type": "stream",
     "text": [
      "{u'surveyName': u'Testing Survey'}\n"
     ]
    },
    {
     "name": "stderr",
     "output_type": "stream",
     "text": [
      "127.0.0.1 - - [19/Oct/2019 18:36:46] \"POST /getSurveyEntries HTTP/1.1\" 200 -\n",
      "127.0.0.1 - - [19/Oct/2019 18:36:46] \"POST /getSurvey HTTP/1.1\" 200 -\n",
      "127.0.0.1 - - [19/Oct/2019 18:37:23] \"OPTIONS /getSurvey HTTP/1.1\" 200 -\n",
      "127.0.0.1 - - [19/Oct/2019 18:37:24] \"OPTIONS /getSurvey HTTP/1.1\" 200 -\n",
      "127.0.0.1 - - [19/Oct/2019 18:37:24] \"OPTIONS /getSurveyEntries HTTP/1.1\" 200 -\n"
     ]
    },
    {
     "name": "stdout",
     "output_type": "stream",
     "text": [
      "{u'surveyName': u'Testing Survey'}\n"
     ]
    },
    {
     "name": "stderr",
     "output_type": "stream",
     "text": [
      "127.0.0.1 - - [19/Oct/2019 18:37:24] \"POST /getSurvey HTTP/1.1\" 200 -\n",
      "127.0.0.1 - - [19/Oct/2019 18:37:24] \"POST /getSurvey HTTP/1.1\" 200 -\n",
      "127.0.0.1 - - [19/Oct/2019 18:37:24] \"POST /getSurveyEntries HTTP/1.1\" 200 -\n",
      "127.0.0.1 - - [19/Oct/2019 18:37:45] \"OPTIONS /getSurvey HTTP/1.1\" 200 -\n",
      "127.0.0.1 - - [19/Oct/2019 18:37:45] \"POST /getSurvey HTTP/1.1\" 200 -\n",
      "127.0.0.1 - - [19/Oct/2019 18:37:45] \"OPTIONS /getSurvey HTTP/1.1\" 200 -\n",
      "127.0.0.1 - - [19/Oct/2019 18:37:45] \"OPTIONS /getSurveyEntries HTTP/1.1\" 200 -\n"
     ]
    },
    {
     "name": "stdout",
     "output_type": "stream",
     "text": [
      "{u'surveyName': u'Testing Survey'}\n"
     ]
    },
    {
     "name": "stderr",
     "output_type": "stream",
     "text": [
      "127.0.0.1 - - [19/Oct/2019 18:37:46] \"POST /getSurvey HTTP/1.1\" 200 -\n",
      "127.0.0.1 - - [19/Oct/2019 18:37:46] \"POST /getSurveyEntries HTTP/1.1\" 200 -\n",
      "127.0.0.1 - - [19/Oct/2019 18:38:14] \"OPTIONS /getSurvey HTTP/1.1\" 200 -\n",
      "127.0.0.1 - - [19/Oct/2019 18:38:15] \"POST /getSurvey HTTP/1.1\" 200 -\n",
      "127.0.0.1 - - [19/Oct/2019 18:38:15] \"OPTIONS /getSurvey HTTP/1.1\" 200 -\n",
      "127.0.0.1 - - [19/Oct/2019 18:38:15] \"OPTIONS /getSurveyEntries HTTP/1.1\" 200 -\n"
     ]
    },
    {
     "name": "stdout",
     "output_type": "stream",
     "text": [
      "{u'surveyName': u'Testing Survey'}\n"
     ]
    },
    {
     "name": "stderr",
     "output_type": "stream",
     "text": [
      "127.0.0.1 - - [19/Oct/2019 18:38:16] \"POST /getSurvey HTTP/1.1\" 200 -\n",
      "127.0.0.1 - - [19/Oct/2019 18:38:16] \"POST /getSurveyEntries HTTP/1.1\" 200 -\n",
      "127.0.0.1 - - [19/Oct/2019 18:38:45] \"OPTIONS /getSurvey HTTP/1.1\" 200 -\n",
      "127.0.0.1 - - [19/Oct/2019 18:38:46] \"OPTIONS /getSurvey HTTP/1.1\" 200 -\n",
      "127.0.0.1 - - [19/Oct/2019 18:38:46] \"OPTIONS /getSurveyEntries HTTP/1.1\" 200 -\n",
      "127.0.0.1 - - [19/Oct/2019 18:38:46] \"POST /getSurvey HTTP/1.1\" 200 -\n"
     ]
    },
    {
     "name": "stdout",
     "output_type": "stream",
     "text": [
      "{u'surveyName': u'Testing Survey'}\n"
     ]
    },
    {
     "name": "stderr",
     "output_type": "stream",
     "text": [
      "127.0.0.1 - - [19/Oct/2019 18:38:47] \"POST /getSurveyEntries HTTP/1.1\" 200 -\n",
      "127.0.0.1 - - [19/Oct/2019 18:38:47] \"POST /getSurvey HTTP/1.1\" 200 -\n",
      "127.0.0.1 - - [19/Oct/2019 18:40:28] \"OPTIONS /getSurvey HTTP/1.1\" 200 -\n",
      "127.0.0.1 - - [19/Oct/2019 18:40:28] \"POST /getSurvey HTTP/1.1\" 200 -\n",
      "127.0.0.1 - - [19/Oct/2019 18:40:28] \"OPTIONS /getSurvey HTTP/1.1\" 200 -\n",
      "127.0.0.1 - - [19/Oct/2019 18:40:28] \"OPTIONS /getSurveyEntries HTTP/1.1\" 200 -\n"
     ]
    },
    {
     "name": "stdout",
     "output_type": "stream",
     "text": [
      "{u'surveyName': u'Testing Survey'}\n"
     ]
    },
    {
     "name": "stderr",
     "output_type": "stream",
     "text": [
      "127.0.0.1 - - [19/Oct/2019 18:40:29] \"POST /getSurvey HTTP/1.1\" 200 -\n",
      "127.0.0.1 - - [19/Oct/2019 18:40:29] \"POST /getSurveyEntries HTTP/1.1\" 200 -\n",
      "127.0.0.1 - - [19/Oct/2019 18:41:21] \"OPTIONS /getSurvey HTTP/1.1\" 200 -\n",
      "127.0.0.1 - - [19/Oct/2019 18:41:21] \"OPTIONS /getSurvey HTTP/1.1\" 200 -\n",
      "127.0.0.1 - - [19/Oct/2019 18:41:21] \"OPTIONS /getSurveyEntries HTTP/1.1\" 200 -\n"
     ]
    },
    {
     "name": "stdout",
     "output_type": "stream",
     "text": [
      "{u'surveyName': u'Testing Survey'}\n"
     ]
    },
    {
     "name": "stderr",
     "output_type": "stream",
     "text": [
      "127.0.0.1 - - [19/Oct/2019 18:41:22] \"POST /getSurvey HTTP/1.1\" 200 -\n",
      "127.0.0.1 - - [19/Oct/2019 18:41:22] \"POST /getSurveyEntries HTTP/1.1\" 200 -\n",
      "127.0.0.1 - - [19/Oct/2019 18:41:22] \"POST /getSurvey HTTP/1.1\" 200 -\n",
      "127.0.0.1 - - [19/Oct/2019 18:42:04] \"OPTIONS /getSurvey HTTP/1.1\" 200 -\n",
      "127.0.0.1 - - [19/Oct/2019 18:42:04] \"OPTIONS /getSurvey HTTP/1.1\" 200 -\n",
      "127.0.0.1 - - [19/Oct/2019 18:42:04] \"OPTIONS /getSurveyEntries HTTP/1.1\" 200 -\n"
     ]
    },
    {
     "name": "stdout",
     "output_type": "stream",
     "text": [
      "{u'surveyName': u'Testing Survey'}\n"
     ]
    },
    {
     "name": "stderr",
     "output_type": "stream",
     "text": [
      "127.0.0.1 - - [19/Oct/2019 18:42:04] \"POST /getSurvey HTTP/1.1\" 200 -\n",
      "127.0.0.1 - - [19/Oct/2019 18:42:04] \"POST /getSurveyEntries HTTP/1.1\" 200 -\n",
      "127.0.0.1 - - [19/Oct/2019 18:42:04] \"POST /getSurvey HTTP/1.1\" 200 -\n",
      "127.0.0.1 - - [19/Oct/2019 18:43:52] \"OPTIONS /getSurvey HTTP/1.1\" 200 -\n",
      "127.0.0.1 - - [19/Oct/2019 18:43:52] \"OPTIONS /getSurveyEntries HTTP/1.1\" 200 -\n",
      "127.0.0.1 - - [19/Oct/2019 18:43:52] \"OPTIONS /getSurvey HTTP/1.1\" 200 -\n"
     ]
    },
    {
     "name": "stdout",
     "output_type": "stream",
     "text": [
      "{u'surveyName': u'Testing Survey'}\n"
     ]
    },
    {
     "name": "stderr",
     "output_type": "stream",
     "text": [
      "127.0.0.1 - - [19/Oct/2019 18:43:53] \"POST /getSurvey HTTP/1.1\" 200 -\n",
      "127.0.0.1 - - [19/Oct/2019 18:43:53] \"POST /getSurveyEntries HTTP/1.1\" 200 -\n",
      "127.0.0.1 - - [19/Oct/2019 18:43:53] \"POST /getSurvey HTTP/1.1\" 200 -\n",
      "127.0.0.1 - - [19/Oct/2019 18:45:07] \"OPTIONS /getSurvey HTTP/1.1\" 200 -\n",
      "127.0.0.1 - - [19/Oct/2019 18:45:07] \"OPTIONS /getSurvey HTTP/1.1\" 200 -\n",
      "127.0.0.1 - - [19/Oct/2019 18:45:07] \"OPTIONS /getSurveyEntries HTTP/1.1\" 200 -\n"
     ]
    },
    {
     "name": "stdout",
     "output_type": "stream",
     "text": [
      "{u'surveyName': u'Testing Survey'}\n"
     ]
    },
    {
     "name": "stderr",
     "output_type": "stream",
     "text": [
      "127.0.0.1 - - [19/Oct/2019 18:45:08] \"POST /getSurvey HTTP/1.1\" 200 -\n",
      "127.0.0.1 - - [19/Oct/2019 18:45:08] \"POST /getSurvey HTTP/1.1\" 200 -\n",
      "127.0.0.1 - - [19/Oct/2019 18:45:08] \"POST /getSurveyEntries HTTP/1.1\" 200 -\n",
      "127.0.0.1 - - [19/Oct/2019 18:46:29] \"OPTIONS /getSurvey HTTP/1.1\" 200 -\n",
      "127.0.0.1 - - [19/Oct/2019 18:46:30] \"OPTIONS /getSurvey HTTP/1.1\" 200 -\n",
      "127.0.0.1 - - [19/Oct/2019 18:46:30] \"OPTIONS /getSurveyEntries HTTP/1.1\" 200 -\n"
     ]
    },
    {
     "name": "stdout",
     "output_type": "stream",
     "text": [
      "{u'surveyName': u'Testing Survey'}\n"
     ]
    },
    {
     "name": "stderr",
     "output_type": "stream",
     "text": [
      "127.0.0.1 - - [19/Oct/2019 18:46:30] \"POST /getSurvey HTTP/1.1\" 200 -\n",
      "127.0.0.1 - - [19/Oct/2019 18:46:30] \"POST /getSurveyEntries HTTP/1.1\" 200 -\n",
      "127.0.0.1 - - [19/Oct/2019 18:46:30] \"POST /getSurvey HTTP/1.1\" 200 -\n",
      "127.0.0.1 - - [19/Oct/2019 18:47:06] \"OPTIONS /getSurvey HTTP/1.1\" 200 -\n",
      "127.0.0.1 - - [19/Oct/2019 18:47:07] \"POST /getSurvey HTTP/1.1\" 200 -\n",
      "127.0.0.1 - - [19/Oct/2019 18:47:07] \"OPTIONS /getSurvey HTTP/1.1\" 200 -\n",
      "127.0.0.1 - - [19/Oct/2019 18:47:07] \"OPTIONS /getSurveyEntries HTTP/1.1\" 200 -\n"
     ]
    },
    {
     "name": "stdout",
     "output_type": "stream",
     "text": [
      "{u'surveyName': u'Testing Survey'}\n"
     ]
    },
    {
     "name": "stderr",
     "output_type": "stream",
     "text": [
      "127.0.0.1 - - [19/Oct/2019 18:47:08] \"POST /getSurvey HTTP/1.1\" 200 -\n",
      "127.0.0.1 - - [19/Oct/2019 18:47:08] \"POST /getSurveyEntries HTTP/1.1\" 200 -\n"
     ]
    }
   ],
   "source": [
    "app = Flask(__name__)\n",
    "api = Api(app)\n",
    "\n",
    "CORS(app)\n",
    "client = pymongo.MongoClient(\"mongodb+srv://hemanth:\"+ urllib.quote(\"Hemanth@123\")+\"@cluster0-59obx.mongodb.net/test?retryWrites=true&w=majority\")\n",
    "\n",
    "\n",
    "\n",
    "### swagger specific ###\n",
    "SWAGGER_URL = '/swagger'\n",
    "API_URL = '/static/swagger.json'\n",
    "SWAGGERUI_BLUEPRINT = get_swaggerui_blueprint(\n",
    "    SWAGGER_URL,\n",
    "    API_URL,\n",
    "    config={\n",
    "        'app_name': \"Seans-Python-Flask-REST-Boilerplate\"\n",
    "    }\n",
    ")\n",
    "app.register_blueprint(SWAGGERUI_BLUEPRINT, url_prefix=SWAGGER_URL)  \n",
    "\n",
    "\n",
    "@app.route(\"/\")\n",
    "def hello():\n",
    "    return jsonify({'text':'Hello World!'})\n",
    "\n",
    "\n",
    "@app.route(\"/createSurvey\",methods=['POST'])\n",
    "def createSurvey(): \n",
    "    \n",
    "    verifyAccessToken(request.headers[\"Authorization\"])\n",
    "    if not(verifyAccessToken):\n",
    "        return json.dumps({\n",
    "              \"error\": \"access_denied\"\n",
    "            }), 401\n",
    "    \n",
    "    db=client.survey\n",
    "    params=request.json\n",
    "    if(checkSurveyExists(params[\"surveyName\"])):\n",
    "        return jsonify({'response':'SurveyName already Exists'}),400\n",
    "    \n",
    "    surveyDetails={}\n",
    "    surveyDetails[\"userName\"]=params[\"userName\"]\n",
    "    surveyDetails[\"surveyName\"]=params[\"surveyName\"]\n",
    "    surveyDetails[\"surveyDescription\"]=params[\"surveyDescription\"]\n",
    "    surveyDetails[\"surveyForm\"]=params[\"surveyForm\"]\n",
    "\n",
    "    \n",
    "    result=db.SurveyForms.insert_one(surveyDetails)\n",
    "    return  jsonify({'response':'Survey successfully created'})\n",
    "\n",
    "\n",
    "@app.route(\"/getSurvey\",methods=['POST'])\n",
    "def surveyForm():    \n",
    "    db=client.survey\n",
    "    params=request.json\n",
    "\n",
    "    if not(checkSurveyExists(params[\"surveyName\"])):\n",
    "        return jsonify({'response':'SurveyName doesnt Exists'})\n",
    "    \n",
    "    result=db.SurveyForms.find_one({'surveyName': params[\"surveyName\"]})\n",
    "    del result['_id']\n",
    "    return jsonify(result)\n",
    "\n",
    "\n",
    "@app.route(\"/fillSurvey\",methods=['POST'])\n",
    "def surveyEntry():\n",
    "    db=client.survey\n",
    "    params=request.json\n",
    "    if not(checkSurveyExists(params[\"surveyName\"])):\n",
    "        return jsonify({'response':'SurveyName doesnt Exist'})\n",
    "    \n",
    "    surveyDetails={}\n",
    "    surveyDetails[\"userName\"]=params[\"userName\"]\n",
    "    surveyDetails[\"surveyName\"]=params[\"surveyName\"]\n",
    "    surveyDetails[\"entryForm\"]=params[\"entryForm\"]\n",
    "    surveyDetails[\"gender\"]=params[\"gender\"]\n",
    "    \n",
    "    if(db.SurveyEntries.find_one({'surveyName': params[\"surveyName\"],'userName':params[\"userName\"]})):\n",
    "        return  jsonify({'response':'User has already filled the survey'}),400\n",
    "    \n",
    "    db.SurveyEntries.insert_one(surveyDetails)\n",
    "    return  jsonify({'response':'Survey successfully filled'})\n",
    "\n",
    "\n",
    "@app.route(\"/getAllSurveys\",methods=['GET'])\n",
    "def getAllServeys():\n",
    "    db=client.survey\n",
    "    surveys=[]\n",
    "    for i in db.SurveyForms.find():\n",
    "        del i['_id']\n",
    "        surveys.append(i)\n",
    "   \n",
    "    return jsonify({\"results\":surveys})\n",
    "\n",
    "@app.route(\"/getUserSurveys\",methods=['POST'])\n",
    "def getUserServeys():\n",
    "    params=request.json\n",
    "    db=client.survey\n",
    "    surveys=[]\n",
    "    for i in db.SurveyForms.find({'userName': params[\"userName\"]}):\n",
    "        del i['_id']\n",
    "        surveys.append(i)\n",
    "   \n",
    "    return jsonify({\"results\":surveys})\n",
    "\n",
    "@app.route(\"/getSurveyEntries\",methods=['POST'])\n",
    "def getSurveyEntries():\n",
    "    db=client.survey\n",
    "    params=request.json\n",
    "    print(params)\n",
    "    if not(checkSurveyExists(params[\"surveyName\"])):\n",
    "        return jsonify({'response':'SurveyName doesnt Exists'})\n",
    "       \n",
    "    surveyEntries=[]\n",
    "    for i in db.SurveyEntries.find({'surveyName': params[\"surveyName\"]}):\n",
    "        del i['_id']\n",
    "        surveyEntries.append(i)\n",
    "        \n",
    "    stats=getStats(surveyEntries)\n",
    "    return jsonify({\"results\":surveyEntries,\"stats\":stats})\n",
    "\n",
    "\n",
    "@app.route(\"/surveystat\")\n",
    "def getByUserSurvey():\n",
    "    db=client.SurveyEntries\n",
    "    params=request.json\n",
    "    print(params)\n",
    "    if not(checkSurveyExists(params[\"surveyName\"])):\n",
    "        return jsonify({'response':'SurveyName doesnt Exists'})\n",
    "    \n",
    "    surveyEntry=db.SurveyEntries.find({'surveyName': params[\"surveyName\"],'userName':params[\"userName\"]})\n",
    "    surveyTemplate=db.SurveyForms.find({'surveyName': params[\"surveyName\"]})\n",
    "    \n",
    "    return mergeSurventry(surveyTemplate,surveyEntry)\n",
    "\n",
    "if __name__ == '__main__':\n",
    "   app.run(port=5002)\n",
    "\n"
   ]
  },
  {
   "cell_type": "code",
   "execution_count": 35,
   "metadata": {
    "collapsed": true
   },
   "outputs": [],
   "source": [
    "\n",
    "    "
   ]
  },
  {
   "cell_type": "code",
   "execution_count": null,
   "metadata": {
    "collapsed": true
   },
   "outputs": [],
   "source": []
  }
 ],
 "metadata": {
  "kernelspec": {
   "display_name": "Python 2",
   "language": "python",
   "name": "python2"
  },
  "language_info": {
   "codemirror_mode": {
    "name": "ipython",
    "version": 2
   },
   "file_extension": ".py",
   "mimetype": "text/x-python",
   "name": "python",
   "nbconvert_exporter": "python",
   "pygments_lexer": "ipython2",
   "version": "2.7.15"
  }
 },
 "nbformat": 4,
 "nbformat_minor": 2
}
