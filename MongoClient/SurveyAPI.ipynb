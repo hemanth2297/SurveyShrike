{
 "cells": [
  {
   "cell_type": "code",
   "execution_count": 9,
   "metadata": {
    "collapsed": true
   },
   "outputs": [],
   "source": [
    "from flask import Flask, request\n",
    "from flask_cors import CORS, cross_origin\n",
    "from flask_restful import Resource, Api\n",
    "from json import dumps\n",
    "from flask_jsonpify import jsonify\n",
    "import json\n",
    "import pymongo\n",
    "import urllib\n",
    "from collections import Counter\n",
    "import requests\n",
    "from flask_swagger_ui import get_swaggerui_blueprint"
   ]
  },
  {
   "cell_type": "code",
   "execution_count": 10,
   "metadata": {
    "collapsed": true
   },
   "outputs": [],
   "source": [
    "surveyTemplate = {\n",
    "        'userName' : \"Hemanth\",\n",
    "        'surveyName' : \"test\",\n",
    "        'surveyForm':{\"0\":{\n",
    "            \"question\":\"qsn1\",\n",
    "            \"questionType\":\"radio\",\n",
    "            \"options\":\"sd,sdf,sv\",\n",
    "            \"rangeFrom\" :\"1\",\n",
    "            \"rangeFrom\" :\"20\"\n",
    "        },\n",
    "                \"1\":{\n",
    "            \"qsn\":\"qsn2\",\n",
    "            \"type\":\"texxt\",\n",
    "            \"options\":[\"a\",\"c\"]\n",
    "        }\n",
    "            \n",
    "        }\n",
    "    }\n",
    "\n",
    "surveyEntry= {\n",
    "        'userName' : \"Hemanth\",\n",
    "        'surveyName' : \"test\",\n",
    "        'entryForm':{\"0\":\"ans1\",\n",
    "        \"1\":\"ans1\"   \n",
    "        }\n",
    "    }"
   ]
  },
  {
   "cell_type": "code",
   "execution_count": 11,
   "metadata": {
    "collapsed": true
   },
   "outputs": [],
   "source": [
    "def checkSurveyExists(surveyName):\n",
    "    db=client.survey\n",
    "    form=db.SurveyForms.find_one({'surveyName': surveyName})\n",
    "    if(form):\n",
    "        return True\n",
    "    return False\n",
    "\n",
    "\n",
    "def mergeSingleSurveyEntry(surveyTemplate,surveyEntry):\n",
    "    form=surveyTemplate[\"surveyForm\"]\n",
    "    for key in form:\n",
    "        form[key][\"answer\"]=surveyEntry[\"entryForm\"][key]\n",
    "    return form\n",
    "\n",
    "\n",
    "def mergeSurveyEntry(surveyTemplate,surveyEntry):\n",
    "    form=surveyTemplate\n",
    "    for key in form[\"surveyForm\"]:\n",
    "        form[\"surveyForm\"][key][\"answers\"]=[]\n",
    "        \n",
    "    form[\"users\"]=[]\n",
    "    for entry in surveyEntry:\n",
    "        form[\"users\"].append(entry[\"userName\"])\n",
    "        for key in form[\"surveyForm\"]:\n",
    "            form[\"surveyForm\"][key][\"answers\"].append(entry[\"entryForm\"][key])\n",
    "            \n",
    "    for key in form[\"surveyForm\"]:\n",
    "        form[\"surveyForm\"][key][\"answers\"]=Counter(form[\"surveyForm\"][key][\"answers\"])\n",
    "        \n",
    "    return form\n",
    "\n",
    "\n",
    "\n",
    "def verifyAccessToken(access_token):\n",
    "    URL=\"http://127.0.0.1:5001/authorize\"\n",
    "    response=requests.post(url = URL,headers={'Authorization': \"access_token\"})\n",
    "    if(response.status_code==200):\n",
    "        return True\n",
    "    else:\n",
    "        return False"
   ]
  },
  {
   "cell_type": "code",
   "execution_count": null,
   "metadata": {},
   "outputs": [
    {
     "name": "stdout",
     "output_type": "stream",
     "text": [
      " * Serving Flask app \"__main__\" (lazy loading)\n",
      " * Environment: production\n",
      "   WARNING: This is a development server. Do not use it in a production deployment.\n",
      "   Use a production WSGI server instead.\n",
      " * Debug mode: off\n"
     ]
    },
    {
     "name": "stderr",
     "output_type": "stream",
     "text": [
      " * Running on http://127.0.0.1:5002/ (Press CTRL+C to quit)\n",
      "127.0.0.1 - - [17/Oct/2019 01:46:18] \"OPTIONS /getAllSurveys HTTP/1.1\" 200 -\n",
      "127.0.0.1 - - [17/Oct/2019 01:46:19] \"OPTIONS /getUserSurveys HTTP/1.1\" 200 -\n",
      "127.0.0.1 - - [17/Oct/2019 01:46:23] \"GET /getAllSurveys HTTP/1.1\" 200 -\n",
      "127.0.0.1 - - [17/Oct/2019 01:46:25] \"POST /getUserSurveys HTTP/1.1\" 200 -\n",
      "127.0.0.1 - - [17/Oct/2019 01:46:48] \"OPTIONS /createSurvey HTTP/1.1\" 200 -\n",
      "127.0.0.1 - - [17/Oct/2019 01:46:48] \"POST /createSurvey HTTP/1.1\" 200 -\n",
      "127.0.0.1 - - [17/Oct/2019 01:46:50] \"OPTIONS /getAllSurveys HTTP/1.1\" 200 -\n",
      "127.0.0.1 - - [17/Oct/2019 01:46:51] \"GET /getAllSurveys HTTP/1.1\" 200 -\n",
      "127.0.0.1 - - [17/Oct/2019 01:46:54] \"OPTIONS /getUserSurveys HTTP/1.1\" 200 -\n",
      "127.0.0.1 - - [17/Oct/2019 01:46:55] \"POST /getUserSurveys HTTP/1.1\" 200 -\n",
      "127.0.0.1 - - [17/Oct/2019 01:46:58] \"OPTIONS /getSurvey HTTP/1.1\" 200 -\n",
      "127.0.0.1 - - [17/Oct/2019 01:46:58] \"OPTIONS /getSurveyEntries HTTP/1.1\" 200 -\n"
     ]
    },
    {
     "name": "stdout",
     "output_type": "stream",
     "text": [
      "{u'surveyName': u'New Survey'}\n",
      "<pymongo.cursor.Cursor object at 0x10e111690>\n"
     ]
    },
    {
     "name": "stderr",
     "output_type": "stream",
     "text": [
      "127.0.0.1 - - [17/Oct/2019 01:46:59] \"POST /getSurvey HTTP/1.1\" 200 -\n",
      "127.0.0.1 - - [17/Oct/2019 01:46:59] \"POST /getSurveyEntries HTTP/1.1\" 200 -\n"
     ]
    },
    {
     "name": "stdout",
     "output_type": "stream",
     "text": [
      "[]\n"
     ]
    },
    {
     "name": "stderr",
     "output_type": "stream",
     "text": [
      "127.0.0.1 - - [17/Oct/2019 01:47:10] \"OPTIONS /getAllSurveys HTTP/1.1\" 200 -\n",
      "127.0.0.1 - - [17/Oct/2019 01:47:10] \"GET /getAllSurveys HTTP/1.1\" 200 -\n",
      "127.0.0.1 - - [17/Oct/2019 01:47:12] \"OPTIONS /getSurvey HTTP/1.1\" 200 -\n",
      "127.0.0.1 - - [17/Oct/2019 01:47:14] \"POST /getSurvey HTTP/1.1\" 200 -\n",
      "127.0.0.1 - - [17/Oct/2019 01:47:18] \"OPTIONS /getUserSurveys HTTP/1.1\" 200 -\n",
      "127.0.0.1 - - [17/Oct/2019 01:47:18] \"POST /getUserSurveys HTTP/1.1\" 200 -\n",
      "127.0.0.1 - - [17/Oct/2019 01:47:39] \"OPTIONS /getUserSurveys HTTP/1.1\" 200 -\n",
      "127.0.0.1 - - [17/Oct/2019 01:47:39] \"POST /getUserSurveys HTTP/1.1\" 200 -\n",
      "127.0.0.1 - - [17/Oct/2019 01:47:42] \"OPTIONS /getAllSurveys HTTP/1.1\" 200 -\n",
      "127.0.0.1 - - [17/Oct/2019 01:47:42] \"GET /getAllSurveys HTTP/1.1\" 200 -\n",
      "127.0.0.1 - - [17/Oct/2019 01:48:05] \"OPTIONS /getUserSurveys HTTP/1.1\" 200 -\n",
      "127.0.0.1 - - [17/Oct/2019 01:48:06] \"POST /getUserSurveys HTTP/1.1\" 200 -\n",
      "127.0.0.1 - - [17/Oct/2019 01:49:40] \"OPTIONS /getUserSurveys HTTP/1.1\" 200 -\n",
      "127.0.0.1 - - [17/Oct/2019 01:49:40] \"POST /getUserSurveys HTTP/1.1\" 200 -\n",
      "127.0.0.1 - - [17/Oct/2019 01:49:46] \"OPTIONS /getUserSurveys HTTP/1.1\" 200 -\n",
      "127.0.0.1 - - [17/Oct/2019 01:49:46] \"POST /getUserSurveys HTTP/1.1\" 200 -\n",
      "127.0.0.1 - - [17/Oct/2019 01:50:40] \"OPTIONS /getUserSurveys HTTP/1.1\" 200 -\n",
      "127.0.0.1 - - [17/Oct/2019 01:50:40] \"POST /getUserSurveys HTTP/1.1\" 200 -\n",
      "127.0.0.1 - - [17/Oct/2019 01:50:50] \"OPTIONS /getAllSurveys HTTP/1.1\" 200 -\n",
      "127.0.0.1 - - [17/Oct/2019 01:50:50] \"GET /getAllSurveys HTTP/1.1\" 200 -\n",
      "127.0.0.1 - - [17/Oct/2019 01:51:23] \"OPTIONS /getUserSurveys HTTP/1.1\" 200 -\n",
      "127.0.0.1 - - [17/Oct/2019 01:51:24] \"POST /getUserSurveys HTTP/1.1\" 200 -\n",
      "127.0.0.1 - - [17/Oct/2019 01:51:34] \"OPTIONS /getUserSurveys HTTP/1.1\" 200 -\n",
      "127.0.0.1 - - [17/Oct/2019 01:51:35] \"POST /getUserSurveys HTTP/1.1\" 200 -\n",
      "127.0.0.1 - - [17/Oct/2019 01:51:37] \"POST /getUserSurveys HTTP/1.1\" 200 -\n",
      "127.0.0.1 - - [17/Oct/2019 01:52:07] \"OPTIONS /getUserSurveys HTTP/1.1\" 200 -\n",
      "127.0.0.1 - - [17/Oct/2019 01:52:07] \"POST /getUserSurveys HTTP/1.1\" 200 -\n",
      "127.0.0.1 - - [17/Oct/2019 01:52:09] \"POST /getUserSurveys HTTP/1.1\" 200 -\n",
      "127.0.0.1 - - [17/Oct/2019 01:55:10] \"OPTIONS /getUserSurveys HTTP/1.1\" 200 -\n",
      "127.0.0.1 - - [17/Oct/2019 01:55:11] \"POST /getUserSurveys HTTP/1.1\" 200 -\n",
      "127.0.0.1 - - [17/Oct/2019 01:55:13] \"POST /getUserSurveys HTTP/1.1\" 200 -\n",
      "127.0.0.1 - - [17/Oct/2019 01:55:24] \"OPTIONS /getUserSurveys HTTP/1.1\" 200 -\n",
      "127.0.0.1 - - [17/Oct/2019 01:55:25] \"POST /getUserSurveys HTTP/1.1\" 200 -\n",
      "127.0.0.1 - - [17/Oct/2019 01:55:26] \"POST /getUserSurveys HTTP/1.1\" 200 -\n",
      "127.0.0.1 - - [17/Oct/2019 01:55:53] \"OPTIONS /getUserSurveys HTTP/1.1\" 200 -\n",
      "127.0.0.1 - - [17/Oct/2019 01:55:54] \"POST /getUserSurveys HTTP/1.1\" 200 -\n",
      "127.0.0.1 - - [17/Oct/2019 01:56:08] \"OPTIONS /getUserSurveys HTTP/1.1\" 200 -\n",
      "127.0.0.1 - - [17/Oct/2019 01:56:09] \"POST /getUserSurveys HTTP/1.1\" 200 -\n",
      "127.0.0.1 - - [17/Oct/2019 01:56:30] \"OPTIONS /getUserSurveys HTTP/1.1\" 200 -\n",
      "127.0.0.1 - - [17/Oct/2019 01:56:30] \"POST /getUserSurveys HTTP/1.1\" 200 -\n",
      "127.0.0.1 - - [17/Oct/2019 02:04:30] \"OPTIONS /getUserSurveys HTTP/1.1\" 200 -\n",
      "127.0.0.1 - - [17/Oct/2019 02:04:30] \"POST /getUserSurveys HTTP/1.1\" 200 -\n",
      "127.0.0.1 - - [17/Oct/2019 02:04:45] \"OPTIONS /getUserSurveys HTTP/1.1\" 200 -\n",
      "127.0.0.1 - - [17/Oct/2019 02:04:45] \"POST /getUserSurveys HTTP/1.1\" 200 -\n",
      "127.0.0.1 - - [17/Oct/2019 02:04:47] \"OPTIONS /getAllSurveys HTTP/1.1\" 200 -\n",
      "127.0.0.1 - - [17/Oct/2019 02:04:47] \"GET /getAllSurveys HTTP/1.1\" 200 -\n",
      "127.0.0.1 - - [17/Oct/2019 02:04:50] \"OPTIONS /getSurvey HTTP/1.1\" 200 -\n",
      "127.0.0.1 - - [17/Oct/2019 02:04:50] \"POST /getSurvey HTTP/1.1\" 200 -\n",
      "127.0.0.1 - - [17/Oct/2019 02:05:25] \"OPTIONS /getSurvey HTTP/1.1\" 200 -\n",
      "127.0.0.1 - - [17/Oct/2019 02:05:25] \"POST /getSurvey HTTP/1.1\" 200 -\n",
      "127.0.0.1 - - [17/Oct/2019 02:07:32] \"OPTIONS /getSurvey HTTP/1.1\" 200 -\n",
      "127.0.0.1 - - [17/Oct/2019 02:07:32] \"POST /getSurvey HTTP/1.1\" 200 -\n",
      "127.0.0.1 - - [17/Oct/2019 02:07:42] \"OPTIONS /getUserSurveys HTTP/1.1\" 200 -\n",
      "127.0.0.1 - - [17/Oct/2019 02:07:43] \"POST /getUserSurveys HTTP/1.1\" 200 -\n",
      "127.0.0.1 - - [17/Oct/2019 02:08:13] \"OPTIONS /getUserSurveys HTTP/1.1\" 200 -\n",
      "127.0.0.1 - - [17/Oct/2019 02:08:13] \"POST /getUserSurveys HTTP/1.1\" 200 -\n",
      "127.0.0.1 - - [17/Oct/2019 02:08:33] \"OPTIONS /getUserSurveys HTTP/1.1\" 200 -\n",
      "127.0.0.1 - - [17/Oct/2019 02:08:33] \"POST /getUserSurveys HTTP/1.1\" 200 -\n",
      "127.0.0.1 - - [17/Oct/2019 02:08:37] \"OPTIONS /getSurvey HTTP/1.1\" 200 -\n",
      "127.0.0.1 - - [17/Oct/2019 02:08:37] \"OPTIONS /getSurveyEntries HTTP/1.1\" 200 -\n"
     ]
    },
    {
     "name": "stdout",
     "output_type": "stream",
     "text": [
      "{u'surveyName': u'Testing Survey'}\n",
      "<pymongo.cursor.Cursor object at 0x10e111550>\n"
     ]
    },
    {
     "name": "stderr",
     "output_type": "stream",
     "text": [
      "127.0.0.1 - - [17/Oct/2019 02:08:37] \"POST /getSurvey HTTP/1.1\" 200 -\n",
      "127.0.0.1 - - [17/Oct/2019 02:08:37] \"POST /getSurveyEntries HTTP/1.1\" 200 -\n"
     ]
    },
    {
     "name": "stdout",
     "output_type": "stream",
     "text": [
      "[{u'userName': u'test', u'surveyName': u'Testing Survey', u'entryForm': {u'1': u'Radio2', u'0': u'test', u'3': u'40.31', u'2': u'DropDown3'}}, {u'userName': u'hemanth', u'surveyName': u'Testing Survey', u'entryForm': {u'1': u'Radio2', u'0': u'test', u'3': u'42.73', u'2': u'DropDown2'}}, {u'userName': u'user', u'surveyName': u'Testing Survey', u'entryForm': {u'1': u'Radio1', u'0': u'testing the results', u'2': u'DropDown3'}}, {u'userName': u'user2', u'surveyName': u'Testing Survey', u'entryForm': {u'1': u'Radio3', u'0': u'233333', u'3': u'42.95', u'2': u'DropDown3'}}, {u'userName': u'Final Test', u'surveyName': u'Testing Survey', u'entryForm': {u'1': u'Radio3', u'0': u'final test', u'3': u'93.61', u'2': u'DropDown3'}}]\n"
     ]
    },
    {
     "name": "stderr",
     "output_type": "stream",
     "text": [
      "127.0.0.1 - - [17/Oct/2019 02:08:39] \"OPTIONS /getAllSurveys HTTP/1.1\" 200 -\n",
      "127.0.0.1 - - [17/Oct/2019 02:08:39] \"GET /getAllSurveys HTTP/1.1\" 200 -\n",
      "127.0.0.1 - - [17/Oct/2019 02:08:40] \"OPTIONS /getUserSurveys HTTP/1.1\" 200 -\n",
      "127.0.0.1 - - [17/Oct/2019 02:08:40] \"POST /getUserSurveys HTTP/1.1\" 200 -\n",
      "127.0.0.1 - - [17/Oct/2019 02:08:43] \"GET /getAllSurveys HTTP/1.1\" 200 -\n",
      "127.0.0.1 - - [17/Oct/2019 02:08:43] \"OPTIONS /getSurvey HTTP/1.1\" 200 -\n",
      "127.0.0.1 - - [17/Oct/2019 02:08:44] \"POST /getSurvey HTTP/1.1\" 200 -\n",
      "127.0.0.1 - - [17/Oct/2019 02:09:00] \"OPTIONS /getUserSurveys HTTP/1.1\" 200 -\n",
      "127.0.0.1 - - [17/Oct/2019 02:09:00] \"POST /getUserSurveys HTTP/1.1\" 200 -\n",
      "127.0.0.1 - - [17/Oct/2019 02:09:35] \"OPTIONS /getUserSurveys HTTP/1.1\" 200 -\n",
      "127.0.0.1 - - [17/Oct/2019 02:09:35] \"POST /getUserSurveys HTTP/1.1\" 200 -\n",
      "127.0.0.1 - - [17/Oct/2019 02:09:38] \"OPTIONS /getAllSurveys HTTP/1.1\" 200 -\n",
      "127.0.0.1 - - [17/Oct/2019 02:09:39] \"GET /getAllSurveys HTTP/1.1\" 200 -\n",
      "127.0.0.1 - - [17/Oct/2019 02:09:41] \"OPTIONS /getSurvey HTTP/1.1\" 200 -\n",
      "127.0.0.1 - - [17/Oct/2019 02:09:41] \"POST /getSurvey HTTP/1.1\" 200 -\n",
      "127.0.0.1 - - [17/Oct/2019 02:09:44] \"OPTIONS /getAllSurveys HTTP/1.1\" 200 -\n",
      "127.0.0.1 - - [17/Oct/2019 02:09:45] \"GET /getAllSurveys HTTP/1.1\" 200 -\n",
      "127.0.0.1 - - [17/Oct/2019 02:10:38] \"OPTIONS /getUserSurveys HTTP/1.1\" 200 -\n",
      "127.0.0.1 - - [17/Oct/2019 02:10:38] \"POST /getUserSurveys HTTP/1.1\" 200 -\n",
      "127.0.0.1 - - [17/Oct/2019 02:10:42] \"POST /getUserSurveys HTTP/1.1\" 200 -\n",
      "127.0.0.1 - - [17/Oct/2019 02:12:57] \"OPTIONS /getUserSurveys HTTP/1.1\" 200 -\n",
      "127.0.0.1 - - [17/Oct/2019 02:12:58] \"POST /getUserSurveys HTTP/1.1\" 200 -\n",
      "127.0.0.1 - - [17/Oct/2019 02:13:02] \"POST /getUserSurveys HTTP/1.1\" 200 -\n",
      "127.0.0.1 - - [17/Oct/2019 02:13:25] \"OPTIONS /getUserSurveys HTTP/1.1\" 200 -\n",
      "127.0.0.1 - - [17/Oct/2019 02:13:25] \"POST /getUserSurveys HTTP/1.1\" 200 -\n",
      "127.0.0.1 - - [17/Oct/2019 02:13:41] \"OPTIONS /getUserSurveys HTTP/1.1\" 200 -\n",
      "127.0.0.1 - - [17/Oct/2019 02:13:41] \"POST /getUserSurveys HTTP/1.1\" 200 -\n",
      "127.0.0.1 - - [17/Oct/2019 02:30:42] \"OPTIONS /getUserSurveys HTTP/1.1\" 200 -\n",
      "127.0.0.1 - - [17/Oct/2019 02:30:42] \"POST /getUserSurveys HTTP/1.1\" 200 -\n",
      "127.0.0.1 - - [17/Oct/2019 02:32:31] \"OPTIONS /getUserSurveys HTTP/1.1\" 200 -\n",
      "127.0.0.1 - - [17/Oct/2019 02:32:32] \"POST /getUserSurveys HTTP/1.1\" 200 -\n",
      "127.0.0.1 - - [17/Oct/2019 02:32:34] \"OPTIONS /getAllSurveys HTTP/1.1\" 200 -\n",
      "127.0.0.1 - - [17/Oct/2019 02:32:35] \"GET /getAllSurveys HTTP/1.1\" 200 -\n",
      "127.0.0.1 - - [17/Oct/2019 02:32:37] \"OPTIONS /getSurvey HTTP/1.1\" 200 -\n",
      "127.0.0.1 - - [17/Oct/2019 02:32:37] \"POST /getSurvey HTTP/1.1\" 200 -\n",
      "127.0.0.1 - - [17/Oct/2019 02:33:29] \"OPTIONS /getSurvey HTTP/1.1\" 200 -\n",
      "127.0.0.1 - - [17/Oct/2019 02:33:30] \"POST /getSurvey HTTP/1.1\" 200 -\n",
      "127.0.0.1 - - [17/Oct/2019 02:33:31] \"OPTIONS /getAllSurveys HTTP/1.1\" 200 -\n",
      "127.0.0.1 - - [17/Oct/2019 02:33:33] \"OPTIONS /getUserSurveys HTTP/1.1\" 200 -\n",
      "127.0.0.1 - - [17/Oct/2019 02:33:33] \"POST /getUserSurveys HTTP/1.1\" 200 -\n",
      "127.0.0.1 - - [17/Oct/2019 02:33:34] \"GET /getAllSurveys HTTP/1.1\" 200 -\n",
      "127.0.0.1 - - [17/Oct/2019 02:33:37] \"POST /getUserSurveys HTTP/1.1\" 200 -\n",
      "127.0.0.1 - - [17/Oct/2019 02:33:39] \"OPTIONS /getSurvey HTTP/1.1\" 200 -\n",
      "127.0.0.1 - - [17/Oct/2019 02:33:39] \"OPTIONS /getSurveyEntries HTTP/1.1\" 200 -\n"
     ]
    },
    {
     "name": "stdout",
     "output_type": "stream",
     "text": [
      "{u'surveyName': u'Radio Button Survey'}\n",
      "<pymongo.cursor.Cursor object at 0x10dffff10>\n"
     ]
    },
    {
     "name": "stderr",
     "output_type": "stream",
     "text": [
      "127.0.0.1 - - [17/Oct/2019 02:33:40] \"POST /getSurvey HTTP/1.1\" 200 -\n",
      "127.0.0.1 - - [17/Oct/2019 02:33:40] \"POST /getSurveyEntries HTTP/1.1\" 200 -\n"
     ]
    },
    {
     "name": "stdout",
     "output_type": "stream",
     "text": [
      "[{u'userName': u'hemanth', u'surveyName': u'Radio Button Survey', u'entryForm': {u'1': u'qwerty', u'0': u'qwer'}}]\n"
     ]
    },
    {
     "name": "stderr",
     "output_type": "stream",
     "text": [
      "127.0.0.1 - - [17/Oct/2019 02:34:35] \"OPTIONS /getAllSurveys HTTP/1.1\" 200 -\n",
      "127.0.0.1 - - [17/Oct/2019 02:34:36] \"GET /getAllSurveys HTTP/1.1\" 200 -\n",
      "127.0.0.1 - - [17/Oct/2019 02:34:37] \"OPTIONS /getSurvey HTTP/1.1\" 200 -\n",
      "127.0.0.1 - - [17/Oct/2019 02:34:38] \"POST /getSurvey HTTP/1.1\" 200 -\n",
      "127.0.0.1 - - [17/Oct/2019 02:34:40] \"OPTIONS /getAllSurveys HTTP/1.1\" 200 -\n",
      "127.0.0.1 - - [17/Oct/2019 02:34:42] \"OPTIONS /getUserSurveys HTTP/1.1\" 200 -\n",
      "127.0.0.1 - - [17/Oct/2019 02:34:43] \"POST /getUserSurveys HTTP/1.1\" 200 -\n",
      "127.0.0.1 - - [17/Oct/2019 02:34:44] \"OPTIONS /getSurvey HTTP/1.1\" 200 -\n",
      "127.0.0.1 - - [17/Oct/2019 02:34:44] \"OPTIONS /getSurveyEntries HTTP/1.1\" 200 -\n"
     ]
    },
    {
     "name": "stdout",
     "output_type": "stream",
     "text": [
      "{u'surveyName': u'Testing Survey'}\n",
      "<pymongo.cursor.Cursor object at 0x10dfdcbd0>\n"
     ]
    },
    {
     "name": "stderr",
     "output_type": "stream",
     "text": [
      "127.0.0.1 - - [17/Oct/2019 02:34:45] \"POST /getSurvey HTTP/1.1\" 200 -\n",
      "127.0.0.1 - - [17/Oct/2019 02:34:45] \"POST /getSurveyEntries HTTP/1.1\" 200 -\n"
     ]
    },
    {
     "name": "stdout",
     "output_type": "stream",
     "text": [
      "[{u'userName': u'test', u'surveyName': u'Testing Survey', u'entryForm': {u'1': u'Radio2', u'0': u'test', u'3': u'40.31', u'2': u'DropDown3'}}, {u'userName': u'hemanth', u'surveyName': u'Testing Survey', u'entryForm': {u'1': u'Radio2', u'0': u'test', u'3': u'42.73', u'2': u'DropDown2'}}, {u'userName': u'user', u'surveyName': u'Testing Survey', u'entryForm': {u'1': u'Radio1', u'0': u'testing the results', u'2': u'DropDown3'}}, {u'userName': u'user2', u'surveyName': u'Testing Survey', u'entryForm': {u'1': u'Radio3', u'0': u'233333', u'3': u'42.95', u'2': u'DropDown3'}}, {u'userName': u'Final Test', u'surveyName': u'Testing Survey', u'entryForm': {u'1': u'Radio3', u'0': u'final test', u'3': u'93.61', u'2': u'DropDown3'}}]\n"
     ]
    },
    {
     "name": "stderr",
     "output_type": "stream",
     "text": [
      "127.0.0.1 - - [17/Oct/2019 02:35:41] \"OPTIONS /getAllSurveys HTTP/1.1\" 200 -\n",
      "127.0.0.1 - - [17/Oct/2019 02:35:47] \"GET /getAllSurveys HTTP/1.1\" 200 -\n",
      "127.0.0.1 - - [17/Oct/2019 02:35:54] \"OPTIONS /getUserSurveys HTTP/1.1\" 200 -\n",
      "127.0.0.1 - - [17/Oct/2019 02:35:57] \"POST /getUserSurveys HTTP/1.1\" 200 -\n",
      "127.0.0.1 - - [17/Oct/2019 02:36:15] \"OPTIONS /getAllSurveys HTTP/1.1\" 200 -\n",
      "127.0.0.1 - - [17/Oct/2019 02:36:15] \"GET /getAllSurveys HTTP/1.1\" 200 -\n"
     ]
    }
   ],
   "source": [
    "app = Flask(__name__)\n",
    "api = Api(app)\n",
    "\n",
    "CORS(app)\n",
    "client = pymongo.MongoClient(\"mongodb+srv://hemanth:\"+ urllib.quote(\"Hemanth@123\")+\"@cluster0-59obx.mongodb.net/test?retryWrites=true&w=majority\")\n",
    "\n",
    "\n",
    "\n",
    "### swagger specific ###\n",
    "SWAGGER_URL = '/swagger'\n",
    "API_URL = '/static/swagger.json'\n",
    "SWAGGERUI_BLUEPRINT = get_swaggerui_blueprint(\n",
    "    SWAGGER_URL,\n",
    "    API_URL,\n",
    "    config={\n",
    "        'app_name': \"Seans-Python-Flask-REST-Boilerplate\"\n",
    "    }\n",
    ")\n",
    "app.register_blueprint(SWAGGERUI_BLUEPRINT, url_prefix=SWAGGER_URL)  \n",
    "\n",
    "\n",
    "@app.route(\"/\")\n",
    "def hello():\n",
    "    return jsonify({'text':'Hello World!'})\n",
    "\n",
    "\n",
    "@app.route(\"/createSurvey\",methods=['POST'])\n",
    "def createSurvey(): \n",
    "    \n",
    "    verifyAccessToken(request.headers[\"Authorization\"])\n",
    "    if not(verifyAccessToken):\n",
    "        return json.dumps({\n",
    "              \"error\": \"access_denied\"\n",
    "            }), 401\n",
    "    \n",
    "    db=client.survey\n",
    "    params=request.json\n",
    "    \n",
    "    if(checkSurveyExists(params[\"surveyName\"])):\n",
    "        return jsonify({'response':'SurveyName already Exists'})\n",
    "    surveyDetails={}\n",
    "    surveyDetails[\"userName\"]=params[\"userName\"]\n",
    "    surveyDetails[\"surveyName\"]=params[\"surveyName\"]\n",
    "    surveyDetails[\"surveyDescription\"]=params[\"surveyDescription\"]\n",
    "    surveyDetails[\"surveyForm\"]=params[\"surveyForm\"]\n",
    "    \n",
    "    result=db.SurveyForms.insert_one(surveyDetails)\n",
    "    return  jsonify({'response':'Survey successfully created'})\n",
    "\n",
    "\n",
    "@app.route(\"/getSurvey\",methods=['POST'])\n",
    "def SurveyForm():    \n",
    "    db=client.survey\n",
    "    params=request.json\n",
    "\n",
    "    if not(checkSurveyExists(params[\"surveyName\"])):\n",
    "        return jsonify({'response':'SurveyName doesnt Exists'})\n",
    "    \n",
    "    result=db.SurveyForms.find_one({'surveyName': params[\"surveyName\"]})\n",
    "    del result['_id']\n",
    "    return jsonify(result)\n",
    "\n",
    "\n",
    "@app.route(\"/fillSurvey\",methods=['POST'])\n",
    "def SurveyEntry():\n",
    "    db=client.survey\n",
    "    params=request.json\n",
    "    if not(checkSurveyExists(params[\"surveyName\"])):\n",
    "        return jsonify({'response':'SurveyName doesnt Exist'})\n",
    "    \n",
    "    surveyDetails={}\n",
    "    surveyDetails[\"userName\"]=params[\"userName\"]\n",
    "    surveyDetails[\"surveyName\"]=params[\"surveyName\"]\n",
    "    surveyDetails[\"entryForm\"]=params[\"entryForm\"]\n",
    "    \n",
    "    db.SurveyEntries.insert_one(surveyDetails)\n",
    "    return  jsonify({'response':'Survey successfully filled'})\n",
    "\n",
    "\n",
    "@app.route(\"/getAllSurveys\",methods=['GET'])\n",
    "def getAllServeys():\n",
    "    db=client.survey\n",
    "    surveys=[]\n",
    "    for i in db.SurveyForms.find():\n",
    "        del i['_id']\n",
    "        surveys.append(i)\n",
    "   \n",
    "    return jsonify({\"results\":surveys})\n",
    "\n",
    "@app.route(\"/getUserSurveys\",methods=['POST'])\n",
    "def getUserServeys():\n",
    "    params=request.json\n",
    "    db=client.survey\n",
    "    surveys=[]\n",
    "    for i in db.SurveyForms.find({'userName': params[\"userName\"]}):\n",
    "        del i['_id']\n",
    "        surveys.append(i)\n",
    "   \n",
    "    return jsonify({\"results\":surveys})\n",
    "\n",
    "@app.route(\"/getSurveyEntries\",methods=['POST'])\n",
    "def getSurveyEntries():\n",
    "    db=client.survey\n",
    "    params=request.json\n",
    "    print(params)\n",
    "    if not(checkSurveyExists(params[\"surveyName\"])):\n",
    "        return jsonify({'response':'SurveyName doesnt Exists'})\n",
    "       \n",
    "    surveyEntries=[]\n",
    "    print(db.SurveyEntries.find({'surveyName': params[\"surveyName\"]}))\n",
    "    for i in db.SurveyEntries.find({'surveyName': params[\"surveyName\"]}):\n",
    "        del i['_id']\n",
    "        surveyEntries.append(i)\n",
    "        \n",
    "    print(surveyEntries)\n",
    "    return jsonify({\"results\":surveyEntries})\n",
    "\n",
    "# @app.route(\"/surveystats\")\n",
    "# def SurveyStatistics():\n",
    "#     db=client.survey\n",
    "#     data=json.loads(str(request.data))\n",
    "#     if(!checkSurveyExists(request.surveyName)):\n",
    "#         return jsonify({'response':'SurveyName doesnt Exists'})\n",
    "    \n",
    "#     surveyEntries=db.SurveyEntries.find({'surveyName': request.surveyName})\n",
    "#     surveyTemplate=db.SurveyForms.find({'surveyName': request.surveyName})\n",
    "\n",
    "#     return surveyEntries\n",
    "\n",
    "@app.route(\"/surveystat\")\n",
    "def getByUserSurvey():\n",
    "    db=client.SurveyEntries\n",
    "    params=request.json\n",
    "    print(params)\n",
    "    if not(checkSurveyExists(params[\"surveyName\"])):\n",
    "        return jsonify({'response':'SurveyName doesnt Exists'})\n",
    "    \n",
    "    surveyEntry=db.SurveyEntries.find({'surveyName': params[\"surveyName\"],'userName':params[\"userName\"]})\n",
    "    surveyTemplate=db.SurveyForms.find({'surveyName': params[\"surveyName\"]})\n",
    "    \n",
    "    return mergeSurventry(surveyTemplate,surveyEntry)\n",
    "\n",
    "if __name__ == '__main__':\n",
    "   app.run(port=5002)\n",
    "\n"
   ]
  },
  {
   "cell_type": "code",
   "execution_count": 39,
   "metadata": {
    "collapsed": true
   },
   "outputs": [],
   "source": [
    "surveyTemplate = {\n",
    "        'userName' : \"Hemanth\",\n",
    "        'surveyName' : \"test\",\n",
    "        'surveyForm':{\"0\":{\n",
    "            \"qsn\":\"qsn1\",\n",
    "            \"type\":\"radio\",\n",
    "            \"options\":[\"a\",\"b\"]\n",
    "        },\n",
    "                \"1\":{\n",
    "            \"qsn\":\"qsn2\",\n",
    "            \"type\":\"texxt\",\n",
    "            \"options\":[\"a\",\"c\"]\n",
    "        }\n",
    "            \n",
    "        }\n",
    "    }\n",
    "\n",
    "surveyEntry= [{\n",
    "        'userName' : \"Hemanth\",\n",
    "        'surveyName' : \"test\",\n",
    "        'entryForm':{\"0\":\"ans1\",\n",
    "        \"1\":\"ans1\" }\n",
    "        },{\n",
    "        'userName' : \"Mounika\",\n",
    "        'surveyName' : \"test\",\n",
    "        'entryForm':{\"0\":\"ans1\",\n",
    "        \"1\":\"ans12\" }\n",
    "        }]\n",
    "\n"
   ]
  },
  {
   "cell_type": "code",
   "execution_count": 41,
   "metadata": {
    "collapsed": true
   },
   "outputs": [],
   "source": [
    "db=client.survey"
   ]
  },
  {
   "cell_type": "code",
   "execution_count": 42,
   "metadata": {},
   "outputs": [
    {
     "data": {
      "text/plain": [
       "{u'_id': ObjectId('5da4d328702293db99ed6678'),\n",
       " u'entryForm': {u'0': u'ans1', u'1': u'ans1'},\n",
       " u'surveyName': u'test',\n",
       " u'userName': u'Hemanth'}"
      ]
     },
     "execution_count": 42,
     "metadata": {},
     "output_type": "execute_result"
    }
   ],
   "source": [
    "db.SurveyEntries.find_one({'surveyName': \"test\"})\n"
   ]
  },
  {
   "cell_type": "code",
   "execution_count": null,
   "metadata": {
    "collapsed": true
   },
   "outputs": [],
   "source": []
  }
 ],
 "metadata": {
  "kernelspec": {
   "display_name": "Python 2",
   "language": "python",
   "name": "python2"
  },
  "language_info": {
   "codemirror_mode": {
    "name": "ipython",
    "version": 2
   },
   "file_extension": ".py",
   "mimetype": "text/x-python",
   "name": "python",
   "nbconvert_exporter": "python",
   "pygments_lexer": "ipython2",
   "version": "2.7.15"
  }
 },
 "nbformat": 4,
 "nbformat_minor": 2
}
