{
 "cells": [
  {
   "cell_type": "code",
   "execution_count": 9,
   "metadata": {
    "collapsed": true
   },
   "outputs": [],
   "source": [
    "from flask import Flask, request\n",
    "from flask_cors import CORS, cross_origin\n",
    "from flask_restful import Resource, Api\n",
    "from json import dumps\n",
    "from flask_jsonpify import jsonify\n",
    "import json\n",
    "import pymongo\n",
    "import urllib\n",
    "from collections import Counter\n",
    "import requests\n",
    "from flask_swagger_ui import get_swaggerui_blueprint"
   ]
  },
  {
   "cell_type": "code",
   "execution_count": 10,
   "metadata": {
    "collapsed": true
   },
   "outputs": [],
   "source": [
    "surveyTemplate = {\n",
    "        'userName' : \"Hemanth\",\n",
    "        'surveyName' : \"test\",\n",
    "        'surveyForm':{\"0\":{\n",
    "            \"question\":\"qsn1\",\n",
    "            \"questionType\":\"radio\",\n",
    "            \"options\":\"sd,sdf,sv\",\n",
    "            \"rangeFrom\" :\"1\",\n",
    "            \"rangeFrom\" :\"20\"\n",
    "        },\n",
    "                \"1\":{\n",
    "            \"qsn\":\"qsn2\",\n",
    "            \"type\":\"texxt\",\n",
    "            \"options\":[\"a\",\"c\"]\n",
    "        }\n",
    "            \n",
    "        }\n",
    "    }\n",
    "\n",
    "surveyEntry= {\n",
    "        'userName' : \"Hemanth\",\n",
    "        'surveyName' : \"test\",\n",
    "        'entryForm':{\"0\":\"ans1\",\n",
    "        \"1\":\"ans1\"   \n",
    "        }\n",
    "    }"
   ]
  },
  {
   "cell_type": "code",
   "execution_count": 11,
   "metadata": {
    "collapsed": true
   },
   "outputs": [],
   "source": [
    "def checkSurveyExists(surveyName):\n",
    "    db=client.survey\n",
    "    form=db.SurveyForms.find_one({'surveyName': surveyName})\n",
    "    if(form):\n",
    "        return True\n",
    "    return False\n",
    "\n",
    "\n",
    "def mergeSingleSurveyEntry(surveyTemplate,surveyEntry):\n",
    "    form=surveyTemplate[\"surveyForm\"]\n",
    "    for key in form:\n",
    "        form[key][\"answer\"]=surveyEntry[\"entryForm\"][key]\n",
    "    return form\n",
    "\n",
    "\n",
    "def mergeSurveyEntry(surveyTemplate,surveyEntry):\n",
    "    form=surveyTemplate\n",
    "    for key in form[\"surveyForm\"]:\n",
    "        form[\"surveyForm\"][key][\"answers\"]=[]\n",
    "        \n",
    "    form[\"users\"]=[]\n",
    "    for entry in surveyEntry:\n",
    "        form[\"users\"].append(entry[\"userName\"])\n",
    "        for key in form[\"surveyForm\"]:\n",
    "            form[\"surveyForm\"][key][\"answers\"].append(entry[\"entryForm\"][key])\n",
    "            \n",
    "    for key in form[\"surveyForm\"]:\n",
    "        form[\"surveyForm\"][key][\"answers\"]=Counter(form[\"surveyForm\"][key][\"answers\"])\n",
    "        \n",
    "    return form\n",
    "\n",
    "\n",
    "\n",
    "def verifyAccessToken(access_token):\n",
    "    URL=\"http://127.0.0.1:5001/authorize\"\n",
    "    response=requests.post(url = URL,headers={'Authorization': \"access_token\"})\n",
    "    if(response.status_code==200):\n",
    "        return True\n",
    "    else:\n",
    "        return False"
   ]
  },
  {
   "cell_type": "code",
   "execution_count": null,
   "metadata": {},
   "outputs": [
    {
     "name": "stdout",
     "output_type": "stream",
     "text": [
      " * Serving Flask app \"__main__\" (lazy loading)\n",
      " * Environment: production\n",
      "   WARNING: This is a development server. Do not use it in a production deployment.\n",
      "   Use a production WSGI server instead.\n",
      " * Debug mode: off\n"
     ]
    },
    {
     "name": "stderr",
     "output_type": "stream",
     "text": [
      " * Running on http://127.0.0.1:5002/ (Press CTRL+C to quit)\n",
      "127.0.0.1 - - [16/Oct/2019 21:01:22] \"OPTIONS /getSurvey HTTP/1.1\" 200 -\n",
      "127.0.0.1 - - [16/Oct/2019 21:01:22] \"OPTIONS /getSurvey HTTP/1.1\" 200 -\n"
     ]
    },
    {
     "name": "stdout",
     "output_type": "stream",
     "text": [
      "{u'surveyName': u'Radio Button Survey'}\n",
      "{u'surveyName': u'Radio Button Survey'}\n"
     ]
    },
    {
     "name": "stderr",
     "output_type": "stream",
     "text": [
      "127.0.0.1 - - [16/Oct/2019 21:01:25] \"POST /getSurvey HTTP/1.1\" 200 -\n",
      "127.0.0.1 - - [16/Oct/2019 21:01:25] \"POST /getSurvey HTTP/1.1\" 200 -\n"
     ]
    },
    {
     "name": "stdout",
     "output_type": "stream",
     "text": [
      "{u'userName': u'User1', u'surveyDescription': u'tetsing the radio utton', u'surveyForm': {u'1': {u'questionType': u'Radio', u'rangeTo': u'', u'question': u'Question Add', u'options': u'qwerty,qwer,qwer', u'rangeFrom': u''}, u'0': {u'questionType': u'Radio', u'rangeTo': u'', u'question': u'', u'options': u'qwerty,qwer,qwer', u'rangeFrom': u''}}, u'surveyName': u'Radio Button Survey'}\n",
      "{u'userName': u'User1', u'surveyDescription': u'tetsing the radio utton', u'surveyForm': {u'1': {u'questionType': u'Radio', u'rangeTo': u'', u'question': u'Question Add', u'options': u'qwerty,qwer,qwer', u'rangeFrom': u''}, u'0': {u'questionType': u'Radio', u'rangeTo': u'', u'question': u'', u'options': u'qwerty,qwer,qwer', u'rangeFrom': u''}}, u'surveyName': u'Radio Button Survey'}\n"
     ]
    },
    {
     "name": "stderr",
     "output_type": "stream",
     "text": [
      "127.0.0.1 - - [16/Oct/2019 21:07:02] \"OPTIONS /getAllSurveys HTTP/1.1\" 200 -\n",
      "127.0.0.1 - - [16/Oct/2019 21:07:02] \"GET /getAllSurveys HTTP/1.1\" 200 -\n"
     ]
    },
    {
     "name": "stdout",
     "output_type": "stream",
     "text": [
      "[{u'userName': u'User1', u'surveyDescription': u'', u'surveyForm': {u'0': {u'questionType': u'Text', u'rangeTo': u'', u'question': u'testing', u'options': u'', u'rangeFrom': u''}}, u'surveyName': u''}, {u'userName': u'User1', u'surveyDescription': u'tetsing the radio utton', u'surveyForm': {u'1': {u'questionType': u'Radio', u'rangeTo': u'', u'question': u'Question Add', u'options': u'qwerty,qwer,qwer', u'rangeFrom': u''}, u'0': {u'questionType': u'Radio', u'rangeTo': u'', u'question': u'', u'options': u'qwerty,qwer,qwer', u'rangeFrom': u''}}, u'surveyName': u'Radio Button Survey'}]\n"
     ]
    },
    {
     "name": "stderr",
     "output_type": "stream",
     "text": [
      "127.0.0.1 - - [16/Oct/2019 21:08:17] \"OPTIONS /getAllSurveys HTTP/1.1\" 200 -\n",
      "127.0.0.1 - - [16/Oct/2019 21:08:17] \"GET /getAllSurveys HTTP/1.1\" 200 -\n"
     ]
    },
    {
     "name": "stdout",
     "output_type": "stream",
     "text": [
      "[{u'userName': u'User1', u'surveyDescription': u'', u'surveyForm': {u'0': {u'questionType': u'Text', u'rangeTo': u'', u'question': u'testing', u'options': u'', u'rangeFrom': u''}}, u'surveyName': u''}, {u'userName': u'User1', u'surveyDescription': u'tetsing the radio utton', u'surveyForm': {u'1': {u'questionType': u'Radio', u'rangeTo': u'', u'question': u'Question Add', u'options': u'qwerty,qwer,qwer', u'rangeFrom': u''}, u'0': {u'questionType': u'Radio', u'rangeTo': u'', u'question': u'', u'options': u'qwerty,qwer,qwer', u'rangeFrom': u''}}, u'surveyName': u'Radio Button Survey'}]\n"
     ]
    },
    {
     "name": "stderr",
     "output_type": "stream",
     "text": [
      "127.0.0.1 - - [16/Oct/2019 21:08:18] \"OPTIONS /getSurvey HTTP/1.1\" 200 -\n",
      "127.0.0.1 - - [16/Oct/2019 21:08:18] \"OPTIONS /getSurvey HTTP/1.1\" 200 -\n"
     ]
    },
    {
     "name": "stdout",
     "output_type": "stream",
     "text": [
      "{u'surveyName': u'Radio Button Survey'}\n",
      "{u'surveyName': u'Radio Button Survey'}\n"
     ]
    },
    {
     "name": "stderr",
     "output_type": "stream",
     "text": [
      "127.0.0.1 - - [16/Oct/2019 21:08:19] \"POST /getSurvey HTTP/1.1\" 200 -\n",
      "127.0.0.1 - - [16/Oct/2019 21:08:19] \"POST /getSurvey HTTP/1.1\" 200 -\n"
     ]
    },
    {
     "name": "stdout",
     "output_type": "stream",
     "text": [
      "{u'userName': u'User1', u'surveyDescription': u'tetsing the radio utton', u'surveyForm': {u'1': {u'questionType': u'Radio', u'rangeTo': u'', u'question': u'Question Add', u'options': u'qwerty,qwer,qwer', u'rangeFrom': u''}, u'0': {u'questionType': u'Radio', u'rangeTo': u'', u'question': u'', u'options': u'qwerty,qwer,qwer', u'rangeFrom': u''}}, u'surveyName': u'Radio Button Survey'}{u'userName': u'User1', u'surveyDescription': u'tetsing the radio utton', u'surveyForm': {u'1': {u'questionType': u'Radio', u'rangeTo': u'', u'question': u'Question Add', u'options': u'qwerty,qwer,qwer', u'rangeFrom': u''}, u'0': {u'questionType': u'Radio', u'rangeTo': u'', u'question': u'', u'options': u'qwerty,qwer,qwer', u'rangeFrom': u''}}, u'surveyName': u'Radio Button Survey'}\n",
      "\n"
     ]
    },
    {
     "name": "stderr",
     "output_type": "stream",
     "text": [
      "127.0.0.1 - - [16/Oct/2019 21:08:52] \"OPTIONS /getSurvey HTTP/1.1\" 200 -\n",
      "127.0.0.1 - - [16/Oct/2019 21:08:52] \"OPTIONS /getSurvey HTTP/1.1\" 200 -\n"
     ]
    },
    {
     "name": "stdout",
     "output_type": "stream",
     "text": [
      "{u'surveyName': u'Radio Button Survey'}\n",
      "{u'surveyName': u'Radio Button Survey'}\n"
     ]
    },
    {
     "name": "stderr",
     "output_type": "stream",
     "text": [
      "127.0.0.1 - - [16/Oct/2019 21:08:52] \"POST /getSurvey HTTP/1.1\" 200 -\n",
      "127.0.0.1 - - [16/Oct/2019 21:08:52] \"POST /getSurvey HTTP/1.1\" 200 -\n"
     ]
    },
    {
     "name": "stdout",
     "output_type": "stream",
     "text": [
      "{u'userName': u'User1', u'surveyDescription': u'tetsing the radio utton', u'surveyForm': {u'1': {u'questionType': u'Radio', u'rangeTo': u'', u'question': u'Question Add', u'options': u'qwerty,qwer,qwer', u'rangeFrom': u''}, u'0': {u'questionType': u'Radio', u'rangeTo': u'', u'question': u'', u'options': u'qwerty,qwer,qwer', u'rangeFrom': u''}}, u'surveyName': u'Radio Button Survey'}{u'userName': u'User1', u'surveyDescription': u'tetsing the radio utton', u'surveyForm': {u'1': {u'questionType': u'Radio', u'rangeTo': u'', u'question': u'Question Add', u'options': u'qwerty,qwer,qwer', u'rangeFrom': u''}, u'0': {u'questionType': u'Radio', u'rangeTo': u'', u'question': u'', u'options': u'qwerty,qwer,qwer', u'rangeFrom': u''}}, u'surveyName': u'Radio Button Survey'}\n",
      "\n",
      "{u'surveyName': u'Radio Button Survey'}\n",
      "{u'surveyName': u'Radio Button Survey'}\n"
     ]
    },
    {
     "name": "stderr",
     "output_type": "stream",
     "text": [
      "127.0.0.1 - - [16/Oct/2019 21:08:53] \"POST /getSurvey HTTP/1.1\" 200 -\n",
      "127.0.0.1 - - [16/Oct/2019 21:08:53] \"POST /getSurvey HTTP/1.1\" 200 -\n"
     ]
    },
    {
     "name": "stdout",
     "output_type": "stream",
     "text": [
      "{u'userName': u'User1', u'surveyDescription': u'tetsing the radio utton', u'surveyForm': {u'1': {u'questionType': u'Radio', u'rangeTo': u'', u'question': u'Question Add', u'options': u'qwerty,qwer,qwer', u'rangeFrom': u''}, u'0': {u'questionType': u'Radio', u'rangeTo': u'', u'question': u'', u'options': u'qwerty,qwer,qwer', u'rangeFrom': u''}}, u'surveyName': u'Radio Button Survey'}\n",
      "{u'userName': u'User1', u'surveyDescription': u'tetsing the radio utton', u'surveyForm': {u'1': {u'questionType': u'Radio', u'rangeTo': u'', u'question': u'Question Add', u'options': u'qwerty,qwer,qwer', u'rangeFrom': u''}, u'0': {u'questionType': u'Radio', u'rangeTo': u'', u'question': u'', u'options': u'qwerty,qwer,qwer', u'rangeFrom': u''}}, u'surveyName': u'Radio Button Survey'}\n"
     ]
    },
    {
     "name": "stderr",
     "output_type": "stream",
     "text": [
      "127.0.0.1 - - [16/Oct/2019 21:08:53] \"OPTIONS /getAllSurveys HTTP/1.1\" 200 -\n",
      "127.0.0.1 - - [16/Oct/2019 21:08:54] \"GET /getAllSurveys HTTP/1.1\" 200 -\n"
     ]
    },
    {
     "name": "stdout",
     "output_type": "stream",
     "text": [
      "[{u'userName': u'User1', u'surveyDescription': u'', u'surveyForm': {u'0': {u'questionType': u'Text', u'rangeTo': u'', u'question': u'testing', u'options': u'', u'rangeFrom': u''}}, u'surveyName': u''}, {u'userName': u'User1', u'surveyDescription': u'tetsing the radio utton', u'surveyForm': {u'1': {u'questionType': u'Radio', u'rangeTo': u'', u'question': u'Question Add', u'options': u'qwerty,qwer,qwer', u'rangeFrom': u''}, u'0': {u'questionType': u'Radio', u'rangeTo': u'', u'question': u'', u'options': u'qwerty,qwer,qwer', u'rangeFrom': u''}}, u'surveyName': u'Radio Button Survey'}]\n"
     ]
    },
    {
     "name": "stderr",
     "output_type": "stream",
     "text": [
      "127.0.0.1 - - [16/Oct/2019 21:11:56] \"OPTIONS /getAllSurveys HTTP/1.1\" 200 -\n",
      "127.0.0.1 - - [16/Oct/2019 21:11:56] \"GET /getAllSurveys HTTP/1.1\" 200 -\n"
     ]
    },
    {
     "name": "stdout",
     "output_type": "stream",
     "text": [
      "[{u'userName': u'User1', u'surveyDescription': u'', u'surveyForm': {u'0': {u'questionType': u'Text', u'rangeTo': u'', u'question': u'testing', u'options': u'', u'rangeFrom': u''}}, u'surveyName': u''}, {u'userName': u'User1', u'surveyDescription': u'tetsing the radio utton', u'surveyForm': {u'1': {u'questionType': u'Radio', u'rangeTo': u'', u'question': u'Question Add', u'options': u'qwerty,qwer,qwer', u'rangeFrom': u''}, u'0': {u'questionType': u'Radio', u'rangeTo': u'', u'question': u'', u'options': u'qwerty,qwer,qwer', u'rangeFrom': u''}}, u'surveyName': u'Radio Button Survey'}]\n"
     ]
    },
    {
     "name": "stderr",
     "output_type": "stream",
     "text": [
      "127.0.0.1 - - [16/Oct/2019 21:15:32] \"OPTIONS /getSurvey HTTP/1.1\" 200 -\n"
     ]
    },
    {
     "name": "stdout",
     "output_type": "stream",
     "text": [
      "{u'surveyName': u'Radio Button Survey'}\n"
     ]
    },
    {
     "name": "stderr",
     "output_type": "stream",
     "text": [
      "127.0.0.1 - - [16/Oct/2019 21:15:33] \"POST /getSurvey HTTP/1.1\" 200 -\n"
     ]
    },
    {
     "name": "stdout",
     "output_type": "stream",
     "text": [
      "{u'userName': u'User1', u'surveyDescription': u'tetsing the radio utton', u'surveyForm': {u'1': {u'questionType': u'Radio', u'rangeTo': u'', u'question': u'Question Add', u'options': u'qwerty,qwer,qwer', u'rangeFrom': u''}, u'0': {u'questionType': u'Radio', u'rangeTo': u'', u'question': u'', u'options': u'qwerty,qwer,qwer', u'rangeFrom': u''}}, u'surveyName': u'Radio Button Survey'}\n"
     ]
    },
    {
     "name": "stderr",
     "output_type": "stream",
     "text": [
      "127.0.0.1 - - [16/Oct/2019 21:16:51] \"OPTIONS /getSurvey HTTP/1.1\" 200 -\n"
     ]
    },
    {
     "name": "stdout",
     "output_type": "stream",
     "text": [
      "{u'surveyName': u'Radio Button Survey'}\n"
     ]
    },
    {
     "name": "stderr",
     "output_type": "stream",
     "text": [
      "127.0.0.1 - - [16/Oct/2019 21:16:52] \"POST /getSurvey HTTP/1.1\" 200 -\n"
     ]
    },
    {
     "name": "stdout",
     "output_type": "stream",
     "text": [
      "{u'userName': u'User1', u'surveyDescription': u'tetsing the radio utton', u'surveyForm': {u'1': {u'questionType': u'Radio', u'rangeTo': u'', u'question': u'Question Add', u'options': u'qwerty,qwer,qwer', u'rangeFrom': u''}, u'0': {u'questionType': u'Radio', u'rangeTo': u'', u'question': u'', u'options': u'qwerty,qwer,qwer', u'rangeFrom': u''}}, u'surveyName': u'Radio Button Survey'}\n"
     ]
    },
    {
     "name": "stderr",
     "output_type": "stream",
     "text": [
      "127.0.0.1 - - [16/Oct/2019 21:17:12] \"OPTIONS /getSurvey HTTP/1.1\" 200 -\n"
     ]
    },
    {
     "name": "stdout",
     "output_type": "stream",
     "text": [
      "{u'surveyName': u'Radio Button Survey'}\n"
     ]
    },
    {
     "name": "stderr",
     "output_type": "stream",
     "text": [
      "127.0.0.1 - - [16/Oct/2019 21:17:12] \"POST /getSurvey HTTP/1.1\" 200 -\n"
     ]
    },
    {
     "name": "stdout",
     "output_type": "stream",
     "text": [
      "{u'userName': u'User1', u'surveyDescription': u'tetsing the radio utton', u'surveyForm': {u'1': {u'questionType': u'Radio', u'rangeTo': u'', u'question': u'Question Add', u'options': u'qwerty,qwer,qwer', u'rangeFrom': u''}, u'0': {u'questionType': u'Radio', u'rangeTo': u'', u'question': u'', u'options': u'qwerty,qwer,qwer', u'rangeFrom': u''}}, u'surveyName': u'Radio Button Survey'}\n"
     ]
    },
    {
     "name": "stderr",
     "output_type": "stream",
     "text": [
      "127.0.0.1 - - [16/Oct/2019 21:17:24] \"OPTIONS /getSurvey HTTP/1.1\" 200 -\n"
     ]
    },
    {
     "name": "stdout",
     "output_type": "stream",
     "text": [
      "{u'surveyName': u'Radio Button Survey'}\n"
     ]
    },
    {
     "name": "stderr",
     "output_type": "stream",
     "text": [
      "127.0.0.1 - - [16/Oct/2019 21:17:24] \"POST /getSurvey HTTP/1.1\" 200 -\n"
     ]
    },
    {
     "name": "stdout",
     "output_type": "stream",
     "text": [
      "{u'userName': u'User1', u'surveyDescription': u'tetsing the radio utton', u'surveyForm': {u'1': {u'questionType': u'Radio', u'rangeTo': u'', u'question': u'Question Add', u'options': u'qwerty,qwer,qwer', u'rangeFrom': u''}, u'0': {u'questionType': u'Radio', u'rangeTo': u'', u'question': u'', u'options': u'qwerty,qwer,qwer', u'rangeFrom': u''}}, u'surveyName': u'Radio Button Survey'}\n"
     ]
    },
    {
     "name": "stderr",
     "output_type": "stream",
     "text": [
      "127.0.0.1 - - [16/Oct/2019 21:19:20] \"OPTIONS /getSurvey HTTP/1.1\" 200 -\n"
     ]
    },
    {
     "name": "stdout",
     "output_type": "stream",
     "text": [
      "{u'surveyName': u'Radio Button Survey'}\n"
     ]
    },
    {
     "name": "stderr",
     "output_type": "stream",
     "text": [
      "127.0.0.1 - - [16/Oct/2019 21:19:21] \"POST /getSurvey HTTP/1.1\" 200 -\n"
     ]
    },
    {
     "name": "stdout",
     "output_type": "stream",
     "text": [
      "{u'userName': u'User1', u'surveyDescription': u'tetsing the radio utton', u'surveyForm': {u'1': {u'questionType': u'Radio', u'rangeTo': u'', u'question': u'Question Add', u'options': u'qwerty,qwer,qwer', u'rangeFrom': u''}, u'0': {u'questionType': u'Radio', u'rangeTo': u'', u'question': u'', u'options': u'qwerty,qwer,qwer', u'rangeFrom': u''}}, u'surveyName': u'Radio Button Survey'}\n"
     ]
    },
    {
     "name": "stderr",
     "output_type": "stream",
     "text": [
      "127.0.0.1 - - [16/Oct/2019 21:20:30] \"OPTIONS /getSurvey HTTP/1.1\" 200 -\n"
     ]
    },
    {
     "name": "stdout",
     "output_type": "stream",
     "text": [
      "{u'surveyName': u'Radio Button Survey'}\n"
     ]
    },
    {
     "name": "stderr",
     "output_type": "stream",
     "text": [
      "127.0.0.1 - - [16/Oct/2019 21:20:31] \"POST /getSurvey HTTP/1.1\" 200 -\n"
     ]
    },
    {
     "name": "stdout",
     "output_type": "stream",
     "text": [
      "{u'userName': u'User1', u'surveyDescription': u'tetsing the radio utton', u'surveyForm': {u'1': {u'questionType': u'Radio', u'rangeTo': u'', u'question': u'Question Add', u'options': u'qwerty,qwer,qwer', u'rangeFrom': u''}, u'0': {u'questionType': u'Radio', u'rangeTo': u'', u'question': u'', u'options': u'qwerty,qwer,qwer', u'rangeFrom': u''}}, u'surveyName': u'Radio Button Survey'}\n"
     ]
    },
    {
     "name": "stderr",
     "output_type": "stream",
     "text": [
      "127.0.0.1 - - [16/Oct/2019 21:48:44] \"OPTIONS /getSurvey HTTP/1.1\" 200 -\n"
     ]
    },
    {
     "name": "stdout",
     "output_type": "stream",
     "text": [
      "{u'surveyName': u'Radio Button Survey'}\n"
     ]
    },
    {
     "name": "stderr",
     "output_type": "stream",
     "text": [
      "127.0.0.1 - - [16/Oct/2019 21:48:44] \"POST /getSurvey HTTP/1.1\" 200 -\n"
     ]
    },
    {
     "name": "stdout",
     "output_type": "stream",
     "text": [
      "{u'userName': u'User1', u'surveyDescription': u'tetsing the radio utton', u'surveyForm': {u'1': {u'questionType': u'Radio', u'rangeTo': u'', u'question': u'Question Add', u'options': u'qwerty,qwer,qwer', u'rangeFrom': u''}, u'0': {u'questionType': u'Radio', u'rangeTo': u'', u'question': u'', u'options': u'qwerty,qwer,qwer', u'rangeFrom': u''}}, u'surveyName': u'Radio Button Survey'}\n"
     ]
    },
    {
     "name": "stderr",
     "output_type": "stream",
     "text": [
      "127.0.0.1 - - [16/Oct/2019 21:49:23] \"OPTIONS /getSurvey HTTP/1.1\" 200 -\n"
     ]
    },
    {
     "name": "stdout",
     "output_type": "stream",
     "text": [
      "{u'surveyName': u'Radio Button Survey'}\n"
     ]
    },
    {
     "name": "stderr",
     "output_type": "stream",
     "text": [
      "127.0.0.1 - - [16/Oct/2019 21:49:24] \"POST /getSurvey HTTP/1.1\" 200 -\n"
     ]
    },
    {
     "name": "stdout",
     "output_type": "stream",
     "text": [
      "{u'userName': u'User1', u'surveyDescription': u'tetsing the radio utton', u'surveyForm': {u'1': {u'questionType': u'Radio', u'rangeTo': u'', u'question': u'Question Add', u'options': u'qwerty,qwer,qwer', u'rangeFrom': u''}, u'0': {u'questionType': u'Radio', u'rangeTo': u'', u'question': u'', u'options': u'qwerty,qwer,qwer', u'rangeFrom': u''}}, u'surveyName': u'Radio Button Survey'}\n"
     ]
    },
    {
     "name": "stderr",
     "output_type": "stream",
     "text": [
      "127.0.0.1 - - [16/Oct/2019 21:50:45] \"OPTIONS /getSurvey HTTP/1.1\" 200 -\n"
     ]
    },
    {
     "name": "stdout",
     "output_type": "stream",
     "text": [
      "{u'surveyName': u'Radio Button Survey'}\n"
     ]
    },
    {
     "name": "stderr",
     "output_type": "stream",
     "text": [
      "127.0.0.1 - - [16/Oct/2019 21:50:45] \"POST /getSurvey HTTP/1.1\" 200 -\n"
     ]
    },
    {
     "name": "stdout",
     "output_type": "stream",
     "text": [
      "{u'userName': u'User1', u'surveyDescription': u'tetsing the radio utton', u'surveyForm': {u'1': {u'questionType': u'Radio', u'rangeTo': u'', u'question': u'Question Add', u'options': u'qwerty,qwer,qwer', u'rangeFrom': u''}, u'0': {u'questionType': u'Radio', u'rangeTo': u'', u'question': u'', u'options': u'qwerty,qwer,qwer', u'rangeFrom': u''}}, u'surveyName': u'Radio Button Survey'}\n"
     ]
    },
    {
     "name": "stderr",
     "output_type": "stream",
     "text": [
      "127.0.0.1 - - [16/Oct/2019 21:53:47] \"OPTIONS /getSurvey HTTP/1.1\" 200 -\n"
     ]
    },
    {
     "name": "stdout",
     "output_type": "stream",
     "text": [
      "{u'surveyName': u'Radio Button Survey'}\n"
     ]
    },
    {
     "name": "stderr",
     "output_type": "stream",
     "text": [
      "127.0.0.1 - - [16/Oct/2019 21:53:48] \"POST /getSurvey HTTP/1.1\" 200 -\n"
     ]
    },
    {
     "name": "stdout",
     "output_type": "stream",
     "text": [
      "{u'userName': u'User1', u'surveyDescription': u'tetsing the radio utton', u'surveyForm': {u'1': {u'questionType': u'Radio', u'rangeTo': u'', u'question': u'Question Add', u'options': u'qwerty,qwer,qwer', u'rangeFrom': u''}, u'0': {u'questionType': u'Radio', u'rangeTo': u'', u'question': u'', u'options': u'qwerty,qwer,qwer', u'rangeFrom': u''}}, u'surveyName': u'Radio Button Survey'}\n"
     ]
    },
    {
     "name": "stderr",
     "output_type": "stream",
     "text": [
      "127.0.0.1 - - [16/Oct/2019 21:54:30] \"OPTIONS /getSurvey HTTP/1.1\" 200 -\n"
     ]
    },
    {
     "name": "stdout",
     "output_type": "stream",
     "text": [
      "{u'surveyName': u'Radio Button Survey'}\n"
     ]
    },
    {
     "name": "stderr",
     "output_type": "stream",
     "text": [
      "127.0.0.1 - - [16/Oct/2019 21:54:31] \"POST /getSurvey HTTP/1.1\" 200 -\n"
     ]
    },
    {
     "name": "stdout",
     "output_type": "stream",
     "text": [
      "{u'userName': u'User1', u'surveyDescription': u'tetsing the radio utton', u'surveyForm': {u'1': {u'questionType': u'Radio', u'rangeTo': u'', u'question': u'Question Add', u'options': u'qwerty,qwer,qwer', u'rangeFrom': u''}, u'0': {u'questionType': u'Radio', u'rangeTo': u'', u'question': u'', u'options': u'qwerty,qwer,qwer', u'rangeFrom': u''}}, u'surveyName': u'Radio Button Survey'}\n"
     ]
    },
    {
     "name": "stderr",
     "output_type": "stream",
     "text": [
      "127.0.0.1 - - [16/Oct/2019 21:54:47] \"OPTIONS /getSurvey HTTP/1.1\" 200 -\n"
     ]
    },
    {
     "name": "stdout",
     "output_type": "stream",
     "text": [
      "{u'surveyName': u'Radio Button Survey'}\n"
     ]
    },
    {
     "name": "stderr",
     "output_type": "stream",
     "text": [
      "127.0.0.1 - - [16/Oct/2019 21:54:48] \"POST /getSurvey HTTP/1.1\" 200 -\n"
     ]
    },
    {
     "name": "stdout",
     "output_type": "stream",
     "text": [
      "{u'userName': u'User1', u'surveyDescription': u'tetsing the radio utton', u'surveyForm': {u'1': {u'questionType': u'Radio', u'rangeTo': u'', u'question': u'Question Add', u'options': u'qwerty,qwer,qwer', u'rangeFrom': u''}, u'0': {u'questionType': u'Radio', u'rangeTo': u'', u'question': u'', u'options': u'qwerty,qwer,qwer', u'rangeFrom': u''}}, u'surveyName': u'Radio Button Survey'}\n"
     ]
    },
    {
     "name": "stderr",
     "output_type": "stream",
     "text": [
      "127.0.0.1 - - [16/Oct/2019 21:55:27] \"OPTIONS /getSurvey HTTP/1.1\" 200 -\n"
     ]
    },
    {
     "name": "stdout",
     "output_type": "stream",
     "text": [
      "{u'surveyName': u'Radio Button Survey'}\n"
     ]
    },
    {
     "name": "stderr",
     "output_type": "stream",
     "text": [
      "127.0.0.1 - - [16/Oct/2019 21:55:28] \"POST /getSurvey HTTP/1.1\" 200 -\n"
     ]
    },
    {
     "name": "stdout",
     "output_type": "stream",
     "text": [
      "{u'userName': u'User1', u'surveyDescription': u'tetsing the radio utton', u'surveyForm': {u'1': {u'questionType': u'Radio', u'rangeTo': u'', u'question': u'Question Add', u'options': u'qwerty,qwer,qwer', u'rangeFrom': u''}, u'0': {u'questionType': u'Radio', u'rangeTo': u'', u'question': u'', u'options': u'qwerty,qwer,qwer', u'rangeFrom': u''}}, u'surveyName': u'Radio Button Survey'}\n"
     ]
    },
    {
     "name": "stderr",
     "output_type": "stream",
     "text": [
      "127.0.0.1 - - [16/Oct/2019 21:55:47] \"OPTIONS /getSurvey HTTP/1.1\" 200 -\n"
     ]
    },
    {
     "name": "stdout",
     "output_type": "stream",
     "text": [
      "{u'surveyName': u'Radio Button Survey'}\n"
     ]
    },
    {
     "name": "stderr",
     "output_type": "stream",
     "text": [
      "127.0.0.1 - - [16/Oct/2019 21:55:47] \"POST /getSurvey HTTP/1.1\" 200 -\n"
     ]
    },
    {
     "name": "stdout",
     "output_type": "stream",
     "text": [
      "{u'userName': u'User1', u'surveyDescription': u'tetsing the radio utton', u'surveyForm': {u'1': {u'questionType': u'Radio', u'rangeTo': u'', u'question': u'Question Add', u'options': u'qwerty,qwer,qwer', u'rangeFrom': u''}, u'0': {u'questionType': u'Radio', u'rangeTo': u'', u'question': u'', u'options': u'qwerty,qwer,qwer', u'rangeFrom': u''}}, u'surveyName': u'Radio Button Survey'}\n"
     ]
    },
    {
     "name": "stderr",
     "output_type": "stream",
     "text": [
      "127.0.0.1 - - [16/Oct/2019 21:57:32] \"OPTIONS /getAllSurveys HTTP/1.1\" 200 -\n",
      "127.0.0.1 - - [16/Oct/2019 21:57:32] \"GET /getAllSurveys HTTP/1.1\" 200 -\n"
     ]
    },
    {
     "name": "stdout",
     "output_type": "stream",
     "text": [
      "[{u'userName': u'User1', u'surveyDescription': u'', u'surveyForm': {u'0': {u'questionType': u'Text', u'rangeTo': u'', u'question': u'testing', u'options': u'', u'rangeFrom': u''}}, u'surveyName': u''}, {u'userName': u'User1', u'surveyDescription': u'tetsing the radio utton', u'surveyForm': {u'1': {u'questionType': u'Radio', u'rangeTo': u'', u'question': u'Question Add', u'options': u'qwerty,qwer,qwer', u'rangeFrom': u''}, u'0': {u'questionType': u'Radio', u'rangeTo': u'', u'question': u'', u'options': u'qwerty,qwer,qwer', u'rangeFrom': u''}}, u'surveyName': u'Radio Button Survey'}]\n"
     ]
    },
    {
     "name": "stderr",
     "output_type": "stream",
     "text": [
      "127.0.0.1 - - [16/Oct/2019 21:57:33] \"OPTIONS /getSurvey HTTP/1.1\" 200 -\n"
     ]
    },
    {
     "name": "stdout",
     "output_type": "stream",
     "text": [
      "{u'surveyName': u'Radio Button Survey'}\n"
     ]
    },
    {
     "name": "stderr",
     "output_type": "stream",
     "text": [
      "127.0.0.1 - - [16/Oct/2019 21:57:34] \"POST /getSurvey HTTP/1.1\" 200 -\n"
     ]
    },
    {
     "name": "stdout",
     "output_type": "stream",
     "text": [
      "{u'userName': u'User1', u'surveyDescription': u'tetsing the radio utton', u'surveyForm': {u'1': {u'questionType': u'Radio', u'rangeTo': u'', u'question': u'Question Add', u'options': u'qwerty,qwer,qwer', u'rangeFrom': u''}, u'0': {u'questionType': u'Radio', u'rangeTo': u'', u'question': u'', u'options': u'qwerty,qwer,qwer', u'rangeFrom': u''}}, u'surveyName': u'Radio Button Survey'}\n"
     ]
    },
    {
     "name": "stderr",
     "output_type": "stream",
     "text": [
      "127.0.0.1 - - [16/Oct/2019 22:00:00] \"OPTIONS /getAllSurveys HTTP/1.1\" 200 -\n",
      "127.0.0.1 - - [16/Oct/2019 22:00:00] \"GET /getAllSurveys HTTP/1.1\" 200 -\n"
     ]
    },
    {
     "name": "stdout",
     "output_type": "stream",
     "text": [
      "[{u'userName': u'User1', u'surveyDescription': u'', u'surveyForm': {u'0': {u'questionType': u'Text', u'rangeTo': u'', u'question': u'testing', u'options': u'', u'rangeFrom': u''}}, u'surveyName': u''}, {u'userName': u'User1', u'surveyDescription': u'tetsing the radio utton', u'surveyForm': {u'1': {u'questionType': u'Radio', u'rangeTo': u'', u'question': u'Question Add', u'options': u'qwerty,qwer,qwer', u'rangeFrom': u''}, u'0': {u'questionType': u'Radio', u'rangeTo': u'', u'question': u'', u'options': u'qwerty,qwer,qwer', u'rangeFrom': u''}}, u'surveyName': u'Radio Button Survey'}]\n"
     ]
    },
    {
     "name": "stderr",
     "output_type": "stream",
     "text": [
      "127.0.0.1 - - [16/Oct/2019 22:00:01] \"OPTIONS /getSurvey HTTP/1.1\" 200 -\n"
     ]
    },
    {
     "name": "stdout",
     "output_type": "stream",
     "text": [
      "{u'surveyName': u'Radio Button Survey'}\n"
     ]
    },
    {
     "name": "stderr",
     "output_type": "stream",
     "text": [
      "127.0.0.1 - - [16/Oct/2019 22:00:02] \"POST /getSurvey HTTP/1.1\" 200 -\n"
     ]
    },
    {
     "name": "stdout",
     "output_type": "stream",
     "text": [
      "{u'userName': u'User1', u'surveyDescription': u'tetsing the radio utton', u'surveyForm': {u'1': {u'questionType': u'Radio', u'rangeTo': u'', u'question': u'Question Add', u'options': u'qwerty,qwer,qwer', u'rangeFrom': u''}, u'0': {u'questionType': u'Radio', u'rangeTo': u'', u'question': u'', u'options': u'qwerty,qwer,qwer', u'rangeFrom': u''}}, u'surveyName': u'Radio Button Survey'}\n"
     ]
    },
    {
     "name": "stderr",
     "output_type": "stream",
     "text": [
      "127.0.0.1 - - [16/Oct/2019 22:00:46] \"OPTIONS /getSurvey HTTP/1.1\" 200 -\n"
     ]
    },
    {
     "name": "stdout",
     "output_type": "stream",
     "text": [
      "{u'surveyName': None}\n"
     ]
    },
    {
     "name": "stderr",
     "output_type": "stream",
     "text": [
      "127.0.0.1 - - [16/Oct/2019 22:00:46] \"POST /getSurvey HTTP/1.1\" 200 -\n",
      "127.0.0.1 - - [16/Oct/2019 22:00:50] \"OPTIONS /getAllSurveys HTTP/1.1\" 200 -\n",
      "127.0.0.1 - - [16/Oct/2019 22:00:50] \"GET /getAllSurveys HTTP/1.1\" 200 -\n"
     ]
    },
    {
     "name": "stdout",
     "output_type": "stream",
     "text": [
      "[{u'userName': u'User1', u'surveyDescription': u'', u'surveyForm': {u'0': {u'questionType': u'Text', u'rangeTo': u'', u'question': u'testing', u'options': u'', u'rangeFrom': u''}}, u'surveyName': u''}, {u'userName': u'User1', u'surveyDescription': u'tetsing the radio utton', u'surveyForm': {u'1': {u'questionType': u'Radio', u'rangeTo': u'', u'question': u'Question Add', u'options': u'qwerty,qwer,qwer', u'rangeFrom': u''}, u'0': {u'questionType': u'Radio', u'rangeTo': u'', u'question': u'', u'options': u'qwerty,qwer,qwer', u'rangeFrom': u''}}, u'surveyName': u'Radio Button Survey'}]\n"
     ]
    },
    {
     "name": "stderr",
     "output_type": "stream",
     "text": [
      "127.0.0.1 - - [16/Oct/2019 22:00:51] \"OPTIONS /getSurvey HTTP/1.1\" 200 -\n"
     ]
    },
    {
     "name": "stdout",
     "output_type": "stream",
     "text": [
      "{u'surveyName': u'Radio Button Survey'}\n"
     ]
    },
    {
     "name": "stderr",
     "output_type": "stream",
     "text": [
      "127.0.0.1 - - [16/Oct/2019 22:00:52] \"POST /getSurvey HTTP/1.1\" 200 -\n"
     ]
    },
    {
     "name": "stdout",
     "output_type": "stream",
     "text": [
      "{u'userName': u'User1', u'surveyDescription': u'tetsing the radio utton', u'surveyForm': {u'1': {u'questionType': u'Radio', u'rangeTo': u'', u'question': u'Question Add', u'options': u'qwerty,qwer,qwer', u'rangeFrom': u''}, u'0': {u'questionType': u'Radio', u'rangeTo': u'', u'question': u'', u'options': u'qwerty,qwer,qwer', u'rangeFrom': u''}}, u'surveyName': u'Radio Button Survey'}\n"
     ]
    },
    {
     "name": "stderr",
     "output_type": "stream",
     "text": [
      "127.0.0.1 - - [16/Oct/2019 22:04:11] \"OPTIONS /createSurvey HTTP/1.1\" 200 -\n"
     ]
    },
    {
     "name": "stdout",
     "output_type": "stream",
     "text": [
      "{u'userName': u'User1', u'surveyDescription': u'All tests are handled here', u'surveyForm': {u'1': {u'questionType': u'Radio', u'rangeTo': u'', u'question': u'Radio Question', u'options': u'Radio1,Radio2,Radio3', u'rangeFrom': u''}, u'0': {u'questionType': u'Text', u'rangeTo': u'', u'question': u'Text Qustion', u'options': u'', u'rangeFrom': u''}, u'3': {u'questionType': u'Slider', u'rangeTo': u'100', u'question': u'Slider Question', u'options': u'DropDown1,DropDown2,DropDown3', u'rangeFrom': u'0'}, u'2': {u'questionType': u'DropDown', u'rangeTo': u'', u'question': u'DropDown Question', u'options': u'DropDown1,DropDown2,DropDown3', u'rangeFrom': u''}}, u'surveyName': u'Testing Survey'}\n"
     ]
    },
    {
     "name": "stderr",
     "output_type": "stream",
     "text": [
      "127.0.0.1 - - [16/Oct/2019 22:04:12] \"POST /createSurvey HTTP/1.1\" 200 -\n",
      "127.0.0.1 - - [16/Oct/2019 22:04:23] \"OPTIONS /getAllSurveys HTTP/1.1\" 200 -\n",
      "127.0.0.1 - - [16/Oct/2019 22:04:23] \"GET /getAllSurveys HTTP/1.1\" 200 -\n"
     ]
    },
    {
     "name": "stdout",
     "output_type": "stream",
     "text": [
      "[{u'userName': u'User1', u'surveyDescription': u'', u'surveyForm': {u'0': {u'questionType': u'Text', u'rangeTo': u'', u'question': u'testing', u'options': u'', u'rangeFrom': u''}}, u'surveyName': u''}, {u'userName': u'User1', u'surveyDescription': u'tetsing the radio utton', u'surveyForm': {u'1': {u'questionType': u'Radio', u'rangeTo': u'', u'question': u'Question Add', u'options': u'qwerty,qwer,qwer', u'rangeFrom': u''}, u'0': {u'questionType': u'Radio', u'rangeTo': u'', u'question': u'', u'options': u'qwerty,qwer,qwer', u'rangeFrom': u''}}, u'surveyName': u'Radio Button Survey'}, {u'userName': u'User1', u'surveyDescription': u'All tests are handled here', u'surveyForm': {u'1': {u'questionType': u'Radio', u'rangeTo': u'', u'question': u'Radio Question', u'options': u'Radio1,Radio2,Radio3', u'rangeFrom': u''}, u'0': {u'questionType': u'Text', u'rangeTo': u'', u'question': u'Text Qustion', u'options': u'', u'rangeFrom': u''}, u'3': {u'questionType': u'Slider', u'rangeTo': u'100', u'question': u'Slider Question', u'options': u'DropDown1,DropDown2,DropDown3', u'rangeFrom': u'0'}, u'2': {u'questionType': u'DropDown', u'rangeTo': u'', u'question': u'DropDown Question', u'options': u'DropDown1,DropDown2,DropDown3', u'rangeFrom': u''}}, u'surveyName': u'Testing Survey'}]\n"
     ]
    },
    {
     "name": "stderr",
     "output_type": "stream",
     "text": [
      "127.0.0.1 - - [16/Oct/2019 22:04:34] \"OPTIONS /getSurvey HTTP/1.1\" 200 -\n"
     ]
    },
    {
     "name": "stdout",
     "output_type": "stream",
     "text": [
      "{u'surveyName': u'Testing Survey'}\n"
     ]
    },
    {
     "name": "stderr",
     "output_type": "stream",
     "text": [
      "127.0.0.1 - - [16/Oct/2019 22:04:34] \"POST /getSurvey HTTP/1.1\" 200 -\n"
     ]
    },
    {
     "name": "stdout",
     "output_type": "stream",
     "text": [
      "{u'userName': u'User1', u'surveyDescription': u'All tests are handled here', u'surveyForm': {u'1': {u'questionType': u'Radio', u'rangeTo': u'', u'question': u'Radio Question', u'options': u'Radio1,Radio2,Radio3', u'rangeFrom': u''}, u'0': {u'questionType': u'Text', u'rangeTo': u'', u'question': u'Text Qustion', u'options': u'', u'rangeFrom': u''}, u'3': {u'questionType': u'Slider', u'rangeTo': u'100', u'question': u'Slider Question', u'options': u'DropDown1,DropDown2,DropDown3', u'rangeFrom': u'0'}, u'2': {u'questionType': u'DropDown', u'rangeTo': u'', u'question': u'DropDown Question', u'options': u'DropDown1,DropDown2,DropDown3', u'rangeFrom': u''}}, u'surveyName': u'Testing Survey'}\n"
     ]
    },
    {
     "name": "stderr",
     "output_type": "stream",
     "text": [
      "127.0.0.1 - - [16/Oct/2019 22:08:36] \"OPTIONS /getSurvey HTTP/1.1\" 200 -\n"
     ]
    },
    {
     "name": "stdout",
     "output_type": "stream",
     "text": [
      "{u'surveyName': u'Testing Survey'}\n"
     ]
    },
    {
     "name": "stderr",
     "output_type": "stream",
     "text": [
      "127.0.0.1 - - [16/Oct/2019 22:08:37] \"POST /getSurvey HTTP/1.1\" 200 -\n"
     ]
    },
    {
     "name": "stdout",
     "output_type": "stream",
     "text": [
      "{u'userName': u'User1', u'surveyDescription': u'All tests are handled here', u'surveyForm': {u'1': {u'questionType': u'Radio', u'rangeTo': u'', u'question': u'Radio Question', u'options': u'Radio1,Radio2,Radio3', u'rangeFrom': u''}, u'0': {u'questionType': u'Text', u'rangeTo': u'', u'question': u'Text Qustion', u'options': u'', u'rangeFrom': u''}, u'3': {u'questionType': u'Slider', u'rangeTo': u'100', u'question': u'Slider Question', u'options': u'DropDown1,DropDown2,DropDown3', u'rangeFrom': u'0'}, u'2': {u'questionType': u'DropDown', u'rangeTo': u'', u'question': u'DropDown Question', u'options': u'DropDown1,DropDown2,DropDown3', u'rangeFrom': u''}}, u'surveyName': u'Testing Survey'}\n"
     ]
    },
    {
     "name": "stderr",
     "output_type": "stream",
     "text": [
      "127.0.0.1 - - [16/Oct/2019 22:09:51] \"OPTIONS /getSurvey HTTP/1.1\" 200 -\n"
     ]
    },
    {
     "name": "stdout",
     "output_type": "stream",
     "text": [
      "{u'surveyName': u'Testing Survey'}\n"
     ]
    },
    {
     "name": "stderr",
     "output_type": "stream",
     "text": [
      "127.0.0.1 - - [16/Oct/2019 22:09:52] \"POST /getSurvey HTTP/1.1\" 200 -\n"
     ]
    },
    {
     "name": "stdout",
     "output_type": "stream",
     "text": [
      "{u'userName': u'User1', u'surveyDescription': u'All tests are handled here', u'surveyForm': {u'1': {u'questionType': u'Radio', u'rangeTo': u'', u'question': u'Radio Question', u'options': u'Radio1,Radio2,Radio3', u'rangeFrom': u''}, u'0': {u'questionType': u'Text', u'rangeTo': u'', u'question': u'Text Qustion', u'options': u'', u'rangeFrom': u''}, u'3': {u'questionType': u'Slider', u'rangeTo': u'100', u'question': u'Slider Question', u'options': u'DropDown1,DropDown2,DropDown3', u'rangeFrom': u'0'}, u'2': {u'questionType': u'DropDown', u'rangeTo': u'', u'question': u'DropDown Question', u'options': u'DropDown1,DropDown2,DropDown3', u'rangeFrom': u''}}, u'surveyName': u'Testing Survey'}\n"
     ]
    },
    {
     "name": "stderr",
     "output_type": "stream",
     "text": [
      "127.0.0.1 - - [16/Oct/2019 22:10:04] \"OPTIONS /getSurvey HTTP/1.1\" 200 -\n"
     ]
    },
    {
     "name": "stdout",
     "output_type": "stream",
     "text": [
      "{u'surveyName': u'Testing Survey'}\n"
     ]
    },
    {
     "name": "stderr",
     "output_type": "stream",
     "text": [
      "127.0.0.1 - - [16/Oct/2019 22:10:05] \"POST /getSurvey HTTP/1.1\" 200 -\n"
     ]
    },
    {
     "name": "stdout",
     "output_type": "stream",
     "text": [
      "{u'userName': u'User1', u'surveyDescription': u'All tests are handled here', u'surveyForm': {u'1': {u'questionType': u'Radio', u'rangeTo': u'', u'question': u'Radio Question', u'options': u'Radio1,Radio2,Radio3', u'rangeFrom': u''}, u'0': {u'questionType': u'Text', u'rangeTo': u'', u'question': u'Text Qustion', u'options': u'', u'rangeFrom': u''}, u'3': {u'questionType': u'Slider', u'rangeTo': u'100', u'question': u'Slider Question', u'options': u'DropDown1,DropDown2,DropDown3', u'rangeFrom': u'0'}, u'2': {u'questionType': u'DropDown', u'rangeTo': u'', u'question': u'DropDown Question', u'options': u'DropDown1,DropDown2,DropDown3', u'rangeFrom': u''}}, u'surveyName': u'Testing Survey'}\n"
     ]
    },
    {
     "name": "stderr",
     "output_type": "stream",
     "text": [
      "127.0.0.1 - - [16/Oct/2019 22:11:23] \"OPTIONS /getSurvey HTTP/1.1\" 200 -\n"
     ]
    },
    {
     "name": "stdout",
     "output_type": "stream",
     "text": [
      "{u'surveyName': u'Testing Survey'}\n"
     ]
    },
    {
     "name": "stderr",
     "output_type": "stream",
     "text": [
      "127.0.0.1 - - [16/Oct/2019 22:11:24] \"POST /getSurvey HTTP/1.1\" 200 -\n"
     ]
    },
    {
     "name": "stdout",
     "output_type": "stream",
     "text": [
      "{u'userName': u'User1', u'surveyDescription': u'All tests are handled here', u'surveyForm': {u'1': {u'questionType': u'Radio', u'rangeTo': u'', u'question': u'Radio Question', u'options': u'Radio1,Radio2,Radio3', u'rangeFrom': u''}, u'0': {u'questionType': u'Text', u'rangeTo': u'', u'question': u'Text Qustion', u'options': u'', u'rangeFrom': u''}, u'3': {u'questionType': u'Slider', u'rangeTo': u'100', u'question': u'Slider Question', u'options': u'DropDown1,DropDown2,DropDown3', u'rangeFrom': u'0'}, u'2': {u'questionType': u'DropDown', u'rangeTo': u'', u'question': u'DropDown Question', u'options': u'DropDown1,DropDown2,DropDown3', u'rangeFrom': u''}}, u'surveyName': u'Testing Survey'}\n"
     ]
    },
    {
     "name": "stderr",
     "output_type": "stream",
     "text": [
      "127.0.0.1 - - [16/Oct/2019 22:12:38] \"OPTIONS /getSurvey HTTP/1.1\" 200 -\n"
     ]
    },
    {
     "name": "stdout",
     "output_type": "stream",
     "text": [
      "{u'surveyName': u'Testing Survey'}\n"
     ]
    },
    {
     "name": "stderr",
     "output_type": "stream",
     "text": [
      "127.0.0.1 - - [16/Oct/2019 22:12:39] \"POST /getSurvey HTTP/1.1\" 200 -\n"
     ]
    },
    {
     "name": "stdout",
     "output_type": "stream",
     "text": [
      "{u'userName': u'User1', u'surveyDescription': u'All tests are handled here', u'surveyForm': {u'1': {u'questionType': u'Radio', u'rangeTo': u'', u'question': u'Radio Question', u'options': u'Radio1,Radio2,Radio3', u'rangeFrom': u''}, u'0': {u'questionType': u'Text', u'rangeTo': u'', u'question': u'Text Qustion', u'options': u'', u'rangeFrom': u''}, u'3': {u'questionType': u'Slider', u'rangeTo': u'100', u'question': u'Slider Question', u'options': u'DropDown1,DropDown2,DropDown3', u'rangeFrom': u'0'}, u'2': {u'questionType': u'DropDown', u'rangeTo': u'', u'question': u'DropDown Question', u'options': u'DropDown1,DropDown2,DropDown3', u'rangeFrom': u''}}, u'surveyName': u'Testing Survey'}\n"
     ]
    },
    {
     "name": "stderr",
     "output_type": "stream",
     "text": [
      "127.0.0.1 - - [16/Oct/2019 22:13:01] \"OPTIONS /getSurvey HTTP/1.1\" 200 -\n"
     ]
    },
    {
     "name": "stdout",
     "output_type": "stream",
     "text": [
      "{u'surveyName': u'Testing Survey'}\n"
     ]
    },
    {
     "name": "stderr",
     "output_type": "stream",
     "text": [
      "127.0.0.1 - - [16/Oct/2019 22:13:02] \"POST /getSurvey HTTP/1.1\" 200 -\n"
     ]
    },
    {
     "name": "stdout",
     "output_type": "stream",
     "text": [
      "{u'userName': u'User1', u'surveyDescription': u'All tests are handled here', u'surveyForm': {u'1': {u'questionType': u'Radio', u'rangeTo': u'', u'question': u'Radio Question', u'options': u'Radio1,Radio2,Radio3', u'rangeFrom': u''}, u'0': {u'questionType': u'Text', u'rangeTo': u'', u'question': u'Text Qustion', u'options': u'', u'rangeFrom': u''}, u'3': {u'questionType': u'Slider', u'rangeTo': u'100', u'question': u'Slider Question', u'options': u'DropDown1,DropDown2,DropDown3', u'rangeFrom': u'0'}, u'2': {u'questionType': u'DropDown', u'rangeTo': u'', u'question': u'DropDown Question', u'options': u'DropDown1,DropDown2,DropDown3', u'rangeFrom': u''}}, u'surveyName': u'Testing Survey'}\n"
     ]
    },
    {
     "name": "stderr",
     "output_type": "stream",
     "text": [
      "127.0.0.1 - - [16/Oct/2019 22:14:19] \"OPTIONS /getSurvey HTTP/1.1\" 200 -\n"
     ]
    },
    {
     "name": "stdout",
     "output_type": "stream",
     "text": [
      "{u'surveyName': u'Testing Survey'}\n"
     ]
    },
    {
     "name": "stderr",
     "output_type": "stream",
     "text": [
      "127.0.0.1 - - [16/Oct/2019 22:14:20] \"POST /getSurvey HTTP/1.1\" 200 -\n"
     ]
    },
    {
     "name": "stdout",
     "output_type": "stream",
     "text": [
      "{u'userName': u'User1', u'surveyDescription': u'All tests are handled here', u'surveyForm': {u'1': {u'questionType': u'Radio', u'rangeTo': u'', u'question': u'Radio Question', u'options': u'Radio1,Radio2,Radio3', u'rangeFrom': u''}, u'0': {u'questionType': u'Text', u'rangeTo': u'', u'question': u'Text Qustion', u'options': u'', u'rangeFrom': u''}, u'3': {u'questionType': u'Slider', u'rangeTo': u'100', u'question': u'Slider Question', u'options': u'DropDown1,DropDown2,DropDown3', u'rangeFrom': u'0'}, u'2': {u'questionType': u'DropDown', u'rangeTo': u'', u'question': u'DropDown Question', u'options': u'DropDown1,DropDown2,DropDown3', u'rangeFrom': u''}}, u'surveyName': u'Testing Survey'}\n"
     ]
    },
    {
     "name": "stderr",
     "output_type": "stream",
     "text": [
      "127.0.0.1 - - [16/Oct/2019 22:14:30] \"OPTIONS /getSurvey HTTP/1.1\" 200 -\n"
     ]
    },
    {
     "name": "stdout",
     "output_type": "stream",
     "text": [
      "{u'surveyName': u'Testing Survey'}\n"
     ]
    },
    {
     "name": "stderr",
     "output_type": "stream",
     "text": [
      "127.0.0.1 - - [16/Oct/2019 22:14:30] \"POST /getSurvey HTTP/1.1\" 200 -\n"
     ]
    },
    {
     "name": "stdout",
     "output_type": "stream",
     "text": [
      "{u'userName': u'User1', u'surveyDescription': u'All tests are handled here', u'surveyForm': {u'1': {u'questionType': u'Radio', u'rangeTo': u'', u'question': u'Radio Question', u'options': u'Radio1,Radio2,Radio3', u'rangeFrom': u''}, u'0': {u'questionType': u'Text', u'rangeTo': u'', u'question': u'Text Qustion', u'options': u'', u'rangeFrom': u''}, u'3': {u'questionType': u'Slider', u'rangeTo': u'100', u'question': u'Slider Question', u'options': u'DropDown1,DropDown2,DropDown3', u'rangeFrom': u'0'}, u'2': {u'questionType': u'DropDown', u'rangeTo': u'', u'question': u'DropDown Question', u'options': u'DropDown1,DropDown2,DropDown3', u'rangeFrom': u''}}, u'surveyName': u'Testing Survey'}\n"
     ]
    },
    {
     "name": "stderr",
     "output_type": "stream",
     "text": [
      "127.0.0.1 - - [16/Oct/2019 22:15:52] \"OPTIONS /getSurvey HTTP/1.1\" 200 -\n"
     ]
    },
    {
     "name": "stdout",
     "output_type": "stream",
     "text": [
      "{u'surveyName': u'Testing Survey'}\n"
     ]
    },
    {
     "name": "stderr",
     "output_type": "stream",
     "text": [
      "127.0.0.1 - - [16/Oct/2019 22:15:53] \"POST /getSurvey HTTP/1.1\" 200 -\n"
     ]
    },
    {
     "name": "stdout",
     "output_type": "stream",
     "text": [
      "{u'userName': u'User1', u'surveyDescription': u'All tests are handled here', u'surveyForm': {u'1': {u'questionType': u'Radio', u'rangeTo': u'', u'question': u'Radio Question', u'options': u'Radio1,Radio2,Radio3', u'rangeFrom': u''}, u'0': {u'questionType': u'Text', u'rangeTo': u'', u'question': u'Text Qustion', u'options': u'', u'rangeFrom': u''}, u'3': {u'questionType': u'Slider', u'rangeTo': u'100', u'question': u'Slider Question', u'options': u'DropDown1,DropDown2,DropDown3', u'rangeFrom': u'0'}, u'2': {u'questionType': u'DropDown', u'rangeTo': u'', u'question': u'DropDown Question', u'options': u'DropDown1,DropDown2,DropDown3', u'rangeFrom': u''}}, u'surveyName': u'Testing Survey'}\n"
     ]
    },
    {
     "name": "stderr",
     "output_type": "stream",
     "text": [
      "127.0.0.1 - - [16/Oct/2019 22:20:14] \"OPTIONS /getSurvey HTTP/1.1\" 200 -\n"
     ]
    },
    {
     "name": "stdout",
     "output_type": "stream",
     "text": [
      "{u'surveyName': u'Testing Survey'}\n"
     ]
    },
    {
     "name": "stderr",
     "output_type": "stream",
     "text": [
      "127.0.0.1 - - [16/Oct/2019 22:20:14] \"POST /getSurvey HTTP/1.1\" 200 -\n"
     ]
    },
    {
     "name": "stdout",
     "output_type": "stream",
     "text": [
      "{u'userName': u'User1', u'surveyDescription': u'All tests are handled here', u'surveyForm': {u'1': {u'questionType': u'Radio', u'rangeTo': u'', u'question': u'Radio Question', u'options': u'Radio1,Radio2,Radio3', u'rangeFrom': u''}, u'0': {u'questionType': u'Text', u'rangeTo': u'', u'question': u'Text Qustion', u'options': u'', u'rangeFrom': u''}, u'3': {u'questionType': u'Slider', u'rangeTo': u'100', u'question': u'Slider Question', u'options': u'DropDown1,DropDown2,DropDown3', u'rangeFrom': u'0'}, u'2': {u'questionType': u'DropDown', u'rangeTo': u'', u'question': u'DropDown Question', u'options': u'DropDown1,DropDown2,DropDown3', u'rangeFrom': u''}}, u'surveyName': u'Testing Survey'}\n"
     ]
    },
    {
     "name": "stderr",
     "output_type": "stream",
     "text": [
      "127.0.0.1 - - [16/Oct/2019 22:20:19] \"OPTIONS /getSurvey HTTP/1.1\" 200 -\n"
     ]
    },
    {
     "name": "stdout",
     "output_type": "stream",
     "text": [
      "{u'surveyName': u'Testing Survey'}\n"
     ]
    },
    {
     "name": "stderr",
     "output_type": "stream",
     "text": [
      "127.0.0.1 - - [16/Oct/2019 22:20:20] \"POST /getSurvey HTTP/1.1\" 200 -\n"
     ]
    },
    {
     "name": "stdout",
     "output_type": "stream",
     "text": [
      "{u'userName': u'User1', u'surveyDescription': u'All tests are handled here', u'surveyForm': {u'1': {u'questionType': u'Radio', u'rangeTo': u'', u'question': u'Radio Question', u'options': u'Radio1,Radio2,Radio3', u'rangeFrom': u''}, u'0': {u'questionType': u'Text', u'rangeTo': u'', u'question': u'Text Qustion', u'options': u'', u'rangeFrom': u''}, u'3': {u'questionType': u'Slider', u'rangeTo': u'100', u'question': u'Slider Question', u'options': u'DropDown1,DropDown2,DropDown3', u'rangeFrom': u'0'}, u'2': {u'questionType': u'DropDown', u'rangeTo': u'', u'question': u'DropDown Question', u'options': u'DropDown1,DropDown2,DropDown3', u'rangeFrom': u''}}, u'surveyName': u'Testing Survey'}\n"
     ]
    },
    {
     "name": "stderr",
     "output_type": "stream",
     "text": [
      "127.0.0.1 - - [16/Oct/2019 22:20:44] \"OPTIONS /getSurvey HTTP/1.1\" 200 -\n"
     ]
    },
    {
     "name": "stdout",
     "output_type": "stream",
     "text": [
      "{u'surveyName': u'Testing Survey'}\n"
     ]
    },
    {
     "name": "stderr",
     "output_type": "stream",
     "text": [
      "127.0.0.1 - - [16/Oct/2019 22:20:45] \"POST /getSurvey HTTP/1.1\" 200 -\n"
     ]
    },
    {
     "name": "stdout",
     "output_type": "stream",
     "text": [
      "{u'userName': u'User1', u'surveyDescription': u'All tests are handled here', u'surveyForm': {u'1': {u'questionType': u'Radio', u'rangeTo': u'', u'question': u'Radio Question', u'options': u'Radio1,Radio2,Radio3', u'rangeFrom': u''}, u'0': {u'questionType': u'Text', u'rangeTo': u'', u'question': u'Text Qustion', u'options': u'', u'rangeFrom': u''}, u'3': {u'questionType': u'Slider', u'rangeTo': u'100', u'question': u'Slider Question', u'options': u'DropDown1,DropDown2,DropDown3', u'rangeFrom': u'0'}, u'2': {u'questionType': u'DropDown', u'rangeTo': u'', u'question': u'DropDown Question', u'options': u'DropDown1,DropDown2,DropDown3', u'rangeFrom': u''}}, u'surveyName': u'Testing Survey'}\n"
     ]
    },
    {
     "name": "stderr",
     "output_type": "stream",
     "text": [
      "127.0.0.1 - - [16/Oct/2019 22:22:55] \"OPTIONS /getSurvey HTTP/1.1\" 200 -\n"
     ]
    },
    {
     "name": "stdout",
     "output_type": "stream",
     "text": [
      "{u'surveyName': u'Testing Survey'}\n"
     ]
    },
    {
     "name": "stderr",
     "output_type": "stream",
     "text": [
      "127.0.0.1 - - [16/Oct/2019 22:22:55] \"POST /getSurvey HTTP/1.1\" 200 -\n"
     ]
    },
    {
     "name": "stdout",
     "output_type": "stream",
     "text": [
      "{u'userName': u'User1', u'surveyDescription': u'All tests are handled here', u'surveyForm': {u'1': {u'questionType': u'Radio', u'rangeTo': u'', u'question': u'Radio Question', u'options': u'Radio1,Radio2,Radio3', u'rangeFrom': u''}, u'0': {u'questionType': u'Text', u'rangeTo': u'', u'question': u'Text Qustion', u'options': u'', u'rangeFrom': u''}, u'3': {u'questionType': u'Slider', u'rangeTo': u'100', u'question': u'Slider Question', u'options': u'DropDown1,DropDown2,DropDown3', u'rangeFrom': u'0'}, u'2': {u'questionType': u'DropDown', u'rangeTo': u'', u'question': u'DropDown Question', u'options': u'DropDown1,DropDown2,DropDown3', u'rangeFrom': u''}}, u'surveyName': u'Testing Survey'}\n"
     ]
    },
    {
     "name": "stderr",
     "output_type": "stream",
     "text": [
      "127.0.0.1 - - [16/Oct/2019 22:23:15] \"OPTIONS /getSurvey HTTP/1.1\" 200 -\n"
     ]
    },
    {
     "name": "stdout",
     "output_type": "stream",
     "text": [
      "{u'surveyName': u'Testing Survey'}\n"
     ]
    },
    {
     "name": "stderr",
     "output_type": "stream",
     "text": [
      "127.0.0.1 - - [16/Oct/2019 22:23:16] \"POST /getSurvey HTTP/1.1\" 200 -\n"
     ]
    },
    {
     "name": "stdout",
     "output_type": "stream",
     "text": [
      "{u'userName': u'User1', u'surveyDescription': u'All tests are handled here', u'surveyForm': {u'1': {u'questionType': u'Radio', u'rangeTo': u'', u'question': u'Radio Question', u'options': u'Radio1,Radio2,Radio3', u'rangeFrom': u''}, u'0': {u'questionType': u'Text', u'rangeTo': u'', u'question': u'Text Qustion', u'options': u'', u'rangeFrom': u''}, u'3': {u'questionType': u'Slider', u'rangeTo': u'100', u'question': u'Slider Question', u'options': u'DropDown1,DropDown2,DropDown3', u'rangeFrom': u'0'}, u'2': {u'questionType': u'DropDown', u'rangeTo': u'', u'question': u'DropDown Question', u'options': u'DropDown1,DropDown2,DropDown3', u'rangeFrom': u''}}, u'surveyName': u'Testing Survey'}\n"
     ]
    },
    {
     "name": "stderr",
     "output_type": "stream",
     "text": [
      "127.0.0.1 - - [16/Oct/2019 22:23:27] \"OPTIONS /getSurvey HTTP/1.1\" 200 -\n"
     ]
    },
    {
     "name": "stdout",
     "output_type": "stream",
     "text": [
      "{u'surveyName': u'Testing Survey'}\n"
     ]
    },
    {
     "name": "stderr",
     "output_type": "stream",
     "text": [
      "127.0.0.1 - - [16/Oct/2019 22:23:27] \"POST /getSurvey HTTP/1.1\" 200 -\n"
     ]
    },
    {
     "name": "stdout",
     "output_type": "stream",
     "text": [
      "{u'userName': u'User1', u'surveyDescription': u'All tests are handled here', u'surveyForm': {u'1': {u'questionType': u'Radio', u'rangeTo': u'', u'question': u'Radio Question', u'options': u'Radio1,Radio2,Radio3', u'rangeFrom': u''}, u'0': {u'questionType': u'Text', u'rangeTo': u'', u'question': u'Text Qustion', u'options': u'', u'rangeFrom': u''}, u'3': {u'questionType': u'Slider', u'rangeTo': u'100', u'question': u'Slider Question', u'options': u'DropDown1,DropDown2,DropDown3', u'rangeFrom': u'0'}, u'2': {u'questionType': u'DropDown', u'rangeTo': u'', u'question': u'DropDown Question', u'options': u'DropDown1,DropDown2,DropDown3', u'rangeFrom': u''}}, u'surveyName': u'Testing Survey'}\n"
     ]
    },
    {
     "name": "stderr",
     "output_type": "stream",
     "text": [
      "127.0.0.1 - - [16/Oct/2019 22:23:51] \"OPTIONS /getSurvey HTTP/1.1\" 200 -\n"
     ]
    },
    {
     "name": "stdout",
     "output_type": "stream",
     "text": [
      "{u'surveyName': u'Testing Survey'}\n"
     ]
    },
    {
     "name": "stderr",
     "output_type": "stream",
     "text": [
      "127.0.0.1 - - [16/Oct/2019 22:23:51] \"POST /getSurvey HTTP/1.1\" 200 -\n"
     ]
    },
    {
     "name": "stdout",
     "output_type": "stream",
     "text": [
      "{u'userName': u'User1', u'surveyDescription': u'All tests are handled here', u'surveyForm': {u'1': {u'questionType': u'Radio', u'rangeTo': u'', u'question': u'Radio Question', u'options': u'Radio1,Radio2,Radio3', u'rangeFrom': u''}, u'0': {u'questionType': u'Text', u'rangeTo': u'', u'question': u'Text Qustion', u'options': u'', u'rangeFrom': u''}, u'3': {u'questionType': u'Slider', u'rangeTo': u'100', u'question': u'Slider Question', u'options': u'DropDown1,DropDown2,DropDown3', u'rangeFrom': u'0'}, u'2': {u'questionType': u'DropDown', u'rangeTo': u'', u'question': u'DropDown Question', u'options': u'DropDown1,DropDown2,DropDown3', u'rangeFrom': u''}}, u'surveyName': u'Testing Survey'}\n"
     ]
    },
    {
     "name": "stderr",
     "output_type": "stream",
     "text": [
      "127.0.0.1 - - [16/Oct/2019 22:24:16] \"OPTIONS /getSurvey HTTP/1.1\" 200 -\n"
     ]
    },
    {
     "name": "stdout",
     "output_type": "stream",
     "text": [
      "{u'surveyName': u'Testing Survey'}\n"
     ]
    },
    {
     "name": "stderr",
     "output_type": "stream",
     "text": [
      "127.0.0.1 - - [16/Oct/2019 22:24:16] \"POST /getSurvey HTTP/1.1\" 200 -\n"
     ]
    },
    {
     "name": "stdout",
     "output_type": "stream",
     "text": [
      "{u'userName': u'User1', u'surveyDescription': u'All tests are handled here', u'surveyForm': {u'1': {u'questionType': u'Radio', u'rangeTo': u'', u'question': u'Radio Question', u'options': u'Radio1,Radio2,Radio3', u'rangeFrom': u''}, u'0': {u'questionType': u'Text', u'rangeTo': u'', u'question': u'Text Qustion', u'options': u'', u'rangeFrom': u''}, u'3': {u'questionType': u'Slider', u'rangeTo': u'100', u'question': u'Slider Question', u'options': u'DropDown1,DropDown2,DropDown3', u'rangeFrom': u'0'}, u'2': {u'questionType': u'DropDown', u'rangeTo': u'', u'question': u'DropDown Question', u'options': u'DropDown1,DropDown2,DropDown3', u'rangeFrom': u''}}, u'surveyName': u'Testing Survey'}\n"
     ]
    },
    {
     "name": "stderr",
     "output_type": "stream",
     "text": [
      "127.0.0.1 - - [16/Oct/2019 22:24:32] \"OPTIONS /getSurvey HTTP/1.1\" 200 -\n"
     ]
    },
    {
     "name": "stdout",
     "output_type": "stream",
     "text": [
      "{u'surveyName': u'Testing Survey'}\n"
     ]
    },
    {
     "name": "stderr",
     "output_type": "stream",
     "text": [
      "127.0.0.1 - - [16/Oct/2019 22:24:32] \"POST /getSurvey HTTP/1.1\" 200 -\n"
     ]
    },
    {
     "name": "stdout",
     "output_type": "stream",
     "text": [
      "{u'userName': u'User1', u'surveyDescription': u'All tests are handled here', u'surveyForm': {u'1': {u'questionType': u'Radio', u'rangeTo': u'', u'question': u'Radio Question', u'options': u'Radio1,Radio2,Radio3', u'rangeFrom': u''}, u'0': {u'questionType': u'Text', u'rangeTo': u'', u'question': u'Text Qustion', u'options': u'', u'rangeFrom': u''}, u'3': {u'questionType': u'Slider', u'rangeTo': u'100', u'question': u'Slider Question', u'options': u'DropDown1,DropDown2,DropDown3', u'rangeFrom': u'0'}, u'2': {u'questionType': u'DropDown', u'rangeTo': u'', u'question': u'DropDown Question', u'options': u'DropDown1,DropDown2,DropDown3', u'rangeFrom': u''}}, u'surveyName': u'Testing Survey'}\n"
     ]
    },
    {
     "name": "stderr",
     "output_type": "stream",
     "text": [
      "127.0.0.1 - - [16/Oct/2019 22:24:50] \"OPTIONS /getSurvey HTTP/1.1\" 200 -\n"
     ]
    },
    {
     "name": "stdout",
     "output_type": "stream",
     "text": [
      "{u'surveyName': u'Testing Survey'}\n"
     ]
    },
    {
     "name": "stderr",
     "output_type": "stream",
     "text": [
      "127.0.0.1 - - [16/Oct/2019 22:24:51] \"POST /getSurvey HTTP/1.1\" 200 -\n"
     ]
    },
    {
     "name": "stdout",
     "output_type": "stream",
     "text": [
      "{u'userName': u'User1', u'surveyDescription': u'All tests are handled here', u'surveyForm': {u'1': {u'questionType': u'Radio', u'rangeTo': u'', u'question': u'Radio Question', u'options': u'Radio1,Radio2,Radio3', u'rangeFrom': u''}, u'0': {u'questionType': u'Text', u'rangeTo': u'', u'question': u'Text Qustion', u'options': u'', u'rangeFrom': u''}, u'3': {u'questionType': u'Slider', u'rangeTo': u'100', u'question': u'Slider Question', u'options': u'DropDown1,DropDown2,DropDown3', u'rangeFrom': u'0'}, u'2': {u'questionType': u'DropDown', u'rangeTo': u'', u'question': u'DropDown Question', u'options': u'DropDown1,DropDown2,DropDown3', u'rangeFrom': u''}}, u'surveyName': u'Testing Survey'}\n"
     ]
    },
    {
     "name": "stderr",
     "output_type": "stream",
     "text": [
      "127.0.0.1 - - [16/Oct/2019 22:25:25] \"OPTIONS /getSurvey HTTP/1.1\" 200 -\n"
     ]
    },
    {
     "name": "stdout",
     "output_type": "stream",
     "text": [
      "{u'surveyName': u'Testing Survey'}\n"
     ]
    },
    {
     "name": "stderr",
     "output_type": "stream",
     "text": [
      "127.0.0.1 - - [16/Oct/2019 22:25:26] \"POST /getSurvey HTTP/1.1\" 200 -\n"
     ]
    },
    {
     "name": "stdout",
     "output_type": "stream",
     "text": [
      "{u'userName': u'User1', u'surveyDescription': u'All tests are handled here', u'surveyForm': {u'1': {u'questionType': u'Radio', u'rangeTo': u'', u'question': u'Radio Question', u'options': u'Radio1,Radio2,Radio3', u'rangeFrom': u''}, u'0': {u'questionType': u'Text', u'rangeTo': u'', u'question': u'Text Qustion', u'options': u'', u'rangeFrom': u''}, u'3': {u'questionType': u'Slider', u'rangeTo': u'100', u'question': u'Slider Question', u'options': u'DropDown1,DropDown2,DropDown3', u'rangeFrom': u'0'}, u'2': {u'questionType': u'DropDown', u'rangeTo': u'', u'question': u'DropDown Question', u'options': u'DropDown1,DropDown2,DropDown3', u'rangeFrom': u''}}, u'surveyName': u'Testing Survey'}\n",
      "{u'surveyName': u'Testing Survey'}\n"
     ]
    },
    {
     "name": "stderr",
     "output_type": "stream",
     "text": [
      "127.0.0.1 - - [16/Oct/2019 22:25:31] \"POST /getSurvey HTTP/1.1\" 200 -\n"
     ]
    },
    {
     "name": "stdout",
     "output_type": "stream",
     "text": [
      "{u'userName': u'User1', u'surveyDescription': u'All tests are handled here', u'surveyForm': {u'1': {u'questionType': u'Radio', u'rangeTo': u'', u'question': u'Radio Question', u'options': u'Radio1,Radio2,Radio3', u'rangeFrom': u''}, u'0': {u'questionType': u'Text', u'rangeTo': u'', u'question': u'Text Qustion', u'options': u'', u'rangeFrom': u''}, u'3': {u'questionType': u'Slider', u'rangeTo': u'100', u'question': u'Slider Question', u'options': u'DropDown1,DropDown2,DropDown3', u'rangeFrom': u'0'}, u'2': {u'questionType': u'DropDown', u'rangeTo': u'', u'question': u'DropDown Question', u'options': u'DropDown1,DropDown2,DropDown3', u'rangeFrom': u''}}, u'surveyName': u'Testing Survey'}\n"
     ]
    },
    {
     "name": "stderr",
     "output_type": "stream",
     "text": [
      "127.0.0.1 - - [16/Oct/2019 22:26:04] \"OPTIONS /getSurvey HTTP/1.1\" 200 -\n"
     ]
    },
    {
     "name": "stdout",
     "output_type": "stream",
     "text": [
      "{u'surveyName': u'Testing Survey'}\n"
     ]
    },
    {
     "name": "stderr",
     "output_type": "stream",
     "text": [
      "127.0.0.1 - - [16/Oct/2019 22:26:05] \"POST /getSurvey HTTP/1.1\" 200 -\n"
     ]
    },
    {
     "name": "stdout",
     "output_type": "stream",
     "text": [
      "{u'userName': u'User1', u'surveyDescription': u'All tests are handled here', u'surveyForm': {u'1': {u'questionType': u'Radio', u'rangeTo': u'', u'question': u'Radio Question', u'options': u'Radio1,Radio2,Radio3', u'rangeFrom': u''}, u'0': {u'questionType': u'Text', u'rangeTo': u'', u'question': u'Text Qustion', u'options': u'', u'rangeFrom': u''}, u'3': {u'questionType': u'Slider', u'rangeTo': u'100', u'question': u'Slider Question', u'options': u'DropDown1,DropDown2,DropDown3', u'rangeFrom': u'0'}, u'2': {u'questionType': u'DropDown', u'rangeTo': u'', u'question': u'DropDown Question', u'options': u'DropDown1,DropDown2,DropDown3', u'rangeFrom': u''}}, u'surveyName': u'Testing Survey'}\n"
     ]
    },
    {
     "name": "stderr",
     "output_type": "stream",
     "text": [
      "127.0.0.1 - - [16/Oct/2019 22:26:21] \"OPTIONS /getSurvey HTTP/1.1\" 200 -\n"
     ]
    },
    {
     "name": "stdout",
     "output_type": "stream",
     "text": [
      "{u'surveyName': u'Testing Survey'}\n"
     ]
    },
    {
     "name": "stderr",
     "output_type": "stream",
     "text": [
      "127.0.0.1 - - [16/Oct/2019 22:26:22] \"POST /getSurvey HTTP/1.1\" 200 -\n"
     ]
    },
    {
     "name": "stdout",
     "output_type": "stream",
     "text": [
      "{u'userName': u'User1', u'surveyDescription': u'All tests are handled here', u'surveyForm': {u'1': {u'questionType': u'Radio', u'rangeTo': u'', u'question': u'Radio Question', u'options': u'Radio1,Radio2,Radio3', u'rangeFrom': u''}, u'0': {u'questionType': u'Text', u'rangeTo': u'', u'question': u'Text Qustion', u'options': u'', u'rangeFrom': u''}, u'3': {u'questionType': u'Slider', u'rangeTo': u'100', u'question': u'Slider Question', u'options': u'DropDown1,DropDown2,DropDown3', u'rangeFrom': u'0'}, u'2': {u'questionType': u'DropDown', u'rangeTo': u'', u'question': u'DropDown Question', u'options': u'DropDown1,DropDown2,DropDown3', u'rangeFrom': u''}}, u'surveyName': u'Testing Survey'}\n"
     ]
    },
    {
     "name": "stderr",
     "output_type": "stream",
     "text": [
      "127.0.0.1 - - [16/Oct/2019 22:29:05] \"OPTIONS /getSurvey HTTP/1.1\" 200 -\n"
     ]
    },
    {
     "name": "stdout",
     "output_type": "stream",
     "text": [
      "{u'surveyName': u'Testing Survey'}\n"
     ]
    },
    {
     "name": "stderr",
     "output_type": "stream",
     "text": [
      "127.0.0.1 - - [16/Oct/2019 22:29:06] \"POST /getSurvey HTTP/1.1\" 200 -\n"
     ]
    },
    {
     "name": "stdout",
     "output_type": "stream",
     "text": [
      "{u'userName': u'User1', u'surveyDescription': u'All tests are handled here', u'surveyForm': {u'1': {u'questionType': u'Radio', u'rangeTo': u'', u'question': u'Radio Question', u'options': u'Radio1,Radio2,Radio3', u'rangeFrom': u''}, u'0': {u'questionType': u'Text', u'rangeTo': u'', u'question': u'Text Qustion', u'options': u'', u'rangeFrom': u''}, u'3': {u'questionType': u'Slider', u'rangeTo': u'100', u'question': u'Slider Question', u'options': u'DropDown1,DropDown2,DropDown3', u'rangeFrom': u'0'}, u'2': {u'questionType': u'DropDown', u'rangeTo': u'', u'question': u'DropDown Question', u'options': u'DropDown1,DropDown2,DropDown3', u'rangeFrom': u''}}, u'surveyName': u'Testing Survey'}\n"
     ]
    },
    {
     "name": "stderr",
     "output_type": "stream",
     "text": [
      "127.0.0.1 - - [16/Oct/2019 22:29:18] \"OPTIONS /getSurvey HTTP/1.1\" 200 -\n"
     ]
    },
    {
     "name": "stdout",
     "output_type": "stream",
     "text": [
      "{u'surveyName': u'Testing Survey'}\n"
     ]
    },
    {
     "name": "stderr",
     "output_type": "stream",
     "text": [
      "127.0.0.1 - - [16/Oct/2019 22:29:19] \"POST /getSurvey HTTP/1.1\" 200 -\n"
     ]
    },
    {
     "name": "stdout",
     "output_type": "stream",
     "text": [
      "{u'userName': u'User1', u'surveyDescription': u'All tests are handled here', u'surveyForm': {u'1': {u'questionType': u'Radio', u'rangeTo': u'', u'question': u'Radio Question', u'options': u'Radio1,Radio2,Radio3', u'rangeFrom': u''}, u'0': {u'questionType': u'Text', u'rangeTo': u'', u'question': u'Text Qustion', u'options': u'', u'rangeFrom': u''}, u'3': {u'questionType': u'Slider', u'rangeTo': u'100', u'question': u'Slider Question', u'options': u'DropDown1,DropDown2,DropDown3', u'rangeFrom': u'0'}, u'2': {u'questionType': u'DropDown', u'rangeTo': u'', u'question': u'DropDown Question', u'options': u'DropDown1,DropDown2,DropDown3', u'rangeFrom': u''}}, u'surveyName': u'Testing Survey'}\n"
     ]
    },
    {
     "name": "stderr",
     "output_type": "stream",
     "text": [
      "127.0.0.1 - - [16/Oct/2019 22:29:49] \"OPTIONS /getSurvey HTTP/1.1\" 200 -\n"
     ]
    },
    {
     "name": "stdout",
     "output_type": "stream",
     "text": [
      "{u'surveyName': u'Testing Survey'}\n"
     ]
    },
    {
     "name": "stderr",
     "output_type": "stream",
     "text": [
      "127.0.0.1 - - [16/Oct/2019 22:29:50] \"POST /getSurvey HTTP/1.1\" 200 -\n"
     ]
    },
    {
     "name": "stdout",
     "output_type": "stream",
     "text": [
      "{u'userName': u'User1', u'surveyDescription': u'All tests are handled here', u'surveyForm': {u'1': {u'questionType': u'Radio', u'rangeTo': u'', u'question': u'Radio Question', u'options': u'Radio1,Radio2,Radio3', u'rangeFrom': u''}, u'0': {u'questionType': u'Text', u'rangeTo': u'', u'question': u'Text Qustion', u'options': u'', u'rangeFrom': u''}, u'3': {u'questionType': u'Slider', u'rangeTo': u'100', u'question': u'Slider Question', u'options': u'DropDown1,DropDown2,DropDown3', u'rangeFrom': u'0'}, u'2': {u'questionType': u'DropDown', u'rangeTo': u'', u'question': u'DropDown Question', u'options': u'DropDown1,DropDown2,DropDown3', u'rangeFrom': u''}}, u'surveyName': u'Testing Survey'}\n"
     ]
    },
    {
     "name": "stderr",
     "output_type": "stream",
     "text": [
      "127.0.0.1 - - [16/Oct/2019 22:30:07] \"OPTIONS /getSurvey HTTP/1.1\" 200 -\n"
     ]
    },
    {
     "name": "stdout",
     "output_type": "stream",
     "text": [
      "{u'surveyName': u'Testing Survey'}\n"
     ]
    },
    {
     "name": "stderr",
     "output_type": "stream",
     "text": [
      "127.0.0.1 - - [16/Oct/2019 22:30:07] \"POST /getSurvey HTTP/1.1\" 200 -\n"
     ]
    },
    {
     "name": "stdout",
     "output_type": "stream",
     "text": [
      "{u'userName': u'User1', u'surveyDescription': u'All tests are handled here', u'surveyForm': {u'1': {u'questionType': u'Radio', u'rangeTo': u'', u'question': u'Radio Question', u'options': u'Radio1,Radio2,Radio3', u'rangeFrom': u''}, u'0': {u'questionType': u'Text', u'rangeTo': u'', u'question': u'Text Qustion', u'options': u'', u'rangeFrom': u''}, u'3': {u'questionType': u'Slider', u'rangeTo': u'100', u'question': u'Slider Question', u'options': u'DropDown1,DropDown2,DropDown3', u'rangeFrom': u'0'}, u'2': {u'questionType': u'DropDown', u'rangeTo': u'', u'question': u'DropDown Question', u'options': u'DropDown1,DropDown2,DropDown3', u'rangeFrom': u''}}, u'surveyName': u'Testing Survey'}\n"
     ]
    },
    {
     "name": "stderr",
     "output_type": "stream",
     "text": [
      "127.0.0.1 - - [16/Oct/2019 22:30:22] \"OPTIONS /getSurvey HTTP/1.1\" 200 -\n"
     ]
    },
    {
     "name": "stdout",
     "output_type": "stream",
     "text": [
      "{u'surveyName': u'Testing Survey'}\n"
     ]
    },
    {
     "name": "stderr",
     "output_type": "stream",
     "text": [
      "127.0.0.1 - - [16/Oct/2019 22:30:23] \"POST /getSurvey HTTP/1.1\" 200 -\n"
     ]
    },
    {
     "name": "stdout",
     "output_type": "stream",
     "text": [
      "{u'userName': u'User1', u'surveyDescription': u'All tests are handled here', u'surveyForm': {u'1': {u'questionType': u'Radio', u'rangeTo': u'', u'question': u'Radio Question', u'options': u'Radio1,Radio2,Radio3', u'rangeFrom': u''}, u'0': {u'questionType': u'Text', u'rangeTo': u'', u'question': u'Text Qustion', u'options': u'', u'rangeFrom': u''}, u'3': {u'questionType': u'Slider', u'rangeTo': u'100', u'question': u'Slider Question', u'options': u'DropDown1,DropDown2,DropDown3', u'rangeFrom': u'0'}, u'2': {u'questionType': u'DropDown', u'rangeTo': u'', u'question': u'DropDown Question', u'options': u'DropDown1,DropDown2,DropDown3', u'rangeFrom': u''}}, u'surveyName': u'Testing Survey'}\n"
     ]
    },
    {
     "name": "stderr",
     "output_type": "stream",
     "text": [
      "127.0.0.1 - - [16/Oct/2019 22:30:33] \"OPTIONS /getSurvey HTTP/1.1\" 200 -\n"
     ]
    },
    {
     "name": "stdout",
     "output_type": "stream",
     "text": [
      "{u'surveyName': u'Testing Survey'}\n"
     ]
    },
    {
     "name": "stderr",
     "output_type": "stream",
     "text": [
      "127.0.0.1 - - [16/Oct/2019 22:30:34] \"POST /getSurvey HTTP/1.1\" 200 -\n"
     ]
    },
    {
     "name": "stdout",
     "output_type": "stream",
     "text": [
      "{u'userName': u'User1', u'surveyDescription': u'All tests are handled here', u'surveyForm': {u'1': {u'questionType': u'Radio', u'rangeTo': u'', u'question': u'Radio Question', u'options': u'Radio1,Radio2,Radio3', u'rangeFrom': u''}, u'0': {u'questionType': u'Text', u'rangeTo': u'', u'question': u'Text Qustion', u'options': u'', u'rangeFrom': u''}, u'3': {u'questionType': u'Slider', u'rangeTo': u'100', u'question': u'Slider Question', u'options': u'DropDown1,DropDown2,DropDown3', u'rangeFrom': u'0'}, u'2': {u'questionType': u'DropDown', u'rangeTo': u'', u'question': u'DropDown Question', u'options': u'DropDown1,DropDown2,DropDown3', u'rangeFrom': u''}}, u'surveyName': u'Testing Survey'}\n"
     ]
    },
    {
     "name": "stderr",
     "output_type": "stream",
     "text": [
      "127.0.0.1 - - [16/Oct/2019 22:31:24] \"OPTIONS /getSurvey HTTP/1.1\" 200 -\n"
     ]
    },
    {
     "name": "stdout",
     "output_type": "stream",
     "text": [
      "{u'surveyName': u'Testing Survey'}\n"
     ]
    },
    {
     "name": "stderr",
     "output_type": "stream",
     "text": [
      "127.0.0.1 - - [16/Oct/2019 22:31:25] \"POST /getSurvey HTTP/1.1\" 200 -\n"
     ]
    },
    {
     "name": "stdout",
     "output_type": "stream",
     "text": [
      "{u'userName': u'User1', u'surveyDescription': u'All tests are handled here', u'surveyForm': {u'1': {u'questionType': u'Radio', u'rangeTo': u'', u'question': u'Radio Question', u'options': u'Radio1,Radio2,Radio3', u'rangeFrom': u''}, u'0': {u'questionType': u'Text', u'rangeTo': u'', u'question': u'Text Qustion', u'options': u'', u'rangeFrom': u''}, u'3': {u'questionType': u'Slider', u'rangeTo': u'100', u'question': u'Slider Question', u'options': u'DropDown1,DropDown2,DropDown3', u'rangeFrom': u'0'}, u'2': {u'questionType': u'DropDown', u'rangeTo': u'', u'question': u'DropDown Question', u'options': u'DropDown1,DropDown2,DropDown3', u'rangeFrom': u''}}, u'surveyName': u'Testing Survey'}\n"
     ]
    },
    {
     "name": "stderr",
     "output_type": "stream",
     "text": [
      "127.0.0.1 - - [16/Oct/2019 22:32:00] \"OPTIONS /getSurvey HTTP/1.1\" 200 -\n"
     ]
    },
    {
     "name": "stdout",
     "output_type": "stream",
     "text": [
      "{u'surveyName': u'Testing Survey'}\n"
     ]
    },
    {
     "name": "stderr",
     "output_type": "stream",
     "text": [
      "127.0.0.1 - - [16/Oct/2019 22:32:01] \"POST /getSurvey HTTP/1.1\" 200 -\n"
     ]
    },
    {
     "name": "stdout",
     "output_type": "stream",
     "text": [
      "{u'userName': u'User1', u'surveyDescription': u'All tests are handled here', u'surveyForm': {u'1': {u'questionType': u'Radio', u'rangeTo': u'', u'question': u'Radio Question', u'options': u'Radio1,Radio2,Radio3', u'rangeFrom': u''}, u'0': {u'questionType': u'Text', u'rangeTo': u'', u'question': u'Text Qustion', u'options': u'', u'rangeFrom': u''}, u'3': {u'questionType': u'Slider', u'rangeTo': u'100', u'question': u'Slider Question', u'options': u'DropDown1,DropDown2,DropDown3', u'rangeFrom': u'0'}, u'2': {u'questionType': u'DropDown', u'rangeTo': u'', u'question': u'DropDown Question', u'options': u'DropDown1,DropDown2,DropDown3', u'rangeFrom': u''}}, u'surveyName': u'Testing Survey'}\n"
     ]
    },
    {
     "name": "stderr",
     "output_type": "stream",
     "text": [
      "127.0.0.1 - - [16/Oct/2019 22:33:55] \"OPTIONS /getSurvey HTTP/1.1\" 200 -\n"
     ]
    },
    {
     "name": "stdout",
     "output_type": "stream",
     "text": [
      "{u'surveyName': u'Testing Survey'}\n"
     ]
    },
    {
     "name": "stderr",
     "output_type": "stream",
     "text": [
      "127.0.0.1 - - [16/Oct/2019 22:33:55] \"POST /getSurvey HTTP/1.1\" 200 -\n"
     ]
    },
    {
     "name": "stdout",
     "output_type": "stream",
     "text": [
      "{u'userName': u'User1', u'surveyDescription': u'All tests are handled here', u'surveyForm': {u'1': {u'questionType': u'Radio', u'rangeTo': u'', u'question': u'Radio Question', u'options': u'Radio1,Radio2,Radio3', u'rangeFrom': u''}, u'0': {u'questionType': u'Text', u'rangeTo': u'', u'question': u'Text Qustion', u'options': u'', u'rangeFrom': u''}, u'3': {u'questionType': u'Slider', u'rangeTo': u'100', u'question': u'Slider Question', u'options': u'DropDown1,DropDown2,DropDown3', u'rangeFrom': u'0'}, u'2': {u'questionType': u'DropDown', u'rangeTo': u'', u'question': u'DropDown Question', u'options': u'DropDown1,DropDown2,DropDown3', u'rangeFrom': u''}}, u'surveyName': u'Testing Survey'}\n"
     ]
    },
    {
     "name": "stderr",
     "output_type": "stream",
     "text": [
      "127.0.0.1 - - [16/Oct/2019 22:35:31] \"OPTIONS /getSurvey HTTP/1.1\" 200 -\n"
     ]
    },
    {
     "name": "stdout",
     "output_type": "stream",
     "text": [
      "{u'surveyName': u'Testing Survey'}\n"
     ]
    },
    {
     "name": "stderr",
     "output_type": "stream",
     "text": [
      "127.0.0.1 - - [16/Oct/2019 22:35:32] \"POST /getSurvey HTTP/1.1\" 200 -\n"
     ]
    },
    {
     "name": "stdout",
     "output_type": "stream",
     "text": [
      "{u'userName': u'User1', u'surveyDescription': u'All tests are handled here', u'surveyForm': {u'1': {u'questionType': u'Radio', u'rangeTo': u'', u'question': u'Radio Question', u'options': u'Radio1,Radio2,Radio3', u'rangeFrom': u''}, u'0': {u'questionType': u'Text', u'rangeTo': u'', u'question': u'Text Qustion', u'options': u'', u'rangeFrom': u''}, u'3': {u'questionType': u'Slider', u'rangeTo': u'100', u'question': u'Slider Question', u'options': u'DropDown1,DropDown2,DropDown3', u'rangeFrom': u'0'}, u'2': {u'questionType': u'DropDown', u'rangeTo': u'', u'question': u'DropDown Question', u'options': u'DropDown1,DropDown2,DropDown3', u'rangeFrom': u''}}, u'surveyName': u'Testing Survey'}\n"
     ]
    },
    {
     "name": "stderr",
     "output_type": "stream",
     "text": [
      "127.0.0.1 - - [16/Oct/2019 22:36:30] \"OPTIONS /getSurvey HTTP/1.1\" 200 -\n"
     ]
    },
    {
     "name": "stdout",
     "output_type": "stream",
     "text": [
      "{u'surveyName': u'Testing Survey'}\n"
     ]
    },
    {
     "name": "stderr",
     "output_type": "stream",
     "text": [
      "127.0.0.1 - - [16/Oct/2019 22:36:30] \"POST /getSurvey HTTP/1.1\" 200 -\n"
     ]
    },
    {
     "name": "stdout",
     "output_type": "stream",
     "text": [
      "{u'userName': u'User1', u'surveyDescription': u'All tests are handled here', u'surveyForm': {u'1': {u'questionType': u'Radio', u'rangeTo': u'', u'question': u'Radio Question', u'options': u'Radio1,Radio2,Radio3', u'rangeFrom': u''}, u'0': {u'questionType': u'Text', u'rangeTo': u'', u'question': u'Text Qustion', u'options': u'', u'rangeFrom': u''}, u'3': {u'questionType': u'Slider', u'rangeTo': u'100', u'question': u'Slider Question', u'options': u'DropDown1,DropDown2,DropDown3', u'rangeFrom': u'0'}, u'2': {u'questionType': u'DropDown', u'rangeTo': u'', u'question': u'DropDown Question', u'options': u'DropDown1,DropDown2,DropDown3', u'rangeFrom': u''}}, u'surveyName': u'Testing Survey'}\n"
     ]
    },
    {
     "name": "stderr",
     "output_type": "stream",
     "text": [
      "127.0.0.1 - - [16/Oct/2019 22:36:42] \"OPTIONS /fillSurvey HTTP/1.1\" 200 -\n",
      "127.0.0.1 - - [16/Oct/2019 22:36:42] \"POST /fillSurvey HTTP/1.1\" 200 -\n",
      "127.0.0.1 - - [16/Oct/2019 22:38:22] \"OPTIONS /getSurvey HTTP/1.1\" 200 -\n"
     ]
    },
    {
     "name": "stdout",
     "output_type": "stream",
     "text": [
      "{u'surveyName': u'Testing Survey'}\n"
     ]
    },
    {
     "name": "stderr",
     "output_type": "stream",
     "text": [
      "127.0.0.1 - - [16/Oct/2019 22:38:23] \"POST /getSurvey HTTP/1.1\" 200 -\n"
     ]
    },
    {
     "name": "stdout",
     "output_type": "stream",
     "text": [
      "{u'userName': u'User1', u'surveyDescription': u'All tests are handled here', u'surveyForm': {u'1': {u'questionType': u'Radio', u'rangeTo': u'', u'question': u'Radio Question', u'options': u'Radio1,Radio2,Radio3', u'rangeFrom': u''}, u'0': {u'questionType': u'Text', u'rangeTo': u'', u'question': u'Text Qustion', u'options': u'', u'rangeFrom': u''}, u'3': {u'questionType': u'Slider', u'rangeTo': u'100', u'question': u'Slider Question', u'options': u'DropDown1,DropDown2,DropDown3', u'rangeFrom': u'0'}, u'2': {u'questionType': u'DropDown', u'rangeTo': u'', u'question': u'DropDown Question', u'options': u'DropDown1,DropDown2,DropDown3', u'rangeFrom': u''}}, u'surveyName': u'Testing Survey'}\n"
     ]
    },
    {
     "name": "stderr",
     "output_type": "stream",
     "text": [
      "127.0.0.1 - - [16/Oct/2019 22:38:28] \"OPTIONS /getSurvey HTTP/1.1\" 200 -\n"
     ]
    },
    {
     "name": "stdout",
     "output_type": "stream",
     "text": [
      "{u'surveyName': u'Testing Survey'}\n"
     ]
    },
    {
     "name": "stderr",
     "output_type": "stream",
     "text": [
      "127.0.0.1 - - [16/Oct/2019 22:38:29] \"POST /getSurvey HTTP/1.1\" 200 -\n"
     ]
    },
    {
     "name": "stdout",
     "output_type": "stream",
     "text": [
      "{u'userName': u'User1', u'surveyDescription': u'All tests are handled here', u'surveyForm': {u'1': {u'questionType': u'Radio', u'rangeTo': u'', u'question': u'Radio Question', u'options': u'Radio1,Radio2,Radio3', u'rangeFrom': u''}, u'0': {u'questionType': u'Text', u'rangeTo': u'', u'question': u'Text Qustion', u'options': u'', u'rangeFrom': u''}, u'3': {u'questionType': u'Slider', u'rangeTo': u'100', u'question': u'Slider Question', u'options': u'DropDown1,DropDown2,DropDown3', u'rangeFrom': u'0'}, u'2': {u'questionType': u'DropDown', u'rangeTo': u'', u'question': u'DropDown Question', u'options': u'DropDown1,DropDown2,DropDown3', u'rangeFrom': u''}}, u'surveyName': u'Testing Survey'}\n"
     ]
    },
    {
     "name": "stderr",
     "output_type": "stream",
     "text": [
      "127.0.0.1 - - [16/Oct/2019 22:38:52] \"OPTIONS /getSurvey HTTP/1.1\" 200 -\n"
     ]
    },
    {
     "name": "stdout",
     "output_type": "stream",
     "text": [
      "{u'surveyName': u'Testing Survey'}\n"
     ]
    },
    {
     "name": "stderr",
     "output_type": "stream",
     "text": [
      "127.0.0.1 - - [16/Oct/2019 22:38:53] \"POST /getSurvey HTTP/1.1\" 200 -\n"
     ]
    },
    {
     "name": "stdout",
     "output_type": "stream",
     "text": [
      "{u'userName': u'User1', u'surveyDescription': u'All tests are handled here', u'surveyForm': {u'1': {u'questionType': u'Radio', u'rangeTo': u'', u'question': u'Radio Question', u'options': u'Radio1,Radio2,Radio3', u'rangeFrom': u''}, u'0': {u'questionType': u'Text', u'rangeTo': u'', u'question': u'Text Qustion', u'options': u'', u'rangeFrom': u''}, u'3': {u'questionType': u'Slider', u'rangeTo': u'100', u'question': u'Slider Question', u'options': u'DropDown1,DropDown2,DropDown3', u'rangeFrom': u'0'}, u'2': {u'questionType': u'DropDown', u'rangeTo': u'', u'question': u'DropDown Question', u'options': u'DropDown1,DropDown2,DropDown3', u'rangeFrom': u''}}, u'surveyName': u'Testing Survey'}\n"
     ]
    },
    {
     "name": "stderr",
     "output_type": "stream",
     "text": [
      "127.0.0.1 - - [16/Oct/2019 22:39:57] \"OPTIONS /getSurvey HTTP/1.1\" 200 -\n"
     ]
    },
    {
     "name": "stdout",
     "output_type": "stream",
     "text": [
      "{u'surveyName': u'Testing Survey'}\n"
     ]
    },
    {
     "name": "stderr",
     "output_type": "stream",
     "text": [
      "127.0.0.1 - - [16/Oct/2019 22:39:58] \"POST /getSurvey HTTP/1.1\" 200 -\n"
     ]
    },
    {
     "name": "stdout",
     "output_type": "stream",
     "text": [
      "{u'userName': u'User1', u'surveyDescription': u'All tests are handled here', u'surveyForm': {u'1': {u'questionType': u'Radio', u'rangeTo': u'', u'question': u'Radio Question', u'options': u'Radio1,Radio2,Radio3', u'rangeFrom': u''}, u'0': {u'questionType': u'Text', u'rangeTo': u'', u'question': u'Text Qustion', u'options': u'', u'rangeFrom': u''}, u'3': {u'questionType': u'Slider', u'rangeTo': u'100', u'question': u'Slider Question', u'options': u'DropDown1,DropDown2,DropDown3', u'rangeFrom': u'0'}, u'2': {u'questionType': u'DropDown', u'rangeTo': u'', u'question': u'DropDown Question', u'options': u'DropDown1,DropDown2,DropDown3', u'rangeFrom': u''}}, u'surveyName': u'Testing Survey'}\n"
     ]
    },
    {
     "name": "stderr",
     "output_type": "stream",
     "text": [
      "127.0.0.1 - - [16/Oct/2019 22:40:15] \"OPTIONS /fillSurvey HTTP/1.1\" 200 -\n",
      "127.0.0.1 - - [16/Oct/2019 22:40:15] \"POST /fillSurvey HTTP/1.1\" 200 -\n",
      "127.0.0.1 - - [16/Oct/2019 22:42:37] \"OPTIONS /getSurvey HTTP/1.1\" 200 -\n"
     ]
    },
    {
     "name": "stdout",
     "output_type": "stream",
     "text": [
      "{u'surveyName': u'Testing Survey'}\n"
     ]
    },
    {
     "name": "stderr",
     "output_type": "stream",
     "text": [
      "127.0.0.1 - - [16/Oct/2019 22:42:38] \"POST /getSurvey HTTP/1.1\" 200 -\n"
     ]
    },
    {
     "name": "stdout",
     "output_type": "stream",
     "text": [
      "{u'userName': u'User1', u'surveyDescription': u'All tests are handled here', u'surveyForm': {u'1': {u'questionType': u'Radio', u'rangeTo': u'', u'question': u'Radio Question', u'options': u'Radio1,Radio2,Radio3', u'rangeFrom': u''}, u'0': {u'questionType': u'Text', u'rangeTo': u'', u'question': u'Text Qustion', u'options': u'', u'rangeFrom': u''}, u'3': {u'questionType': u'Slider', u'rangeTo': u'100', u'question': u'Slider Question', u'options': u'DropDown1,DropDown2,DropDown3', u'rangeFrom': u'0'}, u'2': {u'questionType': u'DropDown', u'rangeTo': u'', u'question': u'DropDown Question', u'options': u'DropDown1,DropDown2,DropDown3', u'rangeFrom': u''}}, u'surveyName': u'Testing Survey'}\n"
     ]
    },
    {
     "name": "stderr",
     "output_type": "stream",
     "text": [
      "127.0.0.1 - - [16/Oct/2019 22:42:54] \"OPTIONS /fillSurvey HTTP/1.1\" 200 -\n",
      "127.0.0.1 - - [16/Oct/2019 22:42:55] \"POST /fillSurvey HTTP/1.1\" 200 -\n",
      "127.0.0.1 - - [16/Oct/2019 22:43:10] \"OPTIONS /getAllSurveys HTTP/1.1\" 200 -\n",
      "127.0.0.1 - - [16/Oct/2019 22:43:10] \"GET /getAllSurveys HTTP/1.1\" 200 -\n"
     ]
    },
    {
     "name": "stdout",
     "output_type": "stream",
     "text": [
      "[{u'userName': u'User1', u'surveyDescription': u'', u'surveyForm': {u'0': {u'questionType': u'Text', u'rangeTo': u'', u'question': u'testing', u'options': u'', u'rangeFrom': u''}}, u'surveyName': u''}, {u'userName': u'User1', u'surveyDescription': u'tetsing the radio utton', u'surveyForm': {u'1': {u'questionType': u'Radio', u'rangeTo': u'', u'question': u'Question Add', u'options': u'qwerty,qwer,qwer', u'rangeFrom': u''}, u'0': {u'questionType': u'Radio', u'rangeTo': u'', u'question': u'', u'options': u'qwerty,qwer,qwer', u'rangeFrom': u''}}, u'surveyName': u'Radio Button Survey'}, {u'userName': u'User1', u'surveyDescription': u'All tests are handled here', u'surveyForm': {u'1': {u'questionType': u'Radio', u'rangeTo': u'', u'question': u'Radio Question', u'options': u'Radio1,Radio2,Radio3', u'rangeFrom': u''}, u'0': {u'questionType': u'Text', u'rangeTo': u'', u'question': u'Text Qustion', u'options': u'', u'rangeFrom': u''}, u'3': {u'questionType': u'Slider', u'rangeTo': u'100', u'question': u'Slider Question', u'options': u'DropDown1,DropDown2,DropDown3', u'rangeFrom': u'0'}, u'2': {u'questionType': u'DropDown', u'rangeTo': u'', u'question': u'DropDown Question', u'options': u'DropDown1,DropDown2,DropDown3', u'rangeFrom': u''}}, u'surveyName': u'Testing Survey'}]\n"
     ]
    },
    {
     "name": "stderr",
     "output_type": "stream",
     "text": [
      "127.0.0.1 - - [16/Oct/2019 22:43:12] \"OPTIONS /getSurvey HTTP/1.1\" 200 -\n"
     ]
    },
    {
     "name": "stdout",
     "output_type": "stream",
     "text": [
      "{u'surveyName': u'Radio Button Survey'}\n"
     ]
    },
    {
     "name": "stderr",
     "output_type": "stream",
     "text": [
      "127.0.0.1 - - [16/Oct/2019 22:43:13] \"POST /getSurvey HTTP/1.1\" 200 -\n"
     ]
    },
    {
     "name": "stdout",
     "output_type": "stream",
     "text": [
      "{u'userName': u'User1', u'surveyDescription': u'tetsing the radio utton', u'surveyForm': {u'1': {u'questionType': u'Radio', u'rangeTo': u'', u'question': u'Question Add', u'options': u'qwerty,qwer,qwer', u'rangeFrom': u''}, u'0': {u'questionType': u'Radio', u'rangeTo': u'', u'question': u'', u'options': u'qwerty,qwer,qwer', u'rangeFrom': u''}}, u'surveyName': u'Radio Button Survey'}\n"
     ]
    },
    {
     "name": "stderr",
     "output_type": "stream",
     "text": [
      "127.0.0.1 - - [16/Oct/2019 22:43:26] \"OPTIONS /fillSurvey HTTP/1.1\" 200 -\n",
      "127.0.0.1 - - [16/Oct/2019 22:43:27] \"POST /fillSurvey HTTP/1.1\" 200 -\n",
      "127.0.0.1 - - [16/Oct/2019 22:44:02] \"OPTIONS /getAllSurveys HTTP/1.1\" 200 -\n",
      "127.0.0.1 - - [16/Oct/2019 22:44:02] \"GET /getAllSurveys HTTP/1.1\" 200 -\n"
     ]
    },
    {
     "name": "stdout",
     "output_type": "stream",
     "text": [
      "[{u'userName': u'User1', u'surveyDescription': u'', u'surveyForm': {u'0': {u'questionType': u'Text', u'rangeTo': u'', u'question': u'testing', u'options': u'', u'rangeFrom': u''}}, u'surveyName': u''}, {u'userName': u'User1', u'surveyDescription': u'tetsing the radio utton', u'surveyForm': {u'1': {u'questionType': u'Radio', u'rangeTo': u'', u'question': u'Question Add', u'options': u'qwerty,qwer,qwer', u'rangeFrom': u''}, u'0': {u'questionType': u'Radio', u'rangeTo': u'', u'question': u'', u'options': u'qwerty,qwer,qwer', u'rangeFrom': u''}}, u'surveyName': u'Radio Button Survey'}, {u'userName': u'User1', u'surveyDescription': u'All tests are handled here', u'surveyForm': {u'1': {u'questionType': u'Radio', u'rangeTo': u'', u'question': u'Radio Question', u'options': u'Radio1,Radio2,Radio3', u'rangeFrom': u''}, u'0': {u'questionType': u'Text', u'rangeTo': u'', u'question': u'Text Qustion', u'options': u'', u'rangeFrom': u''}, u'3': {u'questionType': u'Slider', u'rangeTo': u'100', u'question': u'Slider Question', u'options': u'DropDown1,DropDown2,DropDown3', u'rangeFrom': u'0'}, u'2': {u'questionType': u'DropDown', u'rangeTo': u'', u'question': u'DropDown Question', u'options': u'DropDown1,DropDown2,DropDown3', u'rangeFrom': u''}}, u'surveyName': u'Testing Survey'}]\n"
     ]
    },
    {
     "name": "stderr",
     "output_type": "stream",
     "text": [
      "127.0.0.1 - - [16/Oct/2019 22:44:04] \"GET /getAllSurveys HTTP/1.1\" 200 -\n"
     ]
    },
    {
     "name": "stdout",
     "output_type": "stream",
     "text": [
      "[{u'userName': u'User1', u'surveyDescription': u'', u'surveyForm': {u'0': {u'questionType': u'Text', u'rangeTo': u'', u'question': u'testing', u'options': u'', u'rangeFrom': u''}}, u'surveyName': u''}, {u'userName': u'User1', u'surveyDescription': u'tetsing the radio utton', u'surveyForm': {u'1': {u'questionType': u'Radio', u'rangeTo': u'', u'question': u'Question Add', u'options': u'qwerty,qwer,qwer', u'rangeFrom': u''}, u'0': {u'questionType': u'Radio', u'rangeTo': u'', u'question': u'', u'options': u'qwerty,qwer,qwer', u'rangeFrom': u''}}, u'surveyName': u'Radio Button Survey'}, {u'userName': u'User1', u'surveyDescription': u'All tests are handled here', u'surveyForm': {u'1': {u'questionType': u'Radio', u'rangeTo': u'', u'question': u'Radio Question', u'options': u'Radio1,Radio2,Radio3', u'rangeFrom': u''}, u'0': {u'questionType': u'Text', u'rangeTo': u'', u'question': u'Text Qustion', u'options': u'', u'rangeFrom': u''}, u'3': {u'questionType': u'Slider', u'rangeTo': u'100', u'question': u'Slider Question', u'options': u'DropDown1,DropDown2,DropDown3', u'rangeFrom': u'0'}, u'2': {u'questionType': u'DropDown', u'rangeTo': u'', u'question': u'DropDown Question', u'options': u'DropDown1,DropDown2,DropDown3', u'rangeFrom': u''}}, u'surveyName': u'Testing Survey'}]\n"
     ]
    },
    {
     "name": "stderr",
     "output_type": "stream",
     "text": [
      "127.0.0.1 - - [16/Oct/2019 22:44:09] \"OPTIONS /getSurvey HTTP/1.1\" 200 -\n",
      "127.0.0.1 - - [16/Oct/2019 22:44:09] \"OPTIONS /getSurvey HTTP/1.1\" 200 -\n"
     ]
    },
    {
     "name": "stdout",
     "output_type": "stream",
     "text": [
      "{u'surveyName': u'Radio Button Survey'}\n",
      "{u'surveyName': u'Radio Button Survey'}\n"
     ]
    },
    {
     "name": "stderr",
     "output_type": "stream",
     "text": [
      "127.0.0.1 - - [16/Oct/2019 22:44:10] \"POST /getSurvey HTTP/1.1\" 200 -\n",
      "127.0.0.1 - - [16/Oct/2019 22:44:10] \"POST /getSurvey HTTP/1.1\" 200 -\n"
     ]
    },
    {
     "name": "stdout",
     "output_type": "stream",
     "text": [
      "{u'userName': u'User1', u'surveyDescription': u'tetsing the radio utton', u'surveyForm': {u'1': {u'questionType': u'Radio', u'rangeTo': u'', u'question': u'Question Add', u'options': u'qwerty,qwer,qwer', u'rangeFrom': u''}, u'0': {u'questionType': u'Radio', u'rangeTo': u'', u'question': u'', u'options': u'qwerty,qwer,qwer', u'rangeFrom': u''}}, u'surveyName': u'Radio Button Survey'}\n",
      "{u'userName': u'User1', u'surveyDescription': u'tetsing the radio utton', u'surveyForm': {u'1': {u'questionType': u'Radio', u'rangeTo': u'', u'question': u'Question Add', u'options': u'qwerty,qwer,qwer', u'rangeFrom': u''}, u'0': {u'questionType': u'Radio', u'rangeTo': u'', u'question': u'', u'options': u'qwerty,qwer,qwer', u'rangeFrom': u''}}, u'surveyName': u'Radio Button Survey'}\n"
     ]
    }
   ],
   "source": [
    "app = Flask(__name__)\n",
    "api = Api(app)\n",
    "\n",
    "CORS(app)\n",
    "client = pymongo.MongoClient(\"mongodb+srv://hemanth:\"+ urllib.quote(\"Hemanth@123\")+\"@cluster0-59obx.mongodb.net/test?retryWrites=true&w=majority\")\n",
    "\n",
    "\n",
    "\n",
    "### swagger specific ###\n",
    "SWAGGER_URL = '/swagger'\n",
    "API_URL = '/static/swagger.json'\n",
    "SWAGGERUI_BLUEPRINT = get_swaggerui_blueprint(\n",
    "    SWAGGER_URL,\n",
    "    API_URL,\n",
    "    config={\n",
    "        'app_name': \"Seans-Python-Flask-REST-Boilerplate\"\n",
    "    }\n",
    ")\n",
    "app.register_blueprint(SWAGGERUI_BLUEPRINT, url_prefix=SWAGGER_URL)  \n",
    "\n",
    "\n",
    "@app.route(\"/\")\n",
    "def hello():\n",
    "    return jsonify({'text':'Hello World!'})\n",
    "\n",
    "\n",
    "@app.route(\"/createSurvey\",methods=['POST'])\n",
    "def createSurvey(): \n",
    "    \n",
    "    verifyAccessToken(request.headers[\"Authorization\"])\n",
    "    if not(verifyAccessToken):\n",
    "        return json.dumps({\n",
    "              \"error\": \"access_denied\"\n",
    "            }), 401\n",
    "    \n",
    "    db=client.survey\n",
    "    params=request.json\n",
    "    print(params)\n",
    "    \n",
    "    if(checkSurveyExists(params[\"surveyName\"])):\n",
    "        return jsonify({'response':'SurveyName already Exists'})\n",
    "    surveyDetails={}\n",
    "    surveyDetails[\"userName\"]=params[\"userName\"]\n",
    "    surveyDetails[\"surveyName\"]=params[\"surveyName\"]\n",
    "    surveyDetails[\"surveyDescription\"]=params[\"surveyDescription\"]\n",
    "    surveyDetails[\"surveyForm\"]=params[\"surveyForm\"]\n",
    "    \n",
    "    result=db.SurveyForms.insert_one(surveyDetails)\n",
    "    return  jsonify({'response':'Survey successfully created'})\n",
    "\n",
    "\n",
    "@app.route(\"/getSurvey\",methods=['POST'])\n",
    "def SurveyForm():    \n",
    "    db=client.survey\n",
    "    params=request.json\n",
    "    print(params)\n",
    "    if not(checkSurveyExists(params[\"surveyName\"])):\n",
    "        return jsonify({'response':'SurveyName doesnt Exists'})\n",
    "    \n",
    "    result=db.SurveyForms.find_one({'surveyName': params[\"surveyName\"]})\n",
    "    del result['_id']\n",
    "    print(result)\n",
    "    return jsonify(result)\n",
    "\n",
    "\n",
    "@app.route(\"/fillSurvey\",methods=['POST'])\n",
    "def SurveyEntry():\n",
    "    db=client.survey\n",
    "    params=request.json\n",
    "    if not(checkSurveyExists(params[\"surveyName\"])):\n",
    "        return jsonify({'response':'SurveyName doesnt Exist'})\n",
    "    \n",
    "    surveyDetails={}\n",
    "    surveyDetails[\"userName\"]=params[\"userName\"]\n",
    "    surveyDetails[\"surveyName\"]=params[\"surveyName\"]\n",
    "    surveyDetails[\"entryForm\"]=params[\"entryForm\"]\n",
    "    \n",
    "    db.SurveyEntries.insert_one(surveyDetails)\n",
    "    return  jsonify({'response':'Survey successfully filled'})\n",
    "\n",
    "\n",
    "@app.route(\"/getAllSurveys\",methods=['GET'])\n",
    "def getAllServeys():\n",
    "    db=client.survey\n",
    "    surveys=[]\n",
    "    for i in db.SurveyForms.find():\n",
    "        del i['_id']\n",
    "        surveys.append(i)\n",
    "        \n",
    "    print(surveys)\n",
    "\n",
    "   \n",
    "    return jsonify({\"results\":surveys})\n",
    "\n",
    "\n",
    "\n",
    "# @app.route(\"/surveystats\")\n",
    "# def SurveyStatistics():\n",
    "#     db=client.SurveyEntries\n",
    "#     data=json.loads(str(request.data))\n",
    "#     if(!checkSurveyExists(request.surveyName)):\n",
    "#         return jsonify({'response':'SurveyName doesnt Exists'})\n",
    "    \n",
    "#     surveyEntries=db.SurveyEntries.find({'surveyName': request.surveyName})\n",
    "#     surveyTemplate=db.SurveyForms.find({'surveyName': request.surveyName})\n",
    "\n",
    "#     return surveyEntries\n",
    "\n",
    "@app.route(\"/surveystat\")\n",
    "def getByUserSurvey():\n",
    "    db=client.SurveyEntries\n",
    "    params=request.json\n",
    "    if not(checkSurveyExists(params[\"surveyName\"])):\n",
    "        return jsonify({'response':'SurveyName doesnt Exists'})\n",
    "    \n",
    "    surveyEntry=db.SurveyEntries.find({'surveyName': params[\"surveyName\"],'userName':params[\"userName\"]})\n",
    "    surveyTemplate=db.SurveyForms.find({'surveyName': params[\"surveyName\"]})\n",
    "    \n",
    "    return mergeSurventry(surveyTemplate,surveyEntry)\n",
    "\n",
    "if __name__ == '__main__':\n",
    "   app.run(port=5002)\n",
    "\n"
   ]
  },
  {
   "cell_type": "code",
   "execution_count": 39,
   "metadata": {
    "collapsed": true
   },
   "outputs": [],
   "source": [
    "surveyTemplate = {\n",
    "        'userName' : \"Hemanth\",\n",
    "        'surveyName' : \"test\",\n",
    "        'surveyForm':{\"0\":{\n",
    "            \"qsn\":\"qsn1\",\n",
    "            \"type\":\"radio\",\n",
    "            \"options\":[\"a\",\"b\"]\n",
    "        },\n",
    "                \"1\":{\n",
    "            \"qsn\":\"qsn2\",\n",
    "            \"type\":\"texxt\",\n",
    "            \"options\":[\"a\",\"c\"]\n",
    "        }\n",
    "            \n",
    "        }\n",
    "    }\n",
    "\n",
    "surveyEntry= [{\n",
    "        'userName' : \"Hemanth\",\n",
    "        'surveyName' : \"test\",\n",
    "        'entryForm':{\"0\":\"ans1\",\n",
    "        \"1\":\"ans1\" }\n",
    "        },{\n",
    "        'userName' : \"Mounika\",\n",
    "        'surveyName' : \"test\",\n",
    "        'entryForm':{\"0\":\"ans1\",\n",
    "        \"1\":\"ans12\" }\n",
    "        }]\n",
    "\n"
   ]
  },
  {
   "cell_type": "code",
   "execution_count": null,
   "metadata": {
    "collapsed": true
   },
   "outputs": [],
   "source": []
  }
 ],
 "metadata": {
  "kernelspec": {
   "display_name": "Python 2",
   "language": "python",
   "name": "python2"
  },
  "language_info": {
   "codemirror_mode": {
    "name": "ipython",
    "version": 2
   },
   "file_extension": ".py",
   "mimetype": "text/x-python",
   "name": "python",
   "nbconvert_exporter": "python",
   "pygments_lexer": "ipython2",
   "version": "2.7.15"
  }
 },
 "nbformat": 4,
 "nbformat_minor": 2
}
