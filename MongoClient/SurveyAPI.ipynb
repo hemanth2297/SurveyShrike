{
 "cells": [
  {
   "cell_type": "code",
   "execution_count": 9,
   "metadata": {
    "collapsed": true
   },
   "outputs": [],
   "source": [
    "from flask import Flask, request\n",
    "from flask_cors import CORS, cross_origin\n",
    "from flask_restful import Resource, Api\n",
    "from json import dumps\n",
    "from flask_jsonpify import jsonify\n",
    "import json\n",
    "import pymongo\n",
    "import urllib\n",
    "from collections import Counter\n",
    "import requests\n",
    "from flask_swagger_ui import get_swaggerui_blueprint"
   ]
  },
  {
   "cell_type": "code",
   "execution_count": 10,
   "metadata": {
    "collapsed": true
   },
   "outputs": [],
   "source": [
    "surveyTemplate = {\n",
    "        'userName' : \"Hemanth\",\n",
    "        'surveyName' : \"test\",\n",
    "        'surveyForm':{\"0\":{\n",
    "            \"question\":\"qsn1\",\n",
    "            \"questionType\":\"radio\",\n",
    "            \"options\":\"sd,sdf,sv\",\n",
    "            \"rangeFrom\" :\"1\",\n",
    "            \"rangeFrom\" :\"20\"\n",
    "        },\n",
    "                \"1\":{\n",
    "            \"qsn\":\"qsn2\",\n",
    "            \"type\":\"texxt\",\n",
    "            \"options\":[\"a\",\"c\"]\n",
    "        }\n",
    "            \n",
    "        }\n",
    "    }\n",
    "\n",
    "surveyEntry= {\n",
    "        'userName' : \"Hemanth\",\n",
    "        'surveyName' : \"test\",\n",
    "        'entryForm':{\"0\":\"ans1\",\n",
    "        \"1\":\"ans1\"   \n",
    "        }\n",
    "    }"
   ]
  },
  {
   "cell_type": "code",
   "execution_count": 11,
   "metadata": {
    "collapsed": true
   },
   "outputs": [],
   "source": [
    "def checkSurveyExists(surveyName):\n",
    "    db=client.survey\n",
    "    form=db.SurveyForms.find_one({'surveyName': surveyName})\n",
    "    if(form):\n",
    "        return True\n",
    "    return False\n",
    "\n",
    "\n",
    "def mergeSingleSurveyEntry(surveyTemplate,surveyEntry):\n",
    "    form=surveyTemplate[\"surveyForm\"]\n",
    "    for key in form:\n",
    "        form[key][\"answer\"]=surveyEntry[\"entryForm\"][key]\n",
    "    return form\n",
    "\n",
    "\n",
    "def mergeSurveyEntry(surveyTemplate,surveyEntry):\n",
    "    form=surveyTemplate\n",
    "    for key in form[\"surveyForm\"]:\n",
    "        form[\"surveyForm\"][key][\"answers\"]=[]\n",
    "        \n",
    "    form[\"users\"]=[]\n",
    "    for entry in surveyEntry:\n",
    "        form[\"users\"].append(entry[\"userName\"])\n",
    "        for key in form[\"surveyForm\"]:\n",
    "            form[\"surveyForm\"][key][\"answers\"].append(entry[\"entryForm\"][key])\n",
    "            \n",
    "    for key in form[\"surveyForm\"]:\n",
    "        form[\"surveyForm\"][key][\"answers\"]=Counter(form[\"surveyForm\"][key][\"answers\"])\n",
    "        \n",
    "    return form\n",
    "\n",
    "\n",
    "\n",
    "def verifyAccessToken(access_token):\n",
    "    URL=\"http://127.0.0.1:5001/authorize\"\n",
    "    response=requests.post(url = URL,headers={'Authorization': \"access_token\"})\n",
    "    if(response.status_code==200):\n",
    "        return True\n",
    "    else:\n",
    "        return False"
   ]
  },
  {
   "cell_type": "code",
   "execution_count": null,
   "metadata": {},
   "outputs": [
    {
     "name": "stdout",
     "output_type": "stream",
     "text": [
      " * Serving Flask app \"__main__\" (lazy loading)\n",
      " * Environment: production\n",
      "   WARNING: This is a development server. Do not use it in a production deployment.\n",
      "   Use a production WSGI server instead.\n",
      " * Debug mode: off\n"
     ]
    },
    {
     "name": "stderr",
     "output_type": "stream",
     "text": [
      " * Running on http://127.0.0.1:5002/ (Press CTRL+C to quit)\n",
      "127.0.0.1 - - [16/Oct/2019 23:48:56] \"OPTIONS /getSurvey HTTP/1.1\" 200 -\n",
      "127.0.0.1 - - [16/Oct/2019 23:48:56] \"OPTIONS /getSurveyEntries HTTP/1.1\" 200 -\n"
     ]
    },
    {
     "name": "stdout",
     "output_type": "stream",
     "text": [
      "{u'surveyName': u'Testing Survey'}\n",
      "<pymongo.cursor.Cursor object at 0x10e111d50>\n"
     ]
    },
    {
     "name": "stderr",
     "output_type": "stream",
     "text": [
      "127.0.0.1 - - [16/Oct/2019 23:48:59] \"POST /getSurvey HTTP/1.1\" 200 -\n",
      "127.0.0.1 - - [16/Oct/2019 23:48:59] \"POST /getSurveyEntries HTTP/1.1\" 200 -\n"
     ]
    },
    {
     "name": "stdout",
     "output_type": "stream",
     "text": [
      "[{u'userName': u'', u'surveyName': u'Testing Survey', u'entryForm': {u'1': u'Radio2', u'0': u'test', u'3': u'40.31', u'2': u'DropDown3', u'userName': u'hemanth'}}, {u'userName': u'hemanth', u'surveyName': u'Testing Survey', u'entryForm': {u'1': u'Radio2', u'0': u'test', u'3': u'42.73', u'2': u'DropDown2'}}]\n"
     ]
    },
    {
     "name": "stderr",
     "output_type": "stream",
     "text": [
      "127.0.0.1 - - [16/Oct/2019 23:52:34] \"OPTIONS /getSurvey HTTP/1.1\" 200 -\n",
      "127.0.0.1 - - [16/Oct/2019 23:52:34] \"OPTIONS /getSurveyEntries HTTP/1.1\" 200 -\n"
     ]
    },
    {
     "name": "stdout",
     "output_type": "stream",
     "text": [
      "{u'surveyName': u'Testing Survey'}\n",
      "<pymongo.cursor.Cursor object at 0x10e1c0cd0>\n"
     ]
    },
    {
     "name": "stderr",
     "output_type": "stream",
     "text": [
      "127.0.0.1 - - [16/Oct/2019 23:52:35] \"POST /getSurvey HTTP/1.1\" 200 -\n",
      "127.0.0.1 - - [16/Oct/2019 23:52:35] \"POST /getSurveyEntries HTTP/1.1\" 200 -\n"
     ]
    },
    {
     "name": "stdout",
     "output_type": "stream",
     "text": [
      "[{u'userName': u'', u'surveyName': u'Testing Survey', u'entryForm': {u'1': u'Radio2', u'0': u'test', u'3': u'40.31', u'2': u'DropDown3', u'userName': u'hemanth'}}, {u'userName': u'hemanth', u'surveyName': u'Testing Survey', u'entryForm': {u'1': u'Radio2', u'0': u'test', u'3': u'42.73', u'2': u'DropDown2'}}]\n"
     ]
    },
    {
     "name": "stderr",
     "output_type": "stream",
     "text": [
      "127.0.0.1 - - [16/Oct/2019 23:55:43] \"OPTIONS /getSurvey HTTP/1.1\" 200 -\n",
      "127.0.0.1 - - [16/Oct/2019 23:55:43] \"OPTIONS /getSurveyEntries HTTP/1.1\" 200 -\n"
     ]
    },
    {
     "name": "stdout",
     "output_type": "stream",
     "text": [
      "{u'surveyName': u'Testing Survey'}\n",
      "<pymongo.cursor.Cursor object at 0x10e146f10>\n"
     ]
    },
    {
     "name": "stderr",
     "output_type": "stream",
     "text": [
      "127.0.0.1 - - [16/Oct/2019 23:55:43] \"POST /getSurvey HTTP/1.1\" 200 -\n",
      "127.0.0.1 - - [16/Oct/2019 23:55:43] \"POST /getSurveyEntries HTTP/1.1\" 200 -\n"
     ]
    },
    {
     "name": "stdout",
     "output_type": "stream",
     "text": [
      "[{u'userName': u'test', u'surveyName': u'Testing Survey', u'entryForm': {u'1': u'Radio2', u'0': u'test', u'3': u'40.31', u'2': u'DropDown3'}}, {u'userName': u'hemanth', u'surveyName': u'Testing Survey', u'entryForm': {u'1': u'Radio2', u'0': u'test', u'3': u'42.73', u'2': u'DropDown2'}}]\n"
     ]
    },
    {
     "name": "stderr",
     "output_type": "stream",
     "text": [
      "127.0.0.1 - - [16/Oct/2019 23:56:06] \"OPTIONS /getSurvey HTTP/1.1\" 200 -\n",
      "127.0.0.1 - - [16/Oct/2019 23:56:06] \"OPTIONS /getSurveyEntries HTTP/1.1\" 200 -\n"
     ]
    },
    {
     "name": "stdout",
     "output_type": "stream",
     "text": [
      "{u'surveyName': u'Testing Survey'}\n",
      "<pymongo.cursor.Cursor object at 0x10e111850>\n"
     ]
    },
    {
     "name": "stderr",
     "output_type": "stream",
     "text": [
      "127.0.0.1 - - [16/Oct/2019 23:56:07] \"POST /getSurvey HTTP/1.1\" 200 -\n",
      "127.0.0.1 - - [16/Oct/2019 23:56:07] \"POST /getSurveyEntries HTTP/1.1\" 200 -\n"
     ]
    },
    {
     "name": "stdout",
     "output_type": "stream",
     "text": [
      "[{u'userName': u'test', u'surveyName': u'Testing Survey', u'entryForm': {u'1': u'Radio2', u'0': u'test', u'3': u'40.31', u'2': u'DropDown3'}}, {u'userName': u'hemanth', u'surveyName': u'Testing Survey', u'entryForm': {u'1': u'Radio2', u'0': u'test', u'3': u'42.73', u'2': u'DropDown2'}}]\n"
     ]
    },
    {
     "name": "stderr",
     "output_type": "stream",
     "text": [
      "127.0.0.1 - - [16/Oct/2019 23:56:19] \"OPTIONS /getSurvey HTTP/1.1\" 200 -\n",
      "127.0.0.1 - - [16/Oct/2019 23:56:19] \"OPTIONS /getSurveyEntries HTTP/1.1\" 200 -\n"
     ]
    },
    {
     "name": "stdout",
     "output_type": "stream",
     "text": [
      "{u'surveyName': u'Testing Survey'}\n",
      "<pymongo.cursor.Cursor object at 0x10e11d6d0>\n"
     ]
    },
    {
     "name": "stderr",
     "output_type": "stream",
     "text": [
      "127.0.0.1 - - [16/Oct/2019 23:56:20] \"POST /getSurvey HTTP/1.1\" 200 -\n",
      "127.0.0.1 - - [16/Oct/2019 23:56:20] \"POST /getSurveyEntries HTTP/1.1\" 200 -\n"
     ]
    },
    {
     "name": "stdout",
     "output_type": "stream",
     "text": [
      "[{u'userName': u'test', u'surveyName': u'Testing Survey', u'entryForm': {u'1': u'Radio2', u'0': u'test', u'3': u'40.31', u'2': u'DropDown3'}}, {u'userName': u'hemanth', u'surveyName': u'Testing Survey', u'entryForm': {u'1': u'Radio2', u'0': u'test', u'3': u'42.73', u'2': u'DropDown2'}}]\n"
     ]
    },
    {
     "name": "stderr",
     "output_type": "stream",
     "text": [
      "127.0.0.1 - - [16/Oct/2019 23:56:48] \"OPTIONS /getSurveyEntries HTTP/1.1\" 200 -\n",
      "127.0.0.1 - - [16/Oct/2019 23:56:48] \"OPTIONS /getSurvey HTTP/1.1\" 200 -\n"
     ]
    },
    {
     "name": "stdout",
     "output_type": "stream",
     "text": [
      "{u'surveyName': u'Testing Survey'}\n",
      "<pymongo.cursor.Cursor object at 0x10ea0e4d0>\n"
     ]
    },
    {
     "name": "stderr",
     "output_type": "stream",
     "text": [
      "127.0.0.1 - - [16/Oct/2019 23:56:48] \"POST /getSurvey HTTP/1.1\" 200 -\n",
      "127.0.0.1 - - [16/Oct/2019 23:56:48] \"POST /getSurveyEntries HTTP/1.1\" 200 -\n"
     ]
    },
    {
     "name": "stdout",
     "output_type": "stream",
     "text": [
      "[{u'userName': u'test', u'surveyName': u'Testing Survey', u'entryForm': {u'1': u'Radio2', u'0': u'test', u'3': u'40.31', u'2': u'DropDown3'}}, {u'userName': u'hemanth', u'surveyName': u'Testing Survey', u'entryForm': {u'1': u'Radio2', u'0': u'test', u'3': u'42.73', u'2': u'DropDown2'}}]\n"
     ]
    },
    {
     "name": "stderr",
     "output_type": "stream",
     "text": [
      "127.0.0.1 - - [16/Oct/2019 23:57:18] \"OPTIONS /getSurvey HTTP/1.1\" 200 -\n",
      "127.0.0.1 - - [16/Oct/2019 23:57:18] \"OPTIONS /getSurveyEntries HTTP/1.1\" 200 -\n"
     ]
    },
    {
     "name": "stdout",
     "output_type": "stream",
     "text": [
      "{u'surveyName': u'Testing Survey'}\n",
      "<pymongo.cursor.Cursor object at 0x10ea0ec50>\n"
     ]
    },
    {
     "name": "stderr",
     "output_type": "stream",
     "text": [
      "127.0.0.1 - - [16/Oct/2019 23:57:19] \"POST /getSurvey HTTP/1.1\" 200 -\n",
      "127.0.0.1 - - [16/Oct/2019 23:57:19] \"POST /getSurveyEntries HTTP/1.1\" 200 -\n"
     ]
    },
    {
     "name": "stdout",
     "output_type": "stream",
     "text": [
      "[{u'userName': u'test', u'surveyName': u'Testing Survey', u'entryForm': {u'1': u'Radio2', u'0': u'test', u'3': u'40.31', u'2': u'DropDown3'}}, {u'userName': u'hemanth', u'surveyName': u'Testing Survey', u'entryForm': {u'1': u'Radio2', u'0': u'test', u'3': u'42.73', u'2': u'DropDown2'}}]\n"
     ]
    },
    {
     "name": "stderr",
     "output_type": "stream",
     "text": [
      "127.0.0.1 - - [16/Oct/2019 23:58:06] \"OPTIONS /getSurvey HTTP/1.1\" 200 -\n",
      "127.0.0.1 - - [16/Oct/2019 23:58:06] \"OPTIONS /getSurveyEntries HTTP/1.1\" 200 -\n"
     ]
    },
    {
     "name": "stdout",
     "output_type": "stream",
     "text": [
      "{u'surveyName': u'Testing Survey'}\n",
      "<pymongo.cursor.Cursor object at 0x10e111ad0>\n"
     ]
    },
    {
     "name": "stderr",
     "output_type": "stream",
     "text": [
      "127.0.0.1 - - [16/Oct/2019 23:58:07] \"POST /getSurvey HTTP/1.1\" 200 -\n",
      "127.0.0.1 - - [16/Oct/2019 23:58:07] \"POST /getSurveyEntries HTTP/1.1\" 200 -\n"
     ]
    },
    {
     "name": "stdout",
     "output_type": "stream",
     "text": [
      "[{u'userName': u'test', u'surveyName': u'Testing Survey', u'entryForm': {u'1': u'Radio2', u'0': u'test', u'3': u'40.31', u'2': u'DropDown3'}}, {u'userName': u'hemanth', u'surveyName': u'Testing Survey', u'entryForm': {u'1': u'Radio2', u'0': u'test', u'3': u'42.73', u'2': u'DropDown2'}}]\n"
     ]
    },
    {
     "name": "stderr",
     "output_type": "stream",
     "text": [
      "127.0.0.1 - - [16/Oct/2019 23:58:25] \"OPTIONS /getSurvey HTTP/1.1\" 200 -\n",
      "127.0.0.1 - - [16/Oct/2019 23:58:25] \"OPTIONS /getSurveyEntries HTTP/1.1\" 200 -\n"
     ]
    },
    {
     "name": "stdout",
     "output_type": "stream",
     "text": [
      "{u'surveyName': u'Testing Survey'}\n",
      "<pymongo.cursor.Cursor object at 0x10df8ab90>\n"
     ]
    },
    {
     "name": "stderr",
     "output_type": "stream",
     "text": [
      "127.0.0.1 - - [16/Oct/2019 23:58:26] \"POST /getSurvey HTTP/1.1\" 200 -\n",
      "127.0.0.1 - - [16/Oct/2019 23:58:26] \"POST /getSurveyEntries HTTP/1.1\" 200 -\n"
     ]
    },
    {
     "name": "stdout",
     "output_type": "stream",
     "text": [
      "[{u'userName': u'test', u'surveyName': u'Testing Survey', u'entryForm': {u'1': u'Radio2', u'0': u'test', u'3': u'40.31', u'2': u'DropDown3'}}, {u'userName': u'hemanth', u'surveyName': u'Testing Survey', u'entryForm': {u'1': u'Radio2', u'0': u'test', u'3': u'42.73', u'2': u'DropDown2'}}]\n"
     ]
    },
    {
     "name": "stderr",
     "output_type": "stream",
     "text": [
      "127.0.0.1 - - [16/Oct/2019 23:58:52] \"OPTIONS /getSurvey HTTP/1.1\" 200 -\n",
      "127.0.0.1 - - [16/Oct/2019 23:58:52] \"OPTIONS /getSurveyEntries HTTP/1.1\" 200 -\n"
     ]
    },
    {
     "name": "stdout",
     "output_type": "stream",
     "text": [
      "{u'surveyName': u'Testing Survey'}\n",
      "<pymongo.cursor.Cursor object at 0x10e146b90>\n"
     ]
    },
    {
     "name": "stderr",
     "output_type": "stream",
     "text": [
      "127.0.0.1 - - [16/Oct/2019 23:58:53] \"POST /getSurvey HTTP/1.1\" 200 -\n",
      "127.0.0.1 - - [16/Oct/2019 23:58:53] \"POST /getSurveyEntries HTTP/1.1\" 200 -\n"
     ]
    },
    {
     "name": "stdout",
     "output_type": "stream",
     "text": [
      "[{u'userName': u'test', u'surveyName': u'Testing Survey', u'entryForm': {u'1': u'Radio2', u'0': u'test', u'3': u'40.31', u'2': u'DropDown3'}}, {u'userName': u'hemanth', u'surveyName': u'Testing Survey', u'entryForm': {u'1': u'Radio2', u'0': u'test', u'3': u'42.73', u'2': u'DropDown2'}}]\n"
     ]
    },
    {
     "name": "stderr",
     "output_type": "stream",
     "text": [
      "127.0.0.1 - - [16/Oct/2019 23:59:24] \"OPTIONS /getSurvey HTTP/1.1\" 200 -\n",
      "127.0.0.1 - - [16/Oct/2019 23:59:24] \"OPTIONS /getSurveyEntries HTTP/1.1\" 200 -\n"
     ]
    },
    {
     "name": "stdout",
     "output_type": "stream",
     "text": [
      "{u'surveyName': u'Testing Survey'}\n",
      "<pymongo.cursor.Cursor object at 0x10ea0ecd0>\n"
     ]
    },
    {
     "name": "stderr",
     "output_type": "stream",
     "text": [
      "127.0.0.1 - - [16/Oct/2019 23:59:25] \"POST /getSurvey HTTP/1.1\" 200 -\n",
      "127.0.0.1 - - [16/Oct/2019 23:59:25] \"POST /getSurveyEntries HTTP/1.1\" 200 -\n"
     ]
    },
    {
     "name": "stdout",
     "output_type": "stream",
     "text": [
      "[{u'userName': u'test', u'surveyName': u'Testing Survey', u'entryForm': {u'1': u'Radio2', u'0': u'test', u'3': u'40.31', u'2': u'DropDown3'}}, {u'userName': u'hemanth', u'surveyName': u'Testing Survey', u'entryForm': {u'1': u'Radio2', u'0': u'test', u'3': u'42.73', u'2': u'DropDown2'}}]\n"
     ]
    },
    {
     "name": "stderr",
     "output_type": "stream",
     "text": [
      "127.0.0.1 - - [16/Oct/2019 23:59:44] \"OPTIONS /getSurvey HTTP/1.1\" 200 -\n",
      "127.0.0.1 - - [16/Oct/2019 23:59:44] \"OPTIONS /getSurveyEntries HTTP/1.1\" 200 -\n"
     ]
    },
    {
     "name": "stdout",
     "output_type": "stream",
     "text": [
      "{u'surveyName': u'Testing Survey'}\n",
      "<pymongo.cursor.Cursor object at 0x10e111090>\n"
     ]
    },
    {
     "name": "stderr",
     "output_type": "stream",
     "text": [
      "127.0.0.1 - - [16/Oct/2019 23:59:44] \"POST /getSurvey HTTP/1.1\" 200 -\n",
      "127.0.0.1 - - [16/Oct/2019 23:59:44] \"POST /getSurveyEntries HTTP/1.1\" 200 -\n"
     ]
    },
    {
     "name": "stdout",
     "output_type": "stream",
     "text": [
      "[{u'userName': u'test', u'surveyName': u'Testing Survey', u'entryForm': {u'1': u'Radio2', u'0': u'test', u'3': u'40.31', u'2': u'DropDown3'}}, {u'userName': u'hemanth', u'surveyName': u'Testing Survey', u'entryForm': {u'1': u'Radio2', u'0': u'test', u'3': u'42.73', u'2': u'DropDown2'}}]\n"
     ]
    },
    {
     "name": "stderr",
     "output_type": "stream",
     "text": [
      "127.0.0.1 - - [17/Oct/2019 00:00:02] \"OPTIONS /getSurvey HTTP/1.1\" 200 -\n",
      "127.0.0.1 - - [17/Oct/2019 00:00:02] \"OPTIONS /getSurveyEntries HTTP/1.1\" 200 -\n"
     ]
    },
    {
     "name": "stdout",
     "output_type": "stream",
     "text": [
      "{u'surveyName': u'Testing Survey'}\n",
      "<pymongo.cursor.Cursor object at 0x10e11de90>\n"
     ]
    },
    {
     "name": "stderr",
     "output_type": "stream",
     "text": [
      "127.0.0.1 - - [17/Oct/2019 00:00:03] \"POST /getSurveyEntries HTTP/1.1\" 200 -\n",
      "127.0.0.1 - - [17/Oct/2019 00:00:03] \"POST /getSurvey HTTP/1.1\" 200 -\n"
     ]
    },
    {
     "name": "stdout",
     "output_type": "stream",
     "text": [
      "[{u'userName': u'test', u'surveyName': u'Testing Survey', u'entryForm': {u'1': u'Radio2', u'0': u'test', u'3': u'40.31', u'2': u'DropDown3'}}, {u'userName': u'hemanth', u'surveyName': u'Testing Survey', u'entryForm': {u'1': u'Radio2', u'0': u'test', u'3': u'42.73', u'2': u'DropDown2'}}]\n"
     ]
    },
    {
     "name": "stderr",
     "output_type": "stream",
     "text": [
      "127.0.0.1 - - [17/Oct/2019 00:00:39] \"OPTIONS /getSurvey HTTP/1.1\" 200 -\n",
      "127.0.0.1 - - [17/Oct/2019 00:00:39] \"OPTIONS /getSurveyEntries HTTP/1.1\" 200 -\n"
     ]
    },
    {
     "name": "stdout",
     "output_type": "stream",
     "text": [
      "{u'surveyName': u'Testing Survey'}\n",
      "<pymongo.cursor.Cursor object at 0x10ea0e610>\n"
     ]
    },
    {
     "name": "stderr",
     "output_type": "stream",
     "text": [
      "127.0.0.1 - - [17/Oct/2019 00:00:40] \"POST /getSurveyEntries HTTP/1.1\" 200 -\n",
      "127.0.0.1 - - [17/Oct/2019 00:00:40] \"POST /getSurvey HTTP/1.1\" 200 -\n"
     ]
    },
    {
     "name": "stdout",
     "output_type": "stream",
     "text": [
      "[{u'userName': u'test', u'surveyName': u'Testing Survey', u'entryForm': {u'1': u'Radio2', u'0': u'test', u'3': u'40.31', u'2': u'DropDown3'}}, {u'userName': u'hemanth', u'surveyName': u'Testing Survey', u'entryForm': {u'1': u'Radio2', u'0': u'test', u'3': u'42.73', u'2': u'DropDown2'}}]\n"
     ]
    },
    {
     "name": "stderr",
     "output_type": "stream",
     "text": [
      "127.0.0.1 - - [17/Oct/2019 00:01:07] \"OPTIONS /getSurvey HTTP/1.1\" 200 -\n",
      "127.0.0.1 - - [17/Oct/2019 00:01:07] \"OPTIONS /getSurveyEntries HTTP/1.1\" 200 -\n"
     ]
    },
    {
     "name": "stdout",
     "output_type": "stream",
     "text": [
      "{u'surveyName': u'Testing Survey'}\n",
      "<pymongo.cursor.Cursor object at 0x10dffb6d0>\n"
     ]
    },
    {
     "name": "stderr",
     "output_type": "stream",
     "text": [
      "127.0.0.1 - - [17/Oct/2019 00:01:08] \"POST /getSurvey HTTP/1.1\" 200 -\n",
      "127.0.0.1 - - [17/Oct/2019 00:01:08] \"POST /getSurveyEntries HTTP/1.1\" 200 -\n"
     ]
    },
    {
     "name": "stdout",
     "output_type": "stream",
     "text": [
      "[{u'userName': u'test', u'surveyName': u'Testing Survey', u'entryForm': {u'1': u'Radio2', u'0': u'test', u'3': u'40.31', u'2': u'DropDown3'}}, {u'userName': u'hemanth', u'surveyName': u'Testing Survey', u'entryForm': {u'1': u'Radio2', u'0': u'test', u'3': u'42.73', u'2': u'DropDown2'}}]\n"
     ]
    },
    {
     "name": "stderr",
     "output_type": "stream",
     "text": [
      "127.0.0.1 - - [17/Oct/2019 00:02:43] \"OPTIONS /getSurvey HTTP/1.1\" 200 -\n",
      "127.0.0.1 - - [17/Oct/2019 00:02:43] \"OPTIONS /getSurveyEntries HTTP/1.1\" 200 -\n"
     ]
    },
    {
     "name": "stdout",
     "output_type": "stream",
     "text": [
      "{u'surveyName': u'Testing Survey'}\n",
      "<pymongo.cursor.Cursor object at 0x10ea08c10>\n"
     ]
    },
    {
     "name": "stderr",
     "output_type": "stream",
     "text": [
      "127.0.0.1 - - [17/Oct/2019 00:02:43] \"POST /getSurvey HTTP/1.1\" 200 -\n",
      "127.0.0.1 - - [17/Oct/2019 00:02:43] \"POST /getSurveyEntries HTTP/1.1\" 200 -\n"
     ]
    },
    {
     "name": "stdout",
     "output_type": "stream",
     "text": [
      "[{u'userName': u'test', u'surveyName': u'Testing Survey', u'entryForm': {u'1': u'Radio2', u'0': u'test', u'3': u'40.31', u'2': u'DropDown3'}}, {u'userName': u'hemanth', u'surveyName': u'Testing Survey', u'entryForm': {u'1': u'Radio2', u'0': u'test', u'3': u'42.73', u'2': u'DropDown2'}}]\n"
     ]
    },
    {
     "name": "stderr",
     "output_type": "stream",
     "text": [
      "127.0.0.1 - - [17/Oct/2019 00:03:01] \"OPTIONS /getSurvey HTTP/1.1\" 200 -\n",
      "127.0.0.1 - - [17/Oct/2019 00:03:01] \"OPTIONS /getSurveyEntries HTTP/1.1\" 200 -\n"
     ]
    },
    {
     "name": "stdout",
     "output_type": "stream",
     "text": [
      "{u'surveyName': u'Testing Survey'}\n",
      "<pymongo.cursor.Cursor object at 0x10e111990>\n"
     ]
    },
    {
     "name": "stderr",
     "output_type": "stream",
     "text": [
      "127.0.0.1 - - [17/Oct/2019 00:03:02] \"POST /getSurvey HTTP/1.1\" 200 -\n",
      "127.0.0.1 - - [17/Oct/2019 00:03:02] \"POST /getSurveyEntries HTTP/1.1\" 200 -\n"
     ]
    },
    {
     "name": "stdout",
     "output_type": "stream",
     "text": [
      "[{u'userName': u'test', u'surveyName': u'Testing Survey', u'entryForm': {u'1': u'Radio2', u'0': u'test', u'3': u'40.31', u'2': u'DropDown3'}}, {u'userName': u'hemanth', u'surveyName': u'Testing Survey', u'entryForm': {u'1': u'Radio2', u'0': u'test', u'3': u'42.73', u'2': u'DropDown2'}}]\n"
     ]
    },
    {
     "name": "stderr",
     "output_type": "stream",
     "text": [
      "127.0.0.1 - - [17/Oct/2019 00:03:42] \"OPTIONS /getSurvey HTTP/1.1\" 200 -\n",
      "127.0.0.1 - - [17/Oct/2019 00:03:42] \"OPTIONS /getSurveyEntries HTTP/1.1\" 200 -\n"
     ]
    },
    {
     "name": "stdout",
     "output_type": "stream",
     "text": [
      "{u'surveyName': u'Testing Survey'}\n",
      "<pymongo.cursor.Cursor object at 0x10e1c0f10>\n"
     ]
    },
    {
     "name": "stderr",
     "output_type": "stream",
     "text": [
      "127.0.0.1 - - [17/Oct/2019 00:03:42] \"POST /getSurvey HTTP/1.1\" 200 -\n",
      "127.0.0.1 - - [17/Oct/2019 00:03:42] \"POST /getSurveyEntries HTTP/1.1\" 200 -\n"
     ]
    },
    {
     "name": "stdout",
     "output_type": "stream",
     "text": [
      "[{u'userName': u'test', u'surveyName': u'Testing Survey', u'entryForm': {u'1': u'Radio2', u'0': u'test', u'3': u'40.31', u'2': u'DropDown3'}}, {u'userName': u'hemanth', u'surveyName': u'Testing Survey', u'entryForm': {u'1': u'Radio2', u'0': u'test', u'3': u'42.73', u'2': u'DropDown2'}}]\n"
     ]
    },
    {
     "name": "stderr",
     "output_type": "stream",
     "text": [
      "127.0.0.1 - - [17/Oct/2019 00:04:02] \"OPTIONS /getSurvey HTTP/1.1\" 200 -\n",
      "127.0.0.1 - - [17/Oct/2019 00:04:02] \"OPTIONS /getSurveyEntries HTTP/1.1\" 200 -\n"
     ]
    },
    {
     "name": "stdout",
     "output_type": "stream",
     "text": [
      "{u'surveyName': u'Testing Survey'}\n",
      "<pymongo.cursor.Cursor object at 0x10dffbc50>\n"
     ]
    },
    {
     "name": "stderr",
     "output_type": "stream",
     "text": [
      "127.0.0.1 - - [17/Oct/2019 00:04:02] \"POST /getSurvey HTTP/1.1\" 200 -\n",
      "127.0.0.1 - - [17/Oct/2019 00:04:02] \"POST /getSurveyEntries HTTP/1.1\" 200 -\n"
     ]
    },
    {
     "name": "stdout",
     "output_type": "stream",
     "text": [
      "[{u'userName': u'test', u'surveyName': u'Testing Survey', u'entryForm': {u'1': u'Radio2', u'0': u'test', u'3': u'40.31', u'2': u'DropDown3'}}, {u'userName': u'hemanth', u'surveyName': u'Testing Survey', u'entryForm': {u'1': u'Radio2', u'0': u'test', u'3': u'42.73', u'2': u'DropDown2'}}]\n"
     ]
    },
    {
     "name": "stderr",
     "output_type": "stream",
     "text": [
      "127.0.0.1 - - [17/Oct/2019 00:04:41] \"OPTIONS /getSurvey HTTP/1.1\" 200 -\n",
      "127.0.0.1 - - [17/Oct/2019 00:04:41] \"OPTIONS /getSurveyEntries HTTP/1.1\" 200 -\n"
     ]
    },
    {
     "name": "stdout",
     "output_type": "stream",
     "text": [
      "{u'surveyName': u'Testing Survey'}\n",
      "<pymongo.cursor.Cursor object at 0x10e111fd0>\n"
     ]
    },
    {
     "name": "stderr",
     "output_type": "stream",
     "text": [
      "127.0.0.1 - - [17/Oct/2019 00:04:42] \"POST /getSurvey HTTP/1.1\" 200 -\n",
      "127.0.0.1 - - [17/Oct/2019 00:04:42] \"POST /getSurveyEntries HTTP/1.1\" 200 -\n"
     ]
    },
    {
     "name": "stdout",
     "output_type": "stream",
     "text": [
      "[{u'userName': u'test', u'surveyName': u'Testing Survey', u'entryForm': {u'1': u'Radio2', u'0': u'test', u'3': u'40.31', u'2': u'DropDown3'}}, {u'userName': u'hemanth', u'surveyName': u'Testing Survey', u'entryForm': {u'1': u'Radio2', u'0': u'test', u'3': u'42.73', u'2': u'DropDown2'}}]\n"
     ]
    },
    {
     "name": "stderr",
     "output_type": "stream",
     "text": [
      "127.0.0.1 - - [17/Oct/2019 00:05:11] \"OPTIONS /getSurvey HTTP/1.1\" 200 -\n",
      "127.0.0.1 - - [17/Oct/2019 00:05:11] \"OPTIONS /getSurveyEntries HTTP/1.1\" 200 -\n"
     ]
    },
    {
     "name": "stdout",
     "output_type": "stream",
     "text": [
      "{u'surveyName': u'Testing Survey'}\n",
      "<pymongo.cursor.Cursor object at 0x10e0cb450>\n"
     ]
    },
    {
     "name": "stderr",
     "output_type": "stream",
     "text": [
      "127.0.0.1 - - [17/Oct/2019 00:05:12] \"POST /getSurvey HTTP/1.1\" 200 -\n",
      "127.0.0.1 - - [17/Oct/2019 00:05:12] \"POST /getSurveyEntries HTTP/1.1\" 200 -\n"
     ]
    },
    {
     "name": "stdout",
     "output_type": "stream",
     "text": [
      "[{u'userName': u'test', u'surveyName': u'Testing Survey', u'entryForm': {u'1': u'Radio2', u'0': u'test', u'3': u'40.31', u'2': u'DropDown3'}}, {u'userName': u'hemanth', u'surveyName': u'Testing Survey', u'entryForm': {u'1': u'Radio2', u'0': u'test', u'3': u'42.73', u'2': u'DropDown2'}}]\n"
     ]
    },
    {
     "name": "stderr",
     "output_type": "stream",
     "text": [
      "127.0.0.1 - - [17/Oct/2019 00:05:30] \"OPTIONS /getSurvey HTTP/1.1\" 200 -\n",
      "127.0.0.1 - - [17/Oct/2019 00:05:30] \"OPTIONS /getSurveyEntries HTTP/1.1\" 200 -\n"
     ]
    },
    {
     "name": "stdout",
     "output_type": "stream",
     "text": [
      "{u'surveyName': u'Testing Survey'}\n",
      "<pymongo.cursor.Cursor object at 0x10ea0ec90>\n"
     ]
    },
    {
     "name": "stderr",
     "output_type": "stream",
     "text": [
      "127.0.0.1 - - [17/Oct/2019 00:05:31] \"POST /getSurvey HTTP/1.1\" 200 -\n",
      "127.0.0.1 - - [17/Oct/2019 00:05:31] \"POST /getSurveyEntries HTTP/1.1\" 200 -\n"
     ]
    },
    {
     "name": "stdout",
     "output_type": "stream",
     "text": [
      "[{u'userName': u'test', u'surveyName': u'Testing Survey', u'entryForm': {u'1': u'Radio2', u'0': u'test', u'3': u'40.31', u'2': u'DropDown3'}}, {u'userName': u'hemanth', u'surveyName': u'Testing Survey', u'entryForm': {u'1': u'Radio2', u'0': u'test', u'3': u'42.73', u'2': u'DropDown2'}}]\n"
     ]
    },
    {
     "name": "stderr",
     "output_type": "stream",
     "text": [
      "127.0.0.1 - - [17/Oct/2019 00:05:49] \"OPTIONS /getSurvey HTTP/1.1\" 200 -\n",
      "127.0.0.1 - - [17/Oct/2019 00:05:49] \"OPTIONS /getSurveyEntries HTTP/1.1\" 200 -\n"
     ]
    },
    {
     "name": "stdout",
     "output_type": "stream",
     "text": [
      "{u'surveyName': u'Testing Survey'}\n",
      "<pymongo.cursor.Cursor object at 0x10ea6b250>\n"
     ]
    },
    {
     "name": "stderr",
     "output_type": "stream",
     "text": [
      "127.0.0.1 - - [17/Oct/2019 00:05:50] \"POST /getSurvey HTTP/1.1\" 200 -\n",
      "127.0.0.1 - - [17/Oct/2019 00:05:50] \"POST /getSurveyEntries HTTP/1.1\" 200 -\n"
     ]
    },
    {
     "name": "stdout",
     "output_type": "stream",
     "text": [
      "[{u'userName': u'test', u'surveyName': u'Testing Survey', u'entryForm': {u'1': u'Radio2', u'0': u'test', u'3': u'40.31', u'2': u'DropDown3'}}, {u'userName': u'hemanth', u'surveyName': u'Testing Survey', u'entryForm': {u'1': u'Radio2', u'0': u'test', u'3': u'42.73', u'2': u'DropDown2'}}]\n"
     ]
    },
    {
     "name": "stderr",
     "output_type": "stream",
     "text": [
      "127.0.0.1 - - [17/Oct/2019 00:06:02] \"OPTIONS /getSurvey HTTP/1.1\" 200 -\n",
      "127.0.0.1 - - [17/Oct/2019 00:06:02] \"OPTIONS /getSurveyEntries HTTP/1.1\" 200 -\n"
     ]
    },
    {
     "name": "stdout",
     "output_type": "stream",
     "text": [
      "{u'surveyName': u'Testing Survey'}\n",
      "<pymongo.cursor.Cursor object at 0x10e1ef710>\n"
     ]
    },
    {
     "name": "stderr",
     "output_type": "stream",
     "text": [
      "127.0.0.1 - - [17/Oct/2019 00:06:03] \"POST /getSurvey HTTP/1.1\" 200 -\n",
      "127.0.0.1 - - [17/Oct/2019 00:06:03] \"POST /getSurveyEntries HTTP/1.1\" 200 -\n"
     ]
    },
    {
     "name": "stdout",
     "output_type": "stream",
     "text": [
      "[{u'userName': u'test', u'surveyName': u'Testing Survey', u'entryForm': {u'1': u'Radio2', u'0': u'test', u'3': u'40.31', u'2': u'DropDown3'}}, {u'userName': u'hemanth', u'surveyName': u'Testing Survey', u'entryForm': {u'1': u'Radio2', u'0': u'test', u'3': u'42.73', u'2': u'DropDown2'}}]\n"
     ]
    },
    {
     "name": "stderr",
     "output_type": "stream",
     "text": [
      "127.0.0.1 - - [17/Oct/2019 00:06:20] \"OPTIONS /getSurvey HTTP/1.1\" 200 -\n",
      "127.0.0.1 - - [17/Oct/2019 00:06:20] \"OPTIONS /getSurveyEntries HTTP/1.1\" 200 -\n"
     ]
    },
    {
     "name": "stdout",
     "output_type": "stream",
     "text": [
      "{u'surveyName': u'Testing Survey'}\n",
      "<pymongo.cursor.Cursor object at 0x10ea08650>\n"
     ]
    },
    {
     "name": "stderr",
     "output_type": "stream",
     "text": [
      "127.0.0.1 - - [17/Oct/2019 00:06:20] \"POST /getSurvey HTTP/1.1\" 200 -\n",
      "127.0.0.1 - - [17/Oct/2019 00:06:20] \"POST /getSurveyEntries HTTP/1.1\" 200 -\n"
     ]
    },
    {
     "name": "stdout",
     "output_type": "stream",
     "text": [
      "[{u'userName': u'test', u'surveyName': u'Testing Survey', u'entryForm': {u'1': u'Radio2', u'0': u'test', u'3': u'40.31', u'2': u'DropDown3'}}, {u'userName': u'hemanth', u'surveyName': u'Testing Survey', u'entryForm': {u'1': u'Radio2', u'0': u'test', u'3': u'42.73', u'2': u'DropDown2'}}]\n"
     ]
    },
    {
     "name": "stderr",
     "output_type": "stream",
     "text": [
      "127.0.0.1 - - [17/Oct/2019 00:07:17] \"OPTIONS /getSurvey HTTP/1.1\" 200 -\n",
      "127.0.0.1 - - [17/Oct/2019 00:07:17] \"OPTIONS /getSurveyEntries HTTP/1.1\" 200 -\n"
     ]
    },
    {
     "name": "stdout",
     "output_type": "stream",
     "text": [
      "{u'surveyName': u'Testing Survey'}\n",
      "<pymongo.cursor.Cursor object at 0x10e111890>\n"
     ]
    },
    {
     "name": "stderr",
     "output_type": "stream",
     "text": [
      "127.0.0.1 - - [17/Oct/2019 00:07:18] \"POST /getSurvey HTTP/1.1\" 200 -\n",
      "127.0.0.1 - - [17/Oct/2019 00:07:18] \"POST /getSurveyEntries HTTP/1.1\" 200 -\n"
     ]
    },
    {
     "name": "stdout",
     "output_type": "stream",
     "text": [
      "[{u'userName': u'test', u'surveyName': u'Testing Survey', u'entryForm': {u'1': u'Radio2', u'0': u'test', u'3': u'40.31', u'2': u'DropDown3'}}, {u'userName': u'hemanth', u'surveyName': u'Testing Survey', u'entryForm': {u'1': u'Radio2', u'0': u'test', u'3': u'42.73', u'2': u'DropDown2'}}]\n"
     ]
    },
    {
     "name": "stderr",
     "output_type": "stream",
     "text": [
      "127.0.0.1 - - [17/Oct/2019 00:07:31] \"OPTIONS /getSurvey HTTP/1.1\" 200 -\n",
      "127.0.0.1 - - [17/Oct/2019 00:07:31] \"OPTIONS /getSurveyEntries HTTP/1.1\" 200 -\n"
     ]
    },
    {
     "name": "stdout",
     "output_type": "stream",
     "text": [
      "{u'surveyName': u'Testing Survey'}\n",
      "<pymongo.cursor.Cursor object at 0x10ea6b810>\n"
     ]
    },
    {
     "name": "stderr",
     "output_type": "stream",
     "text": [
      "127.0.0.1 - - [17/Oct/2019 00:07:32] \"POST /getSurvey HTTP/1.1\" 200 -\n",
      "127.0.0.1 - - [17/Oct/2019 00:07:32] \"POST /getSurveyEntries HTTP/1.1\" 200 -\n"
     ]
    },
    {
     "name": "stdout",
     "output_type": "stream",
     "text": [
      "[{u'userName': u'test', u'surveyName': u'Testing Survey', u'entryForm': {u'1': u'Radio2', u'0': u'test', u'3': u'40.31', u'2': u'DropDown3'}}, {u'userName': u'hemanth', u'surveyName': u'Testing Survey', u'entryForm': {u'1': u'Radio2', u'0': u'test', u'3': u'42.73', u'2': u'DropDown2'}}]\n"
     ]
    },
    {
     "name": "stderr",
     "output_type": "stream",
     "text": [
      "127.0.0.1 - - [17/Oct/2019 00:07:46] \"OPTIONS /getAllSurveys HTTP/1.1\" 200 -\n",
      "127.0.0.1 - - [17/Oct/2019 00:07:46] \"GET /getAllSurveys HTTP/1.1\" 200 -\n",
      "127.0.0.1 - - [17/Oct/2019 00:07:48] \"OPTIONS /getSurvey HTTP/1.1\" 200 -\n",
      "127.0.0.1 - - [17/Oct/2019 00:07:48] \"POST /getSurvey HTTP/1.1\" 200 -\n",
      "127.0.0.1 - - [17/Oct/2019 00:08:01] \"OPTIONS /fillSurvey HTTP/1.1\" 200 -\n",
      "127.0.0.1 - - [17/Oct/2019 00:08:01] \"POST /fillSurvey HTTP/1.1\" 200 -\n",
      "127.0.0.1 - - [17/Oct/2019 00:08:05] \"OPTIONS /getAllSurveys HTTP/1.1\" 200 -\n",
      "127.0.0.1 - - [17/Oct/2019 00:08:05] \"GET /getAllSurveys HTTP/1.1\" 200 -\n",
      "127.0.0.1 - - [17/Oct/2019 00:08:06] \"OPTIONS /getSurvey HTTP/1.1\" 200 -\n",
      "127.0.0.1 - - [17/Oct/2019 00:08:06] \"OPTIONS /getSurveyEntries HTTP/1.1\" 200 -\n"
     ]
    },
    {
     "name": "stdout",
     "output_type": "stream",
     "text": [
      "{u'surveyName': u'Testing Survey'}\n",
      "<pymongo.cursor.Cursor object at 0x10e1ef390>\n"
     ]
    },
    {
     "name": "stderr",
     "output_type": "stream",
     "text": [
      "127.0.0.1 - - [17/Oct/2019 00:08:07] \"POST /getSurvey HTTP/1.1\" 200 -\n",
      "127.0.0.1 - - [17/Oct/2019 00:08:07] \"POST /getSurveyEntries HTTP/1.1\" 200 -\n"
     ]
    },
    {
     "name": "stdout",
     "output_type": "stream",
     "text": [
      "[{u'userName': u'test', u'surveyName': u'Testing Survey', u'entryForm': {u'1': u'Radio2', u'0': u'test', u'3': u'40.31', u'2': u'DropDown3'}}, {u'userName': u'hemanth', u'surveyName': u'Testing Survey', u'entryForm': {u'1': u'Radio2', u'0': u'test', u'3': u'42.73', u'2': u'DropDown2'}}, {u'userName': u'user', u'surveyName': u'Testing Survey', u'entryForm': {u'1': u'Radio1', u'0': u'testing the results', u'2': u'DropDown3'}}]\n"
     ]
    },
    {
     "name": "stderr",
     "output_type": "stream",
     "text": [
      "127.0.0.1 - - [17/Oct/2019 00:09:03] \"OPTIONS /getSurvey HTTP/1.1\" 200 -\n",
      "127.0.0.1 - - [17/Oct/2019 00:09:03] \"OPTIONS /getSurveyEntries HTTP/1.1\" 200 -\n"
     ]
    },
    {
     "name": "stdout",
     "output_type": "stream",
     "text": [
      "{u'surveyName': u'Testing Survey'}\n",
      "<pymongo.cursor.Cursor object at 0x10e111550>\n"
     ]
    },
    {
     "name": "stderr",
     "output_type": "stream",
     "text": [
      "127.0.0.1 - - [17/Oct/2019 00:09:04] \"POST /getSurveyEntries HTTP/1.1\" 200 -\n",
      "127.0.0.1 - - [17/Oct/2019 00:09:04] \"POST /getSurvey HTTP/1.1\" 200 -\n"
     ]
    },
    {
     "name": "stdout",
     "output_type": "stream",
     "text": [
      "[{u'userName': u'test', u'surveyName': u'Testing Survey', u'entryForm': {u'1': u'Radio2', u'0': u'test', u'3': u'40.31', u'2': u'DropDown3'}}, {u'userName': u'hemanth', u'surveyName': u'Testing Survey', u'entryForm': {u'1': u'Radio2', u'0': u'test', u'3': u'42.73', u'2': u'DropDown2'}}, {u'userName': u'user', u'surveyName': u'Testing Survey', u'entryForm': {u'1': u'Radio1', u'0': u'testing the results', u'2': u'DropDown3'}}]\n"
     ]
    },
    {
     "name": "stderr",
     "output_type": "stream",
     "text": [
      "127.0.0.1 - - [17/Oct/2019 00:09:26] \"OPTIONS /getAllSurveys HTTP/1.1\" 200 -\n",
      "127.0.0.1 - - [17/Oct/2019 00:09:26] \"GET /getAllSurveys HTTP/1.1\" 200 -\n",
      "127.0.0.1 - - [17/Oct/2019 00:09:28] \"OPTIONS /getSurvey HTTP/1.1\" 200 -\n",
      "127.0.0.1 - - [17/Oct/2019 00:09:28] \"OPTIONS /getSurveyEntries HTTP/1.1\" 200 -\n"
     ]
    },
    {
     "name": "stdout",
     "output_type": "stream",
     "text": [
      "{u'surveyName': u'Testing Survey'}\n",
      "<pymongo.cursor.Cursor object at 0x10dffb810>\n"
     ]
    },
    {
     "name": "stderr",
     "output_type": "stream",
     "text": [
      "127.0.0.1 - - [17/Oct/2019 00:09:28] \"POST /getSurvey HTTP/1.1\" 200 -\n",
      "127.0.0.1 - - [17/Oct/2019 00:09:28] \"POST /getSurveyEntries HTTP/1.1\" 200 -\n"
     ]
    },
    {
     "name": "stdout",
     "output_type": "stream",
     "text": [
      "[{u'userName': u'test', u'surveyName': u'Testing Survey', u'entryForm': {u'1': u'Radio2', u'0': u'test', u'3': u'40.31', u'2': u'DropDown3'}}, {u'userName': u'hemanth', u'surveyName': u'Testing Survey', u'entryForm': {u'1': u'Radio2', u'0': u'test', u'3': u'42.73', u'2': u'DropDown2'}}, {u'userName': u'user', u'surveyName': u'Testing Survey', u'entryForm': {u'1': u'Radio1', u'0': u'testing the results', u'2': u'DropDown3'}}]\n"
     ]
    },
    {
     "name": "stderr",
     "output_type": "stream",
     "text": [
      "127.0.0.1 - - [17/Oct/2019 00:10:26] \"OPTIONS /getSurvey HTTP/1.1\" 200 -\n",
      "127.0.0.1 - - [17/Oct/2019 00:10:26] \"OPTIONS /getSurveyEntries HTTP/1.1\" 200 -\n"
     ]
    },
    {
     "name": "stdout",
     "output_type": "stream",
     "text": [
      "{u'surveyName': u'Testing Survey'}\n",
      "<pymongo.cursor.Cursor object at 0x10e1effd0>\n"
     ]
    },
    {
     "name": "stderr",
     "output_type": "stream",
     "text": [
      "127.0.0.1 - - [17/Oct/2019 00:10:26] \"POST /getSurvey HTTP/1.1\" 200 -\n",
      "127.0.0.1 - - [17/Oct/2019 00:10:26] \"POST /getSurveyEntries HTTP/1.1\" 200 -\n"
     ]
    },
    {
     "name": "stdout",
     "output_type": "stream",
     "text": [
      "[{u'userName': u'test', u'surveyName': u'Testing Survey', u'entryForm': {u'1': u'Radio2', u'0': u'test', u'3': u'40.31', u'2': u'DropDown3'}}, {u'userName': u'hemanth', u'surveyName': u'Testing Survey', u'entryForm': {u'1': u'Radio2', u'0': u'test', u'3': u'42.73', u'2': u'DropDown2'}}, {u'userName': u'user', u'surveyName': u'Testing Survey', u'entryForm': {u'1': u'Radio1', u'0': u'testing the results', u'2': u'DropDown3'}}]\n"
     ]
    },
    {
     "name": "stderr",
     "output_type": "stream",
     "text": [
      "127.0.0.1 - - [17/Oct/2019 00:10:36] \"OPTIONS /getAllSurveys HTTP/1.1\" 200 -\n",
      "127.0.0.1 - - [17/Oct/2019 00:10:36] \"GET /getAllSurveys HTTP/1.1\" 200 -\n",
      "127.0.0.1 - - [17/Oct/2019 00:10:37] \"OPTIONS /getSurvey HTTP/1.1\" 200 -\n",
      "127.0.0.1 - - [17/Oct/2019 00:10:39] \"POST /getSurvey HTTP/1.1\" 200 -\n",
      "127.0.0.1 - - [17/Oct/2019 00:10:52] \"OPTIONS /fillSurvey HTTP/1.1\" 200 -\n",
      "127.0.0.1 - - [17/Oct/2019 00:10:55] \"POST /fillSurvey HTTP/1.1\" 200 -\n",
      "127.0.0.1 - - [17/Oct/2019 00:10:55] \"OPTIONS /getAllSurveys HTTP/1.1\" 200 -\n",
      "127.0.0.1 - - [17/Oct/2019 00:10:56] \"GET /getAllSurveys HTTP/1.1\" 200 -\n",
      "127.0.0.1 - - [17/Oct/2019 00:10:57] \"OPTIONS /getSurvey HTTP/1.1\" 200 -\n",
      "127.0.0.1 - - [17/Oct/2019 00:10:57] \"OPTIONS /getSurveyEntries HTTP/1.1\" 200 -\n"
     ]
    },
    {
     "name": "stdout",
     "output_type": "stream",
     "text": [
      "{u'surveyName': u'Testing Survey'}\n",
      "<pymongo.cursor.Cursor object at 0x10dffb790>\n"
     ]
    },
    {
     "name": "stderr",
     "output_type": "stream",
     "text": [
      "127.0.0.1 - - [17/Oct/2019 00:10:58] \"POST /getSurvey HTTP/1.1\" 200 -\n",
      "127.0.0.1 - - [17/Oct/2019 00:10:58] \"POST /getSurveyEntries HTTP/1.1\" 200 -\n"
     ]
    },
    {
     "name": "stdout",
     "output_type": "stream",
     "text": [
      "[{u'userName': u'test', u'surveyName': u'Testing Survey', u'entryForm': {u'1': u'Radio2', u'0': u'test', u'3': u'40.31', u'2': u'DropDown3'}}, {u'userName': u'hemanth', u'surveyName': u'Testing Survey', u'entryForm': {u'1': u'Radio2', u'0': u'test', u'3': u'42.73', u'2': u'DropDown2'}}, {u'userName': u'user', u'surveyName': u'Testing Survey', u'entryForm': {u'1': u'Radio1', u'0': u'testing the results', u'2': u'DropDown3'}}, {u'userName': u'user2', u'surveyName': u'Testing Survey', u'entryForm': {u'1': u'Radio3', u'0': u'233333', u'3': u'42.95', u'2': u'DropDown3'}}]\n"
     ]
    },
    {
     "name": "stderr",
     "output_type": "stream",
     "text": [
      "127.0.0.1 - - [17/Oct/2019 00:11:45] \"OPTIONS /getSurvey HTTP/1.1\" 200 -\n",
      "127.0.0.1 - - [17/Oct/2019 00:11:45] \"OPTIONS /getSurveyEntries HTTP/1.1\" 200 -\n"
     ]
    },
    {
     "name": "stdout",
     "output_type": "stream",
     "text": [
      "{u'surveyName': u'Testing Survey'}\n",
      "<pymongo.cursor.Cursor object at 0x10ea0e9d0>\n"
     ]
    },
    {
     "name": "stderr",
     "output_type": "stream",
     "text": [
      "127.0.0.1 - - [17/Oct/2019 00:11:47] \"POST /getSurvey HTTP/1.1\" 200 -\n",
      "127.0.0.1 - - [17/Oct/2019 00:11:47] \"POST /getSurveyEntries HTTP/1.1\" 200 -\n"
     ]
    },
    {
     "name": "stdout",
     "output_type": "stream",
     "text": [
      "[{u'userName': u'test', u'surveyName': u'Testing Survey', u'entryForm': {u'1': u'Radio2', u'0': u'test', u'3': u'40.31', u'2': u'DropDown3'}}, {u'userName': u'hemanth', u'surveyName': u'Testing Survey', u'entryForm': {u'1': u'Radio2', u'0': u'test', u'3': u'42.73', u'2': u'DropDown2'}}, {u'userName': u'user', u'surveyName': u'Testing Survey', u'entryForm': {u'1': u'Radio1', u'0': u'testing the results', u'2': u'DropDown3'}}, {u'userName': u'user2', u'surveyName': u'Testing Survey', u'entryForm': {u'1': u'Radio3', u'0': u'233333', u'3': u'42.95', u'2': u'DropDown3'}}]\n"
     ]
    },
    {
     "name": "stderr",
     "output_type": "stream",
     "text": [
      "127.0.0.1 - - [17/Oct/2019 00:11:58] \"OPTIONS /getAllSurveys HTTP/1.1\" 200 -\n",
      "127.0.0.1 - - [17/Oct/2019 00:11:59] \"GET /getAllSurveys HTTP/1.1\" 200 -\n",
      "127.0.0.1 - - [17/Oct/2019 00:12:01] \"OPTIONS /getSurvey HTTP/1.1\" 200 -\n",
      "127.0.0.1 - - [17/Oct/2019 00:12:02] \"POST /getSurvey HTTP/1.1\" 200 -\n",
      "127.0.0.1 - - [17/Oct/2019 00:12:20] \"OPTIONS /fillSurvey HTTP/1.1\" 200 -\n",
      "127.0.0.1 - - [17/Oct/2019 00:12:21] \"POST /fillSurvey HTTP/1.1\" 200 -\n",
      "127.0.0.1 - - [17/Oct/2019 00:12:25] \"OPTIONS /getAllSurveys HTTP/1.1\" 200 -\n",
      "127.0.0.1 - - [17/Oct/2019 00:12:26] \"GET /getAllSurveys HTTP/1.1\" 200 -\n",
      "127.0.0.1 - - [17/Oct/2019 00:12:27] \"OPTIONS /getSurvey HTTP/1.1\" 200 -\n",
      "127.0.0.1 - - [17/Oct/2019 00:12:27] \"OPTIONS /getSurveyEntries HTTP/1.1\" 200 -\n"
     ]
    },
    {
     "name": "stdout",
     "output_type": "stream",
     "text": [
      "{u'surveyName': u'Testing Survey'}\n"
     ]
    },
    {
     "name": "stderr",
     "output_type": "stream",
     "text": [
      "127.0.0.1 - - [17/Oct/2019 00:12:33] \"OPTIONS /getAllSurveys HTTP/1.1\" 200 -\n"
     ]
    },
    {
     "name": "stdout",
     "output_type": "stream",
     "text": [
      "<pymongo.cursor.Cursor object at 0x10ea0eb90>\n"
     ]
    },
    {
     "name": "stderr",
     "output_type": "stream",
     "text": [
      "127.0.0.1 - - [17/Oct/2019 00:12:36] \"POST /getSurvey HTTP/1.1\" 200 -\n",
      "127.0.0.1 - - [17/Oct/2019 00:12:36] \"POST /getSurveyEntries HTTP/1.1\" 200 -\n"
     ]
    },
    {
     "name": "stdout",
     "output_type": "stream",
     "text": [
      "[{u'userName': u'test', u'surveyName': u'Testing Survey', u'entryForm': {u'1': u'Radio2', u'0': u'test', u'3': u'40.31', u'2': u'DropDown3'}}, {u'userName': u'hemanth', u'surveyName': u'Testing Survey', u'entryForm': {u'1': u'Radio2', u'0': u'test', u'3': u'42.73', u'2': u'DropDown2'}}, {u'userName': u'user', u'surveyName': u'Testing Survey', u'entryForm': {u'1': u'Radio1', u'0': u'testing the results', u'2': u'DropDown3'}}, {u'userName': u'user2', u'surveyName': u'Testing Survey', u'entryForm': {u'1': u'Radio3', u'0': u'233333', u'3': u'42.95', u'2': u'DropDown3'}}, {u'userName': u'Final Test', u'surveyName': u'Testing Survey', u'entryForm': {u'1': u'Radio3', u'0': u'final test', u'3': u'93.61', u'2': u'DropDown3'}}]\n"
     ]
    },
    {
     "name": "stderr",
     "output_type": "stream",
     "text": [
      "127.0.0.1 - - [17/Oct/2019 00:12:37] \"GET /getAllSurveys HTTP/1.1\" 200 -\n",
      "127.0.0.1 - - [17/Oct/2019 00:12:39] \"OPTIONS /getSurvey HTTP/1.1\" 200 -\n",
      "127.0.0.1 - - [17/Oct/2019 00:12:39] \"OPTIONS /getSurveyEntries HTTP/1.1\" 200 -\n"
     ]
    },
    {
     "name": "stdout",
     "output_type": "stream",
     "text": [
      "{u'surveyName': u'Testing Survey'}\n",
      "<pymongo.cursor.Cursor object at 0x10dffb710>\n"
     ]
    },
    {
     "name": "stderr",
     "output_type": "stream",
     "text": [
      "127.0.0.1 - - [17/Oct/2019 00:12:42] \"POST /getSurvey HTTP/1.1\" 200 -\n",
      "127.0.0.1 - - [17/Oct/2019 00:12:42] \"POST /getSurveyEntries HTTP/1.1\" 200 -\n"
     ]
    },
    {
     "name": "stdout",
     "output_type": "stream",
     "text": [
      "[{u'userName': u'test', u'surveyName': u'Testing Survey', u'entryForm': {u'1': u'Radio2', u'0': u'test', u'3': u'40.31', u'2': u'DropDown3'}}, {u'userName': u'hemanth', u'surveyName': u'Testing Survey', u'entryForm': {u'1': u'Radio2', u'0': u'test', u'3': u'42.73', u'2': u'DropDown2'}}, {u'userName': u'user', u'surveyName': u'Testing Survey', u'entryForm': {u'1': u'Radio1', u'0': u'testing the results', u'2': u'DropDown3'}}, {u'userName': u'user2', u'surveyName': u'Testing Survey', u'entryForm': {u'1': u'Radio3', u'0': u'233333', u'3': u'42.95', u'2': u'DropDown3'}}, {u'userName': u'Final Test', u'surveyName': u'Testing Survey', u'entryForm': {u'1': u'Radio3', u'0': u'final test', u'3': u'93.61', u'2': u'DropDown3'}}]\n"
     ]
    },
    {
     "name": "stderr",
     "output_type": "stream",
     "text": [
      "127.0.0.1 - - [17/Oct/2019 00:12:49] \"GET /getAllSurveys HTTP/1.1\" 200 -\n",
      "127.0.0.1 - - [17/Oct/2019 00:12:49] \"GET /getAllSurveys HTTP/1.1\" 200 -\n",
      "127.0.0.1 - - [17/Oct/2019 00:13:14] \"OPTIONS /getAllSurveys HTTP/1.1\" 200 -\n",
      "127.0.0.1 - - [17/Oct/2019 00:13:15] \"GET /getAllSurveys HTTP/1.1\" 200 -\n",
      "127.0.0.1 - - [17/Oct/2019 00:13:16] \"GET /getAllSurveys HTTP/1.1\" 200 -\n",
      "127.0.0.1 - - [17/Oct/2019 00:13:22] \"OPTIONS /getSurvey HTTP/1.1\" 200 -\n",
      "127.0.0.1 - - [17/Oct/2019 00:13:22] \"POST /getSurvey HTTP/1.1\" 200 -\n",
      "127.0.0.1 - - [17/Oct/2019 00:13:24] \"OPTIONS /getAllSurveys HTTP/1.1\" 200 -\n",
      "127.0.0.1 - - [17/Oct/2019 00:13:24] \"GET /getAllSurveys HTTP/1.1\" 200 -\n"
     ]
    }
   ],
   "source": [
    "app = Flask(__name__)\n",
    "api = Api(app)\n",
    "\n",
    "CORS(app)\n",
    "client = pymongo.MongoClient(\"mongodb+srv://hemanth:\"+ urllib.quote(\"Hemanth@123\")+\"@cluster0-59obx.mongodb.net/test?retryWrites=true&w=majority\")\n",
    "\n",
    "\n",
    "\n",
    "### swagger specific ###\n",
    "SWAGGER_URL = '/swagger'\n",
    "API_URL = '/static/swagger.json'\n",
    "SWAGGERUI_BLUEPRINT = get_swaggerui_blueprint(\n",
    "    SWAGGER_URL,\n",
    "    API_URL,\n",
    "    config={\n",
    "        'app_name': \"Seans-Python-Flask-REST-Boilerplate\"\n",
    "    }\n",
    ")\n",
    "app.register_blueprint(SWAGGERUI_BLUEPRINT, url_prefix=SWAGGER_URL)  \n",
    "\n",
    "\n",
    "@app.route(\"/\")\n",
    "def hello():\n",
    "    return jsonify({'text':'Hello World!'})\n",
    "\n",
    "\n",
    "@app.route(\"/createSurvey\",methods=['POST'])\n",
    "def createSurvey(): \n",
    "    \n",
    "    verifyAccessToken(request.headers[\"Authorization\"])\n",
    "    if not(verifyAccessToken):\n",
    "        return json.dumps({\n",
    "              \"error\": \"access_denied\"\n",
    "            }), 401\n",
    "    \n",
    "    db=client.survey\n",
    "    params=request.json\n",
    "    \n",
    "    if(checkSurveyExists(params[\"surveyName\"])):\n",
    "        return jsonify({'response':'SurveyName already Exists'})\n",
    "    surveyDetails={}\n",
    "    surveyDetails[\"userName\"]=params[\"userName\"]\n",
    "    surveyDetails[\"surveyName\"]=params[\"surveyName\"]\n",
    "    surveyDetails[\"surveyDescription\"]=params[\"surveyDescription\"]\n",
    "    surveyDetails[\"surveyForm\"]=params[\"surveyForm\"]\n",
    "    \n",
    "    result=db.SurveyForms.insert_one(surveyDetails)\n",
    "    return  jsonify({'response':'Survey successfully created'})\n",
    "\n",
    "\n",
    "@app.route(\"/getSurvey\",methods=['POST'])\n",
    "def SurveyForm():    \n",
    "    db=client.survey\n",
    "    params=request.json\n",
    "\n",
    "    if not(checkSurveyExists(params[\"surveyName\"])):\n",
    "        return jsonify({'response':'SurveyName doesnt Exists'})\n",
    "    \n",
    "    result=db.SurveyForms.find_one({'surveyName': params[\"surveyName\"]})\n",
    "    del result['_id']\n",
    "    return jsonify(result)\n",
    "\n",
    "\n",
    "@app.route(\"/fillSurvey\",methods=['POST'])\n",
    "def SurveyEntry():\n",
    "    db=client.survey\n",
    "    params=request.json\n",
    "    if not(checkSurveyExists(params[\"surveyName\"])):\n",
    "        return jsonify({'response':'SurveyName doesnt Exist'})\n",
    "    \n",
    "    surveyDetails={}\n",
    "    surveyDetails[\"userName\"]=params[\"userName\"]\n",
    "    surveyDetails[\"surveyName\"]=params[\"surveyName\"]\n",
    "    surveyDetails[\"entryForm\"]=params[\"entryForm\"]\n",
    "    \n",
    "    db.SurveyEntries.insert_one(surveyDetails)\n",
    "    return  jsonify({'response':'Survey successfully filled'})\n",
    "\n",
    "\n",
    "@app.route(\"/getAllSurveys\",methods=['GET'])\n",
    "def getAllServeys():\n",
    "    db=client.survey\n",
    "    surveys=[]\n",
    "    for i in db.SurveyForms.find():\n",
    "        del i['_id']\n",
    "        surveys.append(i)\n",
    "   \n",
    "    return jsonify({\"results\":surveys})\n",
    "\n",
    "@app.route(\"/getSurveyEntries\",methods=['POST'])\n",
    "def getSurveyEntries():\n",
    "    db=client.survey\n",
    "    params=request.json\n",
    "    print(params)\n",
    "    if not(checkSurveyExists(params[\"surveyName\"])):\n",
    "        return jsonify({'response':'SurveyName doesnt Exists'})\n",
    "       \n",
    "    surveyEntries=[]\n",
    "    print(db.SurveyEntries.find({'surveyName': params[\"surveyName\"]}))\n",
    "    for i in db.SurveyEntries.find({'surveyName': params[\"surveyName\"]}):\n",
    "        del i['_id']\n",
    "        surveyEntries.append(i)\n",
    "        \n",
    "    print(surveyEntries)\n",
    "    return jsonify({\"results\":surveyEntries})\n",
    "\n",
    "# @app.route(\"/surveystats\")\n",
    "# def SurveyStatistics():\n",
    "#     db=client.survey\n",
    "#     data=json.loads(str(request.data))\n",
    "#     if(!checkSurveyExists(request.surveyName)):\n",
    "#         return jsonify({'response':'SurveyName doesnt Exists'})\n",
    "    \n",
    "#     surveyEntries=db.SurveyEntries.find({'surveyName': request.surveyName})\n",
    "#     surveyTemplate=db.SurveyForms.find({'surveyName': request.surveyName})\n",
    "\n",
    "#     return surveyEntries\n",
    "\n",
    "@app.route(\"/surveystat\")\n",
    "def getByUserSurvey():\n",
    "    db=client.SurveyEntries\n",
    "    params=request.json\n",
    "    print(params)\n",
    "    if not(checkSurveyExists(params[\"surveyName\"])):\n",
    "        return jsonify({'response':'SurveyName doesnt Exists'})\n",
    "    \n",
    "    surveyEntry=db.SurveyEntries.find({'surveyName': params[\"surveyName\"],'userName':params[\"userName\"]})\n",
    "    surveyTemplate=db.SurveyForms.find({'surveyName': params[\"surveyName\"]})\n",
    "    \n",
    "    return mergeSurventry(surveyTemplate,surveyEntry)\n",
    "\n",
    "if __name__ == '__main__':\n",
    "   app.run(port=5002)\n",
    "\n"
   ]
  },
  {
   "cell_type": "code",
   "execution_count": 39,
   "metadata": {
    "collapsed": true
   },
   "outputs": [],
   "source": [
    "surveyTemplate = {\n",
    "        'userName' : \"Hemanth\",\n",
    "        'surveyName' : \"test\",\n",
    "        'surveyForm':{\"0\":{\n",
    "            \"qsn\":\"qsn1\",\n",
    "            \"type\":\"radio\",\n",
    "            \"options\":[\"a\",\"b\"]\n",
    "        },\n",
    "                \"1\":{\n",
    "            \"qsn\":\"qsn2\",\n",
    "            \"type\":\"texxt\",\n",
    "            \"options\":[\"a\",\"c\"]\n",
    "        }\n",
    "            \n",
    "        }\n",
    "    }\n",
    "\n",
    "surveyEntry= [{\n",
    "        'userName' : \"Hemanth\",\n",
    "        'surveyName' : \"test\",\n",
    "        'entryForm':{\"0\":\"ans1\",\n",
    "        \"1\":\"ans1\" }\n",
    "        },{\n",
    "        'userName' : \"Mounika\",\n",
    "        'surveyName' : \"test\",\n",
    "        'entryForm':{\"0\":\"ans1\",\n",
    "        \"1\":\"ans12\" }\n",
    "        }]\n",
    "\n"
   ]
  },
  {
   "cell_type": "code",
   "execution_count": 41,
   "metadata": {
    "collapsed": true
   },
   "outputs": [],
   "source": [
    "db=client.survey"
   ]
  },
  {
   "cell_type": "code",
   "execution_count": 42,
   "metadata": {},
   "outputs": [
    {
     "data": {
      "text/plain": [
       "{u'_id': ObjectId('5da4d328702293db99ed6678'),\n",
       " u'entryForm': {u'0': u'ans1', u'1': u'ans1'},\n",
       " u'surveyName': u'test',\n",
       " u'userName': u'Hemanth'}"
      ]
     },
     "execution_count": 42,
     "metadata": {},
     "output_type": "execute_result"
    }
   ],
   "source": [
    "db.SurveyEntries.find_one({'surveyName': \"test\"})\n"
   ]
  },
  {
   "cell_type": "code",
   "execution_count": null,
   "metadata": {
    "collapsed": true
   },
   "outputs": [],
   "source": []
  }
 ],
 "metadata": {
  "kernelspec": {
   "display_name": "Python 2",
   "language": "python",
   "name": "python2"
  },
  "language_info": {
   "codemirror_mode": {
    "name": "ipython",
    "version": 2
   },
   "file_extension": ".py",
   "mimetype": "text/x-python",
   "name": "python",
   "nbconvert_exporter": "python",
   "pygments_lexer": "ipython2",
   "version": "2.7.15"
  }
 },
 "nbformat": 4,
 "nbformat_minor": 2
}
