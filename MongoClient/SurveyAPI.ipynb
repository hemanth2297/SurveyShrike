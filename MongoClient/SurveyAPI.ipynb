{
 "cells": [
  {
   "cell_type": "code",
   "execution_count": 1,
   "metadata": {
    "collapsed": true
   },
   "outputs": [],
   "source": [
    "from flask import Flask, request\n",
    "from flask_cors import CORS, cross_origin\n",
    "from flask_restful import Resource, Api\n",
    "from json import dumps\n",
    "from flask_jsonpify import jsonify\n",
    "import json\n",
    "import pymongo\n",
    "import urllib\n",
    "from collections import Counter\n",
    "import requests\n",
    "from flask_swagger_ui import get_swaggerui_blueprint"
   ]
  },
  {
   "cell_type": "code",
   "execution_count": 2,
   "metadata": {
    "collapsed": true
   },
   "outputs": [],
   "source": [
    "surveyTemplate = {\n",
    "        'userName' : \"Hemanth\",\n",
    "        'surveyName' : \"test\",\n",
    "        'surveyForm':{\"0\":{\n",
    "            \"question\":\"qsn1\",\n",
    "            \"questionType\":\"radio\",\n",
    "            \"options\":\"sd,sdf,sv\",\n",
    "            \"rangeFrom\" :\"1\",\n",
    "            \"rangeFrom\" :\"20\"\n",
    "        },\n",
    "                \"1\":{\n",
    "            \"qsn\":\"qsn2\",\n",
    "            \"type\":\"texxt\",\n",
    "            \"options\":[\"a\",\"c\"]\n",
    "        }\n",
    "            \n",
    "        }\n",
    "    }\n",
    "\n",
    "surveyEntry= {\n",
    "        'userName' : \"Hemanth\",\n",
    "        'surveyName' : \"test\",\n",
    "        'entryForm':{\"0\":\"ans1\",\n",
    "        \"1\":\"ans1\"   \n",
    "        }\n",
    "    }"
   ]
  },
  {
   "cell_type": "code",
   "execution_count": 3,
   "metadata": {
    "collapsed": true
   },
   "outputs": [],
   "source": [
    "def checkSurveyExists(surveyName):\n",
    "    db=client.survey\n",
    "    form=db.SurveyForms.find_one({'surveyName': surveyName})\n",
    "    if(form):\n",
    "        return True\n",
    "    return False\n",
    "\n",
    "\n",
    "def mergeSingleSurveyEntry(surveyTemplate,surveyEntry):\n",
    "    form=surveyTemplate[\"surveyForm\"]\n",
    "    for key in form:\n",
    "        form[key][\"answer\"]=surveyEntry[\"entryForm\"][key]\n",
    "    return form\n",
    "\n",
    "\n",
    "def mergeSurveyEntry(surveyTemplate,surveyEntry):\n",
    "    form=surveyTemplate\n",
    "    for key in form[\"surveyForm\"]:\n",
    "        form[\"surveyForm\"][key][\"answers\"]=[]\n",
    "        \n",
    "    form[\"users\"]=[]\n",
    "    for entry in surveyEntry:\n",
    "        form[\"users\"].append(entry[\"userName\"])\n",
    "        for key in form[\"surveyForm\"]:\n",
    "            form[\"surveyForm\"][key][\"answers\"].append(entry[\"entryForm\"][key])\n",
    "            \n",
    "    for key in form[\"surveyForm\"]:\n",
    "        form[\"surveyForm\"][key][\"answers\"]=Counter(form[\"surveyForm\"][key][\"answers\"])\n",
    "        \n",
    "    return form\n",
    "\n",
    "\n",
    "\n",
    "def verifyAccessToken(access_token):\n",
    "    URL=\"http://127.0.0.1:5001/authorize\"\n",
    "    response=requests.post(url = URL,headers={'Authorization': \"access_token\"})\n",
    "    if(response.status_code==200):\n",
    "        return True\n",
    "    else:\n",
    "        return False"
   ]
  },
  {
   "cell_type": "code",
   "execution_count": null,
   "metadata": {},
   "outputs": [
    {
     "name": "stdout",
     "output_type": "stream",
     "text": [
      " * Serving Flask app \"__main__\" (lazy loading)\n",
      " * Environment: production\n",
      "   WARNING: This is a development server. Do not use it in a production deployment.\n",
      "   Use a production WSGI server instead.\n",
      " * Debug mode: off\n"
     ]
    },
    {
     "name": "stderr",
     "output_type": "stream",
     "text": [
      " * Running on http://127.0.0.1:5002/ (Press CTRL+C to quit)\n",
      "127.0.0.1 - - [16/Oct/2019 03:19:54] \"OPTIONS /getAllSurveys HTTP/1.1\" 200 -\n",
      "127.0.0.1 - - [16/Oct/2019 03:19:57] \"GET /getAllSurveys HTTP/1.1\" 200 -\n"
     ]
    },
    {
     "name": "stdout",
     "output_type": "stream",
     "text": [
      "[{u'userName': u'User1', u'surveyDescription': u'', u'surveyForm': {u'0': {u'questionType': u'Text', u'rangeTo': u'', u'question': u'testing', u'options': u'', u'rangeFrom': u''}}, u'surveyName': u''}, {u'userName': u'User1', u'surveyDescription': u'tetsing the radio utton', u'surveyForm': {u'1': {u'questionType': u'Radio', u'rangeTo': u'', u'question': u'Question Add', u'options': u'qwerty,qwer,qwer', u'rangeFrom': u''}, u'0': {u'questionType': u'Radio', u'rangeTo': u'', u'question': u'', u'options': u'qwerty,qwer,qwer', u'rangeFrom': u''}}, u'surveyName': u'Radio Button Survey'}]\n"
     ]
    },
    {
     "name": "stderr",
     "output_type": "stream",
     "text": [
      "127.0.0.1 - - [16/Oct/2019 03:22:41] \"OPTIONS /getAllSurveys HTTP/1.1\" 200 -\n",
      "127.0.0.1 - - [16/Oct/2019 03:22:41] \"GET /getAllSurveys HTTP/1.1\" 200 -\n"
     ]
    },
    {
     "name": "stdout",
     "output_type": "stream",
     "text": [
      "[{u'userName': u'User1', u'surveyDescription': u'', u'surveyForm': {u'0': {u'questionType': u'Text', u'rangeTo': u'', u'question': u'testing', u'options': u'', u'rangeFrom': u''}}, u'surveyName': u''}, {u'userName': u'User1', u'surveyDescription': u'tetsing the radio utton', u'surveyForm': {u'1': {u'questionType': u'Radio', u'rangeTo': u'', u'question': u'Question Add', u'options': u'qwerty,qwer,qwer', u'rangeFrom': u''}, u'0': {u'questionType': u'Radio', u'rangeTo': u'', u'question': u'', u'options': u'qwerty,qwer,qwer', u'rangeFrom': u''}}, u'surveyName': u'Radio Button Survey'}]\n"
     ]
    },
    {
     "name": "stderr",
     "output_type": "stream",
     "text": [
      "127.0.0.1 - - [16/Oct/2019 03:22:46] \"GET /getAllSurveys HTTP/1.1\" 200 -\n"
     ]
    },
    {
     "name": "stdout",
     "output_type": "stream",
     "text": [
      "[{u'userName': u'User1', u'surveyDescription': u'', u'surveyForm': {u'0': {u'questionType': u'Text', u'rangeTo': u'', u'question': u'testing', u'options': u'', u'rangeFrom': u''}}, u'surveyName': u''}, {u'userName': u'User1', u'surveyDescription': u'tetsing the radio utton', u'surveyForm': {u'1': {u'questionType': u'Radio', u'rangeTo': u'', u'question': u'Question Add', u'options': u'qwerty,qwer,qwer', u'rangeFrom': u''}, u'0': {u'questionType': u'Radio', u'rangeTo': u'', u'question': u'', u'options': u'qwerty,qwer,qwer', u'rangeFrom': u''}}, u'surveyName': u'Radio Button Survey'}]\n"
     ]
    },
    {
     "name": "stderr",
     "output_type": "stream",
     "text": [
      "127.0.0.1 - - [16/Oct/2019 03:23:26] \"OPTIONS /getAllSurveys HTTP/1.1\" 200 -\n",
      "127.0.0.1 - - [16/Oct/2019 03:23:26] \"GET /getAllSurveys HTTP/1.1\" 200 -\n"
     ]
    },
    {
     "name": "stdout",
     "output_type": "stream",
     "text": [
      "[{u'userName': u'User1', u'surveyDescription': u'', u'surveyForm': {u'0': {u'questionType': u'Text', u'rangeTo': u'', u'question': u'testing', u'options': u'', u'rangeFrom': u''}}, u'surveyName': u''}, {u'userName': u'User1', u'surveyDescription': u'tetsing the radio utton', u'surveyForm': {u'1': {u'questionType': u'Radio', u'rangeTo': u'', u'question': u'Question Add', u'options': u'qwerty,qwer,qwer', u'rangeFrom': u''}, u'0': {u'questionType': u'Radio', u'rangeTo': u'', u'question': u'', u'options': u'qwerty,qwer,qwer', u'rangeFrom': u''}}, u'surveyName': u'Radio Button Survey'}]\n"
     ]
    },
    {
     "name": "stderr",
     "output_type": "stream",
     "text": [
      "127.0.0.1 - - [16/Oct/2019 03:23:30] \"GET /getAllSurveys HTTP/1.1\" 200 -\n"
     ]
    },
    {
     "name": "stdout",
     "output_type": "stream",
     "text": [
      "[{u'userName': u'User1', u'surveyDescription': u'', u'surveyForm': {u'0': {u'questionType': u'Text', u'rangeTo': u'', u'question': u'testing', u'options': u'', u'rangeFrom': u''}}, u'surveyName': u''}, {u'userName': u'User1', u'surveyDescription': u'tetsing the radio utton', u'surveyForm': {u'1': {u'questionType': u'Radio', u'rangeTo': u'', u'question': u'Question Add', u'options': u'qwerty,qwer,qwer', u'rangeFrom': u''}, u'0': {u'questionType': u'Radio', u'rangeTo': u'', u'question': u'', u'options': u'qwerty,qwer,qwer', u'rangeFrom': u''}}, u'surveyName': u'Radio Button Survey'}]\n"
     ]
    },
    {
     "name": "stderr",
     "output_type": "stream",
     "text": [
      "127.0.0.1 - - [16/Oct/2019 03:23:58] \"OPTIONS /getAllSurveys HTTP/1.1\" 200 -\n",
      "127.0.0.1 - - [16/Oct/2019 03:23:58] \"GET /getAllSurveys HTTP/1.1\" 200 -\n"
     ]
    },
    {
     "name": "stdout",
     "output_type": "stream",
     "text": [
      "[{u'userName': u'User1', u'surveyDescription': u'', u'surveyForm': {u'0': {u'questionType': u'Text', u'rangeTo': u'', u'question': u'testing', u'options': u'', u'rangeFrom': u''}}, u'surveyName': u''}, {u'userName': u'User1', u'surveyDescription': u'tetsing the radio utton', u'surveyForm': {u'1': {u'questionType': u'Radio', u'rangeTo': u'', u'question': u'Question Add', u'options': u'qwerty,qwer,qwer', u'rangeFrom': u''}, u'0': {u'questionType': u'Radio', u'rangeTo': u'', u'question': u'', u'options': u'qwerty,qwer,qwer', u'rangeFrom': u''}}, u'surveyName': u'Radio Button Survey'}]\n"
     ]
    },
    {
     "name": "stderr",
     "output_type": "stream",
     "text": [
      "127.0.0.1 - - [16/Oct/2019 03:24:04] \"OPTIONS /getAllSurveys HTTP/1.1\" 200 -\n",
      "127.0.0.1 - - [16/Oct/2019 03:24:04] \"GET /getAllSurveys HTTP/1.1\" 200 -\n"
     ]
    },
    {
     "name": "stdout",
     "output_type": "stream",
     "text": [
      "[{u'userName': u'User1', u'surveyDescription': u'', u'surveyForm': {u'0': {u'questionType': u'Text', u'rangeTo': u'', u'question': u'testing', u'options': u'', u'rangeFrom': u''}}, u'surveyName': u''}, {u'userName': u'User1', u'surveyDescription': u'tetsing the radio utton', u'surveyForm': {u'1': {u'questionType': u'Radio', u'rangeTo': u'', u'question': u'Question Add', u'options': u'qwerty,qwer,qwer', u'rangeFrom': u''}, u'0': {u'questionType': u'Radio', u'rangeTo': u'', u'question': u'', u'options': u'qwerty,qwer,qwer', u'rangeFrom': u''}}, u'surveyName': u'Radio Button Survey'}]\n"
     ]
    },
    {
     "name": "stderr",
     "output_type": "stream",
     "text": [
      "127.0.0.1 - - [16/Oct/2019 03:24:25] \"OPTIONS /getAllSurveys HTTP/1.1\" 200 -\n",
      "127.0.0.1 - - [16/Oct/2019 03:24:25] \"GET /getAllSurveys HTTP/1.1\" 200 -\n"
     ]
    },
    {
     "name": "stdout",
     "output_type": "stream",
     "text": [
      "[{u'userName': u'User1', u'surveyDescription': u'', u'surveyForm': {u'0': {u'questionType': u'Text', u'rangeTo': u'', u'question': u'testing', u'options': u'', u'rangeFrom': u''}}, u'surveyName': u''}, {u'userName': u'User1', u'surveyDescription': u'tetsing the radio utton', u'surveyForm': {u'1': {u'questionType': u'Radio', u'rangeTo': u'', u'question': u'Question Add', u'options': u'qwerty,qwer,qwer', u'rangeFrom': u''}, u'0': {u'questionType': u'Radio', u'rangeTo': u'', u'question': u'', u'options': u'qwerty,qwer,qwer', u'rangeFrom': u''}}, u'surveyName': u'Radio Button Survey'}]\n"
     ]
    },
    {
     "name": "stderr",
     "output_type": "stream",
     "text": [
      "127.0.0.1 - - [16/Oct/2019 03:24:30] \"GET /getAllSurveys HTTP/1.1\" 200 -\n"
     ]
    },
    {
     "name": "stdout",
     "output_type": "stream",
     "text": [
      "[{u'userName': u'User1', u'surveyDescription': u'', u'surveyForm': {u'0': {u'questionType': u'Text', u'rangeTo': u'', u'question': u'testing', u'options': u'', u'rangeFrom': u''}}, u'surveyName': u''}, {u'userName': u'User1', u'surveyDescription': u'tetsing the radio utton', u'surveyForm': {u'1': {u'questionType': u'Radio', u'rangeTo': u'', u'question': u'Question Add', u'options': u'qwerty,qwer,qwer', u'rangeFrom': u''}, u'0': {u'questionType': u'Radio', u'rangeTo': u'', u'question': u'', u'options': u'qwerty,qwer,qwer', u'rangeFrom': u''}}, u'surveyName': u'Radio Button Survey'}]\n"
     ]
    },
    {
     "name": "stderr",
     "output_type": "stream",
     "text": [
      "127.0.0.1 - - [16/Oct/2019 03:25:25] \"OPTIONS /getAllSurveys HTTP/1.1\" 200 -\n",
      "127.0.0.1 - - [16/Oct/2019 03:25:25] \"GET /getAllSurveys HTTP/1.1\" 200 -\n"
     ]
    },
    {
     "name": "stdout",
     "output_type": "stream",
     "text": [
      "[{u'userName': u'User1', u'surveyDescription': u'', u'surveyForm': {u'0': {u'questionType': u'Text', u'rangeTo': u'', u'question': u'testing', u'options': u'', u'rangeFrom': u''}}, u'surveyName': u''}, {u'userName': u'User1', u'surveyDescription': u'tetsing the radio utton', u'surveyForm': {u'1': {u'questionType': u'Radio', u'rangeTo': u'', u'question': u'Question Add', u'options': u'qwerty,qwer,qwer', u'rangeFrom': u''}, u'0': {u'questionType': u'Radio', u'rangeTo': u'', u'question': u'', u'options': u'qwerty,qwer,qwer', u'rangeFrom': u''}}, u'surveyName': u'Radio Button Survey'}]\n"
     ]
    },
    {
     "name": "stderr",
     "output_type": "stream",
     "text": [
      "127.0.0.1 - - [16/Oct/2019 03:26:48] \"OPTIONS /getAllSurveys HTTP/1.1\" 200 -\n",
      "127.0.0.1 - - [16/Oct/2019 03:26:48] \"GET /getAllSurveys HTTP/1.1\" 200 -\n"
     ]
    },
    {
     "name": "stdout",
     "output_type": "stream",
     "text": [
      "[{u'userName': u'User1', u'surveyDescription': u'', u'surveyForm': {u'0': {u'questionType': u'Text', u'rangeTo': u'', u'question': u'testing', u'options': u'', u'rangeFrom': u''}}, u'surveyName': u''}, {u'userName': u'User1', u'surveyDescription': u'tetsing the radio utton', u'surveyForm': {u'1': {u'questionType': u'Radio', u'rangeTo': u'', u'question': u'Question Add', u'options': u'qwerty,qwer,qwer', u'rangeFrom': u''}, u'0': {u'questionType': u'Radio', u'rangeTo': u'', u'question': u'', u'options': u'qwerty,qwer,qwer', u'rangeFrom': u''}}, u'surveyName': u'Radio Button Survey'}]\n"
     ]
    },
    {
     "name": "stderr",
     "output_type": "stream",
     "text": [
      "127.0.0.1 - - [16/Oct/2019 03:27:34] \"OPTIONS /getAllSurveys HTTP/1.1\" 200 -\n",
      "127.0.0.1 - - [16/Oct/2019 03:27:34] \"GET /getAllSurveys HTTP/1.1\" 200 -\n"
     ]
    },
    {
     "name": "stdout",
     "output_type": "stream",
     "text": [
      "[{u'userName': u'User1', u'surveyDescription': u'', u'surveyForm': {u'0': {u'questionType': u'Text', u'rangeTo': u'', u'question': u'testing', u'options': u'', u'rangeFrom': u''}}, u'surveyName': u''}, {u'userName': u'User1', u'surveyDescription': u'tetsing the radio utton', u'surveyForm': {u'1': {u'questionType': u'Radio', u'rangeTo': u'', u'question': u'Question Add', u'options': u'qwerty,qwer,qwer', u'rangeFrom': u''}, u'0': {u'questionType': u'Radio', u'rangeTo': u'', u'question': u'', u'options': u'qwerty,qwer,qwer', u'rangeFrom': u''}}, u'surveyName': u'Radio Button Survey'}]\n"
     ]
    },
    {
     "name": "stderr",
     "output_type": "stream",
     "text": [
      "127.0.0.1 - - [16/Oct/2019 03:27:49] \"OPTIONS /getAllSurveys HTTP/1.1\" 200 -\n",
      "127.0.0.1 - - [16/Oct/2019 03:27:49] \"GET /getAllSurveys HTTP/1.1\" 200 -\n"
     ]
    },
    {
     "name": "stdout",
     "output_type": "stream",
     "text": [
      "[{u'userName': u'User1', u'surveyDescription': u'', u'surveyForm': {u'0': {u'questionType': u'Text', u'rangeTo': u'', u'question': u'testing', u'options': u'', u'rangeFrom': u''}}, u'surveyName': u''}, {u'userName': u'User1', u'surveyDescription': u'tetsing the radio utton', u'surveyForm': {u'1': {u'questionType': u'Radio', u'rangeTo': u'', u'question': u'Question Add', u'options': u'qwerty,qwer,qwer', u'rangeFrom': u''}, u'0': {u'questionType': u'Radio', u'rangeTo': u'', u'question': u'', u'options': u'qwerty,qwer,qwer', u'rangeFrom': u''}}, u'surveyName': u'Radio Button Survey'}]\n"
     ]
    },
    {
     "name": "stderr",
     "output_type": "stream",
     "text": [
      "127.0.0.1 - - [16/Oct/2019 03:28:01] \"OPTIONS /getAllSurveys HTTP/1.1\" 200 -\n",
      "127.0.0.1 - - [16/Oct/2019 03:28:02] \"GET /getAllSurveys HTTP/1.1\" 200 -\n"
     ]
    },
    {
     "name": "stdout",
     "output_type": "stream",
     "text": [
      "[{u'userName': u'User1', u'surveyDescription': u'', u'surveyForm': {u'0': {u'questionType': u'Text', u'rangeTo': u'', u'question': u'testing', u'options': u'', u'rangeFrom': u''}}, u'surveyName': u''}, {u'userName': u'User1', u'surveyDescription': u'tetsing the radio utton', u'surveyForm': {u'1': {u'questionType': u'Radio', u'rangeTo': u'', u'question': u'Question Add', u'options': u'qwerty,qwer,qwer', u'rangeFrom': u''}, u'0': {u'questionType': u'Radio', u'rangeTo': u'', u'question': u'', u'options': u'qwerty,qwer,qwer', u'rangeFrom': u''}}, u'surveyName': u'Radio Button Survey'}]\n"
     ]
    },
    {
     "name": "stderr",
     "output_type": "stream",
     "text": [
      "127.0.0.1 - - [16/Oct/2019 03:29:03] \"OPTIONS /getAllSurveys HTTP/1.1\" 200 -\n",
      "127.0.0.1 - - [16/Oct/2019 03:29:04] \"GET /getAllSurveys HTTP/1.1\" 200 -\n"
     ]
    },
    {
     "name": "stdout",
     "output_type": "stream",
     "text": [
      "[{u'userName': u'User1', u'surveyDescription': u'', u'surveyForm': {u'0': {u'questionType': u'Text', u'rangeTo': u'', u'question': u'testing', u'options': u'', u'rangeFrom': u''}}, u'surveyName': u''}, {u'userName': u'User1', u'surveyDescription': u'tetsing the radio utton', u'surveyForm': {u'1': {u'questionType': u'Radio', u'rangeTo': u'', u'question': u'Question Add', u'options': u'qwerty,qwer,qwer', u'rangeFrom': u''}, u'0': {u'questionType': u'Radio', u'rangeTo': u'', u'question': u'', u'options': u'qwerty,qwer,qwer', u'rangeFrom': u''}}, u'surveyName': u'Radio Button Survey'}]\n"
     ]
    },
    {
     "name": "stderr",
     "output_type": "stream",
     "text": [
      "127.0.0.1 - - [16/Oct/2019 03:33:31] \"OPTIONS /getAllSurveys HTTP/1.1\" 200 -\n",
      "127.0.0.1 - - [16/Oct/2019 03:33:32] \"GET /getAllSurveys HTTP/1.1\" 200 -\n"
     ]
    },
    {
     "name": "stdout",
     "output_type": "stream",
     "text": [
      "[{u'userName': u'User1', u'surveyDescription': u'', u'surveyForm': {u'0': {u'questionType': u'Text', u'rangeTo': u'', u'question': u'testing', u'options': u'', u'rangeFrom': u''}}, u'surveyName': u''}, {u'userName': u'User1', u'surveyDescription': u'tetsing the radio utton', u'surveyForm': {u'1': {u'questionType': u'Radio', u'rangeTo': u'', u'question': u'Question Add', u'options': u'qwerty,qwer,qwer', u'rangeFrom': u''}, u'0': {u'questionType': u'Radio', u'rangeTo': u'', u'question': u'', u'options': u'qwerty,qwer,qwer', u'rangeFrom': u''}}, u'surveyName': u'Radio Button Survey'}]\n"
     ]
    },
    {
     "name": "stderr",
     "output_type": "stream",
     "text": [
      "127.0.0.1 - - [16/Oct/2019 03:34:08] \"OPTIONS /getAllSurveys HTTP/1.1\" 200 -\n",
      "127.0.0.1 - - [16/Oct/2019 03:34:09] \"GET /getAllSurveys HTTP/1.1\" 200 -\n"
     ]
    },
    {
     "name": "stdout",
     "output_type": "stream",
     "text": [
      "[{u'userName': u'User1', u'surveyDescription': u'', u'surveyForm': {u'0': {u'questionType': u'Text', u'rangeTo': u'', u'question': u'testing', u'options': u'', u'rangeFrom': u''}}, u'surveyName': u''}, {u'userName': u'User1', u'surveyDescription': u'tetsing the radio utton', u'surveyForm': {u'1': {u'questionType': u'Radio', u'rangeTo': u'', u'question': u'Question Add', u'options': u'qwerty,qwer,qwer', u'rangeFrom': u''}, u'0': {u'questionType': u'Radio', u'rangeTo': u'', u'question': u'', u'options': u'qwerty,qwer,qwer', u'rangeFrom': u''}}, u'surveyName': u'Radio Button Survey'}]\n"
     ]
    },
    {
     "name": "stderr",
     "output_type": "stream",
     "text": [
      "127.0.0.1 - - [16/Oct/2019 03:34:27] \"OPTIONS /getAllSurveys HTTP/1.1\" 200 -\n",
      "127.0.0.1 - - [16/Oct/2019 03:34:28] \"GET /getAllSurveys HTTP/1.1\" 200 -\n"
     ]
    },
    {
     "name": "stdout",
     "output_type": "stream",
     "text": [
      "[{u'userName': u'User1', u'surveyDescription': u'', u'surveyForm': {u'0': {u'questionType': u'Text', u'rangeTo': u'', u'question': u'testing', u'options': u'', u'rangeFrom': u''}}, u'surveyName': u''}, {u'userName': u'User1', u'surveyDescription': u'tetsing the radio utton', u'surveyForm': {u'1': {u'questionType': u'Radio', u'rangeTo': u'', u'question': u'Question Add', u'options': u'qwerty,qwer,qwer', u'rangeFrom': u''}, u'0': {u'questionType': u'Radio', u'rangeTo': u'', u'question': u'', u'options': u'qwerty,qwer,qwer', u'rangeFrom': u''}}, u'surveyName': u'Radio Button Survey'}]\n"
     ]
    },
    {
     "name": "stderr",
     "output_type": "stream",
     "text": [
      "127.0.0.1 - - [16/Oct/2019 03:35:25] \"OPTIONS /getAllSurveys HTTP/1.1\" 200 -\n",
      "127.0.0.1 - - [16/Oct/2019 03:35:25] \"GET /getAllSurveys HTTP/1.1\" 200 -\n"
     ]
    },
    {
     "name": "stdout",
     "output_type": "stream",
     "text": [
      "[{u'userName': u'User1', u'surveyDescription': u'', u'surveyForm': {u'0': {u'questionType': u'Text', u'rangeTo': u'', u'question': u'testing', u'options': u'', u'rangeFrom': u''}}, u'surveyName': u''}, {u'userName': u'User1', u'surveyDescription': u'tetsing the radio utton', u'surveyForm': {u'1': {u'questionType': u'Radio', u'rangeTo': u'', u'question': u'Question Add', u'options': u'qwerty,qwer,qwer', u'rangeFrom': u''}, u'0': {u'questionType': u'Radio', u'rangeTo': u'', u'question': u'', u'options': u'qwerty,qwer,qwer', u'rangeFrom': u''}}, u'surveyName': u'Radio Button Survey'}]\n"
     ]
    },
    {
     "name": "stderr",
     "output_type": "stream",
     "text": [
      "127.0.0.1 - - [16/Oct/2019 03:35:41] \"OPTIONS /getAllSurveys HTTP/1.1\" 200 -\n",
      "127.0.0.1 - - [16/Oct/2019 03:35:41] \"GET /getAllSurveys HTTP/1.1\" 200 -\n"
     ]
    },
    {
     "name": "stdout",
     "output_type": "stream",
     "text": [
      "[{u'userName': u'User1', u'surveyDescription': u'', u'surveyForm': {u'0': {u'questionType': u'Text', u'rangeTo': u'', u'question': u'testing', u'options': u'', u'rangeFrom': u''}}, u'surveyName': u''}, {u'userName': u'User1', u'surveyDescription': u'tetsing the radio utton', u'surveyForm': {u'1': {u'questionType': u'Radio', u'rangeTo': u'', u'question': u'Question Add', u'options': u'qwerty,qwer,qwer', u'rangeFrom': u''}, u'0': {u'questionType': u'Radio', u'rangeTo': u'', u'question': u'', u'options': u'qwerty,qwer,qwer', u'rangeFrom': u''}}, u'surveyName': u'Radio Button Survey'}]\n"
     ]
    },
    {
     "name": "stderr",
     "output_type": "stream",
     "text": [
      "127.0.0.1 - - [16/Oct/2019 03:35:43] \"GET /getAllSurveys HTTP/1.1\" 200 -\n"
     ]
    },
    {
     "name": "stdout",
     "output_type": "stream",
     "text": [
      "[{u'userName': u'User1', u'surveyDescription': u'', u'surveyForm': {u'0': {u'questionType': u'Text', u'rangeTo': u'', u'question': u'testing', u'options': u'', u'rangeFrom': u''}}, u'surveyName': u''}, {u'userName': u'User1', u'surveyDescription': u'tetsing the radio utton', u'surveyForm': {u'1': {u'questionType': u'Radio', u'rangeTo': u'', u'question': u'Question Add', u'options': u'qwerty,qwer,qwer', u'rangeFrom': u''}, u'0': {u'questionType': u'Radio', u'rangeTo': u'', u'question': u'', u'options': u'qwerty,qwer,qwer', u'rangeFrom': u''}}, u'surveyName': u'Radio Button Survey'}]\n"
     ]
    },
    {
     "name": "stderr",
     "output_type": "stream",
     "text": [
      "127.0.0.1 - - [16/Oct/2019 03:36:26] \"OPTIONS /getAllSurveys HTTP/1.1\" 200 -\n",
      "127.0.0.1 - - [16/Oct/2019 03:36:26] \"GET /getAllSurveys HTTP/1.1\" 200 -\n"
     ]
    },
    {
     "name": "stdout",
     "output_type": "stream",
     "text": [
      "[{u'userName': u'User1', u'surveyDescription': u'', u'surveyForm': {u'0': {u'questionType': u'Text', u'rangeTo': u'', u'question': u'testing', u'options': u'', u'rangeFrom': u''}}, u'surveyName': u''}, {u'userName': u'User1', u'surveyDescription': u'tetsing the radio utton', u'surveyForm': {u'1': {u'questionType': u'Radio', u'rangeTo': u'', u'question': u'Question Add', u'options': u'qwerty,qwer,qwer', u'rangeFrom': u''}, u'0': {u'questionType': u'Radio', u'rangeTo': u'', u'question': u'', u'options': u'qwerty,qwer,qwer', u'rangeFrom': u''}}, u'surveyName': u'Radio Button Survey'}]\n"
     ]
    },
    {
     "name": "stderr",
     "output_type": "stream",
     "text": [
      "127.0.0.1 - - [16/Oct/2019 03:37:06] \"OPTIONS /getAllSurveys HTTP/1.1\" 200 -\n",
      "127.0.0.1 - - [16/Oct/2019 03:37:06] \"GET /getAllSurveys HTTP/1.1\" 200 -\n"
     ]
    },
    {
     "name": "stdout",
     "output_type": "stream",
     "text": [
      "[{u'userName': u'User1', u'surveyDescription': u'', u'surveyForm': {u'0': {u'questionType': u'Text', u'rangeTo': u'', u'question': u'testing', u'options': u'', u'rangeFrom': u''}}, u'surveyName': u''}, {u'userName': u'User1', u'surveyDescription': u'tetsing the radio utton', u'surveyForm': {u'1': {u'questionType': u'Radio', u'rangeTo': u'', u'question': u'Question Add', u'options': u'qwerty,qwer,qwer', u'rangeFrom': u''}, u'0': {u'questionType': u'Radio', u'rangeTo': u'', u'question': u'', u'options': u'qwerty,qwer,qwer', u'rangeFrom': u''}}, u'surveyName': u'Radio Button Survey'}]\n"
     ]
    },
    {
     "name": "stderr",
     "output_type": "stream",
     "text": [
      "127.0.0.1 - - [16/Oct/2019 03:37:12] \"OPTIONS /getAllSurveys HTTP/1.1\" 200 -\n",
      "127.0.0.1 - - [16/Oct/2019 03:37:13] \"GET /getAllSurveys HTTP/1.1\" 200 -\n"
     ]
    },
    {
     "name": "stdout",
     "output_type": "stream",
     "text": [
      "[{u'userName': u'User1', u'surveyDescription': u'', u'surveyForm': {u'0': {u'questionType': u'Text', u'rangeTo': u'', u'question': u'testing', u'options': u'', u'rangeFrom': u''}}, u'surveyName': u''}, {u'userName': u'User1', u'surveyDescription': u'tetsing the radio utton', u'surveyForm': {u'1': {u'questionType': u'Radio', u'rangeTo': u'', u'question': u'Question Add', u'options': u'qwerty,qwer,qwer', u'rangeFrom': u''}, u'0': {u'questionType': u'Radio', u'rangeTo': u'', u'question': u'', u'options': u'qwerty,qwer,qwer', u'rangeFrom': u''}}, u'surveyName': u'Radio Button Survey'}]\n"
     ]
    },
    {
     "name": "stderr",
     "output_type": "stream",
     "text": [
      "127.0.0.1 - - [16/Oct/2019 03:38:39] \"OPTIONS /getAllSurveys HTTP/1.1\" 200 -\n",
      "127.0.0.1 - - [16/Oct/2019 03:38:40] \"GET /getAllSurveys HTTP/1.1\" 200 -\n"
     ]
    },
    {
     "name": "stdout",
     "output_type": "stream",
     "text": [
      "[{u'userName': u'User1', u'surveyDescription': u'', u'surveyForm': {u'0': {u'questionType': u'Text', u'rangeTo': u'', u'question': u'testing', u'options': u'', u'rangeFrom': u''}}, u'surveyName': u''}, {u'userName': u'User1', u'surveyDescription': u'tetsing the radio utton', u'surveyForm': {u'1': {u'questionType': u'Radio', u'rangeTo': u'', u'question': u'Question Add', u'options': u'qwerty,qwer,qwer', u'rangeFrom': u''}, u'0': {u'questionType': u'Radio', u'rangeTo': u'', u'question': u'', u'options': u'qwerty,qwer,qwer', u'rangeFrom': u''}}, u'surveyName': u'Radio Button Survey'}]\n"
     ]
    },
    {
     "name": "stderr",
     "output_type": "stream",
     "text": [
      "127.0.0.1 - - [16/Oct/2019 03:39:45] \"OPTIONS /getAllSurveys HTTP/1.1\" 200 -\n",
      "127.0.0.1 - - [16/Oct/2019 03:39:45] \"GET /getAllSurveys HTTP/1.1\" 200 -\n"
     ]
    },
    {
     "name": "stdout",
     "output_type": "stream",
     "text": [
      "[{u'userName': u'User1', u'surveyDescription': u'', u'surveyForm': {u'0': {u'questionType': u'Text', u'rangeTo': u'', u'question': u'testing', u'options': u'', u'rangeFrom': u''}}, u'surveyName': u''}, {u'userName': u'User1', u'surveyDescription': u'tetsing the radio utton', u'surveyForm': {u'1': {u'questionType': u'Radio', u'rangeTo': u'', u'question': u'Question Add', u'options': u'qwerty,qwer,qwer', u'rangeFrom': u''}, u'0': {u'questionType': u'Radio', u'rangeTo': u'', u'question': u'', u'options': u'qwerty,qwer,qwer', u'rangeFrom': u''}}, u'surveyName': u'Radio Button Survey'}]\n"
     ]
    },
    {
     "name": "stderr",
     "output_type": "stream",
     "text": [
      "127.0.0.1 - - [16/Oct/2019 03:41:22] \"OPTIONS /getAllSurveys HTTP/1.1\" 200 -\n",
      "127.0.0.1 - - [16/Oct/2019 03:41:22] \"GET /getAllSurveys HTTP/1.1\" 200 -\n"
     ]
    },
    {
     "name": "stdout",
     "output_type": "stream",
     "text": [
      "[{u'userName': u'User1', u'surveyDescription': u'', u'surveyForm': {u'0': {u'questionType': u'Text', u'rangeTo': u'', u'question': u'testing', u'options': u'', u'rangeFrom': u''}}, u'surveyName': u''}, {u'userName': u'User1', u'surveyDescription': u'tetsing the radio utton', u'surveyForm': {u'1': {u'questionType': u'Radio', u'rangeTo': u'', u'question': u'Question Add', u'options': u'qwerty,qwer,qwer', u'rangeFrom': u''}, u'0': {u'questionType': u'Radio', u'rangeTo': u'', u'question': u'', u'options': u'qwerty,qwer,qwer', u'rangeFrom': u''}}, u'surveyName': u'Radio Button Survey'}]\n"
     ]
    }
   ],
   "source": [
    "app = Flask(__name__)\n",
    "api = Api(app)\n",
    "\n",
    "CORS(app)\n",
    "client = pymongo.MongoClient(\"mongodb+srv://hemanth:\"+ urllib.quote(\"Hemanth@123\")+\"@cluster0-59obx.mongodb.net/test?retryWrites=true&w=majority\")\n",
    "\n",
    "\n",
    "\n",
    "### swagger specific ###\n",
    "SWAGGER_URL = '/swagger'\n",
    "API_URL = '/static/swagger.json'\n",
    "SWAGGERUI_BLUEPRINT = get_swaggerui_blueprint(\n",
    "    SWAGGER_URL,\n",
    "    API_URL,\n",
    "    config={\n",
    "        'app_name': \"Seans-Python-Flask-REST-Boilerplate\"\n",
    "    }\n",
    ")\n",
    "app.register_blueprint(SWAGGERUI_BLUEPRINT, url_prefix=SWAGGER_URL)  \n",
    "\n",
    "\n",
    "@app.route(\"/\")\n",
    "def hello():\n",
    "    return jsonify({'text':'Hello World!'})\n",
    "\n",
    "\n",
    "@app.route(\"/createSurvey\",methods=['POST'])\n",
    "def createSurvey(): \n",
    "    \n",
    "    verifyAccessToken(request.headers[\"Authorization\"])\n",
    "    if not(verifyAccessToken):\n",
    "        return json.dumps({\n",
    "              \"error\": \"access_denied\"\n",
    "            }), 401\n",
    "    \n",
    "    db=client.survey\n",
    "    params=request.json\n",
    "    print(params)\n",
    "    \n",
    "    if(checkSurveyExists(params[\"surveyName\"])):\n",
    "        return jsonify({'response':'SurveyName already Exists'})\n",
    "    surveyDetails={}\n",
    "    surveyDetails[\"userName\"]=params[\"userName\"]\n",
    "    surveyDetails[\"surveyName\"]=params[\"surveyName\"]\n",
    "    surveyDetails[\"surveyDescription\"]=params[\"surveyDescription\"]\n",
    "    surveyDetails[\"surveyForm\"]=params[\"surveyForm\"]\n",
    "    \n",
    "    result=db.SurveyForms.insert_one(surveyDetails)\n",
    "    return  jsonify({'response':'Survey successfully created'})\n",
    "\n",
    "\n",
    "@app.route(\"/surveyForm\",methods=['POST'])\n",
    "def SurveyForm():    \n",
    "    db=client.survey\n",
    "    params=request.json\n",
    "    print(params)\n",
    "    if not(checkSurveyExists(params[\"surveyName\"])):\n",
    "        return jsonify({'response':'SurveyName doesnt Exists'})\n",
    "    \n",
    "    result=db.SurveyForms.find_one({'surveyName': params[\"surveyName\"]})\n",
    "    del result['_id']\n",
    "    print(result)\n",
    "    return jsonify(result)\n",
    "\n",
    "\n",
    "@app.route(\"/fillSurvey\",methods=['POST'])\n",
    "def SurveyEntry():\n",
    "    db=client.survey\n",
    "    params=request.json\n",
    "    if not(checkSurveyExists(params[\"surveyName\"])):\n",
    "        return jsonify({'response':'SurveyName doesnt Exist'})\n",
    "    \n",
    "    surveyDetails={}\n",
    "    surveyDetails[\"userName\"]=params[\"userName\"]\n",
    "    surveyDetails[\"surveyName\"]=params[\"surveyName\"]\n",
    "    surveyDetails[\"entryForm\"]=params[\"entryForm\"]\n",
    "    \n",
    "    db.SurveyEntries.insert_one(surveyDetails)\n",
    "    return  jsonify({'response':'Survey successfully filled'})\n",
    "\n",
    "\n",
    "@app.route(\"/getAllSurveys\",methods=['GET'])\n",
    "def getAllServeys():\n",
    "    db=client.survey\n",
    "    surveys=[]\n",
    "    for i in db.SurveyForms.find():\n",
    "        del i['_id']\n",
    "        surveys.append(i)\n",
    "        \n",
    "    print(surveys)\n",
    "\n",
    "   \n",
    "    return jsonify({\"results\":surveys})\n",
    "\n",
    "\n",
    "\n",
    "# @app.route(\"/surveystats\")\n",
    "# def SurveyStatistics():\n",
    "#     db=client.SurveyEntries\n",
    "#     data=json.loads(str(request.data))\n",
    "#     if(!checkSurveyExists(request.surveyName)):\n",
    "#         return jsonify({'response':'SurveyName doesnt Exists'})\n",
    "    \n",
    "#     surveyEntries=db.SurveyEntries.find({'surveyName': request.surveyName})\n",
    "#     surveyTemplate=db.SurveyForms.find({'surveyName': request.surveyName})\n",
    "\n",
    "#     return surveyEntries\n",
    "\n",
    "@app.route(\"/surveystat\")\n",
    "def getByUserSurvey():\n",
    "    db=client.SurveyEntries\n",
    "    params=request.json\n",
    "    if not(checkSurveyExists(params[\"surveyName\"])):\n",
    "        return jsonify({'response':'SurveyName doesnt Exists'})\n",
    "    \n",
    "    surveyEntry=db.SurveyEntries.find({'surveyName': params[\"surveyName\"],'userName':params[\"userName\"]})\n",
    "    surveyTemplate=db.SurveyForms.find({'surveyName': params[\"surveyName\"]})\n",
    "    \n",
    "    return mergeSurventry(surveyTemplate,surveyEntry)\n",
    "\n",
    "if __name__ == '__main__':\n",
    "   app.run(port=5002)\n",
    "\n"
   ]
  },
  {
   "cell_type": "code",
   "execution_count": 30,
   "metadata": {},
   "outputs": [
    {
     "name": "stdout",
     "output_type": "stream",
     "text": [
      "{u'userName': u'User1', u'surveyDescription': u'', u'surveyForm': {u'0': {u'questionType': u'Text', u'rangeTo': u'', u'question': u'testing', u'options': u'', u'rangeFrom': u''}}, u'_id': ObjectId('5da63928cec47b70e64fca53'), u'surveyName': u''}\n",
      "{u'userName': u'User1', u'surveyDescription': u'tetsing the radio utton', u'surveyForm': {u'1': {u'questionType': u'Radio', u'rangeTo': u'', u'question': u'Question Add', u'options': u'qwerty,qwer,qwer', u'rangeFrom': u''}, u'0': {u'questionType': u'Radio', u'rangeTo': u'', u'question': u'', u'options': u'qwerty,qwer,qwer', u'rangeFrom': u''}}, u'_id': ObjectId('5da639bfcec47b70e64fca54'), u'surveyName': u'Radio Button Survey'}\n"
     ]
    }
   ],
   "source": [
    "db=client.survey\n",
    "for i in db.SurveyForms.find():\n",
    "    print(i)"
   ]
  },
  {
   "cell_type": "code",
   "execution_count": 39,
   "metadata": {
    "collapsed": true
   },
   "outputs": [],
   "source": [
    "surveyTemplate = {\n",
    "        'userName' : \"Hemanth\",\n",
    "        'surveyName' : \"test\",\n",
    "        'surveyForm':{\"0\":{\n",
    "            \"qsn\":\"qsn1\",\n",
    "            \"type\":\"radio\",\n",
    "            \"options\":[\"a\",\"b\"]\n",
    "        },\n",
    "                \"1\":{\n",
    "            \"qsn\":\"qsn2\",\n",
    "            \"type\":\"texxt\",\n",
    "            \"options\":[\"a\",\"c\"]\n",
    "        }\n",
    "            \n",
    "        }\n",
    "    }\n",
    "\n",
    "surveyEntry= [{\n",
    "        'userName' : \"Hemanth\",\n",
    "        'surveyName' : \"test\",\n",
    "        'entryForm':{\"0\":\"ans1\",\n",
    "        \"1\":\"ans1\" }\n",
    "        },{\n",
    "        'userName' : \"Mounika\",\n",
    "        'surveyName' : \"test\",\n",
    "        'entryForm':{\"0\":\"ans1\",\n",
    "        \"1\":\"ans12\" }\n",
    "        }]\n",
    "\n"
   ]
  },
  {
   "cell_type": "code",
   "execution_count": null,
   "metadata": {
    "collapsed": true
   },
   "outputs": [],
   "source": []
  },
  {
   "cell_type": "code",
   "execution_count": 46,
   "metadata": {},
   "outputs": [
    {
     "data": {
      "text/plain": [
       "{u'DCC': [{u'entryForm': {u'0': u'ans1', u'1': u'ans1'},\n",
       "   u'surveyName': u'test',\n",
       "   u'userName': u'Hemanth'},\n",
       "  {u'entryForm': {u'0': u'ans1', u'1': u'ans12'},\n",
       "   u'surveyName': u'test',\n",
       "   u'userName': u'Mounika'}]}"
      ]
     },
     "execution_count": 46,
     "metadata": {},
     "output_type": "execute_result"
    }
   ],
   "source": [
    "json.loads(json.dumps({\"DCC\":surveyEntry}))"
   ]
  },
  {
   "cell_type": "code",
   "execution_count": null,
   "metadata": {
    "collapsed": true
   },
   "outputs": [],
   "source": []
  }
 ],
 "metadata": {
  "kernelspec": {
   "display_name": "Python 2",
   "language": "python",
   "name": "python2"
  },
  "language_info": {
   "codemirror_mode": {
    "name": "ipython",
    "version": 2
   },
   "file_extension": ".py",
   "mimetype": "text/x-python",
   "name": "python",
   "nbconvert_exporter": "python",
   "pygments_lexer": "ipython2",
   "version": "2.7.15"
  }
 },
 "nbformat": 4,
 "nbformat_minor": 2
}
