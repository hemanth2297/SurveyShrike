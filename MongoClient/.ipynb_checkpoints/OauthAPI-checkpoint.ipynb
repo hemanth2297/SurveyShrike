{
 "cells": [
  {
   "cell_type": "code",
   "execution_count": 77,
   "metadata": {
    "collapsed": true
   },
   "outputs": [],
   "source": [
    "from flask import Flask, request\n",
    "from flask_cors import CORS, cross_origin\n",
    "from flask_restful import Resource, Api\n",
    "from json import dumps\n",
    "from flask_jsonpify import jsonify\n",
    "import json\n",
    "import pymongo\n",
    "import urllib\n",
    "from collections import Counter\n",
    "import requests\n",
    "import time\n",
    "import cryptography\n",
    "import jwt\n",
    "from flask import (Flask, make_response, render_template, redirect, request,url_for)\n",
    "\n",
    "LIFE_SPAN = 18000"
   ]
  },
  {
   "cell_type": "code",
   "execution_count": null,
   "metadata": {},
   "outputs": [
    {
     "name": "stdout",
     "output_type": "stream",
     "text": [
      " * Serving Flask app \"__main__\" (lazy loading)\n",
      " * Environment: production\n",
      "   WARNING: This is a development server. Do not use it in a production deployment.\n",
      "   Use a production WSGI server instead.\n",
      " * Debug mode: off\n"
     ]
    },
    {
     "name": "stderr",
     "output_type": "stream",
     "text": [
      " * Running on http://127.0.0.1:5001/ (Press CTRL+C to quit)\n",
      "127.0.0.1 - - [15/Oct/2019 01:06:26] \"POST /authorize HTTP/1.1\" 401 -\n"
     ]
    },
    {
     "name": "stdout",
     "output_type": "stream",
     "text": [
      "Authorization: access_token\r\n",
      "Content-Length: 0\r\n",
      "User-Agent: python-requests/2.18.4\r\n",
      "Connection: keep-alive\r\n",
      "Host: 127.0.0.1:5001\r\n",
      "Accept: */*\r\n",
      "Accept-Encoding: gzip, deflate\r\n",
      "\r\n",
      "\n"
     ]
    }
   ],
   "source": [
    "ISSUER = 'sample-auth-server'\n",
    "app = Flask(__name__)\n",
    "api = Api(app)\n",
    "CORS(app)\n",
    "\n",
    "client = pymongo.MongoClient(\"mongodb+srv://hemanth:\"+ urllib.quote(\"Hemanth@123\")+\"@cluster0-59obx.mongodb.net/test?retryWrites=true&w=majority\")\n",
    "\n",
    "with open('public.pem', 'rb') as f:\n",
    "    public_key = f.read()\n",
    "    \n",
    "with open('private.pem', 'rb') as f:\n",
    "    private_key = f.read()\n",
    "\n",
    "@app.route('/login',methods=['POST'])\n",
    "def request_token():\n",
    "\n",
    "    params=json.loads(str(request.data))\n",
    "    print(params)\n",
    "    response = checkCredentails(params)\n",
    "\n",
    "#     contents = json.loads(r.text)\n",
    "#     access_token = contents.get('access_token')\n",
    "\n",
    "#   # Writes access token to the cookie\n",
    "#     response = make_response(redirect(url_for('main')))\n",
    "#     response.set_cookie('access_token', access_token)\n",
    "\n",
    "    return response\n",
    "\n",
    "\n",
    "@app.route('/authorize', methods = ['POST'])\n",
    "def verify_access_token():\n",
    "    print(request.headers)\n",
    "    try:\n",
    "        decoded_token = jwt.decode(request.headers[\"Authorization\"].encode(), public_key,\n",
    "                                   issuer = ISSUER,\n",
    "                                   algorithm = 'RS256')\n",
    "    except (jwt.exceptions.InvalidTokenError,\n",
    "          jwt.exceptions.InvalidSignatureError,\n",
    "          jwt.exceptions.InvalidIssuerError,\n",
    "          jwt.exceptions.ExpiredSignatureError):\n",
    "        return json.dumps({\n",
    "              \"error\": \"access_denied\"\n",
    "            }), 401\n",
    "\n",
    "    return json.dumps({\n",
    "              \"message\": \"Valid User\"\n",
    "            })\n",
    "\n",
    "if __name__ == '__main__':\n",
    "    app.run(port=5001)"
   ]
  },
  {
   "cell_type": "code",
   "execution_count": 79,
   "metadata": {
    "collapsed": true
   },
   "outputs": [],
   "source": [
    "def checkCredentails(request):\n",
    "    username=request[\"username\"]\n",
    "    password=request[\"password\"]\n",
    "#     client_id=request.client_id\n",
    "#     client_secret=request.client_secret\n",
    "    \n",
    "#     if None in [username, password, client_id, client_secret]:\n",
    "#         return json.dumps({\n",
    "#           \"error\": \"invalid_request\"\n",
    "#         }), 400\n",
    "\n",
    "    if not authenticate_user_credentials(username, password):\n",
    "        return json.dumps({\n",
    "          \"error\": \"access_denied\"\n",
    "        }), 401\n",
    "  \n",
    "    access_token = generate_access_token()\n",
    "    db=client.credentials\n",
    "    tokenDetails={}\n",
    "    tokenDetails[\"userName\"]=username\n",
    "    tokenDetails[\"accesstoken\"]=access_token    \n",
    "    db.tokenKeys.insert_one(tokenDetails)\n",
    "    \n",
    "    return json.dumps({ \n",
    "    \"access_token\": access_token,\n",
    "    \"token_type\": \"JWT\",\n",
    "    \"expires_in\": LIFE_SPAN\n",
    "    })"
   ]
  },
  {
   "cell_type": "code",
   "execution_count": 56,
   "metadata": {
    "collapsed": true
   },
   "outputs": [],
   "source": [
    "def generate_access_token():\n",
    "    payload = {\n",
    "    \"iss\": ISSUER,\n",
    "    \"exp\": time.time() + LIFE_SPAN,\n",
    "    }\n",
    "\n",
    "    access_token = jwt.encode(payload, private_key, algorithm = 'RS256')\n",
    "\n",
    "    return access_token.decode()"
   ]
  },
  {
   "cell_type": "code",
   "execution_count": 68,
   "metadata": {
    "collapsed": true
   },
   "outputs": [],
   "source": [
    "def authenticate_user_credentials(username, password):\n",
    "    db=client.credentials\n",
    "    form=db.userDetails.find_one({'userName': username,'password':password})\n",
    "    \n",
    "    if(form):\n",
    "        return True\n",
    "    return False"
   ]
  },
  {
   "cell_type": "code",
   "execution_count": null,
   "metadata": {
    "collapsed": true
   },
   "outputs": [],
   "source": []
  }
 ],
 "metadata": {
  "kernelspec": {
   "display_name": "Python 2",
   "language": "python",
   "name": "python2"
  },
  "language_info": {
   "codemirror_mode": {
    "name": "ipython",
    "version": 2
   },
   "file_extension": ".py",
   "mimetype": "text/x-python",
   "name": "python",
   "nbconvert_exporter": "python",
   "pygments_lexer": "ipython2",
   "version": "2.7.15"
  }
 },
 "nbformat": 4,
 "nbformat_minor": 2
}
