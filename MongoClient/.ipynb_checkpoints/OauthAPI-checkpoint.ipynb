{
 "cells": [
  {
   "cell_type": "code",
   "execution_count": 37,
   "metadata": {
    "collapsed": true
   },
   "outputs": [],
   "source": [
    "from flask import Flask, request\n",
    "\n",
    "from flask_cors import CORS, cross_origin\n",
    "from flask_restful import Resource, Api\n",
    "from json import dumps\n",
    "from flask_jsonpify import jsonify\n",
    "import json\n",
    "import pymongo\n",
    "import urllib\n",
    "from collections import Counter\n",
    "import requests\n",
    "import time\n",
    "import cryptography\n",
    "import jwt\n",
    "from flask import (Flask, make_response, render_template, redirect, request,url_for)\n",
    "\n",
    "LIFE_SPAN = 180"
   ]
  },
  {
   "cell_type": "code",
   "execution_count": 38,
   "metadata": {},
   "outputs": [],
   "source": [
    "def checkCredentails(request):\n",
    "    username=request[\"username\"]\n",
    "    password=request[\"password\"]\n",
    "    \n",
    "    if not authenticate_user_credentials(username, password):\n",
    "        return json.dumps({\n",
    "          \"error\": \"access_denied\"\n",
    "        }), 401\n",
    "  \n",
    "    access_token = generate_access_token(username)\n",
    "    db=client.credentials\n",
    "    tokenDetails={}\n",
    "    tokenDetails[\"userName\"]=username\n",
    "    tokenDetails[\"access_token\"]=access_token    \n",
    "    db.tokenKeys.insert_one(tokenDetails)\n",
    "    \n",
    "    return json.dumps({ \n",
    "    \"access_token\": access_token,\n",
    "    \"token_type\": \"JWT\",\n",
    "    \"expires_in\": LIFE_SPAN,\n",
    "    'userName':username\n",
    "    })\n",
    "\n",
    "\n",
    "def generate_access_token(username):\n",
    "    payload = {\n",
    "    \"iss\": ISSUER,\n",
    "    \"exp\": time.time() + LIFE_SPAN,\n",
    "    \"time\":time.time(),\n",
    "    \"userName\": username \n",
    "    }\n",
    "\n",
    "    access_token = jwt.encode(payload, private_key, algorithm = 'RS256')\n",
    "\n",
    "    return access_token.decode()\n",
    "\n",
    "def authenticate_user_credentials(username, password):\n",
    "    db=client.credentials\n",
    "    form=db.userDetails.find_one({'userName': username,'password':password})\n",
    "    \n",
    "    if(form):\n",
    "        return True\n",
    "    return False"
   ]
  },
  {
   "cell_type": "code",
   "execution_count": 39,
   "metadata": {
    "collapsed": true
   },
   "outputs": [],
   "source": [
    "ISSUER = 'SurveyShrike OAuth Server'\n",
    "\n",
    "\n",
    "client = pymongo.MongoClient(\"mongodb+srv://hemanth:\"+ urllib.quote(\"Hemanth@123\")+\"@cluster0-59obx.mongodb.net/test?retryWrites=true&w=majority\")\n",
    "\n",
    "with open('public.pem', 'rb') as f:\n",
    "    public_key = f.read()\n",
    "    \n",
    "with open('private.pem', 'rb') as f:\n",
    "    private_key = f.read()"
   ]
  },
  {
   "cell_type": "code",
   "execution_count": null,
   "metadata": {},
   "outputs": [
    {
     "name": "stdout",
     "output_type": "stream",
     "text": [
      " * Serving Flask app \"__main__\" (lazy loading)\n",
      " * Environment: production\n",
      "   WARNING: This is a development server. Do not use it in a production deployment.\n",
      "   Use a production WSGI server instead.\n",
      " * Debug mode: off\n"
     ]
    },
    {
     "name": "stderr",
     "output_type": "stream",
     "text": [
      " * Running on http://127.0.0.1:5001/ (Press CTRL+C to quit)\n",
      "127.0.0.1 - - [20/Oct/2019 00:48:55] \"OPTIONS /login HTTP/1.1\" 200 -\n"
     ]
    },
    {
     "name": "stdout",
     "output_type": "stream",
     "text": [
      "{u'username': u'User1', u'password': u'User1'}\n"
     ]
    },
    {
     "name": "stderr",
     "output_type": "stream",
     "text": [
      "127.0.0.1 - - [20/Oct/2019 00:48:58] \"POST /login HTTP/1.1\" 200 -\n",
      "127.0.0.1 - - [20/Oct/2019 00:49:18] \"OPTIONS /login HTTP/1.1\" 200 -\n"
     ]
    },
    {
     "name": "stdout",
     "output_type": "stream",
     "text": [
      "{u'username': u'User1', u'password': u'User1'}\n"
     ]
    },
    {
     "name": "stderr",
     "output_type": "stream",
     "text": [
      "127.0.0.1 - - [20/Oct/2019 00:49:18] \"POST /login HTTP/1.1\" 200 -\n",
      "127.0.0.1 - - [20/Oct/2019 00:53:31] \"OPTIONS /login HTTP/1.1\" 200 -\n"
     ]
    },
    {
     "name": "stdout",
     "output_type": "stream",
     "text": [
      "{u'username': u'User1', u'password': u'User1'}\n"
     ]
    },
    {
     "name": "stderr",
     "output_type": "stream",
     "text": [
      "127.0.0.1 - - [20/Oct/2019 00:53:31] \"POST /login HTTP/1.1\" 200 -\n",
      "127.0.0.1 - - [20/Oct/2019 00:54:08] \"OPTIONS /login HTTP/1.1\" 200 -\n"
     ]
    },
    {
     "name": "stdout",
     "output_type": "stream",
     "text": [
      "{u'username': u'User1', u'password': u'User1'}\n"
     ]
    },
    {
     "name": "stderr",
     "output_type": "stream",
     "text": [
      "127.0.0.1 - - [20/Oct/2019 00:54:08] \"POST /login HTTP/1.1\" 200 -\n"
     ]
    }
   ],
   "source": [
    "app = Flask(__name__)\n",
    "api = Api(app)\n",
    "CORS(app)\n",
    "\n",
    "@app.route('/login',methods=['POST'])\n",
    "def request_token():\n",
    "\n",
    "    params=json.loads(str(request.data))\n",
    "    print(params)\n",
    "    response = checkCredentails(params)\n",
    "\n",
    "    return response\n",
    "\n",
    "@app.route('/register',methods=['POST'])\n",
    "def register_user():\n",
    "    params=request.json\n",
    "    print(params)\n",
    "    db=client.credentials\n",
    "    db.userDetails.find_one({'userName': params[\"username\"]})\n",
    "    return json.dumps({\n",
    "          \"error\": \"UserName Already Exists\"\n",
    "        }), 401\n",
    "    db.userDetails.insert_one({'userName': params[\"username\"],'password':params[\"password\"]})\n",
    "    response = checkCredentails(params)\n",
    "    return response\n",
    "\n",
    "\n",
    "@app.route('/logout',methods=['POST'])\n",
    "def delete_token():\n",
    "    access_token=request.headers[\"Authorization\"].encode()\n",
    "    try:\n",
    "        decoded_token = jwt.decode(access_token, public_key,\n",
    "                                   issuer = ISSUER,\n",
    "                                   algorithm = 'RS256')\n",
    "    except (jwt.exceptions.InvalidTokenError,\n",
    "          jwt.exceptions.InvalidSignatureError,\n",
    "          jwt.exceptions.InvalidIssuerError,\n",
    "          jwt.exceptions.ExpiredSignatureError):\n",
    "        return json.dumps({\n",
    "              \"error\": \"access_denied\"\n",
    "            }), 401\n",
    "    \n",
    "    db=client.credentials\n",
    "    db.tokenKeys.delete_one({\"access_token\":access_token})\n",
    "    return json.dumps({\n",
    "              \"message\": \"Successfully Logged out\"\n",
    "        })\n",
    "    \n",
    "    return response\n",
    "\n",
    "\n",
    "@app.route('/authorize', methods = ['POST'])\n",
    "def verify_access_token():\n",
    "    try:\n",
    "        decoded_token = jwt.decode(request.headers[\"Authorization\"].encode(), public_key,\n",
    "                                   issuer = ISSUER,\n",
    "                                   algorithm = 'RS256')\n",
    "    except (jwt.exceptions.InvalidTokenError,\n",
    "          jwt.exceptions.InvalidSignatureError,\n",
    "          jwt.exceptions.InvalidIssuerError,\n",
    "          jwt.exceptions.ExpiredSignatureError):\n",
    "        return json.dumps({\n",
    "              \"error\": \"access_denied\"\n",
    "            }), 401\n",
    "\n",
    "    return json.dumps({\n",
    "              \"message\": \"Valid User\"\n",
    "            })\n",
    "\n",
    "if __name__ == '__main__':\n",
    "    app.run(port=5001)"
   ]
  },
  {
   "cell_type": "code",
   "execution_count": 33,
   "metadata": {
    "collapsed": true
   },
   "outputs": [],
   "source": [
    "ISSUER = 'sample-auth-server'\n",
    "\n",
    "\n",
    "client = pymongo.MongoClient(\"mongodb+srv://hemanth:\"+ urllib.quote(\"Hemanth@123\")+\"@cluster0-59obx.mongodb.net/test?retryWrites=true&w=majority\")\n",
    "\n",
    "with open('public.pem', 'rb') as f:\n",
    "    public_key = f.read()\n",
    "    \n",
    "with open('private.pem', 'rb') as f:\n",
    "    private_key = f.read()"
   ]
  },
  {
   "cell_type": "code",
   "execution_count": 34,
   "metadata": {},
   "outputs": [],
   "source": [
    "payload = {\n",
    "\"iss\": ISSUER,\n",
    "\"exp\": time.time() + LIFE_SPAN,\n",
    "\"time\":time.time(),\n",
    "\"userName\":\"Hemanth\" \n",
    "}\n",
    "\n",
    "access_token = jwt.encode(payload, private_key, algorithm = 'RS256')"
   ]
  },
  {
   "cell_type": "code",
   "execution_count": 36,
   "metadata": {},
   "outputs": [
    {
     "ename": "ExpiredSignatureError",
     "evalue": "Signature has expired",
     "output_type": "error",
     "traceback": [
      "\u001b[0;31m---------------------------------------------------------------------------\u001b[0m",
      "\u001b[0;31mExpiredSignatureError\u001b[0m                     Traceback (most recent call last)",
      "\u001b[0;32m<ipython-input-36-2f83505bda05>\u001b[0m in \u001b[0;36m<module>\u001b[0;34m()\u001b[0m\n\u001b[1;32m      1\u001b[0m decoded_token = jwt.decode(access_token.encode(), public_key,\n\u001b[1;32m      2\u001b[0m                                    \u001b[0missuer\u001b[0m \u001b[0;34m=\u001b[0m \u001b[0mISSUER\u001b[0m\u001b[0;34m,\u001b[0m\u001b[0;34m\u001b[0m\u001b[0m\n\u001b[0;32m----> 3\u001b[0;31m                                    algorithm = 'RS256')\n\u001b[0m",
      "\u001b[0;32m/Users/hemanth/anaconda2/lib/python2.7/site-packages/jwt/api_jwt.pyc\u001b[0m in \u001b[0;36mdecode\u001b[0;34m(self, jwt, key, verify, algorithms, options, **kwargs)\u001b[0m\n\u001b[1;32m    102\u001b[0m         \u001b[0;32mif\u001b[0m \u001b[0mverify\u001b[0m\u001b[0;34m:\u001b[0m\u001b[0;34m\u001b[0m\u001b[0m\n\u001b[1;32m    103\u001b[0m             \u001b[0mmerged_options\u001b[0m \u001b[0;34m=\u001b[0m \u001b[0mmerge_dict\u001b[0m\u001b[0;34m(\u001b[0m\u001b[0mself\u001b[0m\u001b[0;34m.\u001b[0m\u001b[0moptions\u001b[0m\u001b[0;34m,\u001b[0m \u001b[0moptions\u001b[0m\u001b[0;34m)\u001b[0m\u001b[0;34m\u001b[0m\u001b[0m\n\u001b[0;32m--> 104\u001b[0;31m             \u001b[0mself\u001b[0m\u001b[0;34m.\u001b[0m\u001b[0m_validate_claims\u001b[0m\u001b[0;34m(\u001b[0m\u001b[0mpayload\u001b[0m\u001b[0;34m,\u001b[0m \u001b[0mmerged_options\u001b[0m\u001b[0;34m,\u001b[0m \u001b[0;34m**\u001b[0m\u001b[0mkwargs\u001b[0m\u001b[0;34m)\u001b[0m\u001b[0;34m\u001b[0m\u001b[0m\n\u001b[0m\u001b[1;32m    105\u001b[0m \u001b[0;34m\u001b[0m\u001b[0m\n\u001b[1;32m    106\u001b[0m         \u001b[0;32mreturn\u001b[0m \u001b[0mpayload\u001b[0m\u001b[0;34m\u001b[0m\u001b[0m\n",
      "\u001b[0;32m/Users/hemanth/anaconda2/lib/python2.7/site-packages/jwt/api_jwt.pyc\u001b[0m in \u001b[0;36m_validate_claims\u001b[0;34m(self, payload, options, audience, issuer, leeway, **kwargs)\u001b[0m\n\u001b[1;32m    132\u001b[0m \u001b[0;34m\u001b[0m\u001b[0m\n\u001b[1;32m    133\u001b[0m         \u001b[0;32mif\u001b[0m \u001b[0;34m'exp'\u001b[0m \u001b[0;32min\u001b[0m \u001b[0mpayload\u001b[0m \u001b[0;32mand\u001b[0m \u001b[0moptions\u001b[0m\u001b[0;34m.\u001b[0m\u001b[0mget\u001b[0m\u001b[0;34m(\u001b[0m\u001b[0;34m'verify_exp'\u001b[0m\u001b[0;34m)\u001b[0m\u001b[0;34m:\u001b[0m\u001b[0;34m\u001b[0m\u001b[0m\n\u001b[0;32m--> 134\u001b[0;31m             \u001b[0mself\u001b[0m\u001b[0;34m.\u001b[0m\u001b[0m_validate_exp\u001b[0m\u001b[0;34m(\u001b[0m\u001b[0mpayload\u001b[0m\u001b[0;34m,\u001b[0m \u001b[0mnow\u001b[0m\u001b[0;34m,\u001b[0m \u001b[0mleeway\u001b[0m\u001b[0;34m)\u001b[0m\u001b[0;34m\u001b[0m\u001b[0m\n\u001b[0m\u001b[1;32m    135\u001b[0m \u001b[0;34m\u001b[0m\u001b[0m\n\u001b[1;32m    136\u001b[0m         \u001b[0;32mif\u001b[0m \u001b[0moptions\u001b[0m\u001b[0;34m.\u001b[0m\u001b[0mget\u001b[0m\u001b[0;34m(\u001b[0m\u001b[0;34m'verify_iss'\u001b[0m\u001b[0;34m)\u001b[0m\u001b[0;34m:\u001b[0m\u001b[0;34m\u001b[0m\u001b[0m\n",
      "\u001b[0;32m/Users/hemanth/anaconda2/lib/python2.7/site-packages/jwt/api_jwt.pyc\u001b[0m in \u001b[0;36m_validate_exp\u001b[0;34m(self, payload, now, leeway)\u001b[0m\n\u001b[1;32m    173\u001b[0m \u001b[0;34m\u001b[0m\u001b[0m\n\u001b[1;32m    174\u001b[0m         \u001b[0;32mif\u001b[0m \u001b[0mexp\u001b[0m \u001b[0;34m<\u001b[0m \u001b[0;34m(\u001b[0m\u001b[0mnow\u001b[0m \u001b[0;34m-\u001b[0m \u001b[0mleeway\u001b[0m\u001b[0;34m)\u001b[0m\u001b[0;34m:\u001b[0m\u001b[0;34m\u001b[0m\u001b[0m\n\u001b[0;32m--> 175\u001b[0;31m             \u001b[0;32mraise\u001b[0m \u001b[0mExpiredSignatureError\u001b[0m\u001b[0;34m(\u001b[0m\u001b[0;34m'Signature has expired'\u001b[0m\u001b[0;34m)\u001b[0m\u001b[0;34m\u001b[0m\u001b[0m\n\u001b[0m\u001b[1;32m    176\u001b[0m \u001b[0;34m\u001b[0m\u001b[0m\n\u001b[1;32m    177\u001b[0m     \u001b[0;32mdef\u001b[0m \u001b[0m_validate_aud\u001b[0m\u001b[0;34m(\u001b[0m\u001b[0mself\u001b[0m\u001b[0;34m,\u001b[0m \u001b[0mpayload\u001b[0m\u001b[0;34m,\u001b[0m \u001b[0maudience\u001b[0m\u001b[0;34m)\u001b[0m\u001b[0;34m:\u001b[0m\u001b[0;34m\u001b[0m\u001b[0m\n",
      "\u001b[0;31mExpiredSignatureError\u001b[0m: Signature has expired"
     ]
    }
   ],
   "source": [
    "decoded_token = jwt.decode(access_token.encode(), public_key,\n",
    "                                   issuer = ISSUER,\n",
    "                                   algorithm = 'RS256')"
   ]
  },
  {
   "cell_type": "code",
   "execution_count": null,
   "metadata": {
    "collapsed": true
   },
   "outputs": [],
   "source": []
  }
 ],
 "metadata": {
  "kernelspec": {
   "display_name": "Python 2",
   "language": "python",
   "name": "python2"
  },
  "language_info": {
   "codemirror_mode": {
    "name": "ipython",
    "version": 2
   },
   "file_extension": ".py",
   "mimetype": "text/x-python",
   "name": "python",
   "nbconvert_exporter": "python",
   "pygments_lexer": "ipython2",
   "version": "2.7.15"
  }
 },
 "nbformat": 4,
 "nbformat_minor": 2
}
