{
 "cells": [
  {
   "cell_type": "code",
   "execution_count": 6,
   "metadata": {},
   "outputs": [],
   "source": [
    "from flask import Flask, request\n",
    "from flask_cors import CORS, cross_origin\n",
    "from flask_restful import Resource, Api\n",
    "from json import dumps\n",
    "from flask_jsonpify import jsonify\n",
    "import json\n",
    "import pymongo\n",
    "import urllib"
   ]
  },
  {
   "cell_type": "code",
   "execution_count": 2,
   "metadata": {
    "collapsed": true
   },
   "outputs": [],
   "source": [
    "app = Flask(__name__)\n",
    "api = Api(app)\n",
    "\n",
    "CORS(app)\n",
    "client = pymongo.MongoClient(\"mongodb+srv://hemanth:\"+ urllib.quote(\"Hemanth@123\")+\"@cluster0-59obx.mongodb.net/test?retryWrites=true&w=majority\")\n",
    "\n",
    "@app.route(\"/\")\n",
    "def hello():\n",
    "    return jsonify({'text':'Hello World!'})\n",
    "\n",
    "\n",
    "@app.route(\"/createSurvey\")\n",
    "def createSurvey():\n",
    "    db=client.survey\n",
    "    data=json.loads(str(request.data))\n",
    "    if(checkSurveyExists(request.surveyName))\n",
    "        return jsonify({'response':'SurveyName already Exists'})\n",
    "    surveyDetails={}\n",
    "    surveyDetails[\"userName\"]=request.userName\n",
    "    surveyDetails[\"surveyName\"]=request.surveyName\n",
    "    surveyDetails[\"surveyForm\"]=request.surveyForm\n",
    "    \n",
    "    result=db.SurveyForms.insert_one(surveyDetails)\n",
    "    return  jsonify({'response':'Survey successfully created'})\n",
    "\n",
    "\n",
    "@app.route(\"/surveyForm\")\n",
    "def SurveyForm():\n",
    "    db=client.survey\n",
    "    data=json.loads(str(request.data))\n",
    "    if(!checkSurveyExists(request.surveyName))\n",
    "        return jsonify({'response':'SurveyName doesnt Exists'})\n",
    "    \n",
    "    result=db.SurveyForms.find_one({'surveyName': surveyName})\n",
    "    return  result"
   ]
  },
  {
   "cell_type": "code",
   "execution_count": null,
   "metadata": {
    "collapsed": true
   },
   "outputs": [],
   "source": [
    "def checkSurveyExists(surveyName):\n",
    "    db=client.survey\n",
    "    form=db.SurveyForms.find_one({'surveyName': surveyName})\n",
    "    if(form):\n",
    "        return true\n",
    "    return false"
   ]
  },
  {
   "cell_type": "code",
   "execution_count": null,
   "metadata": {
    "collapsed": true
   },
   "outputs": [],
   "source": []
  }
 ],
 "metadata": {
  "kernelspec": {
   "display_name": "Python 2",
   "language": "python",
   "name": "python2"
  },
  "language_info": {
   "codemirror_mode": {
    "name": "ipython",
    "version": 2
   },
   "file_extension": ".py",
   "mimetype": "text/x-python",
   "name": "python",
   "nbconvert_exporter": "python",
   "pygments_lexer": "ipython2",
   "version": "2.7.15"
  }
 },
 "nbformat": 4,
 "nbformat_minor": 2
}
