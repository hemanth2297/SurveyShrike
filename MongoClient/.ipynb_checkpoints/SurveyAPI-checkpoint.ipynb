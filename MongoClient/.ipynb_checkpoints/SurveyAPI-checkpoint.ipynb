{
 "cells": [
  {
   "cell_type": "code",
   "execution_count": 5,
   "metadata": {
    "collapsed": true
   },
   "outputs": [],
   "source": [
    "from flask import Flask, request\n",
    "from flask_cors import CORS, cross_origin\n",
    "from flask_restful import Resource, Api\n",
    "from json import dumps\n",
    "from flask_jsonpify import jsonify\n",
    "import json\n",
    "import pymongo\n",
    "import urllib\n",
    "from collections import Counter\n",
    "import requests\n",
    "from flask_swagger_ui import get_swaggerui_blueprint"
   ]
  },
  {
   "cell_type": "code",
   "execution_count": 9,
   "metadata": {
    "collapsed": true
   },
   "outputs": [],
   "source": [
    "surveyTemplate = {\n",
    "        'userName' : \"Hemanth\",\n",
    "        'surveyName' : \"test\",\n",
    "        'surveyForm':{\"0\":{\n",
    "            \"question\":\"qsn1\",\n",
    "            \"questionType\":\"radio\",\n",
    "            \"options\":\"sd,sdf,sv\",\n",
    "            \"rangeFrom\" :\"1\",\n",
    "            \"rangeFrom\" :\"20\"\n",
    "        },\n",
    "                \"1\":{\n",
    "            \"qsn\":\"qsn2\",\n",
    "            \"type\":\"texxt\",\n",
    "            \"options\":[\"a\",\"c\"]\n",
    "        }\n",
    "            \n",
    "        }\n",
    "    }\n",
    "\n",
    "surveyEntr11y= {\n",
    "        'userName' : \"Hemanth\",\n",
    "        'surveyName' : \"test\",\n",
    "        'entryForm':{\"0\":\"ans1\",\n",
    "        \"1\":\"ans1\"   \n",
    "        }\n",
    "    }"
   ]
  },
  {
   "cell_type": "code",
   "execution_count": 7,
   "metadata": {
    "collapsed": true
   },
   "outputs": [],
   "source": [
    "def checkSurveyExists(surveyName):\n",
    "    db=client.survey\n",
    "    form=db.SurveyForms.find_one({'surveyName': surveyName})\n",
    "    if(form):\n",
    "        return True\n",
    "    return False\n",
    "\n",
    "\n",
    "def mergeSingleSurveyEntry(surveyTemplate,surveyEntry):\n",
    "    form=surveyTemplate[\"surveyForm\"]\n",
    "    for key in form:\n",
    "        form[key][\"answer\"]=surveyEntry[\"entryForm\"][key]\n",
    "    return form\n",
    "\n",
    "\n",
    "def mergeSurveyEntry(surveyTemplate,surveyEntry):\n",
    "    form=surveyTemplate\n",
    "    for key in form[\"surveyForm\"]:\n",
    "        form[\"surveyForm\"][key][\"answers\"]=[]\n",
    "        \n",
    "    form[\"users\"]=[]\n",
    "    for entry in surveyEntry:\n",
    "        form[\"users\"].append(entry[\"userName\"])\n",
    "        for key in form[\"surveyForm\"]:\n",
    "            form[\"surveyForm\"][key][\"answers\"].append(entry[\"entryForm\"][key])\n",
    "            \n",
    "    for key in form[\"surveyForm\"]:\n",
    "        form[\"surveyForm\"][key][\"answers\"]=Counter(form[\"surveyForm\"][key][\"answers\"])\n",
    "        \n",
    "    return form\n",
    "\n",
    "\n",
    "\n",
    "def verifyAccessToken(access_token):\n",
    "    URL=\"http://127.0.0.1:5001/authorize\"\n",
    "    response=requests.post(url = URL,headers={'Authorization': \"access_token\"})\n",
    "    if(response.status_code==200):\n",
    "        return True\n",
    "    else:\n",
    "        return False\n",
    "    \n",
    "def getStats(surveyEntries):\n",
    "    stats={}\n",
    "    for i in surveyEntries[0][\"entryForm\"].keys():\n",
    "        stats[i]={\"total\":{},\"Male\":{},\"Female\":{}}\n",
    "\n",
    "    for entry in surveyEntries:\n",
    "        gender=entry[\"gender\"]\n",
    "        for key in entry[\"entryForm\"].keys():\n",
    "            val=entry[\"entryForm\"][key]\n",
    "            stats[key][\"total\"][val]=0\n",
    "            stats[key][gender][val]=0\n",
    "\n",
    "    for entry in surveyEntries:\n",
    "        gender=entry[\"gender\"]\n",
    "        for key in entry[\"entryForm\"].keys():\n",
    "            val=entry[\"entryForm\"][key]\n",
    "            stats[key][\"total\"][val]+=1\n",
    "            stats[key][gender][val]+=1\n",
    "            \n",
    "    return stats"
   ]
  },
  {
   "cell_type": "code",
   "execution_count": 8,
   "metadata": {},
   "outputs": [
    {
     "name": "stdout",
     "output_type": "stream",
     "text": [
      " * Serving Flask app \"__main__\" (lazy loading)\n",
      " * Environment: production\n",
      "   WARNING: This is a development server. Do not use it in a production deployment.\n",
      "   Use a production WSGI server instead.\n",
      " * Debug mode: off\n"
     ]
    },
    {
     "name": "stderr",
     "output_type": "stream",
     "text": [
      " * Running on http://127.0.0.1:5002/ (Press CTRL+C to quit)\n",
      "127.0.0.1 - - [19/Oct/2019 15:51:06] \"OPTIONS /createSurvey HTTP/1.1\" 200 -\n",
      "127.0.0.1 - - [19/Oct/2019 15:51:09] \"POST /createSurvey HTTP/1.1\" 400 -\n",
      "127.0.0.1 - - [19/Oct/2019 15:51:09] \"OPTIONS /getUserSurveys HTTP/1.1\" 200 -\n",
      "127.0.0.1 - - [19/Oct/2019 15:51:09] \"POST /getUserSurveys HTTP/1.1\" 200 -\n",
      "127.0.0.1 - - [19/Oct/2019 15:51:12] \"OPTIONS /getSurvey HTTP/1.1\" 200 -\n",
      "127.0.0.1 - - [19/Oct/2019 15:51:12] \"OPTIONS /getSurveyEntries HTTP/1.1\" 200 -\n"
     ]
    },
    {
     "name": "stdout",
     "output_type": "stream",
     "text": [
      "{u'surveyName': u'Testing Survey'}\n"
     ]
    },
    {
     "name": "stderr",
     "output_type": "stream",
     "text": [
      "127.0.0.1 - - [19/Oct/2019 15:51:12] \"POST /getSurvey HTTP/1.1\" 200 -\n"
     ]
    },
    {
     "name": "stdout",
     "output_type": "stream",
     "text": [
      "<pymongo.cursor.Cursor object at 0x10f4f1250>\n"
     ]
    },
    {
     "name": "stderr",
     "output_type": "stream",
     "text": [
      "127.0.0.1 - - [19/Oct/2019 15:51:16] \"POST /getSurveyEntries HTTP/1.1\" 200 -\n"
     ]
    },
    {
     "name": "stdout",
     "output_type": "stream",
     "text": [
      "[]\n"
     ]
    },
    {
     "name": "stderr",
     "output_type": "stream",
     "text": [
      "127.0.0.1 - - [19/Oct/2019 15:51:44] \"OPTIONS /getSurvey HTTP/1.1\" 200 -\n",
      "127.0.0.1 - - [19/Oct/2019 15:51:44] \"OPTIONS /getSurveyEntries HTTP/1.1\" 200 -\n",
      "127.0.0.1 - - [19/Oct/2019 15:51:44] \"OPTIONS /getSurvey HTTP/1.1\" 200 -\n"
     ]
    },
    {
     "name": "stdout",
     "output_type": "stream",
     "text": [
      "{u'surveyName': u'Testing Survey'}\n",
      "<pymongo.cursor.Cursor object at 0x10f483fd0>\n"
     ]
    },
    {
     "name": "stderr",
     "output_type": "stream",
     "text": [
      "127.0.0.1 - - [19/Oct/2019 15:51:44] \"POST /getSurvey HTTP/1.1\" 200 -\n",
      "127.0.0.1 - - [19/Oct/2019 15:51:44] \"POST /getSurveyEntries HTTP/1.1\" 200 -\n"
     ]
    },
    {
     "name": "stdout",
     "output_type": "stream",
     "text": [
      "[]\n"
     ]
    },
    {
     "name": "stderr",
     "output_type": "stream",
     "text": [
      "127.0.0.1 - - [19/Oct/2019 15:51:48] \"POST /getSurvey HTTP/1.1\" 200 -\n",
      "127.0.0.1 - - [19/Oct/2019 15:54:04] \"OPTIONS /getSurvey HTTP/1.1\" 200 -\n",
      "127.0.0.1 - - [19/Oct/2019 15:54:04] \"OPTIONS /getSurveyEntries HTTP/1.1\" 200 -\n",
      "127.0.0.1 - - [19/Oct/2019 15:54:04] \"OPTIONS /getSurvey HTTP/1.1\" 200 -\n"
     ]
    },
    {
     "name": "stdout",
     "output_type": "stream",
     "text": [
      "{u'surveyName': u'Testing Survey'}\n",
      "<pymongo.cursor.Cursor object at 0x10f483690>\n"
     ]
    },
    {
     "name": "stderr",
     "output_type": "stream",
     "text": [
      "127.0.0.1 - - [19/Oct/2019 15:54:04] \"POST /getSurvey HTTP/1.1\" 200 -\n",
      "127.0.0.1 - - [19/Oct/2019 15:54:04] \"POST /getSurveyEntries HTTP/1.1\" 200 -\n"
     ]
    },
    {
     "name": "stdout",
     "output_type": "stream",
     "text": [
      "[]\n"
     ]
    },
    {
     "name": "stderr",
     "output_type": "stream",
     "text": [
      "127.0.0.1 - - [19/Oct/2019 15:54:05] \"POST /getSurvey HTTP/1.1\" 200 -\n",
      "127.0.0.1 - - [19/Oct/2019 15:54:06] \"OPTIONS /getAllSurveys HTTP/1.1\" 200 -\n",
      "127.0.0.1 - - [19/Oct/2019 15:54:07] \"GET /getAllSurveys HTTP/1.1\" 200 -\n",
      "127.0.0.1 - - [19/Oct/2019 15:54:08] \"OPTIONS /getSurvey HTTP/1.1\" 200 -\n",
      "127.0.0.1 - - [19/Oct/2019 15:54:09] \"POST /getSurvey HTTP/1.1\" 200 -\n",
      "127.0.0.1 - - [19/Oct/2019 15:54:18] \"OPTIONS /fillSurvey HTTP/1.1\" 200 -\n",
      "127.0.0.1 - - [19/Oct/2019 15:54:19] \"POST /fillSurvey HTTP/1.1\" 200 -\n",
      "127.0.0.1 - - [19/Oct/2019 15:54:28] \"OPTIONS /getUserSurveys HTTP/1.1\" 200 -\n",
      "127.0.0.1 - - [19/Oct/2019 15:54:28] \"POST /getUserSurveys HTTP/1.1\" 200 -\n",
      "127.0.0.1 - - [19/Oct/2019 15:54:31] \"OPTIONS /getSurvey HTTP/1.1\" 200 -\n",
      "127.0.0.1 - - [19/Oct/2019 15:54:31] \"OPTIONS /getSurveyEntries HTTP/1.1\" 200 -\n"
     ]
    },
    {
     "name": "stdout",
     "output_type": "stream",
     "text": [
      "{u'surveyName': u'Testing Survey'}\n",
      "<pymongo.cursor.Cursor object at 0x10f5440d0>\n"
     ]
    },
    {
     "name": "stderr",
     "output_type": "stream",
     "text": [
      "127.0.0.1 - - [19/Oct/2019 15:54:31] \"POST /getSurvey HTTP/1.1\" 200 -\n",
      "127.0.0.1 - - [19/Oct/2019 15:54:31] \"POST /getSurveyEntries HTTP/1.1\" 200 -\n"
     ]
    },
    {
     "name": "stdout",
     "output_type": "stream",
     "text": [
      "[{u'userName': u'user', u'gender': u'Male', u'surveyName': u'Testing Survey', u'entryForm': {u'1': u'Radio1', u'0': u'asd', u'3': u'50.66', u'2': u'DropDown3'}}]\n"
     ]
    },
    {
     "name": "stderr",
     "output_type": "stream",
     "text": [
      "127.0.0.1 - - [19/Oct/2019 15:54:36] \"OPTIONS /getAllSurveys HTTP/1.1\" 200 -\n",
      "127.0.0.1 - - [19/Oct/2019 15:54:36] \"GET /getAllSurveys HTTP/1.1\" 200 -\n",
      "127.0.0.1 - - [19/Oct/2019 15:54:38] \"OPTIONS /getSurvey HTTP/1.1\" 200 -\n",
      "127.0.0.1 - - [19/Oct/2019 15:54:39] \"POST /getSurvey HTTP/1.1\" 200 -\n",
      "127.0.0.1 - - [19/Oct/2019 15:56:17] \"OPTIONS /getSurvey HTTP/1.1\" 200 -\n",
      "127.0.0.1 - - [19/Oct/2019 15:56:17] \"OPTIONS /getAllSurveys HTTP/1.1\" 200 -\n",
      "127.0.0.1 - - [19/Oct/2019 15:56:18] \"GET /getAllSurveys HTTP/1.1\" 200 -\n",
      "127.0.0.1 - - [19/Oct/2019 15:56:18] \"POST /getSurvey HTTP/1.1\" 200 -\n",
      "127.0.0.1 - - [19/Oct/2019 15:56:42] \"OPTIONS /fillSurvey HTTP/1.1\" 200 -\n",
      "127.0.0.1 - - [19/Oct/2019 15:56:42] \"POST /fillSurvey HTTP/1.1\" 200 -\n",
      "127.0.0.1 - - [19/Oct/2019 15:56:51] \"OPTIONS /getUserSurveys HTTP/1.1\" 200 -\n",
      "127.0.0.1 - - [19/Oct/2019 15:56:51] \"POST /getUserSurveys HTTP/1.1\" 200 -\n",
      "127.0.0.1 - - [19/Oct/2019 15:56:52] \"OPTIONS /getSurvey HTTP/1.1\" 200 -\n",
      "127.0.0.1 - - [19/Oct/2019 15:56:52] \"OPTIONS /getSurveyEntries HTTP/1.1\" 200 -\n"
     ]
    },
    {
     "name": "stdout",
     "output_type": "stream",
     "text": [
      "{u'surveyName': u'Testing Survey'}\n",
      "<pymongo.cursor.Cursor object at 0x10f438c10>\n"
     ]
    },
    {
     "name": "stderr",
     "output_type": "stream",
     "text": [
      "127.0.0.1 - - [19/Oct/2019 15:56:53] \"POST /getSurvey HTTP/1.1\" 200 -\n",
      "127.0.0.1 - - [19/Oct/2019 15:56:53] \"POST /getSurveyEntries HTTP/1.1\" 200 -\n"
     ]
    },
    {
     "name": "stdout",
     "output_type": "stream",
     "text": [
      "[{u'userName': u'user', u'gender': u'Male', u'surveyName': u'Testing Survey', u'entryForm': {u'1': u'Radio1', u'0': u'asd', u'3': u'50.66', u'2': u'DropDown3'}}, {u'userName': u'Mounika', u'gender': u'Female', u'surveyName': u'Testing Survey', u'entryForm': {u'1': u'Radio2', u'0': u'asd', u'3': u'9.91', u'2': u'DropDown3'}}]\n"
     ]
    },
    {
     "name": "stderr",
     "output_type": "stream",
     "text": [
      "127.0.0.1 - - [19/Oct/2019 15:57:59] \"OPTIONS /getUserSurveys HTTP/1.1\" 200 -\n",
      "127.0.0.1 - - [19/Oct/2019 15:57:59] \"POST /getUserSurveys HTTP/1.1\" 200 -\n",
      "127.0.0.1 - - [19/Oct/2019 15:58:00] \"OPTIONS /getSurveyEntries HTTP/1.1\" 200 -\n",
      "127.0.0.1 - - [19/Oct/2019 15:58:00] \"OPTIONS /getSurvey HTTP/1.1\" 200 -\n"
     ]
    },
    {
     "name": "stdout",
     "output_type": "stream",
     "text": [
      "{u'surveyName': u'Testing Survey'}\n",
      "<pymongo.cursor.Cursor object at 0x10f57d810>\n"
     ]
    },
    {
     "name": "stderr",
     "output_type": "stream",
     "text": [
      "127.0.0.1 - - [19/Oct/2019 15:58:01] \"POST /getSurveyEntries HTTP/1.1\" 200 -\n",
      "127.0.0.1 - - [19/Oct/2019 15:58:01] \"POST /getSurvey HTTP/1.1\" 200 -\n"
     ]
    },
    {
     "name": "stdout",
     "output_type": "stream",
     "text": [
      "[{u'userName': u'user', u'gender': u'Male', u'surveyName': u'Testing Survey', u'entryForm': {u'1': u'Radio1', u'0': u'asd', u'3': u'50.66', u'2': u'DropDown3'}}, {u'userName': u'Mounika', u'gender': u'Female', u'surveyName': u'Testing Survey', u'entryForm': {u'1': u'Radio2', u'0': u'asd', u'3': u'9.91', u'2': u'DropDown3'}}]\n"
     ]
    },
    {
     "name": "stderr",
     "output_type": "stream",
     "text": [
      "127.0.0.1 - - [19/Oct/2019 16:00:38] \"OPTIONS /getAllSurveys HTTP/1.1\" 200 -\n",
      "127.0.0.1 - - [19/Oct/2019 16:00:38] \"GET /getAllSurveys HTTP/1.1\" 200 -\n",
      "127.0.0.1 - - [19/Oct/2019 16:00:49] \"OPTIONS /fillSurvey HTTP/1.1\" 200 -\n",
      "127.0.0.1 - - [19/Oct/2019 16:00:50] \"POST /fillSurvey HTTP/1.1\" 200 -\n",
      "127.0.0.1 - - [19/Oct/2019 16:01:05] \"OPTIONS /fillSurvey HTTP/1.1\" 200 -\n",
      "127.0.0.1 - - [19/Oct/2019 16:01:06] \"POST /fillSurvey HTTP/1.1\" 200 -\n",
      "127.0.0.1 - - [19/Oct/2019 16:01:21] \"OPTIONS /fillSurvey HTTP/1.1\" 200 -\n",
      "127.0.0.1 - - [19/Oct/2019 16:01:22] \"POST /fillSurvey HTTP/1.1\" 200 -\n",
      "127.0.0.1 - - [19/Oct/2019 16:01:32] \"OPTIONS /fillSurvey HTTP/1.1\" 200 -\n",
      "127.0.0.1 - - [19/Oct/2019 16:01:33] \"POST /fillSurvey HTTP/1.1\" 200 -\n",
      "127.0.0.1 - - [19/Oct/2019 16:01:37] \"OPTIONS /fillSurvey HTTP/1.1\" 200 -\n",
      "127.0.0.1 - - [19/Oct/2019 16:01:38] \"POST /fillSurvey HTTP/1.1\" 400 -\n",
      "127.0.0.1 - - [19/Oct/2019 16:01:44] \"OPTIONS /fillSurvey HTTP/1.1\" 200 -\n",
      "127.0.0.1 - - [19/Oct/2019 16:01:45] \"POST /fillSurvey HTTP/1.1\" 200 -\n",
      "127.0.0.1 - - [19/Oct/2019 16:01:52] \"OPTIONS /fillSurvey HTTP/1.1\" 200 -\n",
      "127.0.0.1 - - [19/Oct/2019 16:01:53] \"POST /fillSurvey HTTP/1.1\" 200 -\n"
     ]
    }
   ],
   "source": [
    "app = Flask(__name__)\n",
    "api = Api(app)\n",
    "\n",
    "CORS(app)\n",
    "client = pymongo.MongoClient(\"mongodb+srv://hemanth:\"+ urllib.quote(\"Hemanth@123\")+\"@cluster0-59obx.mongodb.net/test?retryWrites=true&w=majority\")\n",
    "\n",
    "\n",
    "\n",
    "### swagger specific ###\n",
    "SWAGGER_URL = '/swagger'\n",
    "API_URL = '/static/swagger.json'\n",
    "SWAGGERUI_BLUEPRINT = get_swaggerui_blueprint(\n",
    "    SWAGGER_URL,\n",
    "    API_URL,\n",
    "    config={\n",
    "        'app_name': \"Seans-Python-Flask-REST-Boilerplate\"\n",
    "    }\n",
    ")\n",
    "app.register_blueprint(SWAGGERUI_BLUEPRINT, url_prefix=SWAGGER_URL)  \n",
    "\n",
    "\n",
    "@app.route(\"/\")\n",
    "def hello():\n",
    "    return jsonify({'text':'Hello World!'})\n",
    "\n",
    "\n",
    "@app.route(\"/createSurvey\",methods=['POST'])\n",
    "def createSurvey(): \n",
    "    \n",
    "    verifyAccessToken(request.headers[\"Authorization\"])\n",
    "    if not(verifyAccessToken):\n",
    "        return json.dumps({\n",
    "              \"error\": \"access_denied\"\n",
    "            }), 401\n",
    "    \n",
    "    db=client.survey\n",
    "    params=request.json\n",
    "    if(checkSurveyExists(params[\"surveyName\"])):\n",
    "        return jsonify({'response':'SurveyName already Exists'}),400\n",
    "    \n",
    "    surveyDetails={}\n",
    "    surveyDetails[\"userName\"]=params[\"userName\"]\n",
    "    surveyDetails[\"surveyName\"]=params[\"surveyName\"]\n",
    "    surveyDetails[\"surveyDescription\"]=params[\"surveyDescription\"]\n",
    "    surveyDetails[\"surveyForm\"]=params[\"surveyForm\"]\n",
    "\n",
    "    \n",
    "    result=db.SurveyForms.insert_one(surveyDetails)\n",
    "    return  jsonify({'response':'Survey successfully created'})\n",
    "\n",
    "\n",
    "@app.route(\"/getSurvey\",methods=['POST'])\n",
    "def surveyForm():    \n",
    "    db=client.survey\n",
    "    params=request.json\n",
    "\n",
    "    if not(checkSurveyExists(params[\"surveyName\"])):\n",
    "        return jsonify({'response':'SurveyName doesnt Exists'})\n",
    "    \n",
    "    result=db.SurveyForms.find_one({'surveyName': params[\"surveyName\"]})\n",
    "    del result['_id']\n",
    "    return jsonify(result)\n",
    "\n",
    "\n",
    "@app.route(\"/fillSurvey\",methods=['POST'])\n",
    "def surveyEntry():\n",
    "    db=client.survey\n",
    "    params=request.json\n",
    "    if not(checkSurveyExists(params[\"surveyName\"])):\n",
    "        return jsonify({'response':'SurveyName doesnt Exist'})\n",
    "    \n",
    "    surveyDetails={}\n",
    "    surveyDetails[\"userName\"]=params[\"userName\"]\n",
    "    surveyDetails[\"surveyName\"]=params[\"surveyName\"]\n",
    "    surveyDetails[\"entryForm\"]=params[\"entryForm\"]\n",
    "    surveyDetails[\"gender\"]=params[\"gender\"]\n",
    "    \n",
    "    if(db.SurveyEntries.find_one({'surveyName': params[\"surveyName\"],'userName':params[\"userName\"]})):\n",
    "        return  jsonify({'response':'User has already filled the survey'}),400\n",
    "    \n",
    "    db.SurveyEntries.insert_one(surveyDetails)\n",
    "    return  jsonify({'response':'Survey successfully filled'})\n",
    "\n",
    "\n",
    "@app.route(\"/getAllSurveys\",methods=['GET'])\n",
    "def getAllServeys():\n",
    "    db=client.survey\n",
    "    surveys=[]\n",
    "    for i in db.SurveyForms.find():\n",
    "        del i['_id']\n",
    "        surveys.append(i)\n",
    "   \n",
    "    return jsonify({\"results\":surveys})\n",
    "\n",
    "@app.route(\"/getUserSurveys\",methods=['POST'])\n",
    "def getUserServeys():\n",
    "    params=request.json\n",
    "    db=client.survey\n",
    "    surveys=[]\n",
    "    for i in db.SurveyForms.find({'userName': params[\"userName\"]}):\n",
    "        del i['_id']\n",
    "        surveys.append(i)\n",
    "   \n",
    "    return jsonify({\"results\":surveys})\n",
    "\n",
    "@app.route(\"/getSurveyEntries\",methods=['POST'])\n",
    "def getSurveyEntries():\n",
    "    db=client.survey\n",
    "    params=request.json\n",
    "    print(params)\n",
    "    if not(checkSurveyExists(params[\"surveyName\"])):\n",
    "        return jsonify({'response':'SurveyName doesnt Exists'})\n",
    "       \n",
    "    surveyEntries=[]\n",
    "    for i in db.SurveyEntries.find({'surveyName': params[\"surveyName\"]}):\n",
    "        del i['_id']\n",
    "        surveyEntries.append(i)\n",
    "        \n",
    "    stats=getStats(surveyEntries)\n",
    "    return jsonify({\"results\":surveyEntries,\"stats\":stats})\n",
    "\n",
    "\n",
    "@app.route(\"/surveystat\")\n",
    "def getByUserSurvey():\n",
    "    db=client.SurveyEntries\n",
    "    params=request.json\n",
    "    print(params)\n",
    "    if not(checkSurveyExists(params[\"surveyName\"])):\n",
    "        return jsonify({'response':'SurveyName doesnt Exists'})\n",
    "    \n",
    "    surveyEntry=db.SurveyEntries.find({'surveyName': params[\"surveyName\"],'userName':params[\"userName\"]})\n",
    "    surveyTemplate=db.SurveyForms.find({'surveyName': params[\"surveyName\"]})\n",
    "    \n",
    "    return mergeSurventry(surveyTemplate,surveyEntry)\n",
    "\n",
    "if __name__ == '__main__':\n",
    "   app.run(port=5002)\n",
    "\n"
   ]
  },
  {
   "cell_type": "code",
   "execution_count": 12,
   "metadata": {},
   "outputs": [],
   "source": [
    "surveyEntries=[]\n",
    "db=client.survey\n",
    "for i in db.SurveyEntries.find({'surveyName': \"Testing Survey\"}):\n",
    "    del i['_id']\n",
    "    surveyEntries.append(i)"
   ]
  },
  {
   "cell_type": "code",
   "execution_count": 35,
   "metadata": {
    "collapsed": true
   },
   "outputs": [],
   "source": [
    "\n",
    "    "
   ]
  },
  {
   "cell_type": "code",
   "execution_count": null,
   "metadata": {
    "collapsed": true
   },
   "outputs": [],
   "source": []
  }
 ],
 "metadata": {
  "kernelspec": {
   "display_name": "Python 2",
   "language": "python",
   "name": "python2"
  },
  "language_info": {
   "codemirror_mode": {
    "name": "ipython",
    "version": 2
   },
   "file_extension": ".py",
   "mimetype": "text/x-python",
   "name": "python",
   "nbconvert_exporter": "python",
   "pygments_lexer": "ipython2",
   "version": "2.7.15"
  }
 },
 "nbformat": 4,
 "nbformat_minor": 2
}
